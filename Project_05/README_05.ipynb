{
 "cells": [
  {
   "cell_type": "markdown",
   "id": "20e7fcc7",
   "metadata": {},
   "source": [
    "## Project_05\n",
    "\n",
    "### Введение в машинное обучение\n",
    "Оператор мобильной связи «Мегалайн» выяснил: многие клиенты пользуются архивными тарифами. Они хотят построить систему, способную проанализировать поведение клиентов и предложить пользователям новый тариф: «Смарт» или «Ультра».\n",
    "\n",
    "В вашем распоряжении данные о поведении клиентов, которые уже перешли на эти тарифы (из проекта курса «Статистический анализ данных»). Нужно построить модель для задачи классификации, которая выберет подходящий тариф. \n",
    "\n",
    "Необходимо построить модель с максимально большим значением accuracy. Чтобы сдать проект успешно, нужно довести долю правильных ответов по крайней мере до 0.75. Проверьте accuracy на тестовой выборке самостоятельно.\n",
    "\n",
    "### Introduction to machine learning\n",
    "Mobile operator \"Megaline\" found out: many customers use archive tariffs. They want to build a system that can analyze customer behavior and offer users a new tariff: \"Smart\" or \"Ultra\".\n",
    "\n",
    "You have at your disposal data on the behavior of customers who have already switched to these tariffs (from the draft course \"Statistical Data Analysis\"). You need to build a model for the classification problem that will select the appropriate rate.\n",
    "\n",
    "It is necessary to build a model with the highest possible accuracy value. To pass the project successfully, you need to bring the percentage of correct answers to at least 0.75. Check accuracy on the test set yourself.\n",
    "\n",
    "### Описание данных\n",
    "\n",
    "Каждый объект в наборе данных — это информация о поведении одного пользователя за месяц. Известно:\n",
    "- сalls — количество звонков,\n",
    "- minutes — суммарная длительность звонков в минутах,\n",
    "- messages — количество sms-сообщений,\n",
    "- mb_used — израсходованный интернет-трафик в Мб,\n",
    "- is_ultra — каким тарифом пользовался в течение месяца («Ультра» — 1, «Смарт» — 0).\n",
    "\n",
    "### Description of data\n",
    "\n",
    "Each object in the data set is information about the behavior of one user per month. Known:\n",
    "- calls — number of calls,\n",
    "- minutes — total duration of calls in minutes,\n",
    "- messages — number of sms messages,\n",
    "- mb_used - used Internet traffic in Mb,\n",
    "- is_ultra - what tariff did you use during the month (\"Ultra\" - 1, \"Smart\" - 0).\n"
   ]
  },
  {
   "cell_type": "code",
   "execution_count": null,
   "id": "84106143",
   "metadata": {},
   "outputs": [],
   "source": []
  }
 ],
 "metadata": {
  "kernelspec": {
   "display_name": "Python 3 (ipykernel)",
   "language": "python",
   "name": "python3"
  },
  "language_info": {
   "codemirror_mode": {
    "name": "ipython",
    "version": 3
   },
   "file_extension": ".py",
   "mimetype": "text/x-python",
   "name": "python",
   "nbconvert_exporter": "python",
   "pygments_lexer": "ipython3",
   "version": "3.9.13"
  }
 },
 "nbformat": 4,
 "nbformat_minor": 5
}
