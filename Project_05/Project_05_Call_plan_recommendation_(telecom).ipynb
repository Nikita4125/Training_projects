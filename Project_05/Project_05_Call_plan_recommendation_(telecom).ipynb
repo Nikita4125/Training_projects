{
 "cells": [
  {
   "cell_type": "markdown",
   "metadata": {},
   "source": [
    "# Рекомендация тарифов\n",
    "\n",
    "# Tariff recommendation"
   ]
  },
  {
   "cell_type": "markdown",
   "metadata": {},
   "source": [
    "В вашем распоряжении данные о поведении клиентов, которые уже перешли на эти тарифы (из проекта курса «Статистический анализ данных»). Нужно построить модель для задачи классификации, которая выберет подходящий тариф. Предобработка данных не понадобится — вы её уже сделали.\n",
    "\n",
    "Постройте модель с максимально большим значением *accuracy*. Чтобы сдать проект успешно, нужно довести долю правильных ответов по крайней мере до 0.75. Проверьте *accuracy* на тестовой выборке самостоятельно.\n",
    "\n",
    "You have at your disposal data on the behavior of customers who have already switched to these tariffs (from the draft course \"Statistical Data Analysis\"). You need to build a model for the classification problem that will select the appropriate rate. Data preprocessing is not required - you have already done it.\n",
    "\n",
    "Build the model with the largest possible *accuracy* value. To pass the project successfully, you need to bring the percentage of correct answers to at least 0.75. Check *accuracy* on the test set yourself."
   ]
  },
  {
   "cell_type": "markdown",
   "metadata": {},
   "source": [
    "## Откройте и изучите файл"
   ]
  },
  {
   "cell_type": "code",
   "execution_count": 3,
   "metadata": {},
   "outputs": [],
   "source": [
    "import pandas as pd\n",
    "from sklearn.model_selection import train_test_split\n",
    "from sklearn.tree import DecisionTreeClassifier \n",
    "from sklearn.ensemble import RandomForestClassifier\n",
    "from sklearn.linear_model import LogisticRegression\n",
    "from sklearn.metrics import accuracy_score\n",
    "from sklearn.metrics import precision_score\n",
    "from sklearn.metrics import recall_score\n",
    "from sklearn.metrics import f1_score\n",
    "import warnings\n",
    "warnings.filterwarnings('ignore')"
   ]
  },
  {
   "cell_type": "code",
   "execution_count": 4,
   "metadata": {},
   "outputs": [],
   "source": [
    "data = pd.read_csv('/datasets/users_behavior.csv')"
   ]
  },
  {
   "cell_type": "code",
   "execution_count": 5,
   "metadata": {},
   "outputs": [
    {
     "data": {
      "text/html": [
       "<div>\n",
       "<style scoped>\n",
       "    .dataframe tbody tr th:only-of-type {\n",
       "        vertical-align: middle;\n",
       "    }\n",
       "\n",
       "    .dataframe tbody tr th {\n",
       "        vertical-align: top;\n",
       "    }\n",
       "\n",
       "    .dataframe thead th {\n",
       "        text-align: right;\n",
       "    }\n",
       "</style>\n",
       "<table border=\"1\" class=\"dataframe\">\n",
       "  <thead>\n",
       "    <tr style=\"text-align: right;\">\n",
       "      <th></th>\n",
       "      <th>calls</th>\n",
       "      <th>minutes</th>\n",
       "      <th>messages</th>\n",
       "      <th>mb_used</th>\n",
       "      <th>is_ultra</th>\n",
       "    </tr>\n",
       "  </thead>\n",
       "  <tbody>\n",
       "    <tr>\n",
       "      <th>0</th>\n",
       "      <td>40.0</td>\n",
       "      <td>311.90</td>\n",
       "      <td>83.0</td>\n",
       "      <td>19915.42</td>\n",
       "      <td>0</td>\n",
       "    </tr>\n",
       "    <tr>\n",
       "      <th>1</th>\n",
       "      <td>85.0</td>\n",
       "      <td>516.75</td>\n",
       "      <td>56.0</td>\n",
       "      <td>22696.96</td>\n",
       "      <td>0</td>\n",
       "    </tr>\n",
       "    <tr>\n",
       "      <th>2</th>\n",
       "      <td>77.0</td>\n",
       "      <td>467.66</td>\n",
       "      <td>86.0</td>\n",
       "      <td>21060.45</td>\n",
       "      <td>0</td>\n",
       "    </tr>\n",
       "    <tr>\n",
       "      <th>3</th>\n",
       "      <td>106.0</td>\n",
       "      <td>745.53</td>\n",
       "      <td>81.0</td>\n",
       "      <td>8437.39</td>\n",
       "      <td>1</td>\n",
       "    </tr>\n",
       "    <tr>\n",
       "      <th>4</th>\n",
       "      <td>66.0</td>\n",
       "      <td>418.74</td>\n",
       "      <td>1.0</td>\n",
       "      <td>14502.75</td>\n",
       "      <td>0</td>\n",
       "    </tr>\n",
       "  </tbody>\n",
       "</table>\n",
       "</div>"
      ],
      "text/plain": [
       "   calls  minutes  messages   mb_used  is_ultra\n",
       "0   40.0   311.90      83.0  19915.42         0\n",
       "1   85.0   516.75      56.0  22696.96         0\n",
       "2   77.0   467.66      86.0  21060.45         0\n",
       "3  106.0   745.53      81.0   8437.39         1\n",
       "4   66.0   418.74       1.0  14502.75         0"
      ]
     },
     "execution_count": 5,
     "metadata": {},
     "output_type": "execute_result"
    }
   ],
   "source": [
    "data.head()"
   ]
  },
  {
   "cell_type": "code",
   "execution_count": 4,
   "metadata": {},
   "outputs": [
    {
     "name": "stdout",
     "output_type": "stream",
     "text": [
      "<class 'pandas.core.frame.DataFrame'>\n",
      "RangeIndex: 3214 entries, 0 to 3213\n",
      "Data columns (total 5 columns):\n",
      " #   Column    Non-Null Count  Dtype  \n",
      "---  ------    --------------  -----  \n",
      " 0   calls     3214 non-null   float64\n",
      " 1   minutes   3214 non-null   float64\n",
      " 2   messages  3214 non-null   float64\n",
      " 3   mb_used   3214 non-null   float64\n",
      " 4   is_ultra  3214 non-null   int64  \n",
      "dtypes: float64(4), int64(1)\n",
      "memory usage: 125.7 KB\n"
     ]
    }
   ],
   "source": [
    "data.info()"
   ]
  },
  {
   "cell_type": "markdown",
   "metadata": {},
   "source": [
    "## Разбейте данные на выборки\n",
    "\n",
    "## Divide the data into samples"
   ]
  },
  {
   "cell_type": "markdown",
   "metadata": {},
   "source": [
    "### Выделение признаков и целевой переменной\n",
    "\n",
    "### Feature extraction and target variable"
   ]
  },
  {
   "cell_type": "code",
   "execution_count": 6,
   "metadata": {},
   "outputs": [],
   "source": [
    "features = data.drop(['is_ultra'], axis=1)\n",
    "target = data['is_ultra']"
   ]
  },
  {
   "cell_type": "markdown",
   "metadata": {},
   "source": [
    "### Разделение исходных данных на обучающую, валидационную и тестовую выборки\n",
    "\n",
    "### Dividing the initial data into training, validation and test sets"
   ]
  },
  {
   "cell_type": "code",
   "execution_count": 7,
   "metadata": {},
   "outputs": [
    {
     "name": "stdout",
     "output_type": "stream",
     "text": [
      "Размер тренериующей выборки 2410\n",
      "Размер валидационной выборки 603\n",
      "Размер тестовой выборки 201\n"
     ]
    }
   ],
   "source": [
    "train_tariff_data, vnt_tariff_data = train_test_split(data, test_size=0.25, random_state=12345)\n",
    "valid_tariff_data, test_tariff_data = train_test_split(vnt_tariff_data, test_size=0.25, random_state=12345)\n",
    "\n",
    "print('Размер тренериующей выборки', train_tariff_data.shape[0])\n",
    "print('Размер валидационной выборки', valid_tariff_data.shape[0])\n",
    "print('Размер тестовой выборки', test_tariff_data.shape[0])"
   ]
  },
  {
   "cell_type": "markdown",
   "metadata": {},
   "source": [
    "Выделяем признаки и целевую переменную в выборках:\n",
    "\n",
    "We select the features and the target variable in the samples:"
   ]
  },
  {
   "cell_type": "code",
   "execution_count": 8,
   "metadata": {},
   "outputs": [],
   "source": [
    "train_tariff_data_features = train_tariff_data.drop(['is_ultra'], axis=1)\n",
    "train_tariff_data_target = train_tariff_data['is_ultra']\n",
    "valid_tariff_data_features = valid_tariff_data.drop(['is_ultra'], axis=1)\n",
    "valid_tariff_data_target = valid_tariff_data['is_ultra']\n",
    "test_tariff_data_features = test_tariff_data.drop(['is_ultra'], axis=1)\n",
    "test_tariff_data_target = test_tariff_data['is_ultra']"
   ]
  },
  {
   "cell_type": "markdown",
   "metadata": {},
   "source": [
    "## Исследуйте модели\n",
    "\n",
    "## Explore models"
   ]
  },
  {
   "cell_type": "markdown",
   "metadata": {},
   "source": [
    "### Применение алгоритма дерева решений\n",
    "\n",
    "### Apply the decision tree algorithm"
   ]
  },
  {
   "cell_type": "code",
   "execution_count": 9,
   "metadata": {},
   "outputs": [
    {
     "name": "stdout",
     "output_type": "stream",
     "text": [
      "Лучшая глубина дерева 3 Лучшая точность 0.7976782752902156\n"
     ]
    }
   ],
   "source": [
    "best_depth = 0\n",
    "best_accuracy = 0\n",
    "\n",
    "for depth in range(1,150):\n",
    "    model = DecisionTreeClassifier(random_state=4125, max_depth=depth)\n",
    "    model.fit(train_tariff_data_features, train_tariff_data_target)\n",
    "    valid_predictions = model.predict(valid_tariff_data_features)\n",
    "    accuracy = accuracy_score(valid_tariff_data_target, valid_predictions)\n",
    "    if accuracy > best_accuracy:\n",
    "        best_depth = depth\n",
    "        best_accuracy = accuracy\n",
    "\n",
    "print('Лучшая глубина дерева', best_depth,'Лучшая точность', best_accuracy)     "
   ]
  },
  {
   "cell_type": "code",
   "execution_count": 10,
   "metadata": {},
   "outputs": [
    {
     "name": "stdout",
     "output_type": "stream",
     "text": [
      "Глубина дерева 3 Точность 0.7976782752902156\n"
     ]
    }
   ],
   "source": [
    "best_tree_model = DecisionTreeClassifier(random_state=12345, max_depth=3)\n",
    "best_tree_model.fit(train_tariff_data_features, train_tariff_data_target)\n",
    "valid_predictions = best_tree_model.predict(valid_tariff_data_features)\n",
    "accuracy = accuracy_score(valid_tariff_data_target, valid_predictions)\n",
    "print('Глубина дерева', 3,'Точность',accuracy)"
   ]
  },
  {
   "cell_type": "code",
   "execution_count": 10,
   "metadata": {},
   "outputs": [
    {
     "data": {
      "text/plain": [
       "{'ccp_alpha': 0.0,\n",
       " 'class_weight': None,\n",
       " 'criterion': 'gini',\n",
       " 'max_depth': 3,\n",
       " 'max_features': None,\n",
       " 'max_leaf_nodes': None,\n",
       " 'min_impurity_decrease': 0.0,\n",
       " 'min_impurity_split': None,\n",
       " 'min_samples_leaf': 1,\n",
       " 'min_samples_split': 2,\n",
       " 'min_weight_fraction_leaf': 0.0,\n",
       " 'random_state': 12345,\n",
       " 'splitter': 'best'}"
      ]
     },
     "execution_count": 10,
     "metadata": {},
     "output_type": "execute_result"
    }
   ],
   "source": [
    "best_tree_model.get_params()"
   ]
  },
  {
   "cell_type": "markdown",
   "metadata": {},
   "source": [
    "#### Исследование изменения гиперпараметров\n",
    "\n",
    "#### Hyperparameter change study"
   ]
  },
  {
   "cell_type": "code",
   "execution_count": 11,
   "metadata": {},
   "outputs": [
    {
     "name": "stdout",
     "output_type": "stream",
     "text": [
      "Глубина дерева 3 Точность 0.7976782752902156\n"
     ]
    }
   ],
   "source": [
    "best_tree_model = DecisionTreeClassifier(random_state=12345, max_depth=3, max_leaf_nodes=6)\n",
    "best_tree_model.fit(train_tariff_data_features, train_tariff_data_target)\n",
    "valid_predictions = best_tree_model.predict(valid_tariff_data_features)\n",
    "accuracy = accuracy_score(valid_tariff_data_target, valid_predictions)\n",
    "print('Глубина дерева', 3,'Точность',accuracy)"
   ]
  },
  {
   "cell_type": "code",
   "execution_count": 12,
   "metadata": {},
   "outputs": [
    {
     "name": "stdout",
     "output_type": "stream",
     "text": [
      "Глубина дерева 3 Точность 0.7976782752902156\n"
     ]
    }
   ],
   "source": [
    "best_tree_model = DecisionTreeClassifier(random_state=12345, max_depth=3, criterion=\"entropy\")\n",
    "best_tree_model.fit(train_tariff_data_features, train_tariff_data_target)\n",
    "valid_predictions = best_tree_model.predict(valid_tariff_data_features)\n",
    "accuracy = accuracy_score(valid_tariff_data_target, valid_predictions)\n",
    "print('Глубина дерева', 3,'Точность',accuracy)"
   ]
  },
  {
   "cell_type": "code",
   "execution_count": 13,
   "metadata": {},
   "outputs": [
    {
     "name": "stdout",
     "output_type": "stream",
     "text": [
      "Глубина дерева 3 Точность 0.7545605306799337\n"
     ]
    }
   ],
   "source": [
    "best_tree_model = DecisionTreeClassifier(random_state=12345, max_depth=3, splitter='random')\n",
    "best_tree_model.fit(train_tariff_data_features, train_tariff_data_target)\n",
    "valid_predictions = best_tree_model.predict(valid_tariff_data_features)\n",
    "accuracy = accuracy_score(valid_tariff_data_target, valid_predictions)\n",
    "print('Глубина дерева', 3,'Точность',accuracy)"
   ]
  },
  {
   "cell_type": "markdown",
   "metadata": {},
   "source": [
    "### Применение алгоритма случайного леса\n",
    "\n",
    "### Apply random forest algorithm"
   ]
  },
  {
   "cell_type": "code",
   "execution_count": 14,
   "metadata": {},
   "outputs": [
    {
     "name": "stdout",
     "output_type": "stream",
     "text": [
      "Лучшая количество деревьев 60 Лучшая точность 0.8092868988391376\n"
     ]
    }
   ],
   "source": [
    "best_estim = 0\n",
    "best_accuracy = 0\n",
    "\n",
    "for estim in range(1,150):\n",
    "    model = RandomForestClassifier(random_state=12345, n_estimators=estim)\n",
    "    model.fit(train_tariff_data_features, train_tariff_data_target)\n",
    "    valid_predictions = model.predict(valid_tariff_data_features)\n",
    "    accuracy = accuracy_score(valid_tariff_data_target, valid_predictions)\n",
    "    if accuracy > best_accuracy:\n",
    "        best_estim = estim\n",
    "        best_accuracy = accuracy\n",
    "\n",
    "print('Лучшая количество деревьев', best_estim,'Лучшая точность', best_accuracy)      "
   ]
  },
  {
   "cell_type": "code",
   "execution_count": 11,
   "metadata": {},
   "outputs": [
    {
     "name": "stdout",
     "output_type": "stream",
     "text": [
      "Количество деревьев 60 Точность 0.8092868988391376\n"
     ]
    }
   ],
   "source": [
    "best_forest_model = RandomForestClassifier(random_state=12345, n_estimators=60)\n",
    "best_forest_model.fit(train_tariff_data_features, train_tariff_data_target)\n",
    "valid_predictions = best_forest_model.predict(valid_tariff_data_features)\n",
    "accuracy = accuracy_score(valid_tariff_data_target, valid_predictions)\n",
    "print('Количество деревьев', 60,'Точность',accuracy)"
   ]
  },
  {
   "cell_type": "code",
   "execution_count": 16,
   "metadata": {},
   "outputs": [
    {
     "data": {
      "text/plain": [
       "{'bootstrap': True,\n",
       " 'ccp_alpha': 0.0,\n",
       " 'class_weight': None,\n",
       " 'criterion': 'gini',\n",
       " 'max_depth': None,\n",
       " 'max_features': 'auto',\n",
       " 'max_leaf_nodes': None,\n",
       " 'max_samples': None,\n",
       " 'min_impurity_decrease': 0.0,\n",
       " 'min_impurity_split': None,\n",
       " 'min_samples_leaf': 1,\n",
       " 'min_samples_split': 2,\n",
       " 'min_weight_fraction_leaf': 0.0,\n",
       " 'n_estimators': 60,\n",
       " 'n_jobs': None,\n",
       " 'oob_score': False,\n",
       " 'random_state': 12345,\n",
       " 'verbose': 0,\n",
       " 'warm_start': False}"
      ]
     },
     "execution_count": 16,
     "metadata": {},
     "output_type": "execute_result"
    }
   ],
   "source": [
    "best_forest_model.get_params()"
   ]
  },
  {
   "cell_type": "markdown",
   "metadata": {},
   "source": [
    "#### Исследование изменения гиперпараметров\n",
    "\n",
    "#### Hyperparameter change study"
   ]
  },
  {
   "cell_type": "code",
   "execution_count": 17,
   "metadata": {},
   "outputs": [
    {
     "name": "stdout",
     "output_type": "stream",
     "text": [
      "Количество деревьев 60 Точность 0.7993366500829188\n"
     ]
    }
   ],
   "source": [
    "best_forest_model = RandomForestClassifier(random_state=12345, n_estimators=60, criterion='entropy')\n",
    "best_forest_model.fit(train_tariff_data_features, train_tariff_data_target)\n",
    "valid_predictions = model.predict(valid_tariff_data_features)\n",
    "accuracy = accuracy_score(valid_tariff_data_target, valid_predictions)\n",
    "print('Количество деревьев', 60,'Точность',accuracy)"
   ]
  },
  {
   "cell_type": "code",
   "execution_count": 18,
   "metadata": {},
   "outputs": [
    {
     "name": "stdout",
     "output_type": "stream",
     "text": [
      "Количество деревьев 60 Точность 0.7993366500829188\n"
     ]
    }
   ],
   "source": [
    "best_forest_model = RandomForestClassifier(random_state=12345, n_estimators=60, bootstrap=False)\n",
    "best_forest_model.fit(train_tariff_data_features, train_tariff_data_target)\n",
    "valid_predictions = model.predict(valid_tariff_data_features)\n",
    "accuracy = accuracy_score(valid_tariff_data_target, valid_predictions)\n",
    "print('Количество деревьев', 60,'Точность',accuracy)"
   ]
  },
  {
   "cell_type": "code",
   "execution_count": 19,
   "metadata": {},
   "outputs": [
    {
     "name": "stdout",
     "output_type": "stream",
     "text": [
      "Количество деревьев 60 Точность 0.7993366500829188\n"
     ]
    }
   ],
   "source": [
    "best_forest_model = RandomForestClassifier(random_state=12345, n_estimators=60, warm_start=True)\n",
    "best_forest_model.fit(train_tariff_data_features, train_tariff_data_target)\n",
    "valid_predictions = model.predict(valid_tariff_data_features)\n",
    "accuracy = accuracy_score(valid_tariff_data_target, valid_predictions)\n",
    "print('Количество деревьев', 60,'Точность',accuracy)"
   ]
  },
  {
   "cell_type": "markdown",
   "metadata": {},
   "source": [
    "### Применение алгоритма логистической регрессии\n",
    "\n",
    "### Apply the logistic regression algorithm"
   ]
  },
  {
   "cell_type": "code",
   "execution_count": 20,
   "metadata": {},
   "outputs": [
    {
     "name": "stdout",
     "output_type": "stream",
     "text": [
      "Лучшая количество итерраций 22 Лучшая точность 0.7064676616915423\n"
     ]
    }
   ],
   "source": [
    "best_max_iter = 0\n",
    "best_accuracy = 0\n",
    "\n",
    "for max_iter in range(1,150):\n",
    "    model = LogisticRegression(random_state=12345, max_iter=max_iter)\n",
    "    model.fit(train_tariff_data_features, train_tariff_data_target)\n",
    "    valid_predictions = model.predict(valid_tariff_data_features)\n",
    "    accuracy = accuracy_score(valid_tariff_data_target, valid_predictions)\n",
    "    if accuracy > best_accuracy:\n",
    "        best_max_iter = max_iter\n",
    "        best_accuracy = accuracy\n",
    "\n",
    "print('Лучшая количество итерраций', best_max_iter,'Лучшая точность', best_accuracy) "
   ]
  },
  {
   "cell_type": "code",
   "execution_count": 21,
   "metadata": {},
   "outputs": [
    {
     "name": "stdout",
     "output_type": "stream",
     "text": [
      "Количество итерраций 22 Точность 0.7064676616915423\n"
     ]
    }
   ],
   "source": [
    "best_reg_model = LogisticRegression(random_state=12345, max_iter=22)\n",
    "best_reg_model.fit(train_tariff_data_features, train_tariff_data_target)\n",
    "valid_predictions = best_reg_model.predict(valid_tariff_data_features)\n",
    "accuracy = accuracy_score(valid_tariff_data_target, valid_predictions)\n",
    "print('Количество итерраций', 22,'Точность', accuracy)"
   ]
  },
  {
   "cell_type": "code",
   "execution_count": 22,
   "metadata": {},
   "outputs": [
    {
     "data": {
      "text/plain": [
       "{'C': 1.0,\n",
       " 'class_weight': None,\n",
       " 'dual': False,\n",
       " 'fit_intercept': True,\n",
       " 'intercept_scaling': 1,\n",
       " 'l1_ratio': None,\n",
       " 'max_iter': 22,\n",
       " 'multi_class': 'auto',\n",
       " 'n_jobs': None,\n",
       " 'penalty': 'l2',\n",
       " 'random_state': 12345,\n",
       " 'solver': 'lbfgs',\n",
       " 'tol': 0.0001,\n",
       " 'verbose': 0,\n",
       " 'warm_start': False}"
      ]
     },
     "execution_count": 22,
     "metadata": {},
     "output_type": "execute_result"
    }
   ],
   "source": [
    "best_reg_model.get_params()"
   ]
  },
  {
   "cell_type": "markdown",
   "metadata": {},
   "source": [
    "#### Исследование изменения гиперпараметров\n",
    "\n",
    "#### Hyperparameter change study"
   ]
  },
  {
   "cell_type": "code",
   "execution_count": 23,
   "metadata": {},
   "outputs": [
    {
     "name": "stdout",
     "output_type": "stream",
     "text": [
      "Solver saga Точность 0.6998341625207297\n",
      "Solver newton-cg Точность 0.7661691542288557\n",
      "Solver liblinear Точность 0.75787728026534\n",
      "Solver sag Точность 0.6998341625207297\n",
      "Solver lbfgs Точность 0.703150912106136\n",
      "Лучший solver newton-cg Лучшая точность 0.7661691542288557\n"
     ]
    }
   ],
   "source": [
    "best_solver = ''\n",
    "best_accuracy = 0\n",
    "\n",
    "for solve in {'newton-cg', 'lbfgs', 'liblinear', 'sag', 'saga'}:\n",
    "    model = LogisticRegression(random_state=12345, solver=solve)\n",
    "    model.fit(train_tariff_data_features, train_tariff_data_target)\n",
    "    valid_predictions = model.predict(valid_tariff_data_features)\n",
    "    accuracy = accuracy_score(valid_tariff_data_target, valid_predictions)   \n",
    "    print('Solver', solve,'Точность',accuracy)\n",
    "    if accuracy > best_accuracy:\n",
    "        best_solver= solve\n",
    "        best_accuracy = accuracy\n",
    "\n",
    "print('Лучший solver', best_solver,'Лучшая точность', best_accuracy) "
   ]
  },
  {
   "cell_type": "code",
   "execution_count": 24,
   "metadata": {},
   "outputs": [
    {
     "name": "stdout",
     "output_type": "stream",
     "text": [
      "C= 0.1 Точность 0.703150912106136\n",
      "C= 0.2 Точность 0.703150912106136\n",
      "C= 0.3 Точность 0.703150912106136\n",
      "C= 0.4 Точность 0.703150912106136\n",
      "C= 0.5 Точность 0.703150912106136\n",
      "C= 0.6 Точность 0.703150912106136\n",
      "C= 0.7 Точность 0.703150912106136\n",
      "C= 0.8 Точность 0.703150912106136\n",
      "C= 0.9 Точность 0.703150912106136\n",
      "C= 1.0 Точность 0.703150912106136\n",
      "C= 1.1 Точность 0.703150912106136\n",
      "C= 1.2 Точность 0.703150912106136\n",
      "C= 1.3 Точность 0.703150912106136\n",
      "C= 1.4 Точность 0.703150912106136\n",
      "C= 1.5 Точность 0.703150912106136\n",
      "C= 1.6 Точность 0.703150912106136\n",
      "C= 1.7 Точность 0.703150912106136\n",
      "C= 1.8 Точность 0.703150912106136\n",
      "C= 1.9 Точность 0.703150912106136\n",
      "C= 2.0 Точность 0.703150912106136\n",
      "Лучший C 0.1 Лучшая точность 0.703150912106136\n"
     ]
    }
   ],
   "source": [
    "best_C = 0.0\n",
    "best_accuracy = 0\n",
    "\n",
    "for float_c in [x/10 for x in range(1,21)]:\n",
    "    model = LogisticRegression(random_state=12345, C=float_c)\n",
    "    model.fit(train_tariff_data_features, train_tariff_data_target)\n",
    "    valid_predictions = model.predict(valid_tariff_data_features)\n",
    "    accuracy = accuracy_score(valid_tariff_data_target, valid_predictions)\n",
    "    print('C=', float_c,'Точность',accuracy)\n",
    "    if accuracy > best_accuracy:\n",
    "        best_C= float_c\n",
    "        best_accuracy = accuracy\n",
    "\n",
    "print('Лучший C', best_C,'Лучшая точность', best_accuracy) "
   ]
  },
  {
   "cell_type": "markdown",
   "metadata": {},
   "source": [
    "### Выводы по исследованию моделей\n",
    "\n",
    "### Conclusions from the study of models"
   ]
  },
  {
   "cell_type": "markdown",
   "metadata": {},
   "source": [
    "В ходе исследования были получены следующие данные:\n",
    "\n",
    "Точность модели решающего дерева при глубине дерева 3 равна 0.797\n",
    "Точность модели случайного леса при количестве деревьев 60 равна 0.809\n",
    "Точность модели логистической регресии равна 0.766 (при solver newton-cg).\n",
    "\n",
    "Итого, лучший результат показывает модель случайного леса.\n",
    "\n",
    "________________________________________________________________________________________________________________________________\n",
    "\n",
    "During the study, the following data were obtained:\n",
    "\n",
    "Decision tree model accuracy at tree depth 3 is 0.797\n",
    "The accuracy of the random forest model with 60 trees is 0.809\n",
    "The accuracy of the logistic regression model is 0.766 (with solver newton-cg).\n",
    "\n",
    "In total, the random forest model shows the best result."
   ]
  },
  {
   "cell_type": "markdown",
   "metadata": {},
   "source": [
    "## Проверьте модель на тестовой выборке\n",
    "\n",
    "## Check the model on the test set"
   ]
  },
  {
   "cell_type": "code",
   "execution_count": 12,
   "metadata": {},
   "outputs": [
    {
     "name": "stdout",
     "output_type": "stream",
     "text": [
      "Точность модели случайного леса на тестовой выборке 0.7761194029850746\n"
     ]
    }
   ],
   "source": [
    "test_predictions = best_forest_model.predict(test_tariff_data_features)\n",
    "accuracy = accuracy_score(test_tariff_data_target, test_predictions)\n",
    "print('Точность модели случайного леса на тестовой выборке',accuracy)"
   ]
  },
  {
   "cell_type": "markdown",
   "metadata": {},
   "source": [
    "### Вывод\n",
    "\n",
    "### Conclusion"
   ]
  },
  {
   "cell_type": "markdown",
   "metadata": {},
   "source": [
    "Результаты исследования на тестовой выборке хуже, чем на валидационной выборке, что говорит о некоторой переобученности модели, однако точность модели выше требуемой, т.е. 0.75. \n",
    "\n",
    "The results of the study on the test set are worse than on the validation set, which indicates some overfitting of the model, but the accuracy of the model is higher than required, i.e. 0.75."
   ]
  },
  {
   "cell_type": "markdown",
   "metadata": {},
   "source": [
    "## Проверьте модели на адекватность\n",
    "\n",
    "## Check models for adequacy"
   ]
  },
  {
   "cell_type": "code",
   "execution_count": 16,
   "metadata": {},
   "outputs": [
    {
     "name": "stdout",
     "output_type": "stream",
     "text": [
      "Test score:  0.7014925373134329\n"
     ]
    }
   ],
   "source": [
    "import numpy as np\n",
    "from sklearn.dummy import DummyClassifier\n",
    "\n",
    "# Делаем дополнительную проверку с помощью DummyClassifier \n",
    "dummy = DummyClassifier(strategy='most_frequent').fit(train_tariff_data_features, train_tariff_data_target)\n",
    "dummy_pred = dummy.predict(test_tariff_data_features)\n",
    "\n",
    "# проверяем accuracy \n",
    "print('Test score: ', accuracy_score(test_tariff_data_target, dummy_pred))"
   ]
  },
  {
   "cell_type": "markdown",
   "metadata": {},
   "source": [
    "## Итоги\n",
    "\n",
    "## Results"
   ]
  },
  {
   "cell_type": "markdown",
   "metadata": {},
   "source": [
    "В ходе проделанной работы было выполнено:\n",
    "\n",
    "Изучен файл с данными.\n",
    "\n",
    "Разбиты данные на три выборки: обучающая, валидационная и тестовая.\n",
    "\n",
    "Исследованы три модели классификации: Решающее дерево, Случайный лес и Логистическая регрессия.\n",
    "\n",
    "Найдены оптимальные параметры для каждой модели и выбрана одна из них для обучения модели.\n",
    "\n",
    "Оценена точность обученной модели.\n",
    "\n",
    "Оценена адекватность модели (насколько это возможно).\n",
    "\n",
    "Для улучшения качества обучения модели необходимо увеличить размер исходной выборки. Адекватность модели повысится с ростом количества значений.\n",
    "\n",
    "________________________________________________________________________________________________________________________________\n",
    "\n",
    "In the course of the work done, the following was accomplished:\n",
    "\n",
    "The data file has been studied.\n",
    "\n",
    "The data was divided into three samples: training, validation and test.\n",
    "\n",
    "Three classification models have been studied: Decision Tree, Random Forest and Logistic Regression.\n",
    "\n",
    "The optimal parameters for each model are found and one of them is chosen for training the model.\n",
    "\n",
    "The accuracy of the trained model is estimated.\n",
    "\n",
    "The adequacy of the model was assessed (as far as possible).\n",
    "\n",
    "To improve the quality of training the model, it is necessary to increase the size of the initial sample. The adequacy of the model will increase with an increase in the number of values."
   ]
  },
  {
   "cell_type": "code",
   "execution_count": null,
   "metadata": {},
   "outputs": [],
   "source": []
  }
 ],
 "metadata": {
  "ExecuteTimeLog": [
   {
    "duration": 1069,
    "start_time": "2022-09-13T07:38:09.215Z"
   },
   {
    "duration": 106,
    "start_time": "2022-09-13T07:38:10.462Z"
   },
   {
    "duration": 105,
    "start_time": "2022-09-13T07:38:20.559Z"
   },
   {
    "duration": 18,
    "start_time": "2022-09-13T07:38:34.579Z"
   },
   {
    "duration": 14,
    "start_time": "2022-09-13T07:38:42.239Z"
   },
   {
    "duration": 3,
    "start_time": "2022-09-13T07:41:35.047Z"
   },
   {
    "duration": 6,
    "start_time": "2022-09-13T07:46:03.360Z"
   },
   {
    "duration": 30,
    "start_time": "2022-09-13T07:49:13.489Z"
   },
   {
    "duration": 5078,
    "start_time": "2022-09-13T07:49:29.967Z"
   },
   {
    "duration": 8,
    "start_time": "2022-09-13T07:51:57.387Z"
   },
   {
    "duration": 7,
    "start_time": "2022-09-13T07:52:18.587Z"
   },
   {
    "duration": 7,
    "start_time": "2022-09-13T07:52:26.400Z"
   },
   {
    "duration": 8,
    "start_time": "2022-09-13T07:52:41.699Z"
   },
   {
    "duration": 7,
    "start_time": "2022-09-13T07:53:20.139Z"
   },
   {
    "duration": 13,
    "start_time": "2022-09-13T07:54:16.776Z"
   },
   {
    "duration": 3,
    "start_time": "2022-09-13T07:54:37.379Z"
   },
   {
    "duration": 1434,
    "start_time": "2022-09-13T07:54:40.895Z"
   },
   {
    "duration": 2163,
    "start_time": "2022-09-13T07:55:52.740Z"
   },
   {
    "duration": 2025,
    "start_time": "2022-09-13T07:56:11.542Z"
   },
   {
    "duration": 1983,
    "start_time": "2022-09-13T08:08:09.511Z"
   },
   {
    "duration": 15,
    "start_time": "2022-09-13T08:33:01.359Z"
   },
   {
    "duration": 11,
    "start_time": "2022-09-13T08:33:13.179Z"
   },
   {
    "duration": 11,
    "start_time": "2022-09-13T08:33:55.858Z"
   },
   {
    "duration": 14,
    "start_time": "2022-09-13T08:34:00.581Z"
   },
   {
    "duration": 12,
    "start_time": "2022-09-13T08:34:07.954Z"
   },
   {
    "duration": 12,
    "start_time": "2022-09-13T08:34:15.039Z"
   },
   {
    "duration": 11,
    "start_time": "2022-09-13T08:34:25.139Z"
   },
   {
    "duration": 12,
    "start_time": "2022-09-13T08:34:29.338Z"
   },
   {
    "duration": 12,
    "start_time": "2022-09-13T08:34:34.858Z"
   },
   {
    "duration": 13,
    "start_time": "2022-09-13T08:34:47.935Z"
   },
   {
    "duration": 17,
    "start_time": "2022-09-13T08:34:57.399Z"
   },
   {
    "duration": 12,
    "start_time": "2022-09-13T08:35:24.738Z"
   },
   {
    "duration": 10,
    "start_time": "2022-09-13T08:35:40.719Z"
   },
   {
    "duration": 2154,
    "start_time": "2022-09-13T08:35:44.420Z"
   },
   {
    "duration": 11,
    "start_time": "2022-09-13T08:35:53.558Z"
   },
   {
    "duration": 12,
    "start_time": "2022-09-13T08:35:57.258Z"
   },
   {
    "duration": 11,
    "start_time": "2022-09-13T08:36:01.074Z"
   },
   {
    "duration": 12,
    "start_time": "2022-09-13T08:36:05.286Z"
   },
   {
    "duration": 12,
    "start_time": "2022-09-13T08:36:08.666Z"
   },
   {
    "duration": 13,
    "start_time": "2022-09-13T08:36:12.518Z"
   },
   {
    "duration": 13,
    "start_time": "2022-09-13T08:36:43.120Z"
   },
   {
    "duration": 14,
    "start_time": "2022-09-13T08:36:48.407Z"
   },
   {
    "duration": 13,
    "start_time": "2022-09-13T08:36:52.638Z"
   },
   {
    "duration": 11,
    "start_time": "2022-09-13T08:37:19.378Z"
   },
   {
    "duration": 17,
    "start_time": "2022-09-13T08:37:30.338Z"
   },
   {
    "duration": 14,
    "start_time": "2022-09-13T08:37:39.159Z"
   },
   {
    "duration": 9,
    "start_time": "2022-09-13T08:37:41.458Z"
   },
   {
    "duration": 0,
    "start_time": "2022-09-13T08:39:28.551Z"
   },
   {
    "duration": 53969,
    "start_time": "2022-09-13T08:39:35.907Z"
   },
   {
    "duration": 317,
    "start_time": "2022-09-13T08:40:57.919Z"
   },
   {
    "duration": 329,
    "start_time": "2022-09-13T08:41:19.187Z"
   },
   {
    "duration": 329,
    "start_time": "2022-09-13T08:41:33.090Z"
   },
   {
    "duration": 406,
    "start_time": "2022-09-13T08:43:24.737Z"
   },
   {
    "duration": 292,
    "start_time": "2022-09-13T08:43:49.949Z"
   },
   {
    "duration": 305,
    "start_time": "2022-09-13T08:44:04.559Z"
   },
   {
    "duration": 286,
    "start_time": "2022-09-13T08:44:09.838Z"
   },
   {
    "duration": 89,
    "start_time": "2022-09-13T08:57:00.820Z"
   },
   {
    "duration": 31207,
    "start_time": "2022-09-13T08:57:00.912Z"
   },
   {
    "duration": 6314,
    "start_time": "2022-09-13T08:59:16.100Z"
   },
   {
    "duration": 1939,
    "start_time": "2022-09-13T09:00:05.980Z"
   },
   {
    "duration": 2830,
    "start_time": "2022-09-13T09:00:10.684Z"
   },
   {
    "duration": 22,
    "start_time": "2022-09-13T09:04:59.668Z"
   },
   {
    "duration": 1100,
    "start_time": "2022-09-13T09:05:47.219Z"
   },
   {
    "duration": 67,
    "start_time": "2022-09-13T09:05:57.859Z"
   },
   {
    "duration": 74,
    "start_time": "2022-09-13T09:06:03.273Z"
   },
   {
    "duration": 55,
    "start_time": "2022-09-13T09:06:33.958Z"
   },
   {
    "duration": 19,
    "start_time": "2022-09-13T09:06:43.525Z"
   },
   {
    "duration": 16,
    "start_time": "2022-09-13T09:16:03.537Z"
   },
   {
    "duration": 5674,
    "start_time": "2022-09-13T09:18:55.938Z"
   },
   {
    "duration": 1106,
    "start_time": "2022-09-14T06:28:02.012Z"
   },
   {
    "duration": 130,
    "start_time": "2022-09-14T06:28:03.120Z"
   },
   {
    "duration": 16,
    "start_time": "2022-09-14T06:28:04.942Z"
   },
   {
    "duration": 4,
    "start_time": "2022-09-14T06:28:08.992Z"
   },
   {
    "duration": 8,
    "start_time": "2022-09-14T06:28:11.611Z"
   },
   {
    "duration": 5,
    "start_time": "2022-09-14T06:28:14.891Z"
   },
   {
    "duration": 2014,
    "start_time": "2022-09-14T06:29:07.690Z"
   },
   {
    "duration": 12,
    "start_time": "2022-09-14T06:31:54.179Z"
   },
   {
    "duration": 11,
    "start_time": "2022-09-14T06:31:56.732Z"
   },
   {
    "duration": 8,
    "start_time": "2022-09-14T06:31:58.761Z"
   },
   {
    "duration": 295,
    "start_time": "2022-09-14T06:32:46.568Z"
   },
   {
    "duration": 310,
    "start_time": "2022-09-14T06:32:50.142Z"
   },
   {
    "duration": 417,
    "start_time": "2022-09-14T06:32:52.632Z"
   },
   {
    "duration": 274,
    "start_time": "2022-09-14T06:32:55.282Z"
   },
   {
    "duration": 52704,
    "start_time": "2022-09-14T06:32:59.156Z"
   },
   {
    "duration": 4,
    "start_time": "2022-09-14T06:34:03.852Z"
   },
   {
    "duration": 10,
    "start_time": "2022-09-14T06:34:41.371Z"
   },
   {
    "duration": 10,
    "start_time": "2022-09-14T06:34:53.871Z"
   },
   {
    "duration": 4,
    "start_time": "2022-09-14T06:35:13.681Z"
   },
   {
    "duration": 5,
    "start_time": "2022-09-14T06:35:53.061Z"
   },
   {
    "duration": 80,
    "start_time": "2022-09-14T06:36:19.431Z"
   },
   {
    "duration": 5,
    "start_time": "2022-09-14T06:36:22.629Z"
   },
   {
    "duration": 18,
    "start_time": "2022-09-14T06:37:41.301Z"
   },
   {
    "duration": 14,
    "start_time": "2022-09-14T06:42:06.281Z"
   },
   {
    "duration": 1613,
    "start_time": "2022-09-14T07:07:10.092Z"
   },
   {
    "duration": 64,
    "start_time": "2022-09-14T07:07:11.708Z"
   },
   {
    "duration": 20,
    "start_time": "2022-09-14T07:07:11.773Z"
   },
   {
    "duration": 16,
    "start_time": "2022-09-14T07:07:11.795Z"
   },
   {
    "duration": 13,
    "start_time": "2022-09-14T07:07:11.815Z"
   },
   {
    "duration": 23,
    "start_time": "2022-09-14T07:07:11.830Z"
   },
   {
    "duration": 7,
    "start_time": "2022-09-14T07:07:11.855Z"
   },
   {
    "duration": 2140,
    "start_time": "2022-09-14T07:07:11.863Z"
   },
   {
    "duration": 16,
    "start_time": "2022-09-14T07:07:14.005Z"
   },
   {
    "duration": 8,
    "start_time": "2022-09-14T07:07:14.023Z"
   },
   {
    "duration": 13,
    "start_time": "2022-09-14T07:07:14.033Z"
   },
   {
    "duration": 12,
    "start_time": "2022-09-14T07:07:14.047Z"
   },
   {
    "duration": 40,
    "start_time": "2022-09-14T07:07:14.061Z"
   },
   {
    "duration": 57750,
    "start_time": "2022-09-14T07:07:14.104Z"
   },
   {
    "duration": 320,
    "start_time": "2022-09-14T07:08:11.857Z"
   },
   {
    "duration": 4,
    "start_time": "2022-09-14T07:08:12.178Z"
   },
   {
    "duration": 408,
    "start_time": "2022-09-14T07:08:12.194Z"
   },
   {
    "duration": 498,
    "start_time": "2022-09-14T07:08:12.604Z"
   },
   {
    "duration": 374,
    "start_time": "2022-09-14T07:08:13.105Z"
   },
   {
    "duration": 90734,
    "start_time": "2022-09-14T07:08:13.481Z"
   },
   {
    "duration": 791,
    "start_time": "2022-09-14T07:09:44.305Z"
   },
   {
    "duration": 6,
    "start_time": "2022-09-14T07:09:45.098Z"
   },
   {
    "duration": 10796,
    "start_time": "2022-09-14T07:09:45.106Z"
   },
   {
    "duration": 13796,
    "start_time": "2022-09-14T07:09:55.904Z"
   },
   {
    "duration": 109,
    "start_time": "2022-09-14T07:10:09.708Z"
   },
   {
    "duration": 27,
    "start_time": "2022-09-14T07:10:09.819Z"
   },
   {
    "duration": 65,
    "start_time": "2022-09-19T10:37:18.956Z"
   },
   {
    "duration": 1107,
    "start_time": "2022-09-19T10:37:24.068Z"
   },
   {
    "duration": 123,
    "start_time": "2022-09-19T10:37:26.118Z"
   },
   {
    "duration": 17,
    "start_time": "2022-09-19T10:37:26.631Z"
   },
   {
    "duration": 4,
    "start_time": "2022-09-19T10:37:30.551Z"
   },
   {
    "duration": 9,
    "start_time": "2022-09-19T10:37:32.761Z"
   },
   {
    "duration": 7,
    "start_time": "2022-09-19T10:37:38.807Z"
   },
   {
    "duration": 2036,
    "start_time": "2022-09-19T10:37:45.815Z"
   },
   {
    "duration": 12,
    "start_time": "2022-09-19T10:37:49.826Z"
   },
   {
    "duration": 340,
    "start_time": "2022-09-19T10:38:38.645Z"
   },
   {
    "duration": 16,
    "start_time": "2022-09-19T10:38:45.510Z"
   },
   {
    "duration": 70,
    "start_time": "2022-09-19T11:07:11.350Z"
   },
   {
    "duration": 12,
    "start_time": "2022-09-19T11:07:50.503Z"
   },
   {
    "duration": 6,
    "start_time": "2022-09-19T11:08:10.223Z"
   },
   {
    "duration": 6,
    "start_time": "2022-09-19T11:15:42.608Z"
   }
  ],
  "kernelspec": {
   "display_name": "Python 3 (ipykernel)",
   "language": "python",
   "name": "python3"
  },
  "language_info": {
   "codemirror_mode": {
    "name": "ipython",
    "version": 3
   },
   "file_extension": ".py",
   "mimetype": "text/x-python",
   "name": "python",
   "nbconvert_exporter": "python",
   "pygments_lexer": "ipython3",
   "version": "3.9.13"
  },
  "toc": {
   "base_numbering": 1,
   "nav_menu": {},
   "number_sections": true,
   "sideBar": true,
   "skip_h1_title": true,
   "title_cell": "Table of Contents",
   "title_sidebar": "Contents",
   "toc_cell": false,
   "toc_position": {},
   "toc_section_display": true,
   "toc_window_display": false
  }
 },
 "nbformat": 4,
 "nbformat_minor": 2
}
