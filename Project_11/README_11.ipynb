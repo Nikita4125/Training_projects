{
 "cells": [
  {
   "cell_type": "markdown",
   "id": "26c562ba",
   "metadata": {},
   "source": [
    "## Project_11\n",
    "\n",
    "### Машинное обучение для текстов\n",
    "Интернет-магазин «Викишоп» запускает новый сервис. Теперь пользователи могут редактировать и дополнять описания товаров, как в вики-сообществах. То есть клиенты предлагают свои правки и комментируют изменения других. Магазину нужен инструмент, который будет искать токсичные комментарии и отправлять их на модерацию.\n",
    "\n",
    "Обучите модель классифицировать комментарии на позитивные и негативные. В вашем распоряжении набор данных с разметкой о токсичности правок.\n",
    "\n",
    "Постройте модель со значением метрики качества F1 не меньше 0.75. \n",
    "\n",
    "Столбец text в нём содержит текст комментария, а toxic — целевой признак.\n",
    "\n",
    "### Machine learning for texts \n",
    "Online store \"Wikishop\" launches a new service. Now users can edit and supplement product descriptions, as on wikis. That is, customers offer their edits and comment on changes made by others. The store needs a tool that will search for toxic comments and send them to moderation.\n",
    "\n",
    "Teach the model to categorize comments into positive and negative. At your disposal is a data set with markings on the toxicity of edits.\n",
    "\n",
    "Build a model with a quality metric F1 value of at least 0.75.\n",
    "\n",
    "The text column in it contains the text of the comment, and toxic is the target feature."
   ]
  },
  {
   "cell_type": "code",
   "execution_count": null,
   "id": "cac8463d",
   "metadata": {},
   "outputs": [],
   "source": []
  }
 ],
 "metadata": {
  "kernelspec": {
   "display_name": "Python 3 (ipykernel)",
   "language": "python",
   "name": "python3"
  },
  "language_info": {
   "codemirror_mode": {
    "name": "ipython",
    "version": 3
   },
   "file_extension": ".py",
   "mimetype": "text/x-python",
   "name": "python",
   "nbconvert_exporter": "python",
   "pygments_lexer": "ipython3",
   "version": "3.9.13"
  }
 },
 "nbformat": 4,
 "nbformat_minor": 5
}
