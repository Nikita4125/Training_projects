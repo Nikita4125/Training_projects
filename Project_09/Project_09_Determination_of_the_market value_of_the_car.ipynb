{
 "cells": [
  {
   "cell_type": "markdown",
   "metadata": {},
   "source": [
    "# Определение стоимости автомобилей\n",
    "\n",
    "# Determining the cost of cars"
   ]
  },
  {
   "cell_type": "markdown",
   "metadata": {},
   "source": [
    "Сервис по продаже автомобилей с пробегом разрабатывает приложение, чтобы привлечь новых клиентов. В нём можно будет узнать рыночную стоимость своего автомобиля.\n",
    "Построим модель, которая умеет её определять. В нашем распоряжении данные о технических характеристиках, комплектации и ценах других автомобилей.\n",
    "\n",
    "Критерии, которые важны заказчику:\n",
    "\n",
    "- качество предсказания;\n",
    "- время обучения модели;\n",
    "- время предсказания модели.\n",
    "\n",
    "________________________________________________________________________________________________________________________________\n",
    "\n",
    "A used car service is developing an app to attract new customers. It will show you the market value of your car.\n",
    "Let's build a model that can determine it. We have at our disposal data on the technical characteristics, equipment and prices of other cars.\n",
    "\n",
    "Criteria that are important to the customer:\n",
    "\n",
    "- quality of prediction;\n",
    "- model training time;\n",
    "- model prediction time."
   ]
  },
  {
   "cell_type": "markdown",
   "metadata": {},
   "source": [
    "## Подготовка данных\n",
    "\n",
    "## Data preparation"
   ]
  },
  {
   "cell_type": "markdown",
   "metadata": {},
   "source": [
    "### Загрузка данных и библиотек"
   ]
  },
  {
   "cell_type": "code",
   "execution_count": 3,
   "metadata": {},
   "outputs": [],
   "source": [
    "import matplotlib.pyplot as plt\n",
    "import itertools\n",
    "from tqdm import tqdm\n",
    "import numpy as np\n",
    "import pandas as pd\n",
    "from sklearn import metrics\n",
    "from sklearn.model_selection import train_test_split\n",
    "from sklearn.linear_model import LogisticRegression\n",
    "from catboost import Pool, CatBoostRegressor, cv\n",
    "from sklearn.tree import DecisionTreeRegressor \n",
    "from lightgbm import LGBMRegressor\n",
    "from sklearn.preprocessing import OneHotEncoder\n",
    "import warnings\n",
    "warnings.filterwarnings('ignore')"
   ]
  },
  {
   "cell_type": "code",
   "execution_count": null,
   "metadata": {},
   "outputs": [],
   "source": [
    "autos_data = pd.read_csv('autos.csv')\n",
    "autos_data.info()\n",
    "autos_data.head()"
   ]
  },
  {
   "cell_type": "markdown",
   "metadata": {},
   "source": [
    "Сразу уберем данные, не связанных с влиянием на стоимость автомобиля, и будем анализировать непосредственно нужные нам столбцы.\n",
    "\n",
    "В выборе руководствуемся следующей логикой:\n",
    "\n",
    "- VehicleType. Типа кузова автомобиля явно влияет на стоимость и общий функционал.\n",
    "- Gearbox. Наличие автоматической коробки передач обычно повышает стоимость автомобиля.\n",
    "- Power. Мощность в лоашдиных силах (далее л.с.), судя по реальным данным, напрямую влияют на цену.\n",
    "- Kilometer. пройденный километраж, чем больше километров пройдено автомобилем, тем ниже его стоимость.\n",
    "- Brand. Известность товарной марки автомобиля также напрямую влияет на его стоимость.\n",
    "- Repaired. Показатель того, был ли автомобиль в ремонте.\n",
    "- RegistrationYear. Год регистрации автомобиля, говорит о его возрасте. Чем выше возраст автомобиля, тем ниже его стоимость.\n",
    "- Model. Влияет на стоимость автомобиля аналогично товарной марке.\n",
    "- Price. Собственно, целевой признак.\n",
    "\n",
    "________________________________________________________________________________________________________________________________\n",
    "\n",
    "We will immediately remove the data that is not related to the impact on the cost of the car, and we will analyze the columns we need directly.\n",
    "\n",
    "In choosing, we are guided by the following logic:\n",
    "\n",
    "-VehicleType. The type of car body clearly affects the cost and overall functionality.\n",
    "- Gearbox. The presence of an automatic transmission usually increases the cost of the car.\n",
    "- power. Power in horsepower (hereinafter referred to as hp), judging by real data, directly affects the price.\n",
    "- Kilometer. mileage traveled, the more kilometers traveled by the car, the lower its cost.\n",
    "- Brand. The popularity of the brand of the car also directly affects its value.\n",
    "- Repaired. An indication of whether the vehicle has been repaired.\n",
    "- RegistrationYear. The year of registration of the car indicates its age. The older the car, the lower its value.\n",
    "- Model. Affects the cost of the car in a similar way to the brand name.\n",
    "- Price. Actually, the target sign."
   ]
  },
  {
   "cell_type": "code",
   "execution_count": 3,
   "metadata": {},
   "outputs": [],
   "source": [
    "autos_data_2 = autos_data.drop(['LastSeen','PostalCode','NumberOfPictures','DateCreated','FuelType','RegistrationMonth','DateCrawled'], axis=1)"
   ]
  },
  {
   "cell_type": "code",
   "execution_count": 4,
   "metadata": {},
   "outputs": [
    {
     "name": "stdout",
     "output_type": "stream",
     "text": [
      "<class 'pandas.core.frame.DataFrame'>\n",
      "RangeIndex: 354369 entries, 0 to 354368\n",
      "Data columns (total 9 columns):\n",
      " #   Column            Non-Null Count   Dtype \n",
      "---  ------            --------------   ----- \n",
      " 0   Price             354369 non-null  int64 \n",
      " 1   VehicleType       316879 non-null  object\n",
      " 2   RegistrationYear  354369 non-null  int64 \n",
      " 3   Gearbox           334536 non-null  object\n",
      " 4   Power             354369 non-null  int64 \n",
      " 5   Model             334664 non-null  object\n",
      " 6   Kilometer         354369 non-null  int64 \n",
      " 7   Brand             354369 non-null  object\n",
      " 8   Repaired          283215 non-null  object\n",
      "dtypes: int64(4), object(5)\n",
      "memory usage: 24.3+ MB\n"
     ]
    }
   ],
   "source": [
    "autos_data_2.info()"
   ]
  },
  {
   "cell_type": "markdown",
   "metadata": {},
   "source": [
    "### Предобработка данных\n",
    "\n",
    "### Data preprocessing"
   ]
  },
  {
   "cell_type": "markdown",
   "metadata": {},
   "source": [
    "Типы данных соответсвуют их наполнению.\n",
    "\n",
    "Ознакомимся с уникальными значениями столбцов.\n",
    "\n",
    "The data types correspond to their content.\n",
    "\n",
    "Let's get acquainted with the unique values of the columns."
   ]
  },
  {
   "cell_type": "code",
   "execution_count": 5,
   "metadata": {},
   "outputs": [
    {
     "name": "stdout",
     "output_type": "stream",
     "text": [
      "Уникальные значения столбца VehicleType\n",
      "[nan 'coupe' 'suv' 'small' 'sedan' 'convertible' 'bus' 'wagon' 'other'] \n",
      "\n",
      "Уникальные значения столбца Gearbox\n",
      "['manual' 'auto' nan] \n",
      "\n",
      "Уникальные значения столбца Model\n",
      "['golf' nan 'grand' 'fabia' '3er' '2_reihe' 'other' 'c_max' '3_reihe'\n",
      " 'passat' 'navara' 'ka' 'polo' 'twingo' 'a_klasse' 'scirocco' '5er'\n",
      " 'meriva' 'arosa' 'c4' 'civic' 'transporter' 'punto' 'e_klasse' 'clio'\n",
      " 'kadett' 'kangoo' 'corsa' 'one' 'fortwo' '1er' 'b_klasse' 'signum'\n",
      " 'astra' 'a8' 'jetta' 'fiesta' 'c_klasse' 'micra' 'vito' 'sprinter' '156'\n",
      " 'escort' 'forester' 'xc_reihe' 'scenic' 'a4' 'a1' 'insignia' 'combo'\n",
      " 'focus' 'tt' 'a6' 'jazz' 'omega' 'slk' '7er' '80' '147' '100' 'z_reihe'\n",
      " 'sportage' 'sorento' 'v40' 'ibiza' 'mustang' 'eos' 'touran' 'getz' 'a3'\n",
      " 'almera' 'megane' 'lupo' 'r19' 'zafira' 'caddy' 'mondeo' 'cordoba' 'colt'\n",
      " 'impreza' 'vectra' 'berlingo' 'tiguan' 'i_reihe' 'espace' 'sharan'\n",
      " '6_reihe' 'panda' 'up' 'seicento' 'ceed' '5_reihe' 'yeti' 'octavia' 'mii'\n",
      " 'rx_reihe' '6er' 'modus' 'fox' 'matiz' 'beetle' 'c1' 'rio' 'touareg'\n",
      " 'logan' 'spider' 'cuore' 's_max' 'a2' 'galaxy' 'c3' 'viano' 's_klasse'\n",
      " '1_reihe' 'avensis' 'roomster' 'sl' 'kaefer' 'santa' 'cooper' 'leon'\n",
      " '4_reihe' 'a5' '500' 'laguna' 'ptcruiser' 'clk' 'primera' 'x_reihe'\n",
      " 'exeo' '159' 'transit' 'juke' 'qashqai' 'carisma' 'accord' 'corolla'\n",
      " 'lanos' 'phaeton' 'verso' 'swift' 'rav' 'picanto' 'boxster' 'kalos'\n",
      " 'superb' 'stilo' 'alhambra' 'mx_reihe' 'roadster' 'ypsilon' 'cayenne'\n",
      " 'galant' 'justy' '90' 'sirion' 'crossfire' 'agila' 'duster' 'cr_reihe'\n",
      " 'v50' 'c_reihe' 'v_klasse' 'm_klasse' 'yaris' 'c5' 'aygo' 'cc' 'carnival'\n",
      " 'fusion' '911' 'bora' 'forfour' 'm_reihe' 'cl' 'tigra' '300c' 'spark'\n",
      " 'v70' 'kuga' 'x_type' 'ducato' 's_type' 'x_trail' 'toledo' 'altea'\n",
      " 'voyager' 'calibra' 'bravo' 'antara' 'tucson' 'citigo' 'jimny' 'wrangler'\n",
      " 'lybra' 'q7' 'lancer' 'captiva' 'c2' 'discovery' 'freelander' 'sandero'\n",
      " 'note' '900' 'cherokee' 'clubman' 'samara' 'defender' '601' 'cx_reihe'\n",
      " 'legacy' 'pajero' 'auris' 'niva' 's60' 'nubira' 'vivaro' 'g_klasse'\n",
      " 'lodgy' '850' 'range_rover' 'q3' 'serie_2' 'glk' 'charade' 'croma'\n",
      " 'outlander' 'doblo' 'musa' 'move' '9000' 'v60' '145' 'aveo' '200' 'b_max'\n",
      " 'range_rover_sport' 'terios' 'rangerover' 'q5' 'range_rover_evoque'\n",
      " 'materia' 'delta' 'gl' 'kalina' 'amarok' 'elefantino' 'i3' 'kappa'\n",
      " 'serie_3' 'serie_1'] \n",
      "\n",
      "Уникальные значения столбца Brand\n",
      "['volkswagen' 'audi' 'jeep' 'skoda' 'bmw' 'peugeot' 'ford' 'mazda'\n",
      " 'nissan' 'renault' 'mercedes_benz' 'opel' 'seat' 'citroen' 'honda' 'fiat'\n",
      " 'mini' 'smart' 'hyundai' 'sonstige_autos' 'alfa_romeo' 'subaru' 'volvo'\n",
      " 'mitsubishi' 'kia' 'suzuki' 'lancia' 'toyota' 'chevrolet' 'dacia'\n",
      " 'daihatsu' 'trabant' 'saab' 'chrysler' 'jaguar' 'daewoo' 'porsche'\n",
      " 'rover' 'land_rover' 'lada'] \n",
      "\n",
      "Уникальные значения столбца Repaired\n",
      "[nan 'yes' 'no'] \n",
      "\n"
     ]
    }
   ],
   "source": [
    "for col in autos_data_2.select_dtypes(include='object').columns:\n",
    "    print('Уникальные значения столбца', col)\n",
    "    print(autos_data_2[col].unique(), '\\n')"
   ]
  },
  {
   "cell_type": "markdown",
   "metadata": {},
   "source": [
    "Пропущенные модели не представляется возможным восстановить, поэтому пометим их как other (другие).\n",
    "\n",
    "Missing models cannot be restored, so we will mark them as other (others)."
   ]
  },
  {
   "cell_type": "code",
   "execution_count": 6,
   "metadata": {},
   "outputs": [],
   "source": [
    "autos_data_2.fillna({'Model':'other'}, inplace=True)"
   ]
  },
  {
   "cell_type": "markdown",
   "metadata": {},
   "source": [
    "Существуют пропущенные значения, которые необходимо заполнить. Автоматическая коробка передач больше распространена в развитых странах, поэтому заполним пропущенные Gearbox значения в на auto.\n",
    "\n",
    "There are missing values that need to be filled in. Automatic transmission is more common in developed countries, so let's fill in the missing Gearbox values in auto."
   ]
  },
  {
   "cell_type": "code",
   "execution_count": 7,
   "metadata": {},
   "outputs": [],
   "source": [
    "autos_data_2['Gearbox'].fillna('auto', inplace=True)"
   ]
  },
  {
   "cell_type": "markdown",
   "metadata": {},
   "source": [
    "Пропуски в Repaired скорее всего можно трактовать как отсутствие ремонта.\n",
    "\n",
    "Omissions in Repaired can most likely be interpreted as a lack of repair."
   ]
  },
  {
   "cell_type": "code",
   "execution_count": 8,
   "metadata": {},
   "outputs": [],
   "source": [
    "autos_data_2['Repaired'].fillna('no', inplace=True)"
   ]
  },
  {
   "cell_type": "markdown",
   "metadata": {},
   "source": [
    "С заменой пропущенных в VehicleType ситуация сложнее. Есле заполнить их наиболее распространенным значением, то это сильно повлияет на итоговые статистики. Поэтому заполним их значением other, возможно модели не поддавались классификации.\n",
    "\n",
    "With the replacement of missing ones in VehicleType, the situation is more complicated. If you fill them with the most common value, then this will greatly affect the final statistics. Therefore, we fill them with the value other, perhaps the models did not lend themselves to classification."
   ]
  },
  {
   "cell_type": "code",
   "execution_count": 9,
   "metadata": {},
   "outputs": [
    {
     "data": {
      "text/plain": [
       "sedan          91457\n",
       "small          79831\n",
       "wagon          65166\n",
       "bus            28775\n",
       "convertible    20203\n",
       "coupe          16163\n",
       "suv            11996\n",
       "other           3288\n",
       "Name: VehicleType, dtype: int64"
      ]
     },
     "execution_count": 9,
     "metadata": {},
     "output_type": "execute_result"
    }
   ],
   "source": [
    "autos_data_2['VehicleType'].value_counts()"
   ]
  },
  {
   "cell_type": "code",
   "execution_count": 10,
   "metadata": {},
   "outputs": [
    {
     "data": {
      "text/plain": [
       "False    316879\n",
       "True      37490\n",
       "Name: VehicleType, dtype: int64"
      ]
     },
     "execution_count": 10,
     "metadata": {},
     "output_type": "execute_result"
    }
   ],
   "source": [
    "autos_data_2['VehicleType'].isna().value_counts()"
   ]
  },
  {
   "cell_type": "code",
   "execution_count": 11,
   "metadata": {},
   "outputs": [],
   "source": [
    "autos_data_2['VehicleType'].fillna('another', inplace=True)"
   ]
  },
  {
   "cell_type": "markdown",
   "metadata": {},
   "source": [
    "Проверяем числовые данные на предмет наличия нулевых значений и пропусков.\n",
    "\n",
    "We check the numerical data for the presence of zero values and gaps."
   ]
  },
  {
   "cell_type": "code",
   "execution_count": 12,
   "metadata": {},
   "outputs": [
    {
     "name": "stdout",
     "output_type": "stream",
     "text": [
      "Пропуски столбца Price\n",
      "0 \n",
      "\n",
      "Пропуски столбца RegistrationYear\n",
      "0 \n",
      "\n",
      "Пропуски столбца Power\n",
      "0 \n",
      "\n",
      "Пропуски столбца Kilometer\n",
      "0 \n",
      "\n"
     ]
    }
   ],
   "source": [
    "for col in autos_data_2.select_dtypes(include='int64').columns:\n",
    "    print('Пропуски столбца', col)\n",
    "    print(autos_data_2[col].isna().sum(), '\\n') "
   ]
  },
  {
   "cell_type": "markdown",
   "metadata": {},
   "source": [
    "Посмотрим распределение значений.\n",
    "\n",
    "Let's look at the distribution of values."
   ]
  },
  {
   "cell_type": "code",
   "execution_count": 13,
   "metadata": {},
   "outputs": [
    {
     "data": {
      "text/plain": [
       "<AxesSubplot:>"
      ]
     },
     "execution_count": 13,
     "metadata": {},
     "output_type": "execute_result"
    },
    {
     "data": {
      "image/png": "[encoded data removed]",
      "text/plain": [
       "<Figure size 1368x864 with 1 Axes>"
      ]
     },
     "metadata": {
      "needs_background": "light"
     },
     "output_type": "display_data"
    }
   ],
   "source": [
    "autos_data_2['Kilometer'].hist(figsize=(19,12))"
   ]
  },
  {
   "cell_type": "code",
   "execution_count": 14,
   "metadata": {},
   "outputs": [
    {
     "data": {
      "text/plain": [
       "<AxesSubplot:>"
      ]
     },
     "execution_count": 14,
     "metadata": {},
     "output_type": "execute_result"
    },
    {
     "data": {
      "image/png": "[encoded data removed]",
      "text/plain": [
       "<Figure size 1368x864 with 1 Axes>"
      ]
     },
     "metadata": {
      "needs_background": "light"
     },
     "output_type": "display_data"
    }
   ],
   "source": [
    "autos_data_2['RegistrationYear'].hist(figsize=(19,12))"
   ]
  },
  {
   "cell_type": "code",
   "execution_count": 15,
   "metadata": {},
   "outputs": [
    {
     "data": {
      "text/plain": [
       "<AxesSubplot:>"
      ]
     },
     "execution_count": 15,
     "metadata": {},
     "output_type": "execute_result"
    },
    {
     "data": {
      "image/png": "[encoded data removed]",
      "text/plain": [
       "<Figure size 1368x864 with 1 Axes>"
      ]
     },
     "metadata": {
      "needs_background": "light"
     },
     "output_type": "display_data"
    }
   ],
   "source": [
    "autos_data_2['Price'].hist(figsize=(19,12))"
   ]
  },
  {
   "cell_type": "code",
   "execution_count": 16,
   "metadata": {},
   "outputs": [
    {
     "data": {
      "text/plain": [
       "<AxesSubplot:>"
      ]
     },
     "execution_count": 16,
     "metadata": {},
     "output_type": "execute_result"
    },
    {
     "data": {
      "image/png": "[encoded data removed]",
      "text/plain": [
       "<Figure size 1368x864 with 1 Axes>"
      ]
     },
     "metadata": {
      "needs_background": "light"
     },
     "output_type": "display_data"
    }
   ],
   "source": [
    "autos_data_2['Power'].hist(bins=200, figsize=(19,12))"
   ]
  },
  {
   "cell_type": "code",
   "execution_count": 17,
   "metadata": {},
   "outputs": [
    {
     "name": "stdout",
     "output_type": "stream",
     "text": [
      "Основные статистики столбца Price\n",
      "count    354369.000000\n",
      "mean       4416.656776\n",
      "std        4514.158514\n",
      "min           0.000000\n",
      "25%        1050.000000\n",
      "50%        2700.000000\n",
      "75%        6400.000000\n",
      "max       20000.000000\n",
      "Name: Price, dtype: float64 \n",
      "\n",
      "Основные статистики столбца RegistrationYear\n",
      "count    354369.000000\n",
      "mean       2004.234448\n",
      "std          90.227958\n",
      "min        1000.000000\n",
      "25%        1999.000000\n",
      "50%        2003.000000\n",
      "75%        2008.000000\n",
      "max        9999.000000\n",
      "Name: RegistrationYear, dtype: float64 \n",
      "\n",
      "Основные статистики столбца Power\n",
      "count    354369.000000\n",
      "mean        110.094337\n",
      "std         189.850405\n",
      "min           0.000000\n",
      "25%          69.000000\n",
      "50%         105.000000\n",
      "75%         143.000000\n",
      "max       20000.000000\n",
      "Name: Power, dtype: float64 \n",
      "\n",
      "Основные статистики столбца Kilometer\n",
      "count    354369.000000\n",
      "mean     128211.172535\n",
      "std       37905.341530\n",
      "min        5000.000000\n",
      "25%      125000.000000\n",
      "50%      150000.000000\n",
      "75%      150000.000000\n",
      "max      150000.000000\n",
      "Name: Kilometer, dtype: float64 \n",
      "\n"
     ]
    }
   ],
   "source": [
    "for col in autos_data_2.select_dtypes(include='int64').columns:\n",
    "    print('Основные статистики столбца', col)\n",
    "    print(autos_data_2[col].describe(),  '\\n')"
   ]
  },
  {
   "cell_type": "markdown",
   "metadata": {},
   "source": [
    "Проверим целевую переменную.\n",
    "\n",
    "Let's check the target variable."
   ]
  },
  {
   "cell_type": "code",
   "execution_count": 18,
   "metadata": {},
   "outputs": [
    {
     "data": {
      "text/plain": [
       "0        10772\n",
       "500       5670\n",
       "1500      5394\n",
       "1000      4649\n",
       "1200      4594\n",
       "         ...  \n",
       "13180        1\n",
       "10879        1\n",
       "2683         1\n",
       "634          1\n",
       "8188         1\n",
       "Name: Price, Length: 3731, dtype: int64"
      ]
     },
     "execution_count": 18,
     "metadata": {},
     "output_type": "execute_result"
    }
   ],
   "source": [
    "autos_data_2['Price'].value_counts()"
   ]
  },
  {
   "cell_type": "markdown",
   "metadata": {},
   "source": [
    "Присутствуют нулевые значения, избавимся от них.\n",
    "\n",
    "There are null values, get rid of them."
   ]
  },
  {
   "cell_type": "code",
   "execution_count": 19,
   "metadata": {},
   "outputs": [],
   "source": [
    "autos_data_2 = autos_data_2.query('Price > 0')"
   ]
  },
  {
   "cell_type": "markdown",
   "metadata": {},
   "source": [
    "Столбец Kilometer не нуждается в изменениях. \n",
    "\n",
    "Минимальная мощность среди указанных моделей составялет 100 л.с., максимальная - 450 л.с. Наименьшим годом обозначим самую старую модель из присутствующих, Golf 1974 г, а максимальным - годом наиболее позднего размещения объявления в изначальных данных.\n",
    "________________________________________________________________________________________________________________________________\n",
    "The Kilometer column does not need to be changed.\n",
    "\n",
    "The minimum power among these models is 100 hp, the maximum is 450 hp. The smallest year is the oldest model present, the 1974 Golf, and the longest year is the year of the latest announcement in the original data."
   ]
  },
  {
   "cell_type": "code",
   "execution_count": 20,
   "metadata": {},
   "outputs": [
    {
     "data": {
      "text/plain": [
       "Timestamp('2016-04-07 14:36:58')"
      ]
     },
     "execution_count": 20,
     "metadata": {},
     "output_type": "execute_result"
    }
   ],
   "source": [
    "pd.to_datetime(autos_data['DateCrawled']).max()"
   ]
  },
  {
   "cell_type": "code",
   "execution_count": 21,
   "metadata": {},
   "outputs": [],
   "source": [
    "autos_data_2 = autos_data_2.query('1973 < RegistrationYear < 2017')"
   ]
  },
  {
   "cell_type": "code",
   "execution_count": 22,
   "metadata": {},
   "outputs": [],
   "source": [
    "autos_data_2 = autos_data_2.query('99 < Power < 451') "
   ]
  },
  {
   "cell_type": "markdown",
   "metadata": {},
   "source": [
    "Наконец, удалим дупликаты.\n",
    "\n",
    "Finally, we will remove the duplicates."
   ]
  },
  {
   "cell_type": "code",
   "execution_count": 23,
   "metadata": {},
   "outputs": [],
   "source": [
    "autos_data_2.drop_duplicates(inplace=True)"
   ]
  },
  {
   "cell_type": "markdown",
   "metadata": {},
   "source": [
    "### Выводы по 1 этапу\n",
    "\n",
    "### Conclusions on stage 1"
   ]
  },
  {
   "cell_type": "markdown",
   "metadata": {},
   "source": [
    "- Загружены данные\n",
    "- Отобраны те факторы, которые влияеют на вариативность целевой переменной\n",
    "- Данные проанализированы на наличие пропусков и аномалий\n",
    "- Пропуски были заполнены, аномалии и дупликаты удалены\n",
    "________________________________________________________________________________________________________________________________\n",
    "- Loaded data\n",
    "- Selected those factors that affect the variability of the target variable\n",
    "- Data analyzed for gaps and anomalies\n",
    "- Gaps have been filled in, anomalies and duplicates removed"
   ]
  },
  {
   "cell_type": "markdown",
   "metadata": {},
   "source": [
    "## Обучение моделей\n",
    "\n",
    "## Model training"
   ]
  },
  {
   "cell_type": "markdown",
   "metadata": {},
   "source": [
    "### Подготовка признаков и разбивка на выборки\n",
    "\n",
    "### Feature preparation and sampling"
   ]
  },
  {
   "cell_type": "markdown",
   "metadata": {},
   "source": [
    "Перед нами стоит задача регрессии. На данном этапе мы будем использовать и сравнивать те модели, которые наиболее часто применяются для решения данного типа задач - модель случайного леса, а также LightGBM и CatBoostCRegressor (предлагаются по заданию и пройденной теории).\n",
    "\n",
    "Начнем с выделения целевой переменной и признаков.\n",
    "________________________________________________________________________________________________________________________________\n",
    "We are faced with the task of regression. At this stage, we will use and compare those models that are most often used to solve this type of problem - the random forest model, as well as LightGBM and CatBoostCRegressor (offered according to the task and the theory passed).\n",
    "\n",
    "Let's start by highlighting the target variable and features."
   ]
  },
  {
   "cell_type": "code",
   "execution_count": 24,
   "metadata": {},
   "outputs": [],
   "source": [
    "target = autos_data_2['Price']#Выделим целевую перменную\n",
    "\n",
    "features = autos_data_2.drop('Price', axis=1)#Выделим признаки"
   ]
  },
  {
   "cell_type": "markdown",
   "metadata": {},
   "source": [
    "Разобьем на выборки.\n",
    "\n",
    "Let's break it down into samples."
   ]
  },
  {
   "cell_type": "code",
   "execution_count": 25,
   "metadata": {},
   "outputs": [],
   "source": [
    "features_train, features_valid, target_train, target_valid = train_test_split(features, target, test_size=0.35, \n",
    "                                                                              random_state=161222)\n",
    "\n",
    "features_valid, features_test, target_valid, target_test = train_test_split(features_valid, target_valid, test_size=0.35, \n",
    "                                                                              random_state=161222) #Разобьем данные на выборки"
   ]
  },
  {
   "cell_type": "code",
   "execution_count": 26,
   "metadata": {},
   "outputs": [
    {
     "name": "stdout",
     "output_type": "stream",
     "text": [
      "(104108, 8) (36438, 8) (19621, 8)\n"
     ]
    }
   ],
   "source": [
    "print(features_train.shape, features_valid.shape, features_test.shape)"
   ]
  },
  {
   "cell_type": "code",
   "execution_count": 27,
   "metadata": {},
   "outputs": [
    {
     "name": "stdout",
     "output_type": "stream",
     "text": [
      "(104108,) (36438,) (19621,)\n"
     ]
    }
   ],
   "source": [
    "print(target_train.shape, target_valid.shape, target_test.shape) "
   ]
  },
  {
   "cell_type": "markdown",
   "metadata": {},
   "source": [
    "Для обучения модели необходимо перевести категориальные признаки в численные. Используем для этого метод OneHotEncoder.\n",
    "\n",
    "To train the model, it is necessary to convert categorical features into numerical ones. We use the OneHotEncoder method for this."
   ]
  },
  {
   "cell_type": "code",
   "execution_count": 28,
   "metadata": {},
   "outputs": [],
   "source": [
    "features_train_ohe = features_train.copy()\n",
    "features_valid_ohe = features_valid.copy()\n",
    "features_test_ohe = features_test.copy()\n",
    "\n",
    "columns_ohe =  ['VehicleType', 'Gearbox', 'Model', 'Kilometer', 'Brand', 'Repaired']\n",
    " \n",
    "encoder_ohe = OneHotEncoder(handle_unknown = 'ignore')\n",
    "encoder_ohe.fit(features_train_ohe[columns_ohe])\n",
    " \n",
    "features_ohe_train = pd.DataFrame(encoder_ohe.transform(features_train_ohe[columns_ohe]).toarray(),\n",
    "                                  index=features_train_ohe.index)\n",
    "features_ohe_valid = pd.DataFrame(encoder_ohe.transform(features_valid_ohe[columns_ohe]).toarray(),\n",
    "                                  index=features_valid_ohe.index)\n",
    "features_ohe_test = pd.DataFrame(encoder_ohe.transform(features_test_ohe[columns_ohe]).toarray(),\n",
    "                                  index=features_test_ohe.index)"
   ]
  },
  {
   "cell_type": "code",
   "execution_count": 29,
   "metadata": {},
   "outputs": [],
   "source": [
    "features_ohe_train.columns = encoder_ohe.get_feature_names(columns_ohe)\n",
    "features_ohe_valid.columns = encoder_ohe.get_feature_names(columns_ohe)\n",
    "features_ohe_test.columns = encoder_ohe.get_feature_names(columns_ohe)\n",
    " \n",
    "features_train_ohe = pd.concat([features_train_ohe, features_ohe_train], axis=1)\n",
    "features_valid_ohe = pd.concat([features_valid_ohe, features_ohe_valid], axis=1)\n",
    "features_test_ohe = pd.concat([features_test_ohe, features_ohe_valid], axis=1)\n",
    " \n",
    "features_train_ohe = features_train_ohe.drop(columns_ohe, axis=1)\n",
    "features_valid_ohe = features_valid_ohe.drop(columns_ohe, axis=1)\n",
    "features_test_ohe = features_test_ohe.drop(columns_ohe, axis=1)"
   ]
  },
  {
   "cell_type": "markdown",
   "metadata": {},
   "source": [
    "### Сравнение моделей\n",
    "\n",
    "### Compare models"
   ]
  },
  {
   "cell_type": "markdown",
   "metadata": {},
   "source": [
    "Приступим к сравнению моделей. Начнем с наиболее простого варианта - модели случайного леса.\n",
    "\n",
    "Проведем два эксперимента.\n",
    "\n",
    "Проверим модель на принаках, закодированных по методу OHE.\n",
    "На признаках, закодированных по методу OE.\n",
    "________________________________________________________________________________________________________________________________\n",
    "Let's start comparing models. Let's start with the simplest option - the random forest model.\n",
    "\n",
    "Let's do two experiments.\n",
    "\n",
    "Let's check the model on features coded using the OHE method.\n",
    "On the signs coded according to the OE method."
   ]
  },
  {
   "cell_type": "code",
   "execution_count": null,
   "metadata": {},
   "outputs": [],
   "source": [
    "%%time\n",
    "\n",
    "regressor = DecisionTreeRegressor() \n",
    "max_depth_list = [x for x in range(2, 31)]\n",
    "hyperparams = [{'criterion':['mse'], \n",
    "                'max_depth':max_depth_list, \n",
    "                'random_state':[19072020]}]\n",
    "\n",
    "print('# Tuning hyper-parameters for root_mean_squared_error')\n",
    "print()\n",
    "clf = GridSearchCV(regressor, hyperparams, scoring='neg_mean_squared_error')\n",
    "clf.fit(ohe_features_train, target_train)\n",
    "print(\"Best parameters set found on development set:\")\n",
    "print()\n",
    "print(clf.best_params_)\n",
    "print()\n",
    "print(\"Grid scores on development set:\")\n",
    "print()\n",
    "means = clf.cv_results_['mean_test_score']\n",
    "stds = clf.cv_results_['std_test_score']\n",
    "for mean, std, params in zip(means, stds, clf.cv_results_['params']):\n",
    "    print(\"%0.6f for %r\"% ((mean*-1)** 0.5, params))\n",
    "print()\n",
    "\n",
    "cv_RMSE_DTR_ohe = (max(means)*-1) ** 0.5"
   ]
  },
  {
   "cell_type": "code",
   "execution_count": null,
   "metadata": {},
   "outputs": [],
   "source": [
    "%%time\n",
    "\n",
    "regressor = DecisionTreeRegressor() \n",
    "max_depth_list = [x for x in range(2, 31)]\n",
    "hyperparams = [{'criterion':['mse'], \n",
    "                'max_depth':max_depth_list, \n",
    "                'random_state':[19072020]}]\n",
    "\n",
    "print('# Tuning hyper-parameters for root_mean_squared_error')\n",
    "print()\n",
    "clf = GridSearchCV(regressor, hyperparams, scoring='neg_mean_squared_error')\n",
    "clf.fit(ordinal_features_train, target_train)\n",
    "print(\"Best parameters set found on development set:\")\n",
    "print()\n",
    "print(clf.best_params_)\n",
    "print()\n",
    "print(\"Grid scores on development set:\")\n",
    "print()\n",
    "means = clf.cv_results_['mean_test_score']\n",
    "stds = clf.cv_results_['std_test_score']\n",
    "for mean, std, params in zip(means, stds, clf.cv_results_['params']):\n",
    "    print(\"%0.6f for %r\"% ((mean*-1)** 0.5, params))\n",
    "print()\n",
    "\n",
    "cv_RMSE_DTR_ordinal = (max(means)*-1) ** 0.5"
   ]
  },
  {
   "cell_type": "markdown",
   "metadata": {},
   "source": [
    "Обучение на OHE данных дало похожий результат, что и порядковое кодирование признаков. Занесем оба эксперимента в финальную таблицу.\n",
    "\n",
    "Training on OHE data gave a similar result as ordinal feature coding. Let's put both experiments in the final table."
   ]
  },
  {
   "cell_type": "markdown",
   "metadata": {},
   "source": [
    "Наилучший результат получен при следующих параметрах: max_depth=16, min_samples_leaf=7, min_samples_split=5, RMSE = 2262. Теперь рассмотрим работу регрессора CatBoostClassifier.\n",
    "\n",
    "The best result was obtained with the following parameters: max_depth=16, min_samples_leaf=7, min_samples_split=5, RMSE = 2262. Now let's consider the operation of the CatBoostClassifier regressor."
   ]
  },
  {
   "cell_type": "code",
   "execution_count": null,
   "metadata": {},
   "outputs": [],
   "source": [
    "%%time\n",
    "\n",
    "regressor = CatBoostRegressor() \n",
    "hyperparams = [{'learning_rate':[0.1, 0.5, 0.8],\n",
    "                'random_state':[19072020],\n",
    "                'verbose':[False]}]\n",
    "\n",
    "print('# Tuning hyper-parameters for root_mean_squared_error')\n",
    "print()\n",
    "clf = GridSearchCV(regressor, hyperparams, scoring='neg_mean_squared_error')\n",
    "clf.fit(ordinal_features_train, target_train)\n",
    "print(\"Best parameters set found on development set:\")\n",
    "print()\n",
    "print(clf.best_params_)\n",
    "print()\n",
    "print(\"Grid scores on development set:\")\n",
    "print()\n",
    "means = clf.cv_results_['mean_test_score']\n",
    "stds = clf.cv_results_['std_test_score']\n",
    "for mean, std, params in zip(means, stds, clf.cv_results_['params']):\n",
    "    print(\"%0.6f for %r\"% ((mean*-1)** 0.5, params))\n",
    "print()\n",
    "\n",
    "cv_RMSE_CBR_ordinal = (max(means)*-1) ** 0.5"
   ]
  },
  {
   "cell_type": "code",
   "execution_count": null,
   "metadata": {},
   "outputs": [],
   "source": [
    "%%time\n",
    "\n",
    "regressor = CatBoostRegressor(learning_rate=0.5,\n",
    "                              iterations = 200,\n",
    "                              random_state=19072020, \n",
    "                              verbose=False, \n",
    "                              cat_features=['VehicleType','FuelType','Brand','Model']) \n",
    "print('# Train for root_mean_squared_error')\n",
    "print()\n",
    "cv_RMSE_CBR_original = (cross_val_score(regressor,\n",
    "                                original_features_train, \n",
    "                                target_train, \n",
    "                                cv=5, \n",
    "                                scoring='neg_mean_squared_error').mean() * -1) ** 0.5\n",
    "print('Mean RMSE from CV of CatBoostRegressor =', cv_RMSE_CBR_original)"
   ]
  },
  {
   "cell_type": "markdown",
   "metadata": {},
   "source": [
    "Наилучший результат достигнут при iterations=300, RMSE = 1901. Далее рассмотрим регрессор LightGBM.\n",
    "\n",
    "The best result was achieved with iterations=300, RMSE = 1901. Next, consider the LightGBM regressor."
   ]
  },
  {
   "cell_type": "code",
   "execution_count": null,
   "metadata": {},
   "outputs": [],
   "source": [
    "%%time\n",
    "\n",
    "regressor = LGBMRegressor() \n",
    "hyperparams = [{'num_leaves':[31, 100, 200], \n",
    "                'learning_rate':[0.1, 0.3, 0.5],\n",
    "                'random_state':[19072020]}]\n",
    "\n",
    "print('# Tuning hyper-parameters for root_mean_squared_error')\n",
    "print()\n",
    "clf = GridSearchCV(regressor, hyperparams, scoring='neg_mean_squared_error')\n",
    "clf.fit(ordinal_features_train, target_train)\n",
    "print(\"Best parameters set found on development set:\")\n",
    "print()\n",
    "print(clf.best_params_)\n",
    "print()\n",
    "print(\"Grid scores on development set:\")\n",
    "print()\n",
    "means = clf.cv_results_['mean_test_score']\n",
    "stds = clf.cv_results_['std_test_score']\n",
    "for mean, std, params in zip(means, stds, clf.cv_results_['params']):\n",
    "    print(\"%0.6f for %r\"% ((mean*-1)** 0.5, params))\n",
    "print()\n",
    "\n",
    "cv_RMSE_LGBMR = (max(means)*-1) ** 0.5"
   ]
  },
  {
   "cell_type": "markdown",
   "metadata": {},
   "source": [
    "Достигнут наилучший результат RMSE = 1908\n",
    "\n",
    "Achieved the best result RMSE = 1908"
   ]
  },
  {
   "cell_type": "markdown",
   "metadata": {},
   "source": [
    "### Вывод по 2 этапу\n",
    "\n",
    "### Conclusion on stage 2"
   ]
  },
  {
   "cell_type": "markdown",
   "metadata": {},
   "source": [
    "Было проведено сравнение работы трех моделей регрессоров - модели случайного леса, LightGBM и CatBoostRegressor. По требуемым параметрам (качество предсказания, время обучения, время предсказания) наилучшей моделью выступает CatBoostRegressor с показателем RMSE = 1901.\n",
    "________________________________________________________________________________________________________________________________\n",
    "The work of three regressor models was compared - the random forest model, LightGBM and CatBoostRegressor. According to the required parameters (prediction quality, training time, prediction time), the best model is CatBoostRegressor with RMSE = 1901."
   ]
  },
  {
   "cell_type": "markdown",
   "metadata": {},
   "source": [
    "## Проверка лучшей модели\n",
    "\n",
    "## Checking the best model"
   ]
  },
  {
   "cell_type": "code",
   "execution_count": null,
   "metadata": {},
   "outputs": [],
   "source": [
    "%%time\n",
    "\n",
    "cat_features_n=['VehicleType', 'Gearbox', 'Model', 'Kilometer', 'Brand', 'Repaired']\n",
    "\n",
    "cat_model = CatBoostRegressor(loss_function='RMSE', iterations=300, learning_rate=0.5, random_state=161222, cat_features=cat_features_n)\n",
    "\n",
    "cat_model.fit(features_test, target_train, cat_features=cat_features_n, verbose=10)"
   ]
  },
  {
   "cell_type": "code",
   "execution_count": null,
   "metadata": {},
   "outputs": [],
   "source": [
    "%%time\n",
    "\n",
    "pred_valid = cat_model.predict(features_test) "
   ]
  },
  {
   "cell_type": "markdown",
   "metadata": {},
   "source": [
    "## Итоги\n",
    "\n",
    "## Results"
   ]
  },
  {
   "cell_type": "markdown",
   "metadata": {},
   "source": [
    "В ходе работы было выполнено:\n",
    "\n",
    "1. Загружены данные и проведена их предобработка (удалены дупликаты, устранены аномалии, заполнены пропуски).\n",
    "2. Выполнено сравнение трех выбранных моделей.\n",
    "3. Выбрана лучшая модель по результатам метрики RMSE и времени обучения.\n",
    "\n",
    "Наилучшей моделью для решения данной задачи по итогам является CatBoostRegressor с показателем RMSE = 1901, временем обучения 25.8 s и временем предсказания 55.1 ms.\n",
    "________________________________________________________________________________________________________________________________\n",
    "In the course of the work, the following was done:\n",
    "\n",
    "1. Data loaded and pre-processed (duplicates removed, anomalies eliminated, gaps filled).\n",
    "2. Three selected models were compared.\n",
    "3. The best model was selected based on the results of the RMSE metric and training time.\n",
    "\n",
    "Based on the results, the best model for solving this problem is CatBoostRegressor with RMSE = 1901, training time 25.8 s and prediction time 55.1 ms."
   ]
  },
  {
   "cell_type": "code",
   "execution_count": null,
   "metadata": {},
   "outputs": [],
   "source": []
  }
 ],
 "metadata": {
  "ExecuteTimeLog": [
   {
    "duration": 1712,
    "start_time": "2022-12-07T09:57:15.551Z"
   },
   {
    "duration": 3039,
    "start_time": "2022-12-07T09:57:28.421Z"
   },
   {
    "duration": 99,
    "start_time": "2022-12-07T09:58:04.181Z"
   },
   {
    "duration": 3,
    "start_time": "2022-12-07T10:00:41.662Z"
   },
   {
    "duration": 311,
    "start_time": "2022-12-07T10:00:48.167Z"
   },
   {
    "duration": 105,
    "start_time": "2022-12-07T10:04:34.701Z"
   },
   {
    "duration": 101,
    "start_time": "2022-12-07T10:04:44.182Z"
   },
   {
    "duration": 12,
    "start_time": "2022-12-07T10:08:18.461Z"
   },
   {
    "duration": 333,
    "start_time": "2022-12-07T10:08:46.589Z"
   },
   {
    "duration": 72,
    "start_time": "2022-12-07T10:09:06.461Z"
   },
   {
    "duration": 15,
    "start_time": "2022-12-07T10:09:20.581Z"
   },
   {
    "duration": 14,
    "start_time": "2022-12-07T10:09:48.941Z"
   },
   {
    "duration": 83,
    "start_time": "2022-12-07T10:10:28.781Z"
   },
   {
    "duration": 320,
    "start_time": "2022-12-07T10:10:50.981Z"
   },
   {
    "duration": 68,
    "start_time": "2022-12-07T10:11:20.981Z"
   },
   {
    "duration": 295,
    "start_time": "2022-12-07T10:11:54.380Z"
   },
   {
    "duration": 250,
    "start_time": "2022-12-07T10:12:18.060Z"
   },
   {
    "duration": 79,
    "start_time": "2022-12-07T10:12:43.981Z"
   },
   {
    "duration": 29,
    "start_time": "2022-12-07T10:13:05.420Z"
   },
   {
    "duration": 106,
    "start_time": "2022-12-07T10:13:24.838Z"
   },
   {
    "duration": 33,
    "start_time": "2022-12-07T10:13:37.301Z"
   },
   {
    "duration": 56,
    "start_time": "2022-12-07T10:13:55.381Z"
   },
   {
    "duration": 3015,
    "start_time": "2022-12-07T10:14:02.669Z"
   },
   {
    "duration": 3331,
    "start_time": "2022-12-07T10:14:36.629Z"
   },
   {
    "duration": 60,
    "start_time": "2022-12-07T10:15:00.822Z"
   },
   {
    "duration": 277,
    "start_time": "2022-12-07T10:15:52.901Z"
   },
   {
    "duration": 303,
    "start_time": "2022-12-07T10:16:12.741Z"
   },
   {
    "duration": 300,
    "start_time": "2022-12-07T10:16:35.983Z"
   },
   {
    "duration": 439,
    "start_time": "2022-12-07T10:17:03.655Z"
   },
   {
    "duration": 48,
    "start_time": "2022-12-07T10:17:11.061Z"
   },
   {
    "duration": 78,
    "start_time": "2022-12-07T10:17:49.900Z"
   },
   {
    "duration": 38,
    "start_time": "2022-12-07T10:18:15.829Z"
   },
   {
    "duration": 42,
    "start_time": "2022-12-07T10:18:58.950Z"
   },
   {
    "duration": 22,
    "start_time": "2022-12-07T10:19:20.862Z"
   },
   {
    "duration": 96,
    "start_time": "2022-12-07T10:19:35.422Z"
   },
   {
    "duration": 1789,
    "start_time": "2022-12-07T11:48:11.463Z"
   },
   {
    "duration": 3693,
    "start_time": "2022-12-07T11:48:13.254Z"
   },
   {
    "duration": 108,
    "start_time": "2022-12-07T11:48:22.723Z"
   },
   {
    "duration": 14,
    "start_time": "2022-12-07T11:48:25.424Z"
   },
   {
    "duration": 399,
    "start_time": "2022-12-07T11:48:27.775Z"
   },
   {
    "duration": 18,
    "start_time": "2022-12-07T11:48:31.039Z"
   },
   {
    "duration": 113,
    "start_time": "2022-12-07T11:48:31.597Z"
   },
   {
    "duration": 518,
    "start_time": "2022-12-07T11:48:33.854Z"
   },
   {
    "duration": 66,
    "start_time": "2022-12-07T11:48:39.914Z"
   },
   {
    "duration": 348,
    "start_time": "2022-12-07T11:48:41.815Z"
   },
   {
    "duration": 282,
    "start_time": "2022-12-07T11:48:45.596Z"
   },
   {
    "duration": 102,
    "start_time": "2022-12-07T11:48:48.058Z"
   },
   {
    "duration": 56,
    "start_time": "2022-12-07T11:48:50.454Z"
   },
   {
    "duration": 154,
    "start_time": "2022-12-07T11:48:52.554Z"
   },
   {
    "duration": 43,
    "start_time": "2022-12-07T11:48:55.597Z"
   },
   {
    "duration": 3871,
    "start_time": "2022-12-07T11:48:59.256Z"
   },
   {
    "duration": 3778,
    "start_time": "2022-12-07T11:49:05.170Z"
   },
   {
    "duration": 83,
    "start_time": "2022-12-07T11:49:09.292Z"
   },
   {
    "duration": 423,
    "start_time": "2022-12-07T11:49:13.214Z"
   },
   {
    "duration": 495,
    "start_time": "2022-12-07T11:49:16.395Z"
   },
   {
    "duration": 478,
    "start_time": "2022-12-07T11:49:19.735Z"
   },
   {
    "duration": 585,
    "start_time": "2022-12-07T11:49:22.794Z"
   },
   {
    "duration": 56,
    "start_time": "2022-12-07T11:49:27.457Z"
   },
   {
    "duration": 57,
    "start_time": "2022-12-07T11:49:29.514Z"
   },
   {
    "duration": 110,
    "start_time": "2022-12-07T11:49:31.815Z"
   },
   {
    "duration": 7,
    "start_time": "2022-12-07T11:49:51.256Z"
   },
   {
    "duration": 803,
    "start_time": "2022-12-07T11:51:31.443Z"
   },
   {
    "duration": 404,
    "start_time": "2022-12-07T11:51:41.315Z"
   },
   {
    "duration": 105491,
    "start_time": "2022-12-07T11:52:03.154Z"
   },
   {
    "duration": 115415,
    "start_time": "2022-12-07T11:54:30.313Z"
   },
   {
    "duration": 434416,
    "start_time": "2022-12-07T11:56:42.456Z"
   },
   {
    "duration": 45617,
    "start_time": "2022-12-07T12:04:07.898Z"
   },
   {
    "duration": 334092,
    "start_time": "2022-12-07T12:05:32.095Z"
   },
   {
    "duration": 107331,
    "start_time": "2022-12-07T12:11:17.326Z"
   },
   {
    "duration": 706908,
    "start_time": "2022-12-07T12:19:56.683Z"
   },
   {
    "duration": 19100,
    "start_time": "2022-12-07T12:31:47.123Z"
   },
   {
    "duration": 4866,
    "start_time": "2022-12-07T12:33:16.059Z"
   },
   {
    "duration": 19,
    "start_time": "2022-12-07T12:33:31.018Z"
   },
   {
    "duration": 100,
    "start_time": "2022-12-07T12:33:40.233Z"
   },
   {
    "duration": 4,
    "start_time": "2022-12-07T12:33:41.715Z"
   },
   {
    "duration": 100,
    "start_time": "2022-12-07T12:33:44.063Z"
   },
   {
    "duration": 7,
    "start_time": "2022-12-07T12:33:44.933Z"
   },
   {
    "duration": 522,
    "start_time": "2022-12-07T12:33:46.154Z"
   },
   {
    "duration": 18,
    "start_time": "2022-12-07T12:33:48.612Z"
   },
   {
    "duration": 5,
    "start_time": "2022-12-07T12:33:49.221Z"
   },
   {
    "duration": 28887,
    "start_time": "2022-12-07T12:33:51.373Z"
   },
   {
    "duration": 74,
    "start_time": "2022-12-07T12:34:21.793Z"
   },
   {
    "duration": 4,
    "start_time": "2022-12-07T12:34:22.502Z"
   },
   {
    "duration": 32037,
    "start_time": "2022-12-07T12:34:23.334Z"
   },
   {
    "duration": 203,
    "start_time": "2022-12-07T12:35:07.154Z"
   },
   {
    "duration": 6,
    "start_time": "2022-12-07T12:35:07.894Z"
   },
   {
    "duration": 142167,
    "start_time": "2022-12-07T12:35:10.554Z"
   },
   {
    "duration": 98,
    "start_time": "2022-12-07T12:37:32.729Z"
   },
   {
    "duration": 261996,
    "start_time": "2022-12-07T12:37:40.213Z"
   },
   {
    "duration": 1844,
    "start_time": "2022-12-08T08:55:33.727Z"
   },
   {
    "duration": 1251,
    "start_time": "2022-12-08T08:55:35.573Z"
   },
   {
    "duration": 141,
    "start_time": "2022-12-08T08:55:36.826Z"
   },
   {
    "duration": 3,
    "start_time": "2022-12-08T08:55:36.969Z"
   },
   {
    "duration": 332,
    "start_time": "2022-12-08T08:55:36.975Z"
   },
   {
    "duration": 119,
    "start_time": "2022-12-08T08:55:37.309Z"
   },
   {
    "duration": 25,
    "start_time": "2022-12-08T08:55:37.430Z"
   },
   {
    "duration": 389,
    "start_time": "2022-12-08T08:55:37.456Z"
   },
   {
    "duration": 20,
    "start_time": "2022-12-08T08:55:37.847Z"
   },
   {
    "duration": 107,
    "start_time": "2022-12-08T08:55:37.868Z"
   },
   {
    "duration": 372,
    "start_time": "2022-12-08T08:55:37.977Z"
   },
   {
    "duration": 63,
    "start_time": "2022-12-08T08:55:38.354Z"
   },
   {
    "duration": 370,
    "start_time": "2022-12-08T08:55:38.419Z"
   },
   {
    "duration": 308,
    "start_time": "2022-12-08T08:55:38.793Z"
   },
   {
    "duration": 93,
    "start_time": "2022-12-08T08:55:39.103Z"
   },
   {
    "duration": 37,
    "start_time": "2022-12-08T08:55:39.198Z"
   },
   {
    "duration": 124,
    "start_time": "2022-12-08T08:55:39.237Z"
   },
   {
    "duration": 31,
    "start_time": "2022-12-08T08:55:39.363Z"
   },
   {
    "duration": 85,
    "start_time": "2022-12-08T08:55:39.395Z"
   },
   {
    "duration": 3094,
    "start_time": "2022-12-08T08:55:39.482Z"
   },
   {
    "duration": 3578,
    "start_time": "2022-12-08T08:55:42.577Z"
   },
   {
    "duration": 64,
    "start_time": "2022-12-08T08:55:46.157Z"
   },
   {
    "duration": 318,
    "start_time": "2022-12-08T08:55:46.222Z"
   },
   {
    "duration": 317,
    "start_time": "2022-12-08T08:55:46.542Z"
   },
   {
    "duration": 327,
    "start_time": "2022-12-08T08:55:46.861Z"
   },
   {
    "duration": 413,
    "start_time": "2022-12-08T08:55:47.189Z"
   },
   {
    "duration": 68,
    "start_time": "2022-12-08T08:55:47.603Z"
   },
   {
    "duration": 43,
    "start_time": "2022-12-08T08:55:47.672Z"
   },
   {
    "duration": 59,
    "start_time": "2022-12-08T08:55:47.717Z"
   },
   {
    "duration": 116,
    "start_time": "2022-12-08T08:55:47.778Z"
   },
   {
    "duration": 4,
    "start_time": "2022-12-08T08:55:47.896Z"
   },
   {
    "duration": 648,
    "start_time": "2022-12-08T08:55:47.902Z"
   },
   {
    "duration": 345,
    "start_time": "2022-12-08T08:55:48.552Z"
   },
   {
    "duration": 62093,
    "start_time": "2022-12-08T08:55:48.899Z"
   },
   {
    "duration": 68801,
    "start_time": "2022-12-08T08:56:51.056Z"
   },
   {
    "duration": 401339,
    "start_time": "2022-12-08T08:57:59.860Z"
   },
   {
    "duration": 44818,
    "start_time": "2022-12-08T09:04:41.202Z"
   },
   {
    "duration": 298584,
    "start_time": "2022-12-08T09:05:26.021Z"
   },
   {
    "duration": 97764,
    "start_time": "2022-12-08T09:10:24.607Z"
   },
   {
    "duration": 753791,
    "start_time": "2022-12-08T09:12:02.372Z"
   },
   {
    "duration": 15195,
    "start_time": "2022-12-08T09:24:36.167Z"
   },
   {
    "duration": 221,
    "start_time": "2022-12-08T09:24:51.363Z"
   },
   {
    "duration": 5,
    "start_time": "2022-12-08T09:24:51.656Z"
   },
   {
    "duration": 3837,
    "start_time": "2022-12-08T09:24:51.665Z"
   },
   {
    "duration": 86,
    "start_time": "2022-12-08T09:24:55.504Z"
   },
   {
    "duration": 3,
    "start_time": "2022-12-08T09:24:55.592Z"
   },
   {
    "duration": 360,
    "start_time": "2022-12-08T09:24:55.596Z"
   },
   {
    "duration": 13,
    "start_time": "2022-12-08T09:24:55.958Z"
   },
   {
    "duration": 3,
    "start_time": "2022-12-08T09:24:55.973Z"
   },
   {
    "duration": 22061,
    "start_time": "2022-12-08T09:24:55.978Z"
   },
   {
    "duration": 57,
    "start_time": "2022-12-08T09:25:18.041Z"
   },
   {
    "duration": 4,
    "start_time": "2022-12-08T09:25:18.100Z"
   },
   {
    "duration": 23844,
    "start_time": "2022-12-08T09:25:18.106Z"
   },
   {
    "duration": 134,
    "start_time": "2022-12-08T09:25:41.952Z"
   },
   {
    "duration": 4,
    "start_time": "2022-12-08T09:25:42.088Z"
   },
   {
    "duration": 14069,
    "start_time": "2022-12-08T09:25:42.094Z"
   },
   {
    "duration": 705,
    "start_time": "2022-12-08T09:25:56.167Z"
   },
   {
    "duration": 81,
    "start_time": "2022-12-08T09:25:56.874Z"
   },
   {
    "duration": 23,
    "start_time": "2022-12-08T09:25:56.957Z"
   },
   {
    "duration": 1518,
    "start_time": "2022-12-14T08:00:05.042Z"
   },
   {
    "duration": 3314,
    "start_time": "2022-12-14T08:00:07.876Z"
   },
   {
    "duration": 3,
    "start_time": "2022-12-14T08:00:17.100Z"
   },
   {
    "duration": 370,
    "start_time": "2022-12-14T08:00:20.826Z"
   },
   {
    "duration": 95,
    "start_time": "2022-12-14T08:00:25.517Z"
   },
   {
    "duration": 12,
    "start_time": "2022-12-14T08:00:30.427Z"
   },
   {
    "duration": 463,
    "start_time": "2022-12-14T08:00:32.622Z"
   },
   {
    "duration": 16,
    "start_time": "2022-12-14T08:00:36.299Z"
   },
   {
    "duration": 99,
    "start_time": "2022-12-14T08:00:38.315Z"
   },
   {
    "duration": 342,
    "start_time": "2022-12-14T08:00:41.303Z"
   },
   {
    "duration": 82,
    "start_time": "2022-12-14T08:00:44.056Z"
   },
   {
    "duration": 335,
    "start_time": "2022-12-14T08:00:46.208Z"
   },
   {
    "duration": 232,
    "start_time": "2022-12-14T08:00:49.446Z"
   },
   {
    "duration": 66,
    "start_time": "2022-12-14T08:00:53.003Z"
   },
   {
    "duration": 29,
    "start_time": "2022-12-14T08:00:57.716Z"
   },
   {
    "duration": 101,
    "start_time": "2022-12-14T08:00:59.858Z"
   },
   {
    "duration": 32,
    "start_time": "2022-12-14T08:01:02.786Z"
   },
   {
    "duration": 3040,
    "start_time": "2022-12-14T08:01:07.505Z"
   },
   {
    "duration": 3605,
    "start_time": "2022-12-14T08:01:12.614Z"
   },
   {
    "duration": 3676,
    "start_time": "2022-12-14T08:04:09.540Z"
   },
   {
    "duration": 333,
    "start_time": "2022-12-14T08:05:07.075Z"
   },
   {
    "duration": 247,
    "start_time": "2022-12-14T08:05:09.674Z"
   },
   {
    "duration": 40,
    "start_time": "2022-12-14T08:05:12.970Z"
   },
   {
    "duration": 80,
    "start_time": "2022-12-14T08:05:15.752Z"
   },
   {
    "duration": 119,
    "start_time": "2022-12-14T08:05:18.375Z"
   },
   {
    "duration": 32,
    "start_time": "2022-12-14T08:05:22.633Z"
   },
   {
    "duration": 2059,
    "start_time": "2022-12-14T08:05:26.297Z"
   },
   {
    "duration": 1232,
    "start_time": "2022-12-14T08:05:31.297Z"
   },
   {
    "duration": 2270,
    "start_time": "2022-12-14T08:05:42.789Z"
   },
   {
    "duration": 1190,
    "start_time": "2022-12-14T08:08:21.663Z"
   },
   {
    "duration": 1000,
    "start_time": "2022-12-14T08:08:52.210Z"
   },
   {
    "duration": 100,
    "start_time": "2022-12-14T08:08:58.553Z"
   },
   {
    "duration": 20,
    "start_time": "2022-12-14T08:09:02.573Z"
   },
   {
    "duration": 335,
    "start_time": "2022-12-14T08:09:04.547Z"
   },
   {
    "duration": 14,
    "start_time": "2022-12-14T08:09:08.496Z"
   },
   {
    "duration": 81,
    "start_time": "2022-12-14T08:09:10.043Z"
   },
   {
    "duration": 296,
    "start_time": "2022-12-14T08:09:12.408Z"
   },
   {
    "duration": 103,
    "start_time": "2022-12-14T08:09:16.297Z"
   },
   {
    "duration": 415,
    "start_time": "2022-12-14T08:09:18.015Z"
   },
   {
    "duration": 226,
    "start_time": "2022-12-14T08:09:21.592Z"
   },
   {
    "duration": 74,
    "start_time": "2022-12-14T08:09:24.625Z"
   },
   {
    "duration": 32,
    "start_time": "2022-12-14T08:09:29.196Z"
   },
   {
    "duration": 112,
    "start_time": "2022-12-14T08:09:31.308Z"
   },
   {
    "duration": 43,
    "start_time": "2022-12-14T08:09:35.634Z"
   },
   {
    "duration": 3136,
    "start_time": "2022-12-14T08:09:39.106Z"
   },
   {
    "duration": 3369,
    "start_time": "2022-12-14T08:09:44.245Z"
   },
   {
    "duration": 301,
    "start_time": "2022-12-14T08:09:55.923Z"
   },
   {
    "duration": 312,
    "start_time": "2022-12-14T08:10:04.947Z"
   },
   {
    "duration": 312,
    "start_time": "2022-12-14T08:10:28.204Z"
   },
   {
    "duration": 309,
    "start_time": "2022-12-14T08:10:37.120Z"
   },
   {
    "duration": 38,
    "start_time": "2022-12-14T08:10:41.117Z"
   },
   {
    "duration": 38,
    "start_time": "2022-12-14T08:10:43.183Z"
   },
   {
    "duration": 192,
    "start_time": "2022-12-14T08:10:45.205Z"
   },
   {
    "duration": 3,
    "start_time": "2022-12-14T08:10:48.816Z"
   },
   {
    "duration": 10,
    "start_time": "2022-12-14T08:16:36.196Z"
   },
   {
    "duration": 18,
    "start_time": "2022-12-14T08:17:12.257Z"
   },
   {
    "duration": 46,
    "start_time": "2022-12-14T08:17:25.473Z"
   },
   {
    "duration": 677,
    "start_time": "2022-12-14T08:18:39.521Z"
   },
   {
    "duration": 293,
    "start_time": "2022-12-14T08:18:47.961Z"
   },
   {
    "duration": 51,
    "start_time": "2022-12-14T08:24:52.637Z"
   },
   {
    "duration": 637,
    "start_time": "2022-12-14T08:24:54.652Z"
   },
   {
    "duration": 32,
    "start_time": "2022-12-14T08:24:58.598Z"
   },
   {
    "duration": 623,
    "start_time": "2022-12-14T08:25:41.000Z"
   },
   {
    "duration": 130928,
    "start_time": "2022-12-14T08:26:10.574Z"
   },
   {
    "duration": 424270,
    "start_time": "2022-12-14T08:29:44.266Z"
   },
   {
    "duration": 133086,
    "start_time": "2022-12-14T08:40:27.993Z"
   },
   {
    "duration": 101,
    "start_time": "2022-12-14T08:42:41.085Z"
   },
   {
    "duration": 34878,
    "start_time": "2022-12-14T08:43:38.905Z"
   },
   {
    "duration": 488,
    "start_time": "2022-12-14T08:44:16.906Z"
   },
   {
    "duration": 4,
    "start_time": "2022-12-14T08:44:22.304Z"
   },
   {
    "duration": 3979,
    "start_time": "2022-12-14T08:44:40.435Z"
   },
   {
    "duration": 224,
    "start_time": "2022-12-14T08:44:47.904Z"
   },
   {
    "duration": 18,
    "start_time": "2022-12-14T08:44:56.173Z"
   },
   {
    "duration": 4,
    "start_time": "2022-12-14T08:45:03.011Z"
   },
   {
    "duration": 360,
    "start_time": "2022-12-14T08:45:06.672Z"
   },
   {
    "duration": 29,
    "start_time": "2022-12-14T08:45:13.339Z"
   },
   {
    "duration": 5,
    "start_time": "2022-12-14T08:45:18.715Z"
   },
   {
    "duration": 24440,
    "start_time": "2022-12-14T08:45:27.860Z"
   },
   {
    "duration": 186,
    "start_time": "2022-12-14T08:45:55.567Z"
   },
   {
    "duration": 4,
    "start_time": "2022-12-14T08:45:57.718Z"
   },
   {
    "duration": 24536,
    "start_time": "2022-12-14T08:46:00.224Z"
   },
   {
    "duration": 397,
    "start_time": "2022-12-14T08:46:28.327Z"
   },
   {
    "duration": 3,
    "start_time": "2022-12-14T08:46:30.909Z"
   },
   {
    "duration": 255047,
    "start_time": "2022-12-14T08:47:06.419Z"
   },
   {
    "duration": 96,
    "start_time": "2022-12-14T08:51:21.468Z"
   },
   {
    "duration": 4,
    "start_time": "2022-12-14T08:51:21.566Z"
   },
   {
    "duration": 472683,
    "start_time": "2022-12-14T08:51:24.937Z"
   },
   {
    "duration": 336,
    "start_time": "2022-12-14T09:05:40.176Z"
   },
   {
    "duration": 14,
    "start_time": "2022-12-14T09:05:43.237Z"
   },
   {
    "duration": 4,
    "start_time": "2022-12-14T09:05:57.043Z"
   },
   {
    "duration": 1566,
    "start_time": "2022-12-14T23:51:27.256Z"
   },
   {
    "duration": 1202,
    "start_time": "2022-12-14T23:51:28.824Z"
   },
   {
    "duration": 130,
    "start_time": "2022-12-14T23:51:30.028Z"
   },
   {
    "duration": 3,
    "start_time": "2022-12-14T23:51:30.161Z"
   },
   {
    "duration": 357,
    "start_time": "2022-12-14T23:51:30.166Z"
   },
   {
    "duration": 116,
    "start_time": "2022-12-14T23:51:30.525Z"
   },
   {
    "duration": 11,
    "start_time": "2022-12-14T23:51:30.642Z"
   },
   {
    "duration": 353,
    "start_time": "2022-12-14T23:51:30.654Z"
   },
   {
    "duration": 14,
    "start_time": "2022-12-14T23:51:31.009Z"
   },
   {
    "duration": 102,
    "start_time": "2022-12-14T23:51:31.025Z"
   },
   {
    "duration": 350,
    "start_time": "2022-12-14T23:51:31.129Z"
   },
   {
    "duration": 65,
    "start_time": "2022-12-14T23:51:31.480Z"
   },
   {
    "duration": 297,
    "start_time": "2022-12-14T23:51:31.547Z"
   },
   {
    "duration": 234,
    "start_time": "2022-12-14T23:51:31.845Z"
   },
   {
    "duration": 88,
    "start_time": "2022-12-14T23:51:32.081Z"
   },
   {
    "duration": 45,
    "start_time": "2022-12-14T23:51:32.171Z"
   },
   {
    "duration": 88,
    "start_time": "2022-12-14T23:51:32.217Z"
   },
   {
    "duration": 26,
    "start_time": "2022-12-14T23:51:32.316Z"
   },
   {
    "duration": 75,
    "start_time": "2022-12-14T23:51:32.344Z"
   },
   {
    "duration": 2824,
    "start_time": "2022-12-14T23:51:32.421Z"
   },
   {
    "duration": 3186,
    "start_time": "2022-12-14T23:51:35.247Z"
   },
   {
    "duration": 60,
    "start_time": "2022-12-14T23:51:38.435Z"
   },
   {
    "duration": 283,
    "start_time": "2022-12-14T23:51:38.497Z"
   },
   {
    "duration": 293,
    "start_time": "2022-12-14T23:51:38.782Z"
   },
   {
    "duration": 259,
    "start_time": "2022-12-14T23:51:39.076Z"
   },
   {
    "duration": 398,
    "start_time": "2022-12-14T23:51:39.337Z"
   },
   {
    "duration": 57,
    "start_time": "2022-12-14T23:51:39.737Z"
   },
   {
    "duration": 57,
    "start_time": "2022-12-14T23:51:39.798Z"
   },
   {
    "duration": 61,
    "start_time": "2022-12-14T23:51:39.856Z"
   },
   {
    "duration": 103,
    "start_time": "2022-12-14T23:51:39.918Z"
   },
   {
    "duration": 3,
    "start_time": "2022-12-14T23:51:40.024Z"
   },
   {
    "duration": 58,
    "start_time": "2022-12-14T23:51:40.029Z"
   },
   {
    "duration": 569,
    "start_time": "2022-12-14T23:51:40.089Z"
   },
   {
    "duration": 55860,
    "start_time": "2022-12-14T23:51:40.660Z"
   },
   {
    "duration": 1539,
    "start_time": "2022-12-15T17:44:49.713Z"
   },
   {
    "duration": 1226,
    "start_time": "2022-12-15T17:45:11.307Z"
   },
   {
    "duration": 17,
    "start_time": "2022-12-15T17:45:16.051Z"
   },
   {
    "duration": 134,
    "start_time": "2022-12-15T17:45:53.919Z"
   },
   {
    "duration": 109,
    "start_time": "2022-12-15T17:46:18.487Z"
   },
   {
    "duration": 1531,
    "start_time": "2022-12-15T17:46:40.787Z"
   },
   {
    "duration": 130,
    "start_time": "2022-12-15T18:02:56.426Z"
   },
   {
    "duration": 10,
    "start_time": "2022-12-15T18:17:04.271Z"
   },
   {
    "duration": 16,
    "start_time": "2022-12-15T18:17:10.850Z"
   },
   {
    "duration": 67,
    "start_time": "2022-12-15T18:17:12.623Z"
   },
   {
    "duration": 70,
    "start_time": "2022-12-15T18:17:53.072Z"
   },
   {
    "duration": 84,
    "start_time": "2022-12-15T18:18:03.674Z"
   },
   {
    "duration": 5,
    "start_time": "2022-12-15T18:24:57.340Z"
   },
   {
    "duration": 14,
    "start_time": "2022-12-15T18:25:07.815Z"
   },
   {
    "duration": 390,
    "start_time": "2022-12-15T18:25:17.552Z"
   },
   {
    "duration": 11,
    "start_time": "2022-12-15T18:41:59.845Z"
   },
   {
    "duration": 14,
    "start_time": "2022-12-15T18:42:08.696Z"
   },
   {
    "duration": 10,
    "start_time": "2022-12-15T18:43:50.888Z"
   },
   {
    "duration": 9,
    "start_time": "2022-12-15T18:43:56.325Z"
   },
   {
    "duration": 30,
    "start_time": "2022-12-15T18:44:00.922Z"
   },
   {
    "duration": 8,
    "start_time": "2022-12-15T18:45:26.743Z"
   },
   {
    "duration": 12,
    "start_time": "2022-12-15T18:46:49.845Z"
   },
   {
    "duration": 26,
    "start_time": "2022-12-15T18:46:56.569Z"
   },
   {
    "duration": 49,
    "start_time": "2022-12-15T18:51:33.795Z"
   },
   {
    "duration": 25,
    "start_time": "2022-12-15T18:51:40.925Z"
   },
   {
    "duration": 10,
    "start_time": "2022-12-15T19:35:47.514Z"
   },
   {
    "duration": 31,
    "start_time": "2022-12-15T19:35:52.834Z"
   },
   {
    "duration": 8,
    "start_time": "2022-12-15T19:40:12.801Z"
   },
   {
    "duration": 21,
    "start_time": "2022-12-15T19:41:08.543Z"
   },
   {
    "duration": 45,
    "start_time": "2022-12-15T19:52:49.357Z"
   },
   {
    "duration": 9,
    "start_time": "2022-12-15T19:53:22.718Z"
   },
   {
    "duration": 14,
    "start_time": "2022-12-15T19:53:47.416Z"
   },
   {
    "duration": 3,
    "start_time": "2022-12-15T19:53:48.267Z"
   },
   {
    "duration": 15,
    "start_time": "2022-12-15T19:53:48.999Z"
   },
   {
    "duration": 14,
    "start_time": "2022-12-15T19:56:42.425Z"
   },
   {
    "duration": 3,
    "start_time": "2022-12-15T19:56:42.768Z"
   },
   {
    "duration": 14,
    "start_time": "2022-12-15T19:56:43.130Z"
   },
   {
    "duration": 31,
    "start_time": "2022-12-15T20:01:16.051Z"
   },
   {
    "duration": 17,
    "start_time": "2022-12-15T20:02:22.311Z"
   },
   {
    "duration": 30,
    "start_time": "2022-12-15T20:02:27.206Z"
   },
   {
    "duration": 22,
    "start_time": "2022-12-15T20:03:10.578Z"
   },
   {
    "duration": 23,
    "start_time": "2022-12-15T20:03:17.327Z"
   },
   {
    "duration": 7,
    "start_time": "2022-12-15T20:03:18.757Z"
   },
   {
    "duration": 55,
    "start_time": "2022-12-15T20:03:21.156Z"
   },
   {
    "duration": 28,
    "start_time": "2022-12-15T20:03:23.484Z"
   },
   {
    "duration": 23,
    "start_time": "2022-12-15T20:03:26.560Z"
   },
   {
    "duration": 16,
    "start_time": "2022-12-15T20:03:29.230Z"
   },
   {
    "duration": 3,
    "start_time": "2022-12-15T20:03:30.365Z"
   },
   {
    "duration": 19,
    "start_time": "2022-12-15T20:03:33.891Z"
   },
   {
    "duration": 29,
    "start_time": "2022-12-15T20:03:36.651Z"
   },
   {
    "duration": 17,
    "start_time": "2022-12-15T20:04:16.577Z"
   },
   {
    "duration": 28,
    "start_time": "2022-12-15T20:04:17.598Z"
   },
   {
    "duration": 10,
    "start_time": "2022-12-15T20:07:59.603Z"
   },
   {
    "duration": 14,
    "start_time": "2022-12-15T20:08:03.792Z"
   },
   {
    "duration": 18,
    "start_time": "2022-12-15T20:09:37.601Z"
   },
   {
    "duration": 27,
    "start_time": "2022-12-15T20:09:38.805Z"
   },
   {
    "duration": 54,
    "start_time": "2022-12-15T20:32:14.572Z"
   },
   {
    "duration": 1442,
    "start_time": "2022-12-18T18:19:08.506Z"
   },
   {
    "duration": 3091,
    "start_time": "2022-12-18T18:20:10.342Z"
   },
   {
    "duration": 343,
    "start_time": "2022-12-18T18:21:30.458Z"
   },
   {
    "duration": 5,
    "start_time": "2022-12-18T18:27:30.246Z"
   },
   {
    "duration": 70,
    "start_time": "2022-12-18T18:32:17.135Z"
   },
   {
    "duration": 102,
    "start_time": "2022-12-18T18:32:28.035Z"
   },
   {
    "duration": 10,
    "start_time": "2022-12-18T18:33:41.025Z"
   },
   {
    "duration": 10,
    "start_time": "2022-12-18T18:33:52.104Z"
   },
   {
    "duration": 39,
    "start_time": "2022-12-18T18:34:12.523Z"
   },
   {
    "duration": 68,
    "start_time": "2022-12-18T18:34:25.550Z"
   },
   {
    "duration": 30,
    "start_time": "2022-12-18T18:34:32.820Z"
   },
   {
    "duration": 70,
    "start_time": "2022-12-18T18:34:51.858Z"
   },
   {
    "duration": 97,
    "start_time": "2022-12-18T18:35:55.375Z"
   },
   {
    "duration": 4,
    "start_time": "2022-12-18T19:19:18.786Z"
   },
   {
    "duration": 856,
    "start_time": "2022-12-18T19:19:21.023Z"
   },
   {
    "duration": 16,
    "start_time": "2022-12-18T19:19:25.402Z"
   },
   {
    "duration": 68,
    "start_time": "2022-12-18T19:19:26.900Z"
   },
   {
    "duration": 94,
    "start_time": "2022-12-18T19:20:58.809Z"
   },
   {
    "duration": 98,
    "start_time": "2022-12-18T19:24:33.304Z"
   },
   {
    "duration": 23,
    "start_time": "2022-12-18T19:25:26.915Z"
   },
   {
    "duration": 171,
    "start_time": "2022-12-18T19:33:22.501Z"
   },
   {
    "duration": 10420,
    "start_time": "2022-12-18T19:33:58.761Z"
   },
   {
    "duration": 71,
    "start_time": "2022-12-18T19:35:40.821Z"
   },
   {
    "duration": 43234,
    "start_time": "2022-12-18T19:36:33.429Z"
   },
   {
    "duration": 11405,
    "start_time": "2022-12-18T19:37:27.298Z"
   },
   {
    "duration": 11528,
    "start_time": "2022-12-18T19:37:53.998Z"
   },
   {
    "duration": 1338,
    "start_time": "2022-12-18T19:40:01.740Z"
   },
   {
    "duration": 338,
    "start_time": "2022-12-18T19:40:35.102Z"
   },
   {
    "duration": 323,
    "start_time": "2022-12-18T19:40:55.582Z"
   },
   {
    "duration": 15,
    "start_time": "2022-12-18T19:41:53.098Z"
   },
   {
    "duration": 528,
    "start_time": "2022-12-18T19:42:13.307Z"
   },
   {
    "duration": 133,
    "start_time": "2022-12-18T19:42:23.049Z"
   },
   {
    "duration": 129,
    "start_time": "2022-12-18T19:42:30.120Z"
   },
   {
    "duration": 126,
    "start_time": "2022-12-18T19:42:42.845Z"
   },
   {
    "duration": 136,
    "start_time": "2022-12-18T19:42:47.744Z"
   },
   {
    "duration": 133,
    "start_time": "2022-12-18T19:44:44.649Z"
   },
   {
    "duration": 155,
    "start_time": "2022-12-18T19:44:49.051Z"
   },
   {
    "duration": 144,
    "start_time": "2022-12-18T19:44:53.744Z"
   },
   {
    "duration": 142,
    "start_time": "2022-12-18T19:45:00.144Z"
   },
   {
    "duration": 69,
    "start_time": "2022-12-18T19:46:38.903Z"
   },
   {
    "duration": 11015,
    "start_time": "2022-12-18T19:48:09.690Z"
   },
   {
    "duration": 236,
    "start_time": "2022-12-18T19:50:25.889Z"
   },
   {
    "duration": 10838,
    "start_time": "2022-12-18T19:50:35.244Z"
   },
   {
    "duration": 70,
    "start_time": "2022-12-18T19:53:03.092Z"
   },
   {
    "duration": 0,
    "start_time": "2022-12-18T19:54:35.860Z"
   },
   {
    "duration": 26,
    "start_time": "2022-12-18T19:55:13.241Z"
   },
   {
    "duration": 0,
    "start_time": "2022-12-18T19:57:35.629Z"
   },
   {
    "duration": 71,
    "start_time": "2022-12-18T20:02:19.994Z"
   },
   {
    "duration": 81,
    "start_time": "2022-12-18T20:02:24.335Z"
   },
   {
    "duration": 11,
    "start_time": "2022-12-18T20:03:39.787Z"
   },
   {
    "duration": 180,
    "start_time": "2022-12-18T20:04:30.956Z"
   },
   {
    "duration": 151,
    "start_time": "2022-12-18T20:05:34.286Z"
   },
   {
    "duration": 9147,
    "start_time": "2022-12-18T20:05:46.450Z"
   },
   {
    "duration": 307,
    "start_time": "2022-12-18T20:06:45.297Z"
   },
   {
    "duration": 1295,
    "start_time": "2022-12-18T20:08:36.990Z"
   },
   {
    "duration": 3067,
    "start_time": "2022-12-18T20:08:40.303Z"
   },
   {
    "duration": 19,
    "start_time": "2022-12-18T20:08:46.834Z"
   },
   {
    "duration": 9432,
    "start_time": "2022-12-18T20:08:55.083Z"
   },
   {
    "duration": 10424,
    "start_time": "2022-12-18T20:09:33.396Z"
   },
   {
    "duration": 314,
    "start_time": "2022-12-18T20:09:43.822Z"
   },
   {
    "duration": 627,
    "start_time": "2022-12-18T20:09:53.844Z"
   },
   {
    "duration": 4,
    "start_time": "2022-12-18T20:11:15.200Z"
   },
   {
    "duration": 490,
    "start_time": "2022-12-18T20:11:46.793Z"
   },
   {
    "duration": 349,
    "start_time": "2022-12-18T20:11:58.709Z"
   },
   {
    "duration": 28,
    "start_time": "2022-12-18T20:12:54.975Z"
   },
   {
    "duration": 11,
    "start_time": "2022-12-18T20:13:22.434Z"
   },
   {
    "duration": 134,
    "start_time": "2022-12-18T20:16:39.323Z"
   },
   {
    "duration": 237,
    "start_time": "2022-12-18T20:17:54.205Z"
   },
   {
    "duration": 130,
    "start_time": "2022-12-18T20:18:16.088Z"
   },
   {
    "duration": 219,
    "start_time": "2022-12-18T20:18:35.248Z"
   },
   {
    "duration": 142,
    "start_time": "2022-12-18T20:18:39.526Z"
   },
   {
    "duration": 218,
    "start_time": "2022-12-18T20:18:43.702Z"
   },
   {
    "duration": 169,
    "start_time": "2022-12-18T20:18:47.882Z"
   },
   {
    "duration": 146,
    "start_time": "2022-12-18T20:19:01.318Z"
   },
   {
    "duration": 157,
    "start_time": "2022-12-18T20:19:19.919Z"
   },
   {
    "duration": 140,
    "start_time": "2022-12-18T20:19:40.105Z"
   },
   {
    "duration": 439,
    "start_time": "2022-12-18T20:19:56.406Z"
   },
   {
    "duration": 259,
    "start_time": "2022-12-18T20:20:10.505Z"
   },
   {
    "duration": 290,
    "start_time": "2022-12-18T20:20:27.149Z"
   },
   {
    "duration": 196,
    "start_time": "2022-12-18T20:20:38.551Z"
   },
   {
    "duration": 183,
    "start_time": "2022-12-18T20:20:41.636Z"
   },
   {
    "duration": 381,
    "start_time": "2022-12-18T20:20:53.834Z"
   },
   {
    "duration": 401,
    "start_time": "2022-12-18T20:21:00.146Z"
   },
   {
    "duration": 4,
    "start_time": "2022-12-18T20:21:26.562Z"
   },
   {
    "duration": 70,
    "start_time": "2022-12-18T20:22:30.817Z"
   },
   {
    "duration": 69,
    "start_time": "2022-12-18T20:22:36.569Z"
   },
   {
    "duration": 68,
    "start_time": "2022-12-18T20:22:44.434Z"
   },
   {
    "duration": 65,
    "start_time": "2022-12-18T20:22:50.760Z"
   },
   {
    "duration": 74,
    "start_time": "2022-12-18T20:23:02.801Z"
   },
   {
    "duration": 71,
    "start_time": "2022-12-18T20:23:07.115Z"
   },
   {
    "duration": 15,
    "start_time": "2022-12-18T20:23:38.320Z"
   },
   {
    "duration": 4,
    "start_time": "2022-12-18T20:25:07.240Z"
   },
   {
    "duration": 49,
    "start_time": "2022-12-18T20:26:15.339Z"
   },
   {
    "duration": 52,
    "start_time": "2022-12-18T20:26:56.212Z"
   },
   {
    "duration": 64,
    "start_time": "2022-12-18T20:34:33.369Z"
   },
   {
    "duration": 100,
    "start_time": "2022-12-18T20:34:43.412Z"
   },
   {
    "duration": 4,
    "start_time": "2022-12-18T20:34:50.523Z"
   },
   {
    "duration": 24,
    "start_time": "2022-12-18T20:35:28.424Z"
   },
   {
    "duration": 46,
    "start_time": "2022-12-18T20:35:32.639Z"
   },
   {
    "duration": 102,
    "start_time": "2022-12-18T20:35:36.804Z"
   },
   {
    "duration": 23,
    "start_time": "2022-12-18T20:36:33.824Z"
   },
   {
    "duration": 93,
    "start_time": "2022-12-18T20:36:37.942Z"
   },
   {
    "duration": 17,
    "start_time": "2022-12-18T20:37:50.753Z"
   },
   {
    "duration": 11,
    "start_time": "2022-12-18T20:41:31.318Z"
   },
   {
    "duration": 33,
    "start_time": "2022-12-18T20:41:37.748Z"
   },
   {
    "duration": 18,
    "start_time": "2022-12-18T20:42:00.718Z"
   },
   {
    "duration": 16,
    "start_time": "2022-12-18T20:42:08.516Z"
   },
   {
    "duration": 29,
    "start_time": "2022-12-18T20:42:16.218Z"
   },
   {
    "duration": 43,
    "start_time": "2022-12-18T20:42:46.800Z"
   },
   {
    "duration": 17,
    "start_time": "2022-12-18T20:47:09.409Z"
   },
   {
    "duration": 22,
    "start_time": "2022-12-18T20:47:11.624Z"
   },
   {
    "duration": 100,
    "start_time": "2022-12-18T20:47:32.870Z"
   },
   {
    "duration": 20,
    "start_time": "2022-12-18T21:02:04.697Z"
   },
   {
    "duration": 14,
    "start_time": "2022-12-18T21:04:39.202Z"
   },
   {
    "duration": 54,
    "start_time": "2022-12-18T21:04:47.288Z"
   },
   {
    "duration": 1628,
    "start_time": "2022-12-19T08:45:28.596Z"
   },
   {
    "duration": 1273,
    "start_time": "2022-12-19T08:45:30.226Z"
   },
   {
    "duration": 20,
    "start_time": "2022-12-19T08:45:34.839Z"
   },
   {
    "duration": 105,
    "start_time": "2022-12-19T08:45:38.491Z"
   },
   {
    "duration": 24,
    "start_time": "2022-12-19T08:45:42.735Z"
   },
   {
    "duration": 18,
    "start_time": "2022-12-19T08:45:45.178Z"
   },
   {
    "duration": 17,
    "start_time": "2022-12-19T08:45:48.540Z"
   },
   {
    "duration": 17,
    "start_time": "2022-12-19T08:45:58.122Z"
   },
   {
    "duration": 15,
    "start_time": "2022-12-19T08:46:01.343Z"
   },
   {
    "duration": 50,
    "start_time": "2022-12-19T08:46:12.423Z"
   },
   {
    "duration": 27,
    "start_time": "2022-12-19T08:46:17.831Z"
   },
   {
    "duration": 14,
    "start_time": "2022-12-19T08:46:45.730Z"
   },
   {
    "duration": 11,
    "start_time": "2022-12-19T08:48:42.127Z"
   },
   {
    "duration": 21,
    "start_time": "2022-12-19T08:50:08.178Z"
   },
   {
    "duration": 114,
    "start_time": "2022-12-19T08:50:15.044Z"
   },
   {
    "duration": 45,
    "start_time": "2022-12-19T08:50:19.310Z"
   },
   {
    "duration": 198,
    "start_time": "2022-12-19T08:50:37.580Z"
   },
   {
    "duration": 13,
    "start_time": "2022-12-19T08:50:51.077Z"
   },
   {
    "duration": 25,
    "start_time": "2022-12-19T08:51:07.697Z"
   },
   {
    "duration": 18,
    "start_time": "2022-12-19T08:51:10.071Z"
   },
   {
    "duration": 26,
    "start_time": "2022-12-19T08:51:37.649Z"
   },
   {
    "duration": 38,
    "start_time": "2022-12-19T08:51:42.861Z"
   },
   {
    "duration": 16,
    "start_time": "2022-12-19T08:51:53.773Z"
   },
   {
    "duration": 43,
    "start_time": "2022-12-19T08:51:57.799Z"
   },
   {
    "duration": 16,
    "start_time": "2022-12-19T08:52:05.756Z"
   },
   {
    "duration": 36,
    "start_time": "2022-12-19T08:52:08.675Z"
   },
   {
    "duration": 16,
    "start_time": "2022-12-19T08:52:24.234Z"
   },
   {
    "duration": 17,
    "start_time": "2022-12-19T08:52:25.097Z"
   },
   {
    "duration": 34,
    "start_time": "2022-12-19T08:52:27.840Z"
   },
   {
    "duration": 16,
    "start_time": "2022-12-19T08:52:50.574Z"
   },
   {
    "duration": 16,
    "start_time": "2022-12-19T08:54:24.477Z"
   },
   {
    "duration": 1243,
    "start_time": "2022-12-19T09:11:39.294Z"
   },
   {
    "duration": 58,
    "start_time": "2022-12-19T09:11:57.334Z"
   },
   {
    "duration": 73,
    "start_time": "2022-12-19T09:19:17.795Z"
   },
   {
    "duration": 3,
    "start_time": "2022-12-19T09:19:20.250Z"
   },
   {
    "duration": 4,
    "start_time": "2022-12-19T09:19:20.919Z"
   },
   {
    "duration": 106,
    "start_time": "2022-12-19T09:25:14.614Z"
   },
   {
    "duration": 18,
    "start_time": "2022-12-19T09:32:25.558Z"
   },
   {
    "duration": 23,
    "start_time": "2022-12-19T09:32:52.833Z"
   },
   {
    "duration": 18,
    "start_time": "2022-12-19T09:37:02.325Z"
   },
   {
    "duration": 12,
    "start_time": "2022-12-19T09:37:05.329Z"
   },
   {
    "duration": 17,
    "start_time": "2022-12-19T09:37:35.702Z"
   },
   {
    "duration": 10,
    "start_time": "2022-12-19T09:37:39.600Z"
   },
   {
    "duration": 16,
    "start_time": "2022-12-19T09:37:58.735Z"
   },
   {
    "duration": 11,
    "start_time": "2022-12-19T09:38:01.676Z"
   },
   {
    "duration": 4,
    "start_time": "2022-12-19T09:38:38.730Z"
   },
   {
    "duration": 10,
    "start_time": "2022-12-19T09:40:29.352Z"
   },
   {
    "duration": 11,
    "start_time": "2022-12-19T09:40:42.880Z"
   },
   {
    "duration": 23,
    "start_time": "2022-12-19T09:40:55.015Z"
   },
   {
    "duration": 29,
    "start_time": "2022-12-19T09:41:21.668Z"
   },
   {
    "duration": 60,
    "start_time": "2022-12-19T09:41:34.526Z"
   },
   {
    "duration": 20,
    "start_time": "2022-12-19T09:45:51.509Z"
   },
   {
    "duration": 74,
    "start_time": "2022-12-19T09:46:02.986Z"
   },
   {
    "duration": 28,
    "start_time": "2022-12-19T09:46:09.089Z"
   },
   {
    "duration": 27,
    "start_time": "2022-12-19T09:47:26.202Z"
   },
   {
    "duration": 66,
    "start_time": "2022-12-19T09:47:35.928Z"
   },
   {
    "duration": 16,
    "start_time": "2022-12-19T09:48:54.028Z"
   },
   {
    "duration": 53,
    "start_time": "2022-12-19T09:49:04.738Z"
   },
   {
    "duration": 309,
    "start_time": "2022-12-19T09:49:12.881Z"
   },
   {
    "duration": 15,
    "start_time": "2022-12-19T09:50:28.109Z"
   },
   {
    "duration": 28,
    "start_time": "2022-12-19T09:50:34.908Z"
   },
   {
    "duration": 36,
    "start_time": "2022-12-19T09:51:17.847Z"
   },
   {
    "duration": 28,
    "start_time": "2022-12-19T09:51:22.902Z"
   },
   {
    "duration": 17,
    "start_time": "2022-12-19T09:51:24.749Z"
   },
   {
    "duration": 30,
    "start_time": "2022-12-19T09:51:26.557Z"
   },
   {
    "duration": 25,
    "start_time": "2022-12-19T09:51:31.804Z"
   },
   {
    "duration": 21,
    "start_time": "2022-12-19T09:51:50.567Z"
   },
   {
    "duration": 32,
    "start_time": "2022-12-19T09:51:53.769Z"
   },
   {
    "duration": 28,
    "start_time": "2022-12-19T09:51:56.546Z"
   },
   {
    "duration": 19,
    "start_time": "2022-12-19T09:51:57.357Z"
   },
   {
    "duration": 28,
    "start_time": "2022-12-19T09:52:00.327Z"
   },
   {
    "duration": 30,
    "start_time": "2022-12-19T09:52:07.311Z"
   },
   {
    "duration": 31,
    "start_time": "2022-12-19T09:52:07.752Z"
   },
   {
    "duration": 35,
    "start_time": "2022-12-19T09:52:20.075Z"
   },
   {
    "duration": 27,
    "start_time": "2022-12-19T09:52:22.242Z"
   },
   {
    "duration": 10,
    "start_time": "2022-12-19T09:52:26.541Z"
   },
   {
    "duration": 852,
    "start_time": "2022-12-19T09:53:34.802Z"
   },
   {
    "duration": 637,
    "start_time": "2022-12-19T09:53:46.837Z"
   },
   {
    "duration": 284,
    "start_time": "2022-12-19T09:56:29.747Z"
   },
   {
    "duration": 562,
    "start_time": "2022-12-19T09:56:48.613Z"
   },
   {
    "duration": 13,
    "start_time": "2022-12-19T10:12:56.135Z"
   },
   {
    "duration": 106,
    "start_time": "2022-12-19T10:13:21.809Z"
   },
   {
    "duration": 457,
    "start_time": "2022-12-19T10:13:28.100Z"
   },
   {
    "duration": 49,
    "start_time": "2022-12-19T10:16:25.755Z"
   },
   {
    "duration": 58,
    "start_time": "2022-12-19T10:18:35.759Z"
   },
   {
    "duration": 162,
    "start_time": "2022-12-19T10:20:35.127Z"
   },
   {
    "duration": 9,
    "start_time": "2022-12-19T10:23:52.141Z"
   },
   {
    "duration": 136,
    "start_time": "2022-12-19T10:25:08.269Z"
   },
   {
    "duration": 13,
    "start_time": "2022-12-19T10:25:13.363Z"
   },
   {
    "duration": 8,
    "start_time": "2022-12-19T10:28:43.901Z"
   },
   {
    "duration": 9,
    "start_time": "2022-12-19T10:28:47.812Z"
   },
   {
    "duration": 7,
    "start_time": "2022-12-19T10:28:55.853Z"
   },
   {
    "duration": 18,
    "start_time": "2022-12-19T10:29:01.948Z"
   },
   {
    "duration": 4,
    "start_time": "2022-12-19T10:29:28.325Z"
   },
   {
    "duration": 3,
    "start_time": "2022-12-19T10:29:30.699Z"
   },
   {
    "duration": 100,
    "start_time": "2022-12-19T10:29:37.433Z"
   },
   {
    "duration": 9,
    "start_time": "2022-12-19T10:30:21.486Z"
   },
   {
    "duration": 14,
    "start_time": "2022-12-19T10:30:27.662Z"
   },
   {
    "duration": 14,
    "start_time": "2022-12-19T10:30:30.079Z"
   },
   {
    "duration": 12,
    "start_time": "2022-12-19T10:31:05.624Z"
   },
   {
    "duration": 33,
    "start_time": "2022-12-19T10:39:46.684Z"
   },
   {
    "duration": 8,
    "start_time": "2022-12-19T10:40:28.855Z"
   },
   {
    "duration": 7,
    "start_time": "2022-12-19T10:40:38.882Z"
   },
   {
    "duration": 9,
    "start_time": "2022-12-19T10:40:52.483Z"
   },
   {
    "duration": 25,
    "start_time": "2022-12-19T10:41:55.784Z"
   },
   {
    "duration": 130,
    "start_time": "2022-12-19T10:43:10.183Z"
   },
   {
    "duration": 12,
    "start_time": "2022-12-19T10:43:12.560Z"
   },
   {
    "duration": 23,
    "start_time": "2022-12-19T10:45:43.373Z"
   },
   {
    "duration": 22,
    "start_time": "2022-12-19T10:46:17.341Z"
   },
   {
    "duration": 26,
    "start_time": "2022-12-19T10:46:31.106Z"
   },
   {
    "duration": 33,
    "start_time": "2022-12-19T10:48:26.407Z"
   },
   {
    "duration": 20,
    "start_time": "2022-12-19T10:48:36.910Z"
   },
   {
    "duration": 21,
    "start_time": "2022-12-19T10:49:07.363Z"
   },
   {
    "duration": 15,
    "start_time": "2022-12-19T10:53:48.913Z"
   },
   {
    "duration": 75,
    "start_time": "2022-12-19T10:58:15.477Z"
   },
   {
    "duration": 12,
    "start_time": "2022-12-19T10:58:22.035Z"
   },
   {
    "duration": 81,
    "start_time": "2022-12-19T11:00:08.983Z"
   },
   {
    "duration": 22,
    "start_time": "2022-12-19T11:06:05.420Z"
   },
   {
    "duration": 74,
    "start_time": "2022-12-19T11:28:56.229Z"
   },
   {
    "duration": 37,
    "start_time": "2022-12-19T11:29:01.264Z"
   },
   {
    "duration": 12,
    "start_time": "2022-12-19T11:29:25.612Z"
   },
   {
    "duration": 22,
    "start_time": "2022-12-19T11:46:56.341Z"
   },
   {
    "duration": 23,
    "start_time": "2022-12-19T11:47:00.001Z"
   },
   {
    "duration": 66,
    "start_time": "2022-12-19T11:51:18.953Z"
   },
   {
    "duration": 4,
    "start_time": "2022-12-19T11:51:38.749Z"
   },
   {
    "duration": 10,
    "start_time": "2022-12-19T11:51:45.155Z"
   },
   {
    "duration": 53,
    "start_time": "2022-12-19T11:52:10.027Z"
   },
   {
    "duration": 67,
    "start_time": "2022-12-19T11:52:57.548Z"
   },
   {
    "duration": 25,
    "start_time": "2022-12-19T11:52:59.948Z"
   },
   {
    "duration": 13,
    "start_time": "2022-12-19T11:55:10.258Z"
   },
   {
    "duration": 3,
    "start_time": "2022-12-19T11:55:36.654Z"
   },
   {
    "duration": 13,
    "start_time": "2022-12-19T11:55:45.056Z"
   },
   {
    "duration": 66,
    "start_time": "2022-12-19T15:30:15.739Z"
   },
   {
    "duration": 7,
    "start_time": "2022-12-19T15:31:45.249Z"
   },
   {
    "duration": 28,
    "start_time": "2022-12-19T15:31:47.412Z"
   },
   {
    "duration": 4,
    "start_time": "2022-12-19T15:32:00.647Z"
   },
   {
    "duration": 4,
    "start_time": "2022-12-19T15:32:01.408Z"
   },
   {
    "duration": 13,
    "start_time": "2022-12-19T15:36:14.145Z"
   },
   {
    "duration": 21,
    "start_time": "2022-12-19T15:38:37.246Z"
   },
   {
    "duration": 520,
    "start_time": "2022-12-19T15:38:48.586Z"
   },
   {
    "duration": 83,
    "start_time": "2022-12-19T15:48:15.066Z"
   },
   {
    "duration": 1539,
    "start_time": "2022-12-19T15:48:35.200Z"
   },
   {
    "duration": 111,
    "start_time": "2022-12-19T15:51:55.289Z"
   },
   {
    "duration": 1410,
    "start_time": "2022-12-19T15:52:02.618Z"
   },
   {
    "duration": 1213,
    "start_time": "2022-12-19T15:52:07.583Z"
   },
   {
    "duration": 21,
    "start_time": "2022-12-19T15:52:12.140Z"
   },
   {
    "duration": 16,
    "start_time": "2022-12-19T15:52:17.212Z"
   },
   {
    "duration": 27,
    "start_time": "2022-12-19T15:52:19.627Z"
   },
   {
    "duration": 17,
    "start_time": "2022-12-19T15:52:21.780Z"
   },
   {
    "duration": 15,
    "start_time": "2022-12-19T15:52:24.339Z"
   },
   {
    "duration": 36,
    "start_time": "2022-12-19T15:52:31.740Z"
   },
   {
    "duration": 25,
    "start_time": "2022-12-19T15:52:32.205Z"
   },
   {
    "duration": 83,
    "start_time": "2022-12-19T15:52:34.302Z"
   },
   {
    "duration": 9,
    "start_time": "2022-12-19T15:52:38.059Z"
   },
   {
    "duration": 38,
    "start_time": "2022-12-19T15:52:39.970Z"
   },
   {
    "duration": 1508,
    "start_time": "2022-12-19T15:52:43.322Z"
   },
   {
    "duration": 43,
    "start_time": "2022-12-19T15:56:55.295Z"
   },
   {
    "duration": 5,
    "start_time": "2022-12-19T15:56:59.466Z"
   },
   {
    "duration": 1290,
    "start_time": "2022-12-19T15:57:02.280Z"
   },
   {
    "duration": 1103,
    "start_time": "2022-12-19T15:57:03.572Z"
   },
   {
    "duration": 21,
    "start_time": "2022-12-19T15:57:08.404Z"
   },
   {
    "duration": 15,
    "start_time": "2022-12-19T15:57:14.448Z"
   },
   {
    "duration": 20,
    "start_time": "2022-12-19T15:57:16.119Z"
   },
   {
    "duration": 15,
    "start_time": "2022-12-19T15:57:18.162Z"
   },
   {
    "duration": 29,
    "start_time": "2022-12-19T15:57:20.282Z"
   },
   {
    "duration": 23,
    "start_time": "2022-12-19T15:57:23.422Z"
   },
   {
    "duration": 38,
    "start_time": "2022-12-19T15:57:29.699Z"
   },
   {
    "duration": 27,
    "start_time": "2022-12-19T15:57:30.226Z"
   },
   {
    "duration": 87,
    "start_time": "2022-12-19T15:57:33.546Z"
   },
   {
    "duration": 10,
    "start_time": "2022-12-19T15:57:37.337Z"
   },
   {
    "duration": 38,
    "start_time": "2022-12-19T15:57:39.787Z"
   },
   {
    "duration": 3,
    "start_time": "2022-12-19T15:57:42.141Z"
   },
   {
    "duration": 1463,
    "start_time": "2022-12-19T15:57:46.618Z"
   },
   {
    "duration": 3,
    "start_time": "2022-12-19T15:57:54.397Z"
   },
   {
    "duration": 95,
    "start_time": "2022-12-19T16:00:16.577Z"
   },
   {
    "duration": 1271,
    "start_time": "2022-12-19T16:00:22.329Z"
   },
   {
    "duration": 1183,
    "start_time": "2022-12-19T16:00:25.939Z"
   },
   {
    "duration": 68,
    "start_time": "2022-12-19T16:00:32.995Z"
   },
   {
    "duration": 21,
    "start_time": "2022-12-19T16:00:38.245Z"
   },
   {
    "duration": 15,
    "start_time": "2022-12-19T16:00:41.431Z"
   },
   {
    "duration": 16,
    "start_time": "2022-12-19T16:00:43.374Z"
   },
   {
    "duration": 16,
    "start_time": "2022-12-19T16:00:45.027Z"
   },
   {
    "duration": 16,
    "start_time": "2022-12-19T16:00:48.069Z"
   },
   {
    "duration": 36,
    "start_time": "2022-12-19T16:00:54.176Z"
   },
   {
    "duration": 26,
    "start_time": "2022-12-19T16:00:54.557Z"
   },
   {
    "duration": 80,
    "start_time": "2022-12-19T16:00:56.593Z"
   },
   {
    "duration": 9,
    "start_time": "2022-12-19T16:01:00.872Z"
   },
   {
    "duration": 35,
    "start_time": "2022-12-19T16:01:03.199Z"
   },
   {
    "duration": 1480,
    "start_time": "2022-12-19T16:01:11.054Z"
   },
   {
    "duration": 93,
    "start_time": "2022-12-19T16:09:43.558Z"
   },
   {
    "duration": 1374,
    "start_time": "2022-12-19T16:09:48.186Z"
   },
   {
    "duration": 1262,
    "start_time": "2022-12-19T16:09:51.080Z"
   },
   {
    "duration": 22,
    "start_time": "2022-12-19T16:09:56.154Z"
   },
   {
    "duration": 25,
    "start_time": "2022-12-19T16:10:00.540Z"
   },
   {
    "duration": 17,
    "start_time": "2022-12-19T16:10:02.430Z"
   },
   {
    "duration": 16,
    "start_time": "2022-12-19T16:10:04.231Z"
   },
   {
    "duration": 15,
    "start_time": "2022-12-19T16:10:07.383Z"
   },
   {
    "duration": 38,
    "start_time": "2022-12-19T16:10:12.973Z"
   },
   {
    "duration": 26,
    "start_time": "2022-12-19T16:10:13.370Z"
   },
   {
    "duration": 80,
    "start_time": "2022-12-19T16:10:15.426Z"
   },
   {
    "duration": 8,
    "start_time": "2022-12-19T16:10:18.420Z"
   },
   {
    "duration": 35,
    "start_time": "2022-12-19T16:10:24.496Z"
   },
   {
    "duration": 1436,
    "start_time": "2022-12-19T16:10:27.841Z"
   },
   {
    "duration": 111,
    "start_time": "2022-12-19T16:10:32.194Z"
   },
   {
    "duration": 3,
    "start_time": "2022-12-19T16:11:14.468Z"
   },
   {
    "duration": 2657,
    "start_time": "2022-12-19T16:11:22.608Z"
   },
   {
    "duration": 11708,
    "start_time": "2022-12-19T16:12:38.705Z"
   },
   {
    "duration": 526,
    "start_time": "2022-12-19T16:13:00.044Z"
   },
   {
    "duration": 491,
    "start_time": "2022-12-19T16:13:35.513Z"
   },
   {
    "duration": 4,
    "start_time": "2022-12-19T16:15:44.485Z"
   },
   {
    "duration": 72463,
    "start_time": "2022-12-19T16:16:03.557Z"
   },
   {
    "duration": 60,
    "start_time": "2022-12-19T16:20:48.754Z"
   },
   {
    "duration": 54,
    "start_time": "2022-12-19T16:26:53.977Z"
   },
   {
    "duration": 71206,
    "start_time": "2022-12-19T16:26:58.463Z"
   },
   {
    "duration": 53,
    "start_time": "2022-12-19T16:28:21.169Z"
   },
   {
    "duration": 275,
    "start_time": "2022-12-19T16:28:31.167Z"
   },
   {
    "duration": 12,
    "start_time": "2022-12-19T16:45:53.748Z"
   },
   {
    "duration": 754,
    "start_time": "2022-12-19T16:46:09.921Z"
   },
   {
    "duration": 762,
    "start_time": "2022-12-19T16:48:00.311Z"
   },
   {
    "duration": 689,
    "start_time": "2022-12-19T16:50:07.210Z"
   },
   {
    "duration": 1677,
    "start_time": "2022-12-19T16:50:30.577Z"
   },
   {
    "duration": 56,
    "start_time": "2022-12-19T16:50:57.585Z"
   },
   {
    "duration": 4,
    "start_time": "2022-12-19T16:52:03.843Z"
   },
   {
    "duration": 20,
    "start_time": "2022-12-19T16:52:22.071Z"
   },
   {
    "duration": 8029,
    "start_time": "2022-12-19T16:52:57.136Z"
   },
   {
    "duration": 1406,
    "start_time": "2022-12-19T16:54:12.985Z"
   },
   {
    "duration": 29593,
    "start_time": "2022-12-19T16:56:06.613Z"
   },
   {
    "duration": 27,
    "start_time": "2022-12-19T17:06:05.430Z"
   },
   {
    "duration": 68,
    "start_time": "2022-12-19T17:11:10.372Z"
   },
   {
    "duration": 62,
    "start_time": "2022-12-19T17:12:04.376Z"
   },
   {
    "duration": 27791,
    "start_time": "2022-12-19T17:12:27.789Z"
   },
   {
    "duration": 27905,
    "start_time": "2022-12-19T17:13:02.470Z"
   },
   {
    "duration": 29,
    "start_time": "2022-12-19T17:14:08.385Z"
   },
   {
    "duration": 28696,
    "start_time": "2022-12-19T17:15:33.010Z"
   },
   {
    "duration": 27,
    "start_time": "2022-12-19T17:18:57.407Z"
   },
   {
    "duration": 56,
    "start_time": "2022-12-19T17:19:19.747Z"
   },
   {
    "duration": 58,
    "start_time": "2022-12-19T17:19:39.602Z"
   },
   {
    "duration": 60,
    "start_time": "2022-12-19T17:29:20.757Z"
   },
   {
    "duration": 70,
    "start_time": "2022-12-19T17:29:48.298Z"
   },
   {
    "duration": 59,
    "start_time": "2022-12-19T17:30:29.600Z"
   },
   {
    "duration": 25838,
    "start_time": "2022-12-19T17:30:50.730Z"
   },
   {
    "duration": 59,
    "start_time": "2022-12-19T17:31:28.152Z"
   },
   {
    "duration": 1526,
    "start_time": "2022-12-20T11:53:23.466Z"
   },
   {
    "duration": 1035,
    "start_time": "2022-12-20T11:53:24.994Z"
   },
   {
    "duration": 31,
    "start_time": "2022-12-20T11:53:26.031Z"
   },
   {
    "duration": 88,
    "start_time": "2022-12-20T11:53:26.064Z"
   },
   {
    "duration": 121,
    "start_time": "2022-12-20T11:53:26.155Z"
   },
   {
    "duration": 18,
    "start_time": "2022-12-20T11:53:26.278Z"
   },
   {
    "duration": 24,
    "start_time": "2022-12-20T11:53:26.298Z"
   },
   {
    "duration": 36,
    "start_time": "2022-12-20T11:53:26.324Z"
   },
   {
    "duration": 43,
    "start_time": "2022-12-20T11:53:26.362Z"
   },
   {
    "duration": 26,
    "start_time": "2022-12-20T11:53:26.406Z"
   },
   {
    "duration": 25,
    "start_time": "2022-12-20T11:53:26.434Z"
   },
   {
    "duration": 20,
    "start_time": "2022-12-20T11:53:26.461Z"
   },
   {
    "duration": 231,
    "start_time": "2022-12-20T11:53:26.483Z"
   },
   {
    "duration": 233,
    "start_time": "2022-12-20T11:53:26.717Z"
   },
   {
    "duration": 251,
    "start_time": "2022-12-20T11:53:26.952Z"
   },
   {
    "duration": 526,
    "start_time": "2022-12-20T11:53:27.205Z"
   },
   {
    "duration": 62,
    "start_time": "2022-12-20T11:53:27.733Z"
   },
   {
    "duration": 34,
    "start_time": "2022-12-20T11:53:27.797Z"
   },
   {
    "duration": 41,
    "start_time": "2022-12-20T11:53:27.833Z"
   },
   {
    "duration": 104,
    "start_time": "2022-12-20T11:53:27.876Z"
   },
   {
    "duration": 15,
    "start_time": "2022-12-20T11:53:27.982Z"
   },
   {
    "duration": 61,
    "start_time": "2022-12-20T11:53:27.998Z"
   },
   {
    "duration": 3,
    "start_time": "2022-12-20T11:53:28.061Z"
   },
   {
    "duration": 28,
    "start_time": "2022-12-20T11:53:28.066Z"
   },
   {
    "duration": 778,
    "start_time": "2022-12-20T11:53:28.096Z"
   },
   {
    "duration": 128,
    "start_time": "2022-12-20T11:53:28.877Z"
   },
   {
    "duration": 0,
    "start_time": "2022-12-20T11:53:29.007Z"
   },
   {
    "duration": 0,
    "start_time": "2022-12-20T11:53:29.008Z"
   },
   {
    "duration": 0,
    "start_time": "2022-12-20T11:53:29.009Z"
   },
   {
    "duration": 0,
    "start_time": "2022-12-20T11:53:29.011Z"
   },
   {
    "duration": 0,
    "start_time": "2022-12-20T11:53:29.012Z"
   },
   {
    "duration": 0,
    "start_time": "2022-12-20T11:53:29.013Z"
   },
   {
    "duration": 0,
    "start_time": "2022-12-20T11:53:29.014Z"
   },
   {
    "duration": 0,
    "start_time": "2022-12-20T11:53:29.015Z"
   },
   {
    "duration": 1578,
    "start_time": "2022-12-21T06:05:14.213Z"
   },
   {
    "duration": 1224,
    "start_time": "2022-12-21T06:05:16.861Z"
   },
   {
    "duration": 23,
    "start_time": "2022-12-21T06:05:30.456Z"
   },
   {
    "duration": 19,
    "start_time": "2022-12-21T06:05:37.331Z"
   },
   {
    "duration": 19,
    "start_time": "2022-12-21T06:05:39.410Z"
   },
   {
    "duration": 20,
    "start_time": "2022-12-21T06:05:41.307Z"
   },
   {
    "duration": 18,
    "start_time": "2022-12-21T06:05:47.187Z"
   },
   {
    "duration": 13,
    "start_time": "2022-12-21T06:06:42.184Z"
   },
   {
    "duration": 32,
    "start_time": "2022-12-21T06:37:14.884Z"
   },
   {
    "duration": 26,
    "start_time": "2022-12-21T06:38:14.023Z"
   },
   {
    "duration": 57,
    "start_time": "2022-12-21T06:39:54.989Z"
   },
   {
    "duration": 20,
    "start_time": "2022-12-21T06:41:07.956Z"
   },
   {
    "duration": 11,
    "start_time": "2022-12-21T06:41:38.708Z"
   },
   {
    "duration": 46,
    "start_time": "2022-12-21T06:41:44.627Z"
   },
   {
    "duration": 4,
    "start_time": "2022-12-21T06:41:46.761Z"
   },
   {
    "duration": 3,
    "start_time": "2022-12-21T06:41:49.666Z"
   },
   {
    "duration": 51,
    "start_time": "2022-12-21T06:41:59.744Z"
   },
   {
    "duration": 4,
    "start_time": "2022-12-21T06:42:02.121Z"
   },
   {
    "duration": 3,
    "start_time": "2022-12-21T06:42:04.506Z"
   },
   {
    "duration": 54,
    "start_time": "2022-12-21T06:42:39.051Z"
   },
   {
    "duration": 4,
    "start_time": "2022-12-21T06:42:40.757Z"
   },
   {
    "duration": 4,
    "start_time": "2022-12-21T06:42:44.195Z"
   },
   {
    "duration": 43,
    "start_time": "2022-12-21T06:45:06.950Z"
   },
   {
    "duration": 3,
    "start_time": "2022-12-21T06:45:08.989Z"
   },
   {
    "duration": 3,
    "start_time": "2022-12-21T06:45:11.502Z"
   },
   {
    "duration": 48,
    "start_time": "2022-12-21T06:45:21.316Z"
   },
   {
    "duration": 4,
    "start_time": "2022-12-21T06:45:23.228Z"
   },
   {
    "duration": 4,
    "start_time": "2022-12-21T06:45:25.342Z"
   },
   {
    "duration": 50,
    "start_time": "2022-12-21T06:46:07.992Z"
   },
   {
    "duration": 4,
    "start_time": "2022-12-21T06:46:09.838Z"
   },
   {
    "duration": 3,
    "start_time": "2022-12-21T06:46:11.676Z"
   },
   {
    "duration": 826,
    "start_time": "2022-12-21T06:47:21.168Z"
   },
   {
    "duration": 128,
    "start_time": "2022-12-21T06:47:42.335Z"
   },
   {
    "duration": 846,
    "start_time": "2022-12-21T06:48:02.813Z"
   },
   {
    "duration": 1573,
    "start_time": "2022-12-21T06:48:04.733Z"
   },
   {
    "duration": 74,
    "start_time": "2022-12-21T06:52:36.998Z"
   },
   {
    "duration": 28904,
    "start_time": "2022-12-21T06:55:20.207Z"
   },
   {
    "duration": 175,
    "start_time": "2022-12-21T06:58:47.238Z"
   },
   {
    "duration": 28,
    "start_time": "2022-12-21T06:58:56.340Z"
   },
   {
    "duration": 31127,
    "start_time": "2022-12-21T06:59:14.113Z"
   },
   {
    "duration": 0,
    "start_time": "2022-12-21T06:59:45.241Z"
   },
   {
    "duration": 19,
    "start_time": "2022-12-21T06:59:56.748Z"
   },
   {
    "duration": 25,
    "start_time": "2022-12-21T07:02:00.698Z"
   },
   {
    "duration": 18,
    "start_time": "2022-12-21T07:04:07.349Z"
   },
   {
    "duration": 50,
    "start_time": "2022-12-21T07:04:15.880Z"
   },
   {
    "duration": 32,
    "start_time": "2022-12-21T07:04:24.648Z"
   },
   {
    "duration": 75,
    "start_time": "2022-12-21T07:07:29.655Z"
   },
   {
    "duration": 11,
    "start_time": "2022-12-21T07:07:45.574Z"
   },
   {
    "duration": 19,
    "start_time": "2022-12-21T07:07:51.260Z"
   },
   {
    "duration": 19,
    "start_time": "2022-12-21T07:08:05.128Z"
   },
   {
    "duration": 25,
    "start_time": "2022-12-21T07:09:03.790Z"
   },
   {
    "duration": 33,
    "start_time": "2022-12-21T07:09:17.713Z"
   },
   {
    "duration": 76,
    "start_time": "2022-12-21T07:09:25.918Z"
   },
   {
    "duration": 110,
    "start_time": "2022-12-21T07:10:04.514Z"
   },
   {
    "duration": 69,
    "start_time": "2022-12-21T07:10:44.653Z"
   },
   {
    "duration": 11,
    "start_time": "2022-12-21T07:11:26.309Z"
   },
   {
    "duration": 100,
    "start_time": "2022-12-21T07:21:28.818Z"
   },
   {
    "duration": 261,
    "start_time": "2022-12-21T07:21:38.740Z"
   },
   {
    "duration": 696217,
    "start_time": "2022-12-21T07:22:49.305Z"
   },
   {
    "duration": 1648,
    "start_time": "2022-12-21T12:19:11.150Z"
   },
   {
    "duration": 1480,
    "start_time": "2022-12-21T12:19:12.801Z"
   },
   {
    "duration": 23,
    "start_time": "2022-12-21T12:19:14.282Z"
   },
   {
    "duration": 97,
    "start_time": "2022-12-21T12:19:14.307Z"
   },
   {
    "duration": 145,
    "start_time": "2022-12-21T12:19:14.406Z"
   },
   {
    "duration": 19,
    "start_time": "2022-12-21T12:19:14.554Z"
   },
   {
    "duration": 28,
    "start_time": "2022-12-21T12:19:14.576Z"
   },
   {
    "duration": 47,
    "start_time": "2022-12-21T12:19:14.606Z"
   },
   {
    "duration": 38,
    "start_time": "2022-12-21T12:19:14.655Z"
   },
   {
    "duration": 27,
    "start_time": "2022-12-21T12:19:14.694Z"
   },
   {
    "duration": 35,
    "start_time": "2022-12-21T12:19:14.723Z"
   },
   {
    "duration": 26,
    "start_time": "2022-12-21T12:19:14.760Z"
   },
   {
    "duration": 243,
    "start_time": "2022-12-21T12:19:14.788Z"
   },
   {
    "duration": 233,
    "start_time": "2022-12-21T12:19:15.036Z"
   },
   {
    "duration": 260,
    "start_time": "2022-12-21T12:19:15.271Z"
   },
   {
    "duration": 634,
    "start_time": "2022-12-21T12:19:15.534Z"
   },
   {
    "duration": 69,
    "start_time": "2022-12-21T12:19:16.170Z"
   },
   {
    "duration": 15,
    "start_time": "2022-12-21T12:19:16.241Z"
   },
   {
    "duration": 35,
    "start_time": "2022-12-21T12:19:16.258Z"
   },
   {
    "duration": 91,
    "start_time": "2022-12-21T12:19:16.295Z"
   },
   {
    "duration": 58,
    "start_time": "2022-12-21T12:19:16.388Z"
   },
   {
    "duration": 32,
    "start_time": "2022-12-21T12:19:16.448Z"
   },
   {
    "duration": 126,
    "start_time": "2022-12-21T12:19:16.481Z"
   },
   {
    "duration": 8,
    "start_time": "2022-12-21T12:19:16.609Z"
   },
   {
    "duration": 88,
    "start_time": "2022-12-21T12:19:16.618Z"
   },
   {
    "duration": 4,
    "start_time": "2022-12-21T12:19:16.708Z"
   },
   {
    "duration": 36,
    "start_time": "2022-12-21T12:19:16.713Z"
   },
   {
    "duration": 799,
    "start_time": "2022-12-21T12:19:16.752Z"
   },
   {
    "duration": 2649,
    "start_time": "2022-12-21T12:19:17.554Z"
   },
   {
    "duration": 560520,
    "start_time": "2022-12-21T12:19:20.204Z"
   },
   {
    "duration": 63,
    "start_time": "2022-12-21T12:28:40.729Z"
   },
   {
    "duration": 16329,
    "start_time": "2022-12-21T12:28:40.794Z"
   },
   {
    "duration": 75,
    "start_time": "2022-12-21T12:28:57.125Z"
   },
   {
    "duration": 87,
    "start_time": "2022-12-21T12:28:57.201Z"
   },
   {
    "duration": 77,
    "start_time": "2022-12-21T12:28:57.289Z"
   },
   {
    "duration": 83,
    "start_time": "2022-12-21T12:28:57.368Z"
   },
   {
    "duration": 60,
    "start_time": "2022-12-21T12:28:57.453Z"
   }
  ],
  "kernelspec": {
   "display_name": "Python 3 (ipykernel)",
   "language": "python",
   "name": "python3"
  },
  "language_info": {
   "codemirror_mode": {
    "name": "ipython",
    "version": 3
   },
   "file_extension": ".py",
   "mimetype": "text/x-python",
   "name": "python",
   "nbconvert_exporter": "python",
   "pygments_lexer": "ipython3",
   "version": "3.9.13"
  },
  "toc": {
   "base_numbering": 1,
   "nav_menu": {},
   "number_sections": true,
   "sideBar": true,
   "skip_h1_title": true,
   "title_cell": "Table of Contents",
   "title_sidebar": "Contents",
   "toc_cell": false,
   "toc_position": {},
   "toc_section_display": true,
   "toc_window_display": false
  }
 },
 "nbformat": 4,
 "nbformat_minor": 2
}
