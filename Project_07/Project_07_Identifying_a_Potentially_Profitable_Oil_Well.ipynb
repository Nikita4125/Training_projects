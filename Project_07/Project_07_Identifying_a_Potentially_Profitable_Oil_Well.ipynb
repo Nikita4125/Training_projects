{
 "cells": [
  {
   "cell_type": "markdown",
   "metadata": {},
   "source": [
    "# Выбор локации для скважины\n",
    "\n",
    "# Choice of location for the well"
   ]
  },
  {
   "cell_type": "markdown",
   "metadata": {},
   "source": [
    "Допустим, вы работаете в нефтедобывающей компании. Нужно решить, где бурить новую скважину.\n",
    "\n",
    "Вам предоставлены пробы нефти в трёх регионах: в каждом 10 000 месторождений, где измерили качество нефти и объём её запасов. Постройте модель машинного обучения, которая поможет определить регион, где добыча принесёт наибольшую прибыль. Проанализируйте возможную прибыль и риски техникой *Bootstrap.*\n",
    "\n",
    "Шаги для выбора локации:\n",
    "\n",
    "- В избранном регионе ищут месторождения, для каждого определяют значения признаков;\n",
    "- Строят модель и оценивают объём запасов;\n",
    "- Выбирают месторождения с самым высокими оценками значений. Количество месторождений зависит от бюджета компании и стоимости разработки одной скважины;\n",
    "- Прибыль равна суммарной прибыли отобранных месторождений.\n",
    "\n",
    "________________________________________________________________________________________________________________________________\n",
    "\n",
    "Let's say you work for an oil company. We need to decide where to drill a new well.\n",
    "\n",
    "You have been provided with oil samples in three regions: in each of 10,000 fields, where the quality of oil and the volume of its reserves have been measured. Build a machine learning model to help determine the region where mining will bring the most profit. Analyze possible profits and risks using the *Bootstrap.* technique\n",
    "\n",
    "Steps to choose a location:\n",
    "\n",
    "- In the selected region, they are looking for deposits, for each, the values of the signs are determined;\n",
    "- Build a model and estimate the volume of reserves;\n",
    "- Select the deposits with the highest value estimates. The number of fields depends on the company's budget and the cost of developing one well;\n",
    "- The profit is equal to the total profit of the selected deposits."
   ]
  },
  {
   "cell_type": "markdown",
   "metadata": {},
   "source": [
    "## Загрузка и подготовка данных\n",
    "\n",
    "## Loading and preparing data"
   ]
  },
  {
   "cell_type": "code",
   "execution_count": 1,
   "metadata": {},
   "outputs": [],
   "source": [
    "import matplotlib.pyplot as plt\n",
    "import numpy as np\n",
    "import pandas as pd\n",
    "from sklearn.model_selection import train_test_split\n",
    "from sklearn.linear_model import LinearRegression\n",
    "from sklearn.metrics import mean_squared_error\n",
    "from sklearn.preprocessing import StandardScaler\n",
    "from sklearn.utils import shuffle\n",
    "import warnings\n",
    "warnings.filterwarnings('ignore')"
   ]
  },
  {
   "cell_type": "markdown",
   "metadata": {},
   "source": [
    "Загрузим каждый регион в отдельный датафрейм\n",
    "\n",
    "Load each region into a separate dataframe"
   ]
  },
  {
   "cell_type": "code",
   "execution_count": 2,
   "metadata": {},
   "outputs": [
    {
     "data": {
      "text/html": [
       "<div>\n",
       "<style scoped>\n",
       "    .dataframe tbody tr th:only-of-type {\n",
       "        vertical-align: middle;\n",
       "    }\n",
       "\n",
       "    .dataframe tbody tr th {\n",
       "        vertical-align: top;\n",
       "    }\n",
       "\n",
       "    .dataframe thead th {\n",
       "        text-align: right;\n",
       "    }\n",
       "</style>\n",
       "<table border=\"1\" class=\"dataframe\">\n",
       "  <thead>\n",
       "    <tr style=\"text-align: right;\">\n",
       "      <th></th>\n",
       "      <th>id</th>\n",
       "      <th>f0</th>\n",
       "      <th>f1</th>\n",
       "      <th>f2</th>\n",
       "      <th>product</th>\n",
       "    </tr>\n",
       "  </thead>\n",
       "  <tbody>\n",
       "    <tr>\n",
       "      <th>0</th>\n",
       "      <td>txEyH</td>\n",
       "      <td>0.705745</td>\n",
       "      <td>-0.497823</td>\n",
       "      <td>1.221170</td>\n",
       "      <td>105.280062</td>\n",
       "    </tr>\n",
       "    <tr>\n",
       "      <th>1</th>\n",
       "      <td>2acmU</td>\n",
       "      <td>1.334711</td>\n",
       "      <td>-0.340164</td>\n",
       "      <td>4.365080</td>\n",
       "      <td>73.037750</td>\n",
       "    </tr>\n",
       "    <tr>\n",
       "      <th>2</th>\n",
       "      <td>409Wp</td>\n",
       "      <td>1.022732</td>\n",
       "      <td>0.151990</td>\n",
       "      <td>1.419926</td>\n",
       "      <td>85.265647</td>\n",
       "    </tr>\n",
       "    <tr>\n",
       "      <th>3</th>\n",
       "      <td>iJLyR</td>\n",
       "      <td>-0.032172</td>\n",
       "      <td>0.139033</td>\n",
       "      <td>2.978566</td>\n",
       "      <td>168.620776</td>\n",
       "    </tr>\n",
       "    <tr>\n",
       "      <th>4</th>\n",
       "      <td>Xdl7t</td>\n",
       "      <td>1.988431</td>\n",
       "      <td>0.155413</td>\n",
       "      <td>4.751769</td>\n",
       "      <td>154.036647</td>\n",
       "    </tr>\n",
       "  </tbody>\n",
       "</table>\n",
       "</div>"
      ],
      "text/plain": [
       "      id        f0        f1        f2     product\n",
       "0  txEyH  0.705745 -0.497823  1.221170  105.280062\n",
       "1  2acmU  1.334711 -0.340164  4.365080   73.037750\n",
       "2  409Wp  1.022732  0.151990  1.419926   85.265647\n",
       "3  iJLyR -0.032172  0.139033  2.978566  168.620776\n",
       "4  Xdl7t  1.988431  0.155413  4.751769  154.036647"
      ]
     },
     "execution_count": 2,
     "metadata": {},
     "output_type": "execute_result"
    }
   ],
   "source": [
    "geo_data_0 = pd.read_csv('/datasets/geo_data_0.csv')\n",
    "geo_data_0.head()"
   ]
  },
  {
   "cell_type": "code",
   "execution_count": 7,
   "metadata": {},
   "outputs": [
    {
     "name": "stdout",
     "output_type": "stream",
     "text": [
      "<class 'pandas.core.frame.DataFrame'>\n",
      "RangeIndex: 100000 entries, 0 to 99999\n",
      "Data columns (total 5 columns):\n",
      " #   Column   Non-Null Count   Dtype  \n",
      "---  ------   --------------   -----  \n",
      " 0   id       100000 non-null  object \n",
      " 1   f0       100000 non-null  float64\n",
      " 2   f1       100000 non-null  float64\n",
      " 3   f2       100000 non-null  float64\n",
      " 4   product  100000 non-null  float64\n",
      "dtypes: float64(4), object(1)\n",
      "memory usage: 3.8+ MB\n"
     ]
    }
   ],
   "source": [
    "geo_data_0.info()"
   ]
  },
  {
   "cell_type": "code",
   "execution_count": 3,
   "metadata": {},
   "outputs": [
    {
     "data": {
      "text/html": [
       "<div>\n",
       "<style scoped>\n",
       "    .dataframe tbody tr th:only-of-type {\n",
       "        vertical-align: middle;\n",
       "    }\n",
       "\n",
       "    .dataframe tbody tr th {\n",
       "        vertical-align: top;\n",
       "    }\n",
       "\n",
       "    .dataframe thead th {\n",
       "        text-align: right;\n",
       "    }\n",
       "</style>\n",
       "<table border=\"1\" class=\"dataframe\">\n",
       "  <thead>\n",
       "    <tr style=\"text-align: right;\">\n",
       "      <th></th>\n",
       "      <th>id</th>\n",
       "      <th>f0</th>\n",
       "      <th>f1</th>\n",
       "      <th>f2</th>\n",
       "      <th>product</th>\n",
       "    </tr>\n",
       "  </thead>\n",
       "  <tbody>\n",
       "    <tr>\n",
       "      <th>0</th>\n",
       "      <td>kBEdx</td>\n",
       "      <td>-15.001348</td>\n",
       "      <td>-8.276000</td>\n",
       "      <td>-0.005876</td>\n",
       "      <td>3.179103</td>\n",
       "    </tr>\n",
       "    <tr>\n",
       "      <th>1</th>\n",
       "      <td>62mP7</td>\n",
       "      <td>14.272088</td>\n",
       "      <td>-3.475083</td>\n",
       "      <td>0.999183</td>\n",
       "      <td>26.953261</td>\n",
       "    </tr>\n",
       "    <tr>\n",
       "      <th>2</th>\n",
       "      <td>vyE1P</td>\n",
       "      <td>6.263187</td>\n",
       "      <td>-5.948386</td>\n",
       "      <td>5.001160</td>\n",
       "      <td>134.766305</td>\n",
       "    </tr>\n",
       "    <tr>\n",
       "      <th>3</th>\n",
       "      <td>KcrkZ</td>\n",
       "      <td>-13.081196</td>\n",
       "      <td>-11.506057</td>\n",
       "      <td>4.999415</td>\n",
       "      <td>137.945408</td>\n",
       "    </tr>\n",
       "    <tr>\n",
       "      <th>4</th>\n",
       "      <td>AHL4O</td>\n",
       "      <td>12.702195</td>\n",
       "      <td>-8.147433</td>\n",
       "      <td>5.004363</td>\n",
       "      <td>134.766305</td>\n",
       "    </tr>\n",
       "  </tbody>\n",
       "</table>\n",
       "</div>"
      ],
      "text/plain": [
       "      id         f0         f1        f2     product\n",
       "0  kBEdx -15.001348  -8.276000 -0.005876    3.179103\n",
       "1  62mP7  14.272088  -3.475083  0.999183   26.953261\n",
       "2  vyE1P   6.263187  -5.948386  5.001160  134.766305\n",
       "3  KcrkZ -13.081196 -11.506057  4.999415  137.945408\n",
       "4  AHL4O  12.702195  -8.147433  5.004363  134.766305"
      ]
     },
     "execution_count": 3,
     "metadata": {},
     "output_type": "execute_result"
    }
   ],
   "source": [
    "geo_data_1 = pd.read_csv('/datasets/geo_data_1.csv')\n",
    "geo_data_1.head()"
   ]
  },
  {
   "cell_type": "code",
   "execution_count": 9,
   "metadata": {},
   "outputs": [
    {
     "name": "stdout",
     "output_type": "stream",
     "text": [
      "<class 'pandas.core.frame.DataFrame'>\n",
      "RangeIndex: 100000 entries, 0 to 99999\n",
      "Data columns (total 5 columns):\n",
      " #   Column   Non-Null Count   Dtype  \n",
      "---  ------   --------------   -----  \n",
      " 0   id       100000 non-null  object \n",
      " 1   f0       100000 non-null  float64\n",
      " 2   f1       100000 non-null  float64\n",
      " 3   f2       100000 non-null  float64\n",
      " 4   product  100000 non-null  float64\n",
      "dtypes: float64(4), object(1)\n",
      "memory usage: 3.8+ MB\n"
     ]
    }
   ],
   "source": [
    "geo_data_1.info()"
   ]
  },
  {
   "cell_type": "code",
   "execution_count": 4,
   "metadata": {},
   "outputs": [
    {
     "data": {
      "text/html": [
       "<div>\n",
       "<style scoped>\n",
       "    .dataframe tbody tr th:only-of-type {\n",
       "        vertical-align: middle;\n",
       "    }\n",
       "\n",
       "    .dataframe tbody tr th {\n",
       "        vertical-align: top;\n",
       "    }\n",
       "\n",
       "    .dataframe thead th {\n",
       "        text-align: right;\n",
       "    }\n",
       "</style>\n",
       "<table border=\"1\" class=\"dataframe\">\n",
       "  <thead>\n",
       "    <tr style=\"text-align: right;\">\n",
       "      <th></th>\n",
       "      <th>id</th>\n",
       "      <th>f0</th>\n",
       "      <th>f1</th>\n",
       "      <th>f2</th>\n",
       "      <th>product</th>\n",
       "    </tr>\n",
       "  </thead>\n",
       "  <tbody>\n",
       "    <tr>\n",
       "      <th>0</th>\n",
       "      <td>fwXo0</td>\n",
       "      <td>-1.146987</td>\n",
       "      <td>0.963328</td>\n",
       "      <td>-0.828965</td>\n",
       "      <td>27.758673</td>\n",
       "    </tr>\n",
       "    <tr>\n",
       "      <th>1</th>\n",
       "      <td>WJtFt</td>\n",
       "      <td>0.262778</td>\n",
       "      <td>0.269839</td>\n",
       "      <td>-2.530187</td>\n",
       "      <td>56.069697</td>\n",
       "    </tr>\n",
       "    <tr>\n",
       "      <th>2</th>\n",
       "      <td>ovLUW</td>\n",
       "      <td>0.194587</td>\n",
       "      <td>0.289035</td>\n",
       "      <td>-5.586433</td>\n",
       "      <td>62.871910</td>\n",
       "    </tr>\n",
       "    <tr>\n",
       "      <th>3</th>\n",
       "      <td>q6cA6</td>\n",
       "      <td>2.236060</td>\n",
       "      <td>-0.553760</td>\n",
       "      <td>0.930038</td>\n",
       "      <td>114.572842</td>\n",
       "    </tr>\n",
       "    <tr>\n",
       "      <th>4</th>\n",
       "      <td>WPMUX</td>\n",
       "      <td>-0.515993</td>\n",
       "      <td>1.716266</td>\n",
       "      <td>5.899011</td>\n",
       "      <td>149.600746</td>\n",
       "    </tr>\n",
       "  </tbody>\n",
       "</table>\n",
       "</div>"
      ],
      "text/plain": [
       "      id        f0        f1        f2     product\n",
       "0  fwXo0 -1.146987  0.963328 -0.828965   27.758673\n",
       "1  WJtFt  0.262778  0.269839 -2.530187   56.069697\n",
       "2  ovLUW  0.194587  0.289035 -5.586433   62.871910\n",
       "3  q6cA6  2.236060 -0.553760  0.930038  114.572842\n",
       "4  WPMUX -0.515993  1.716266  5.899011  149.600746"
      ]
     },
     "execution_count": 4,
     "metadata": {},
     "output_type": "execute_result"
    }
   ],
   "source": [
    "geo_data_2 = pd.read_csv('/datasets/geo_data_2.csv')\n",
    "geo_data_2.head()"
   ]
  },
  {
   "cell_type": "code",
   "execution_count": 11,
   "metadata": {},
   "outputs": [
    {
     "name": "stdout",
     "output_type": "stream",
     "text": [
      "<class 'pandas.core.frame.DataFrame'>\n",
      "RangeIndex: 100000 entries, 0 to 99999\n",
      "Data columns (total 5 columns):\n",
      " #   Column   Non-Null Count   Dtype  \n",
      "---  ------   --------------   -----  \n",
      " 0   id       100000 non-null  object \n",
      " 1   f0       100000 non-null  float64\n",
      " 2   f1       100000 non-null  float64\n",
      " 3   f2       100000 non-null  float64\n",
      " 4   product  100000 non-null  float64\n",
      "dtypes: float64(4), object(1)\n",
      "memory usage: 3.8+ MB\n"
     ]
    }
   ],
   "source": [
    "geo_data_2.info()"
   ]
  },
  {
   "cell_type": "markdown",
   "metadata": {},
   "source": [
    "Проверяем данные на предмет наличия нулевых значений и пропусков\n",
    "\n",
    "Checking data for nulls and gaps"
   ]
  },
  {
   "cell_type": "code",
   "execution_count": 13,
   "metadata": {},
   "outputs": [
    {
     "data": {
      "text/plain": [
       "id         0\n",
       "f0         0\n",
       "f1         0\n",
       "f2         0\n",
       "product    0\n",
       "dtype: int64"
      ]
     },
     "execution_count": 13,
     "metadata": {},
     "output_type": "execute_result"
    }
   ],
   "source": [
    "geo_data_0.isna().sum()"
   ]
  },
  {
   "cell_type": "code",
   "execution_count": 14,
   "metadata": {},
   "outputs": [
    {
     "data": {
      "text/plain": [
       "id         0\n",
       "f0         0\n",
       "f1         0\n",
       "f2         0\n",
       "product    0\n",
       "dtype: int64"
      ]
     },
     "execution_count": 14,
     "metadata": {},
     "output_type": "execute_result"
    }
   ],
   "source": [
    "geo_data_1.isna().sum()"
   ]
  },
  {
   "cell_type": "code",
   "execution_count": 15,
   "metadata": {},
   "outputs": [
    {
     "data": {
      "text/plain": [
       "id         0\n",
       "f0         0\n",
       "f1         0\n",
       "f2         0\n",
       "product    0\n",
       "dtype: int64"
      ]
     },
     "execution_count": 15,
     "metadata": {},
     "output_type": "execute_result"
    }
   ],
   "source": [
    "geo_data_2.isna().sum()"
   ]
  },
  {
   "cell_type": "code",
   "execution_count": 19,
   "metadata": {},
   "outputs": [],
   "source": [
    "def pass_value_barh(df):\n",
    "    try:\n",
    "        (\n",
    "            (df.isna().mean()*100)\n",
    "            .to_frame()\n",
    "            .rename(columns = {0:'space'})\n",
    "            .query('space > 0')\n",
    "            .sort_values(by = 'space', ascending = True)\n",
    "            .plot(kind= 'barh', figsize=(19,6), rot = -5, legend = False, fontsize = 16)\n",
    "            .set_title('Пример' + \"\\n\", fontsize = 22, color = 'SteelBlue')    \n",
    "        );    \n",
    "    except:\n",
    "        print('пропусков не осталось')"
   ]
  },
  {
   "cell_type": "code",
   "execution_count": 20,
   "metadata": {},
   "outputs": [
    {
     "name": "stdout",
     "output_type": "stream",
     "text": [
      "пропусков не осталось\n"
     ]
    },
    {
     "data": {
      "image/png": "[encoded data removed]",
      "text/plain": [
       "<Figure size 1368x432 with 1 Axes>"
      ]
     },
     "metadata": {
      "needs_background": "light"
     },
     "output_type": "display_data"
    }
   ],
   "source": [
    "pass_value_barh(geo_data_0)"
   ]
  },
  {
   "cell_type": "code",
   "execution_count": 21,
   "metadata": {},
   "outputs": [
    {
     "name": "stdout",
     "output_type": "stream",
     "text": [
      "пропусков не осталось\n"
     ]
    },
    {
     "data": {
      "image/png": "[encoded data removed]",
      "text/plain": [
       "<Figure size 1368x432 with 1 Axes>"
      ]
     },
     "metadata": {
      "needs_background": "light"
     },
     "output_type": "display_data"
    }
   ],
   "source": [
    "pass_value_barh(geo_data_1)"
   ]
  },
  {
   "cell_type": "code",
   "execution_count": 22,
   "metadata": {},
   "outputs": [
    {
     "name": "stdout",
     "output_type": "stream",
     "text": [
      "пропусков не осталось\n"
     ]
    },
    {
     "data": {
      "image/png": "[encoded data removed]",
      "text/plain": [
       "<Figure size 1368x432 with 1 Axes>"
      ]
     },
     "metadata": {
      "needs_background": "light"
     },
     "output_type": "display_data"
    }
   ],
   "source": [
    "pass_value_barh(geo_data_2)"
   ]
  },
  {
   "cell_type": "code",
   "execution_count": 28,
   "metadata": {},
   "outputs": [
    {
     "name": "stdout",
     "output_type": "stream",
     "text": [
      "Уникальные значения столбца id\n",
      "['txEyH' '2acmU' '409Wp' ... '3rnvd' '7kl59' '1CWhH'] \n",
      "\n",
      "Уникальные значения столбца id\n",
      "['kBEdx' '62mP7' 'vyE1P' ... '09gWa' 'rqwUm' 'relB0'] \n",
      "\n",
      "Уникальные значения столбца id\n",
      "['fwXo0' 'WJtFt' 'ovLUW' ... 'tKPY3' 'nmxp2' 'V9kWn'] \n",
      "\n"
     ]
    }
   ],
   "source": [
    "def check_columns(data_frame):\n",
    "    for col in data_frame.select_dtypes(include='object').columns:\n",
    "        print('Уникальные значения столбца', col)\n",
    "        print(data_frame[col].unique(), '\\n')\n",
    "        \n",
    "check_columns(geo_data_0)\n",
    "check_columns(geo_data_1)\n",
    "check_columns(geo_data_2)"
   ]
  },
  {
   "cell_type": "markdown",
   "metadata": {},
   "source": [
    "Удалим из каждого датафрейма столбец id. Он не несет значимости для для изучаемой модели.\n",
    "\n",
    "Let's remove the id column from each dataframe. It is not significant for the model being studied."
   ]
  },
  {
   "cell_type": "code",
   "execution_count": 19,
   "metadata": {},
   "outputs": [],
   "source": [
    "geo_data_0 = geo_data_0.drop(['id'], axis=1)\n",
    "geo_data_1 = geo_data_1.drop(['id'], axis=1)\n",
    "geo_data_2 = geo_data_2.drop(['id'], axis=1)"
   ]
  },
  {
   "cell_type": "markdown",
   "metadata": {},
   "source": [
    "Изучим гистограммы по целевому признаку - столбцу product.\n",
    "\n",
    "Let's study the histograms by the target attribute - the product column."
   ]
  },
  {
   "cell_type": "code",
   "execution_count": 61,
   "metadata": {},
   "outputs": [],
   "source": [
    "def oil_hist(seria, bins, xlim_max, ylim_max):\n",
    "    plt.figure(figsize=[12,9])\n",
    "\n",
    "    plt.hist(seria, bins=bins)\n",
    "    plt.grid(True)\n",
    "\n",
    "    plt.xlim([0,xlim_max])\n",
    "    plt.ylim([0,ylim_max])\n",
    "\n",
    "    plt.xlabel(\"Объем нефти на скважину, тыс. барелей\")\n",
    "    plt.ylabel(\"Количество скважин\")"
   ]
  },
  {
   "cell_type": "code",
   "execution_count": 37,
   "metadata": {},
   "outputs": [
    {
     "data": {
      "image/png": "[encoded data removed]",
      "text/plain": [
       "<Figure size 864x648 with 1 Axes>"
      ]
     },
     "metadata": {
      "needs_background": "light"
     },
     "output_type": "display_data"
    }
   ],
   "source": [
    "oil_hist(geo_data_0['product'], 200, 190, 1000)"
   ]
  },
  {
   "cell_type": "code",
   "execution_count": 43,
   "metadata": {},
   "outputs": [
    {
     "data": {
      "image/png": "[encoded data removed]",
      "text/plain": [
       "<Figure size 864x648 with 1 Axes>"
      ]
     },
     "metadata": {
      "needs_background": "light"
     },
     "output_type": "display_data"
    }
   ],
   "source": [
    "oil_hist(geo_data_1['product'], 200, 190, 1000)"
   ]
  },
  {
   "cell_type": "code",
   "execution_count": 39,
   "metadata": {},
   "outputs": [
    {
     "data": {
      "image/png": "[encoded data removed]",
      "text/plain": [
       "<Figure size 864x648 with 1 Axes>"
      ]
     },
     "metadata": {
      "needs_background": "light"
     },
     "output_type": "display_data"
    }
   ],
   "source": [
    "oil_hist(geo_data_2['product'], 200, 190, 1000)"
   ]
  },
  {
   "cell_type": "markdown",
   "metadata": {},
   "source": [
    "### Выводы по первому этапу\n",
    "\n",
    "### Conclusions on the first stage"
   ]
  },
  {
   "cell_type": "markdown",
   "metadata": {},
   "source": [
    "Данные проверены и готовы к обучению.\n",
    "\n",
    "Во втором месторождении около 8,2% месторождений не имело значения в столбце product. При сравнении с такими же значениями из первого и третьего региона можно понять, что были утеряны данные или не было исследовано количество барелей нефти.\n",
    "\n",
    "По гистограммам можно понять, что у первого и третьего региона наспределение скважин близкое к нормальному. Во втором регионе данные имеют странное распределение: от 0 до 5 баррелей с шагом по 15-20 равномерно распределены 100000 значений. Данные не подчиняются закону больших чисел и скорей всего были введены искуственно.\n",
    "\n",
    "________________________________________________________________________________________________________________________________\n",
    "\n",
    "The data is verified and ready for training.\n",
    "\n",
    "In the second deposit, about 8.2% of the deposits had no value in the product column. When compared with the same values from the first and third region, it can be understood that data was lost or the number of barrels of oil was not examined.\n",
    "\n",
    "According to the histograms, one can understand that the distribution of wells in the first and third regions is close to normal. In the second region, the data has a strange distribution: from 0 to 5 barrels in steps of 15-20, 100,000 values are evenly distributed. The data does not obey the law of large numbers and was most likely introduced artificially."
   ]
  },
  {
   "cell_type": "markdown",
   "metadata": {},
   "source": [
    "## Обучение и проверка модели\n",
    "\n",
    "## Train and validate the model"
   ]
  },
  {
   "cell_type": "markdown",
   "metadata": {},
   "source": [
    "Выполняем разбивку датафрейма.\n",
    "\n",
    "We perform the breakdown of the dataframe."
   ]
  },
  {
   "cell_type": "code",
   "execution_count": 20,
   "metadata": {},
   "outputs": [],
   "source": [
    "def test_split(df, target):\n",
    "    features = df.drop([target] , axis=1)\n",
    "    target = df[target]\n",
    "\n",
    "    features_train, features_valid, target_train, target_valid = train_test_split(\n",
    "    features, target, test_size=0.25, random_state=20222022)\n",
    "    \n",
    "    return features_train, features_valid, target_train, target_valid"
   ]
  },
  {
   "cell_type": "code",
   "execution_count": 21,
   "metadata": {},
   "outputs": [],
   "source": [
    "features_train_0, features_valid_0, target_train_0, target_valid_0 = test_split(geo_data_0, 'product')"
   ]
  },
  {
   "cell_type": "code",
   "execution_count": 22,
   "metadata": {},
   "outputs": [],
   "source": [
    "features_train_1, features_valid_1, target_train_1, target_valid_1 = test_split(geo_data_1, 'product')"
   ]
  },
  {
   "cell_type": "code",
   "execution_count": 23,
   "metadata": {},
   "outputs": [],
   "source": [
    "features_train_2, features_valid_2, target_train_2, target_valid_2 = test_split(geo_data_2, 'product')"
   ]
  },
  {
   "cell_type": "markdown",
   "metadata": {},
   "source": [
    "Обучаем модели и анализируем метрику RMSE.\n",
    "\n",
    "We train models and analyze the RMSE metric."
   ]
  },
  {
   "cell_type": "code",
   "execution_count": 24,
   "metadata": {},
   "outputs": [],
   "source": [
    "model = LinearRegression()"
   ]
  },
  {
   "cell_type": "code",
   "execution_count": 25,
   "metadata": {},
   "outputs": [
    {
     "name": "stdout",
     "output_type": "stream",
     "text": [
      "RMSE - 37.76975339407468\n"
     ]
    }
   ],
   "source": [
    "model.fit(features_train_0, target_train_0)\n",
    "predicted_target_0 = model.predict(features_valid_0)\n",
    "print('RMSE -', mean_squared_error(target_valid_0, predicted_target_0)**0.5)"
   ]
  },
  {
   "cell_type": "code",
   "execution_count": 26,
   "metadata": {},
   "outputs": [
    {
     "name": "stdout",
     "output_type": "stream",
     "text": [
      "RMSE - 0.8923363210278951\n"
     ]
    }
   ],
   "source": [
    "model.fit(features_train_1, target_train_1)\n",
    "predicted_target_1 = model.predict(features_valid_1)\n",
    "print('RMSE -', mean_squared_error(target_valid_1, predicted_target_1)**0.5)"
   ]
  },
  {
   "cell_type": "code",
   "execution_count": 27,
   "metadata": {
    "scrolled": true
   },
   "outputs": [
    {
     "name": "stdout",
     "output_type": "stream",
     "text": [
      "RMSE - 40.00481199355259\n"
     ]
    }
   ],
   "source": [
    "model.fit(features_train_2, target_train_2)\n",
    "predicted_target_2 = model.predict(features_valid_2)\n",
    "print('RMSE -', mean_squared_error(target_valid_2, predicted_target_2)**0.5)"
   ]
  },
  {
   "cell_type": "markdown",
   "metadata": {},
   "source": [
    "Изменение стандартных значений гиперпараметров не улучшило модель. Произведем вывод предсказанного запаса с реальным и выведем RMSE.\n",
    "\n",
    "Changing the default hyperparameter values did not improve the model. Let's output the predicted stock with the real one and output RMSE."
   ]
  },
  {
   "cell_type": "code",
   "execution_count": 28,
   "metadata": {},
   "outputs": [],
   "source": [
    "model = LinearRegression()\n",
    "\n",
    "def oil_predict(df, target_name):\n",
    "    features = df.drop([target_name] , axis=1)\n",
    "    target = df[target_name]\n",
    "    \n",
    "    features_train, features_valid, target_train, target_valid = train_test_split(\n",
    "    features, target, test_size=0.25, random_state=202220222)\n",
    "    \n",
    "    model.fit(features_train, target_train)\n",
    "    predicted_target = model.predict(features_valid)\n",
    "    data = {'real_product' : target_valid,\n",
    "            'predicted_product' : predicted_target         \n",
    "    }\n",
    "    data_frame = pd.DataFrame(data, columns = ['real_product', 'predicted_product'])\n",
    "    rmse = mean_squared_error(target_valid, predicted_target)**0.5\n",
    "    mean = data_frame['predicted_product'].mean()\n",
    "    oil_sum = data_frame['predicted_product'].sum()\n",
    "    return data_frame, rmse, mean, oil_sum"
   ]
  },
  {
   "cell_type": "code",
   "execution_count": 31,
   "metadata": {},
   "outputs": [
    {
     "name": "stdout",
     "output_type": "stream",
     "text": [
      "       real_product  predicted_product\n",
      "60547    130.662078          91.535586\n",
      "41038     99.295243          97.998486\n",
      "19714    126.626532          83.666172\n",
      "39258    133.245392         104.377537\n",
      "97611     82.087083          99.531431\n",
      "RMSE - 37.70836100791255\n",
      "Средний запас запасанного сырья - 92.6539607275999\n"
     ]
    }
   ],
   "source": [
    "geo_data_0_predicted, geo_data_0_rmse, geo_data_0_predicted_mean, geo_data_0_predicted_sum = oil_predict(geo_data_0, 'product')\n",
    "print(geo_data_0_predicted.head())\n",
    "print('RMSE -', geo_data_0_rmse)\n",
    "print('Средний запас запасанного сырья -', geo_data_0_predicted_mean)"
   ]
  },
  {
   "cell_type": "code",
   "execution_count": 32,
   "metadata": {},
   "outputs": [
    {
     "name": "stdout",
     "output_type": "stream",
     "text": [
      "       real_product  predicted_product\n",
      "60547     26.953261          28.011541\n",
      "41038     80.859783          81.362351\n",
      "19714     30.132364          28.379624\n",
      "39258    110.992147         110.390774\n",
      "97611    110.992147         110.151580\n",
      "RMSE - 0.8906297528935063\n",
      "Средний запас запасанного сырья - 68.50864126539348\n"
     ]
    }
   ],
   "source": [
    "geo_data_1_predicted, geo_data_1_rmse, geo_data_1_predicted_mean, geo_data_1_predicted_sum = oil_predict(geo_data_1, 'product')\n",
    "print(geo_data_1_predicted.head())\n",
    "print('RMSE -', geo_data_1_rmse)\n",
    "print('Средний запас запасанного сырья -', geo_data_1_predicted_mean)"
   ]
  },
  {
   "cell_type": "code",
   "execution_count": 33,
   "metadata": {},
   "outputs": [
    {
     "name": "stdout",
     "output_type": "stream",
     "text": [
      "       real_product  predicted_product\n",
      "60547     49.073641          78.181724\n",
      "41038    149.573613         100.973163\n",
      "19714    111.922841         113.812101\n",
      "39258     37.312702          79.764822\n",
      "97611     68.003253          93.774460\n",
      "RMSE - 39.97587853000735\n",
      "Средний запас запасанного сырья - 94.840922580819\n"
     ]
    }
   ],
   "source": [
    "geo_data_2_predicted, geo_data_2_rmse, geo_data_2_predicted_mean, geo_data_2_predicted_sum = oil_predict(geo_data_2, 'product')\n",
    "print(geo_data_2_predicted.head())\n",
    "print('RMSE -', geo_data_2_rmse)\n",
    "print('Средний запас запасанного сырья -', geo_data_2_predicted_mean)"
   ]
  },
  {
   "cell_type": "markdown",
   "metadata": {},
   "source": [
    "Оценим общий запас на регион по предсказанным данным.\n",
    "\n",
    "Let us estimate the total stock per region according to the predicted data."
   ]
  },
  {
   "cell_type": "code",
   "execution_count": 34,
   "metadata": {},
   "outputs": [
    {
     "name": "stdout",
     "output_type": "stream",
     "text": [
      "Суммарный предсказанный запас в позиции 0 - 2316349.0181899974\n",
      "Суммарный реальный запас в позиции 0 - 2317363.976502965\n",
      "\n",
      "Суммарный предсказанный запас в позиции 1 - 1712716.031634837\n",
      "Суммарный реальный запас в позиции 1 - 1712760.7295402542\n",
      "\n",
      "Суммарный предсказанный запас в позиции 2 - 2371023.064520475\n",
      "Суммарный реальный запас в позиции 2 - 2361001.527965034\n"
     ]
    }
   ],
   "source": [
    "print('Суммарный предсказанный запас в позиции 0 -', geo_data_0_predicted_sum)\n",
    "print('Суммарный реальный запас в позиции 0 -', geo_data_0_predicted['real_product'].sum())\n",
    "print()\n",
    "print('Суммарный предсказанный запас в позиции 1 -', geo_data_1_predicted_sum)\n",
    "print('Суммарный реальный запас в позиции 1 -', geo_data_1_predicted['real_product'].sum())\n",
    "print()\n",
    "print('Суммарный предсказанный запас в позиции 2 -', geo_data_2_predicted_sum)\n",
    "print('Суммарный реальный запас в позиции 2 -', geo_data_2_predicted['real_product'].sum())"
   ]
  },
  {
   "cell_type": "markdown",
   "metadata": {},
   "source": [
    "### Выводы по второму этапу\n",
    "\n",
    "### Conclusions on the second stage"
   ]
  },
  {
   "cell_type": "markdown",
   "metadata": {},
   "source": [
    "Данные предсказаний о количестве нефти по сумме примерно совпадают по сумме с предсказанными значениями. Лучше всего модель предсказала запасы во втором регионе (RMSE - 0.88), далее в первом и третьем соответственно.\n",
    "\n",
    "Изучим все регионы на риски и прибыль.\n",
    "\n",
    "The amount of oil prediction data is roughly the same amount as the predicted values. Best of all, the model predicted reserves in the second region (RMSE - 0.88), then in the first and third, respectively.\n",
    "\n",
    "We will study all regions for risks and profits."
   ]
  },
  {
   "cell_type": "markdown",
   "metadata": {},
   "source": [
    "## Подготовка к расчёту прибыли\n",
    "\n",
    "## Preparation for profit calculation"
   ]
  },
  {
   "cell_type": "markdown",
   "metadata": {},
   "source": [
    "Создадим переменные об экономической информации.\n",
    "\n",
    "Let's create variables about economic information."
   ]
  },
  {
   "cell_type": "code",
   "execution_count": 56,
   "metadata": {},
   "outputs": [],
   "source": [
    "BUDGET = 1e+07 #Мы расчитываем прибыль в тысячах рублей за тысячу барелей, поэтому 1 милиард сохранен таким образом\n",
    "CHOSEN_POINTS = 500 #При разведке региона исследуются 500 точек\n",
    "BEST_POINTS = 200 #200 лучших будут выбраны для разработки\n",
    "PRICE_PER_BARREL = 450 #При нынешних ценах один баррель сырья приносит 450 рублей дохода"
   ]
  },
  {
   "cell_type": "markdown",
   "metadata": {},
   "source": [
    "Расчитаем безубыточную разработку сырья на 200 месторождениях. И найдем среднее количество продукта в месторождениях необходимое для этого.\n",
    "\n",
    "We calculate the break-even development of raw materials at 200 fields. And we will find the average amount of product in the deposits necessary for this."
   ]
  },
  {
   "cell_type": "code",
   "execution_count": 57,
   "metadata": {},
   "outputs": [
    {
     "name": "stdout",
     "output_type": "stream",
     "text": [
      "Средняя прибыль на лучшую точку - 50000.0 тыс.руб.\n",
      "Средний объем нефти на точку - 111.11111111111111 тыс. барелей\n",
      "Средний объем нефти на регион - 22222.222222222223 тыс. барелей\n"
     ]
    }
   ],
   "source": [
    "average_profit_per_point = BUDGET / BEST_POINTS\n",
    "print('Средняя прибыль на лучшую точку -', average_profit_per_point, 'тыс.руб.')\n",
    "\n",
    "average_barrels_per_point = average_profit_per_point  / PRICE_PER_BARREL\n",
    "print('Средний объем нефти на точку -',average_barrels_per_point, 'тыс. барелей')\n",
    "\n",
    "average_barrels = BUDGET / PRICE_PER_BARREL\n",
    "print('Средний объем нефти на регион -',average_barrels, 'тыс. барелей')"
   ]
  },
  {
   "cell_type": "code",
   "execution_count": 58,
   "metadata": {},
   "outputs": [
    {
     "name": "stdout",
     "output_type": "stream",
     "text": [
      "Средний запас фактичекой нефти на скважину в регионе 1 92.50000000000001\n",
      "Средний запас фактичекой нефти на скважину в регионе 2 68.82500000000002\n",
      "Средний запас фактичекой нефти на скважину в регионе 3 95.00000000000004\n"
     ]
    }
   ],
   "source": [
    "print('Средний запас фактичекой нефти на скважину в регионе 1', geo_data_0['product'].mean())\n",
    "print('Средний запас фактичекой нефти на скважину в регионе 2', geo_data_1['product'].mean())\n",
    "print('Средний запас фактичекой нефти на скважину в регионе 3', geo_data_2['product'].mean())"
   ]
  },
  {
   "cell_type": "markdown",
   "metadata": {},
   "source": [
    "Создадим функцию для расчета прибыли на 500 разведанных точек.\n",
    "\n",
    "Let's create a function to calculate profit for 500 explored points."
   ]
  },
  {
   "cell_type": "code",
   "execution_count": 59,
   "metadata": {},
   "outputs": [],
   "source": [
    "def oil_profit_calculation(target, probabilities, count):\n",
    "    probs_sorted = probabilities.sort_values(ascending=False)\n",
    "    selected = target[probs_sorted.index][:count]\n",
    "    return price_per_barrel * selected.sum() - BUDGET"
   ]
  },
  {
   "cell_type": "markdown",
   "metadata": {},
   "source": [
    "Выведем распределение предсказанных значений.\n",
    "\n",
    "Let's derive the distribution of predicted values."
   ]
  },
  {
   "cell_type": "code",
   "execution_count": 62,
   "metadata": {},
   "outputs": [
    {
     "data": {
      "image/png": "[encoded data removed]",
      "text/plain": [
       "<Figure size 864x648 with 1 Axes>"
      ]
     },
     "metadata": {
      "needs_background": "light"
     },
     "output_type": "display_data"
    }
   ],
   "source": [
    "oil_hist(geo_data_0_predicted['predicted_product'], 200, 190, 500)"
   ]
  },
  {
   "cell_type": "code",
   "execution_count": 73,
   "metadata": {},
   "outputs": [
    {
     "data": {
      "image/png": "[encoded data removed]",
      "text/plain": [
       "<Figure size 864x648 with 1 Axes>"
      ]
     },
     "metadata": {
      "needs_background": "light"
     },
     "output_type": "display_data"
    }
   ],
   "source": [
    "oil_hist(geo_data_1_predicted['predicted_product'], 20, 150, 5000)"
   ]
  },
  {
   "cell_type": "code",
   "execution_count": 74,
   "metadata": {},
   "outputs": [
    {
     "data": {
      "image/png": "[encoded data removed]",
      "text/plain": [
       "<Figure size 864x648 with 1 Axes>"
      ]
     },
     "metadata": {
      "needs_background": "light"
     },
     "output_type": "display_data"
    }
   ],
   "source": [
    "oil_hist(geo_data_2_predicted['predicted_product'], 200, 190, 500)"
   ]
  },
  {
   "cell_type": "markdown",
   "metadata": {},
   "source": [
    "### Выводы по третьему этапу\n",
    "\n",
    "### Conclusions on the third stage"
   ]
  },
  {
   "cell_type": "markdown",
   "metadata": {},
   "source": [
    "Была подготовлена средняя оценка прибили за скважину и средний объем на скважину. И создана функция по расчету прибыли.\n",
    "\n",
    "Анализ средних объемов на скважину для каждого региона следующий.\n",
    "\n",
    "Изучены средние фактические запасы. Для первого и третьего - высокая вероятность окупить затраты. Разброс значений вокруг среднего 92.5 и 95 говорит нам о том, что существует достаточно много скважин, где запасы больше необходимого среднего.\n",
    "\n",
    "Данные по второму региону показывают достаточно много значений больше 111, хотя и среднее значение 68.8, что может сделать данный регион также привлекательным, особенно с учётом точности предсказаний по региону согласно метрике RMSE.\n",
    "\n",
    "________________________________________________________________________________________________________________________________\n",
    "\n",
    "An average nailed estimate per well and an average volume per well were prepared. And a function was created to calculate the profit.\n",
    "\n",
    "The analysis of average volumes per well for each region is as follows.\n",
    "\n",
    "The average actual stocks have been studied. For the first and third - a high probability of recoupment of costs. The scatter of values around the average of 92.5 and 95 tells us that there are quite a few wells where the reserves are greater than the required average.\n",
    "\n",
    "Data for the second region shows quite a lot of values above 111, although the average value is 68.8, which can make this region also attractive, especially given the accuracy of predictions for the region according to the RMSE metric."
   ]
  },
  {
   "cell_type": "markdown",
   "metadata": {},
   "source": [
    "## Расчёт прибыли и рисков \n",
    "\n",
    "## Profit and Risk Calculation"
   ]
  },
  {
   "cell_type": "markdown",
   "metadata": {},
   "source": [
    "Посчитаем риски и прибыль для первого и третьего регионов с применением техники Bootstrap.\n",
    "\n",
    "Let's calculate the risks and rewards for the first and third regions using the Bootstrap technique."
   ]
  },
  {
   "cell_type": "code",
   "execution_count": 63,
   "metadata": {},
   "outputs": [],
   "source": [
    "state = np.random.RandomState(5062020)\n",
    "def bootstrap_1000(target, probs):\n",
    "    values=[]\n",
    "    lost = 0\n",
    "    for i in range(1000):\n",
    "        target_sample = target.sample(replace=True, random_state=state, n=chosen_points)\n",
    "        probs_sample = probs[target_sample.index]\n",
    "        profit = oil_profit_calculation(target, probs_sample, best_points)\n",
    "        if profit < 0:\n",
    "            lost +=1\n",
    "        values.append(profit)\n",
    "    \n",
    "    values = pd.Series(values)\n",
    "    lower = values.quantile(0.025)\n",
    "    upper = values.quantile(0.975)\n",
    "    average = values.mean()\n",
    "    risk = lost / 1000\n",
    "    print('Средняя прибыль по региону = {:.2f} тыс.руб.'.format(average))\n",
    "    print('95% доверительный интервал от {:.2f} до {:.2f} тыс.руб.'.format(lower, upper))\n",
    "    print('Процент риска {:.2%}'.format(risk))"
   ]
  },
  {
   "cell_type": "code",
   "execution_count": 64,
   "metadata": {},
   "outputs": [
    {
     "name": "stdout",
     "output_type": "stream",
     "text": [
      "Данные по первому региону.\n",
      "Средняя прибыль по региону = 426662.30 тыс.руб.\n",
      "95% доверительный интервал от -105251.23 до 911299.38 тыс.руб.\n",
      "Процент риска 4.60%\n"
     ]
    }
   ],
   "source": [
    "print('Данные по первому региону.')\n",
    "\n",
    "bootstrap_1000(geo_data_0_predicted['real_product'], geo_data_0_predicted['predicted_product'])"
   ]
  },
  {
   "cell_type": "code",
   "execution_count": 54,
   "metadata": {},
   "outputs": [
    {
     "name": "stdout",
     "output_type": "stream",
     "text": [
      "Данные по второму региону.\n",
      "Средняя прибыль по региону = 408714.89 тыс.руб.\n",
      "95% доверительный интервал от 12518.62 до 834588.94 тыс.руб.\n",
      "Процент риска 2.10%\n"
     ]
    }
   ],
   "source": [
    "print('Данные по второму региону.')\n",
    "\n",
    "bootstrap_1000(geo_data_1_predicted['real_product'], geo_data_1_predicted['predicted_product'])"
   ]
  },
  {
   "cell_type": "code",
   "execution_count": 55,
   "metadata": {
    "scrolled": true
   },
   "outputs": [
    {
     "name": "stdout",
     "output_type": "stream",
     "text": [
      "Данные по третьему региону.\n",
      "Средняя прибыль по региону = 322242.56 тыс.руб.\n",
      "95% доверительный интервал от -223368.29 до 834663.53 тыс.руб.\n",
      "Процент риска 12.80%\n"
     ]
    }
   ],
   "source": [
    "print('Данные по третьему региону.')\n",
    "\n",
    "bootstrap_1000(geo_data_2_predicted['real_product'], geo_data_2_predicted['predicted_product'])"
   ]
  },
  {
   "cell_type": "markdown",
   "metadata": {},
   "source": [
    "### Выводы по четвёртому этапу\n",
    "\n",
    "### Conclusions on the fourth stage"
   ]
  },
  {
   "cell_type": "markdown",
   "metadata": {},
   "source": [
    "Данные были обработаны и рассчитаны прибыль, интервал и риски.\n",
    "\n",
    "Мы отсеиваем первый и третий регион, так как риски остаточно велики. Остается один единственный - второй, чей риск ниже требуемого. Кроме того доверительный интервал показывает, что даже при не очень удачном выборе разработка скважин окупится.\n",
    "\n",
    "________________________________________________________________________________________________________________________________\n",
    "\n",
    "The data was processed and profit, interval and risks were calculated.\n",
    "\n",
    "We filter out the first and third regions, as the risks are still high. Only one remains - the second, whose risk is lower than required. In addition, the confidence interval shows that even with a not very good choice, well development will pay off."
   ]
  },
  {
   "cell_type": "markdown",
   "metadata": {},
   "source": [
    "## Итоговый вывод\n",
    "\n",
    "## Final output"
   ]
  },
  {
   "cell_type": "markdown",
   "metadata": {},
   "source": [
    "При выполнении данного проекта были выполнены следующие этапы:\n",
    "\n",
    "- Изучины данные. Проведена подготовка данных к моделированию.\n",
    "- Обучена модель для каждого региона geo_data_0, geo_data_1 и geo_data_2.\n",
    "- Составлена функция расчета прибыли в регионе.\n",
    "- Посчитана прибыль и риски за каждый регион и обоснован выбор региона.\n",
    "\n",
    "Второй регион получился одним из лучших по показателям предсказывания, хотя данные не выглядят нормально распределенными. Рекомендуется обратиться к заказчику по поводу перепроверки выданных данных.\n",
    "\n",
    "________________________________________________________________________________________________________________________________\n",
    "\n",
    "During the implementation of this project, the following steps were carried out:\n",
    "\n",
    "- Learn the data. Data preparation for modeling was carried out.\n",
    "- A model was trained for each region geo_data_0, geo_data_1 and geo_data_2.\n",
    "- Compiled a function for calculating profits in the region.\n",
    "- The profit and risks for each region were calculated and the choice of the region was justified.\n",
    "\n",
    "The second region turned out to be one of the best in terms of predictive performance, although the data does not look normally distributed. It is recommended to contact the customer about rechecking the issued data."
   ]
  },
  {
   "cell_type": "code",
   "execution_count": null,
   "metadata": {},
   "outputs": [],
   "source": []
  }
 ],
 "metadata": {
  "ExecuteTimeLog": [
   {
    "duration": 4,
    "start_time": "2022-10-17T09:27:39.732Z"
   },
   {
    "duration": 385,
    "start_time": "2022-10-17T09:30:11.144Z"
   },
   {
    "duration": 207,
    "start_time": "2022-10-17T09:30:20.103Z"
   },
   {
    "duration": 204,
    "start_time": "2022-10-17T09:30:22.196Z"
   },
   {
    "duration": 135,
    "start_time": "2022-10-17T09:30:46.867Z"
   },
   {
    "duration": 17,
    "start_time": "2022-10-17T09:30:49.138Z"
   },
   {
    "duration": 131,
    "start_time": "2022-10-17T09:30:59.390Z"
   },
   {
    "duration": 17,
    "start_time": "2022-10-17T09:31:01.698Z"
   },
   {
    "duration": 130,
    "start_time": "2022-10-17T09:31:19.015Z"
   },
   {
    "duration": 18,
    "start_time": "2022-10-17T09:31:22.650Z"
   },
   {
    "duration": 10,
    "start_time": "2022-10-17T09:32:47.771Z"
   },
   {
    "duration": 17,
    "start_time": "2022-10-17T09:33:05.850Z"
   },
   {
    "duration": 10,
    "start_time": "2022-10-17T09:33:16.513Z"
   },
   {
    "duration": 10,
    "start_time": "2022-10-17T09:33:18.527Z"
   },
   {
    "duration": 5,
    "start_time": "2022-10-17T09:33:49.731Z"
   },
   {
    "duration": 110,
    "start_time": "2022-10-17T09:33:56.864Z"
   },
   {
    "duration": 171,
    "start_time": "2022-10-17T09:34:07.585Z"
   },
   {
    "duration": 5,
    "start_time": "2022-10-17T09:34:17.302Z"
   },
   {
    "duration": 148,
    "start_time": "2022-10-17T09:34:18.723Z"
   },
   {
    "duration": 147,
    "start_time": "2022-10-17T09:34:39.331Z"
   },
   {
    "duration": 190,
    "start_time": "2022-10-17T09:34:41.493Z"
   },
   {
    "duration": 18,
    "start_time": "2022-10-17T09:39:15.936Z"
   },
   {
    "duration": 14,
    "start_time": "2022-10-17T09:39:32.471Z"
   },
   {
    "duration": 18,
    "start_time": "2022-10-17T09:39:51.012Z"
   },
   {
    "duration": 22,
    "start_time": "2022-10-17T09:39:55.928Z"
   },
   {
    "duration": 39,
    "start_time": "2022-10-17T09:40:40.251Z"
   },
   {
    "duration": 52,
    "start_time": "2022-10-17T09:40:49.127Z"
   },
   {
    "duration": 15,
    "start_time": "2022-10-17T09:42:01.533Z"
   },
   {
    "duration": 4,
    "start_time": "2022-10-17T09:44:24.945Z"
   },
   {
    "duration": 610,
    "start_time": "2022-10-17T09:44:39.122Z"
   },
   {
    "duration": 528,
    "start_time": "2022-10-17T09:44:53.138Z"
   },
   {
    "duration": 501,
    "start_time": "2022-10-17T09:44:59.340Z"
   },
   {
    "duration": 5,
    "start_time": "2022-10-17T09:45:16.038Z"
   },
   {
    "duration": 701,
    "start_time": "2022-10-17T09:45:18.611Z"
   },
   {
    "duration": 5,
    "start_time": "2022-10-17T09:45:35.592Z"
   },
   {
    "duration": 409,
    "start_time": "2022-10-17T09:45:37.932Z"
   },
   {
    "duration": 402,
    "start_time": "2022-10-17T09:45:42.240Z"
   },
   {
    "duration": 558,
    "start_time": "2022-10-17T09:45:46.992Z"
   },
   {
    "duration": 180,
    "start_time": "2022-10-17T09:47:26.432Z"
   },
   {
    "duration": 2879,
    "start_time": "2022-10-17T09:47:33.792Z"
   },
   {
    "duration": 427,
    "start_time": "2022-10-17T09:47:49.281Z"
   },
   {
    "duration": 413,
    "start_time": "2022-10-17T09:48:05.529Z"
   },
   {
    "duration": 5,
    "start_time": "2022-10-17T09:49:50.972Z"
   },
   {
    "duration": 21,
    "start_time": "2022-10-17T09:49:59.670Z"
   },
   {
    "duration": 5,
    "start_time": "2022-10-17T09:50:24.381Z"
   },
   {
    "duration": 23,
    "start_time": "2022-10-17T09:51:43.556Z"
   },
   {
    "duration": 4,
    "start_time": "2022-10-17T09:53:24.872Z"
   },
   {
    "duration": 22,
    "start_time": "2022-10-17T09:53:25.660Z"
   },
   {
    "duration": 22,
    "start_time": "2022-10-17T09:53:44.835Z"
   },
   {
    "duration": 15,
    "start_time": "2022-10-17T09:59:12.812Z"
   },
   {
    "duration": 3,
    "start_time": "2022-10-17T09:59:42.959Z"
   },
   {
    "duration": 16,
    "start_time": "2022-10-17T09:59:57.680Z"
   },
   {
    "duration": 17,
    "start_time": "2022-10-17T09:59:58.933Z"
   },
   {
    "duration": 4,
    "start_time": "2022-10-17T10:01:00.754Z"
   },
   {
    "duration": 103,
    "start_time": "2022-10-17T10:01:02.950Z"
   },
   {
    "duration": 17,
    "start_time": "2022-10-17T10:01:38.173Z"
   },
   {
    "duration": 15,
    "start_time": "2022-10-17T10:01:39.476Z"
   },
   {
    "duration": 18,
    "start_time": "2022-10-17T10:05:45.977Z"
   },
   {
    "duration": 15,
    "start_time": "2022-10-17T10:05:46.673Z"
   },
   {
    "duration": 16,
    "start_time": "2022-10-17T10:05:47.341Z"
   },
   {
    "duration": 5,
    "start_time": "2022-10-17T10:08:14.578Z"
   },
   {
    "duration": 83,
    "start_time": "2022-10-17T10:08:33.274Z"
   },
   {
    "duration": 33,
    "start_time": "2022-10-17T10:08:34.243Z"
   },
   {
    "duration": 32,
    "start_time": "2022-10-17T10:08:34.973Z"
   },
   {
    "duration": 7,
    "start_time": "2022-10-17T10:09:47.635Z"
   },
   {
    "duration": 3,
    "start_time": "2022-10-17T10:18:28.174Z"
   },
   {
    "duration": 3,
    "start_time": "2022-10-17T10:21:06.175Z"
   },
   {
    "duration": 6,
    "start_time": "2022-10-17T10:21:43.383Z"
   },
   {
    "duration": 6,
    "start_time": "2022-10-17T10:22:28.515Z"
   },
   {
    "duration": 3,
    "start_time": "2022-10-17T10:23:03.515Z"
   },
   {
    "duration": 696,
    "start_time": "2022-10-17T10:23:16.275Z"
   },
   {
    "duration": 182,
    "start_time": "2022-10-17T10:23:58.091Z"
   },
   {
    "duration": 402,
    "start_time": "2022-10-17T10:24:05.855Z"
   },
   {
    "duration": 5,
    "start_time": "2022-10-17T10:28:39.013Z"
   },
   {
    "duration": 6,
    "start_time": "2022-10-17T10:30:35.692Z"
   },
   {
    "duration": 981,
    "start_time": "2022-10-17T10:30:44.863Z"
   },
   {
    "duration": 955,
    "start_time": "2022-10-17T10:31:12.841Z"
   },
   {
    "duration": 1002,
    "start_time": "2022-10-17T10:31:47.653Z"
   },
   {
    "duration": 1663,
    "start_time": "2022-10-17T13:05:28.690Z"
   },
   {
    "duration": 570,
    "start_time": "2022-10-17T13:05:31.706Z"
   },
   {
    "duration": 621,
    "start_time": "2022-10-17T13:05:34.452Z"
   },
   {
    "duration": 623,
    "start_time": "2022-10-17T13:05:37.109Z"
   },
   {
    "duration": 5,
    "start_time": "2022-10-17T13:05:49.536Z"
   },
   {
    "duration": 32,
    "start_time": "2022-10-17T13:05:50.284Z"
   },
   {
    "duration": 31,
    "start_time": "2022-10-17T13:05:50.611Z"
   },
   {
    "duration": 21,
    "start_time": "2022-10-17T13:05:50.936Z"
   },
   {
    "duration": 2,
    "start_time": "2022-10-17T13:05:53.662Z"
   },
   {
    "duration": 133,
    "start_time": "2022-10-17T13:05:54.266Z"
   },
   {
    "duration": 42,
    "start_time": "2022-10-17T13:06:20.690Z"
   },
   {
    "duration": 31,
    "start_time": "2022-10-17T13:06:51.670Z"
   },
   {
    "duration": 3,
    "start_time": "2022-10-17T13:07:01.883Z"
   },
   {
    "duration": 24,
    "start_time": "2022-10-17T13:07:02.640Z"
   },
   {
    "duration": 25,
    "start_time": "2022-10-17T13:07:02.911Z"
   },
   {
    "duration": 32,
    "start_time": "2022-10-17T13:07:03.191Z"
   },
   {
    "duration": 3,
    "start_time": "2022-10-17T13:07:04.728Z"
   },
   {
    "duration": 32,
    "start_time": "2022-10-17T13:07:05.697Z"
   },
   {
    "duration": 10,
    "start_time": "2022-10-17T13:07:11.250Z"
   },
   {
    "duration": 3,
    "start_time": "2022-10-17T13:07:16.270Z"
   },
   {
    "duration": 13,
    "start_time": "2022-10-17T13:07:16.496Z"
   },
   {
    "duration": 18,
    "start_time": "2022-10-17T13:07:16.711Z"
   },
   {
    "duration": 15,
    "start_time": "2022-10-17T13:07:17.001Z"
   },
   {
    "duration": 3,
    "start_time": "2022-10-17T13:07:17.970Z"
   },
   {
    "duration": 80,
    "start_time": "2022-10-17T13:07:18.620Z"
   },
   {
    "duration": 16,
    "start_time": "2022-10-17T13:07:20.481Z"
   },
   {
    "duration": 16,
    "start_time": "2022-10-17T13:07:20.802Z"
   },
   {
    "duration": 5,
    "start_time": "2022-10-17T13:07:44.573Z"
   },
   {
    "duration": 5,
    "start_time": "2022-10-17T13:07:55.259Z"
   },
   {
    "duration": 9,
    "start_time": "2022-10-17T13:07:57.979Z"
   },
   {
    "duration": 31,
    "start_time": "2022-10-17T13:08:08.061Z"
   },
   {
    "duration": 29,
    "start_time": "2022-10-17T13:08:09.472Z"
   },
   {
    "duration": 31,
    "start_time": "2022-10-17T13:08:09.958Z"
   },
   {
    "duration": 8,
    "start_time": "2022-10-17T13:08:11.190Z"
   },
   {
    "duration": 14,
    "start_time": "2022-10-17T13:08:17.441Z"
   },
   {
    "duration": 10,
    "start_time": "2022-10-17T13:08:22.764Z"
   },
   {
    "duration": 6,
    "start_time": "2022-10-17T13:08:23.211Z"
   },
   {
    "duration": 4,
    "start_time": "2022-10-17T13:08:27.111Z"
   },
   {
    "duration": 6,
    "start_time": "2022-10-17T13:08:29.269Z"
   },
   {
    "duration": 7,
    "start_time": "2022-10-17T13:08:31.970Z"
   },
   {
    "duration": 3,
    "start_time": "2022-10-17T13:08:34.342Z"
   },
   {
    "duration": 5,
    "start_time": "2022-10-17T13:08:38.657Z"
   },
   {
    "duration": 980,
    "start_time": "2022-10-17T13:08:41.203Z"
   },
   {
    "duration": 6,
    "start_time": "2022-10-17T13:09:58.505Z"
   },
   {
    "duration": 940,
    "start_time": "2022-10-17T13:10:01.008Z"
   },
   {
    "duration": 907,
    "start_time": "2022-10-17T13:10:25.420Z"
   },
   {
    "duration": 1032,
    "start_time": "2022-10-17T13:11:18.441Z"
   },
   {
    "duration": 6,
    "start_time": "2022-10-17T13:11:32.690Z"
   },
   {
    "duration": 907,
    "start_time": "2022-10-17T13:11:35.849Z"
   },
   {
    "duration": 905,
    "start_time": "2022-10-17T13:12:33.541Z"
   },
   {
    "duration": 894,
    "start_time": "2022-10-17T13:12:35.561Z"
   },
   {
    "duration": 7,
    "start_time": "2022-10-17T13:13:37.172Z"
   },
   {
    "duration": 956,
    "start_time": "2022-10-17T13:13:40.801Z"
   },
   {
    "duration": 912,
    "start_time": "2022-10-17T13:13:43.642Z"
   },
   {
    "duration": 871,
    "start_time": "2022-10-17T13:13:47.658Z"
   },
   {
    "duration": 3,
    "start_time": "2022-10-17T13:16:49.789Z"
   },
   {
    "duration": 5,
    "start_time": "2022-10-17T13:17:46.716Z"
   },
   {
    "duration": 7,
    "start_time": "2022-10-17T13:17:49.666Z"
   },
   {
    "duration": 4,
    "start_time": "2022-10-17T13:18:02.728Z"
   },
   {
    "duration": 10,
    "start_time": "2022-10-17T13:18:06.133Z"
   },
   {
    "duration": 5,
    "start_time": "2022-10-17T13:18:21.718Z"
   },
   {
    "duration": 396,
    "start_time": "2022-10-17T13:18:28.008Z"
   },
   {
    "duration": 7,
    "start_time": "2022-10-17T13:18:33.444Z"
   },
   {
    "duration": 941,
    "start_time": "2022-10-17T13:18:36.998Z"
   },
   {
    "duration": 246,
    "start_time": "2022-10-17T13:45:15.360Z"
   }
  ],
  "kernelspec": {
   "display_name": "Python 3 (ipykernel)",
   "language": "python",
   "name": "python3"
  },
  "language_info": {
   "codemirror_mode": {
    "name": "ipython",
    "version": 3
   },
   "file_extension": ".py",
   "mimetype": "text/x-python",
   "name": "python",
   "nbconvert_exporter": "python",
   "pygments_lexer": "ipython3",
   "version": "3.9.13"
  },
  "toc": {
   "base_numbering": 1,
   "nav_menu": {},
   "number_sections": true,
   "sideBar": true,
   "skip_h1_title": true,
   "title_cell": "Table of Contents",
   "title_sidebar": "Contents",
   "toc_cell": false,
   "toc_position": {},
   "toc_section_display": true,
   "toc_window_display": false
  }
 },
 "nbformat": 4,
 "nbformat_minor": 2
}
