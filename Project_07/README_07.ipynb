{
 "cells": [
  {
   "cell_type": "markdown",
   "id": "812d4807",
   "metadata": {},
   "source": [
    "## Project_07\n",
    "\n",
    "### Машинное обучение в бизнесе\n",
    "Допустим, вы работаете в добывающей компании «ГлавРосГосНефть». Нужно решить, где бурить новую скважину. Вам предоставлены пробы нефти в трёх регионах: в каждом — 100 000 месторождений, где измерили качество нефти и объём её запасов. Постройте модель машинного обучения, которая поможет определить регион, где добыча принесёт наибольшую прибыль.\n",
    "\n",
    "Шаги для выбора локации обычно такие:\n",
    "- В избранном регионе собирают характеристики для скважин: качество нефти и объём её запасов;\n",
    "- Строят модель для предсказания объёма запасов в новых скважинах;\n",
    "- Выбирают скважины с самыми высокими оценками значений;\n",
    "- Определяют регион с максимальной суммарной прибылью отобранных скважин.\n",
    "\n",
    "### Machine learning in business\n",
    "Suppose you work at GlavRosGosNeft production company. We need to decide where to drill the new well. You have been given samples of oil in three regions: in each region there are 100,000 oil fields where the quality of oil and the volume of its reserves were measured. Build a model of machine training that will help you determine the region where production will bring the most profit.\n",
    "\n",
    "The steps for choosing a location are usually as follows:\n",
    "- Characteristics for wells are collected in the selected region: oil quality and volume of its reserves;\n",
    "- Build a model to predict the volume of reserves in new wells;\n",
    "- Choose the wells with the highest value estimates;\n",
    "- Determine the region with the maximum total profit of the selected wells.\n",
    "\n",
    "### Описание данных\n",
    "\n",
    "**Данные геологоразведки трёх регионов находятся в файлах:**\n",
    "- /datasets/geo_data_0.csv. \n",
    "- /datasets/geo_data_1.csv. \n",
    "- /datasets/geo_data_2.csv. \n",
    "**Признаки**\n",
    "- id — уникальный идентификатор скважины;\n",
    "- f0, f1, f2 — три признака точек (неважно, что они означают, но сами признаки значимы);\n",
    "- product — объём запасов в скважине (тыс. баррелей).\n",
    "\n",
    "### Description of data\n",
    "\n",
    "**Geological exploration data of three regions are in the files:**\n",
    "- /datasets/geo_data_0.csv.\n",
    "- /datasets/geo_data_1.csv.\n",
    "- /datasets/geo_data_2.csv.\n",
    "**Signs**\n",
    "- id - unique identifier of the well;\n",
    "- f0, f1, f2 - three signs of points (it doesn't matter what they mean, but the signs themselves are significant);\n",
    "- product - the volume of reserves in the well (thousand barrels)."
   ]
  },
  {
   "cell_type": "code",
   "execution_count": null,
   "id": "2a8eff69",
   "metadata": {},
   "outputs": [],
   "source": []
  }
 ],
 "metadata": {
  "kernelspec": {
   "display_name": "Python 3 (ipykernel)",
   "language": "python",
   "name": "python3"
  },
  "language_info": {
   "codemirror_mode": {
    "name": "ipython",
    "version": 3
   },
   "file_extension": ".py",
   "mimetype": "text/x-python",
   "name": "python",
   "nbconvert_exporter": "python",
   "pygments_lexer": "ipython3",
   "version": "3.9.13"
  }
 },
 "nbformat": 4,
 "nbformat_minor": 5
}
