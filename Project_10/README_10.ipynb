{
 "cells": [
  {
   "cell_type": "markdown",
   "id": "04eb3a74",
   "metadata": {},
   "source": [
    "## Project_10\n",
    "\n",
    "### Временные ряды\n",
    "Компания «Чётенькое такси» собрала исторические данные о заказах такси в аэропортах. Чтобы привлекать больше водителей в период пиковой нагрузки, нужно спрогнозировать количество заказов такси на следующий час. Постройте модель для такого предсказания.\n",
    "\n",
    "Значение метрики RMSE на тестовой выборке должно быть не больше 48.\n",
    "\n",
    "Количество заказов находится в столбце 'num_orders' (от англ. number of orders, «число заказов»).\n",
    "\n",
    "### Time series\n",
    "\"Cool Taxi\" Company has collected historical data on taxi orders at airports. To attract more drivers during the peak load, you need to predict the number of taxi orders for the next hour. Build a model for such a prediction.\n",
    "\n",
    "The value of the RMSE metric on the test sample should be no more than 48.\n",
    "\n",
    "The number of orders is in the 'num_orders' column."
   ]
  },
  {
   "cell_type": "code",
   "execution_count": null,
   "id": "9ac7649f",
   "metadata": {},
   "outputs": [],
   "source": []
  }
 ],
 "metadata": {
  "kernelspec": {
   "display_name": "Python 3 (ipykernel)",
   "language": "python",
   "name": "python3"
  },
  "language_info": {
   "codemirror_mode": {
    "name": "ipython",
    "version": 3
   },
   "file_extension": ".py",
   "mimetype": "text/x-python",
   "name": "python",
   "nbconvert_exporter": "python",
   "pygments_lexer": "ipython3",
   "version": "3.9.13"
  }
 },
 "nbformat": 4,
 "nbformat_minor": 5
}
