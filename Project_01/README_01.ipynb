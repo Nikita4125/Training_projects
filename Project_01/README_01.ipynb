{
 "cells": [
  {
   "cell_type": "markdown",
   "id": "73e7c5d1",
   "metadata": {},
   "source": [
    "## Project_01 \n",
    "\n",
    "### Предобработка данных\n",
    "Заказчик — кредитный отдел банка. Нужно разобраться, влияет ли семейное положение и количество детей клиента на факт погашения кредита в срок. Входные данные от банка — статистика о платёжеспособности клиентов.\n",
    "Результаты исследования будут учтены при построении модели кредитного скоринга — специальной системы, которая оценивает способность потенциального заёмщика вернуть кредит банку.\n",
    "\n",
    "### Data Processing\n",
    "The customer is the bank's credit department. It is necessary to find out, whether family status and number of children of the client influence on the fact of loan repayment in due time. Input data from the bank - statistics on clients' solvency.\n",
    "The results of the research will be taken into account when building a credit scoring model - a special system that evaluates the ability of a potential borrower to repay a loan to the bank.\n",
    "\n",
    "### Описание данных\n",
    "\n",
    "- children — количество детей в семье\n",
    "- days_employed — общий трудовой стаж в днях\n",
    "- dob_years — возраст клиента в годах\n",
    "- education — уровень образования клиента\n",
    "- education_id — идентификатор уровня образования\n",
    "- family_status — семейное положение\n",
    "- family_status_id — идентификатор семейного положения\n",
    "- gender — пол клиента\n",
    "- income_type — тип занятости\n",
    "- debt — имел ли задолженность по возврату кредитов\n",
    "- total_income — ежемесячный доход\n",
    "- purpose — цель получения кредита\n",
    "\n",
    "\n",
    "### Description of data\n",
    "\n",
    "- children — number of children in the family\n",
    "- days_employed - total work experience in days\n",
    "- dob_years — client's age in years\n",
    "- education — the level of education of the client\n",
    "- education_id — education level identifier\n",
    "- family_status - marital status\n",
    "- family_status_id - marital status identifier\n",
    "- gender — gender of the client\n",
    "- income_type - type of employment\n",
    "- debt — whether he had any debt to repay loans\n",
    "- total_income - monthly income\n",
    "- purpose — the purpose of obtaining a loan"
   ]
  },
  {
   "cell_type": "code",
   "execution_count": null,
   "id": "c79419fc",
   "metadata": {},
   "outputs": [],
   "source": []
  }
 ],
 "metadata": {
  "kernelspec": {
   "display_name": "Python 3 (ipykernel)",
   "language": "python",
   "name": "python3"
  },
  "language_info": {
   "codemirror_mode": {
    "name": "ipython",
    "version": 3
   },
   "file_extension": ".py",
   "mimetype": "text/x-python",
   "name": "python",
   "nbconvert_exporter": "python",
   "pygments_lexer": "ipython3",
   "version": "3.9.13"
  }
 },
 "nbformat": 4,
 "nbformat_minor": 5
}
