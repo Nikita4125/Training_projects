{
 "cells": [
  {
   "cell_type": "markdown",
   "metadata": {
    "toc": true
   },
   "source": [
    "<h1>Содержание<span class=\"tocSkip\"></span></h1>\n",
    "<div class=\"toc\"><ul class=\"toc-item\"><li><span><a href=\"#Подготовка-данных\" data-toc-modified-id=\"Подготовка-данных-1\"><span class=\"toc-item-num\">1&nbsp;&nbsp;</span>Подготовка данных</a></span><ul class=\"toc-item\"><li><span><a href=\"#Выводы-по-1-этапу\" data-toc-modified-id=\"Выводы-по-1-этапу-1.1\"><span class=\"toc-item-num\">1.1&nbsp;&nbsp;</span>Выводы по 1 этапу</a></span></li></ul></li><li><span><a href=\"#Исследование-задачи\" data-toc-modified-id=\"Исследование-задачи-2\"><span class=\"toc-item-num\">2&nbsp;&nbsp;</span>Исследование задачи</a></span><ul class=\"toc-item\"><li><span><a href=\"#Выводы-по-2-этапу\" data-toc-modified-id=\"Выводы-по-2-этапу-2.1\"><span class=\"toc-item-num\">2.1&nbsp;&nbsp;</span>Выводы по 2 этапу</a></span></li></ul></li><li><span><a href=\"#Борьба-с-дисбалансом\" data-toc-modified-id=\"Борьба-с-дисбалансом-3\"><span class=\"toc-item-num\">3&nbsp;&nbsp;</span>Борьба с дисбалансом</a></span><ul class=\"toc-item\"><li><span><a href=\"#Выводы-по-3-этапу\" data-toc-modified-id=\"Выводы-по-3-этапу-3.1\"><span class=\"toc-item-num\">3.1&nbsp;&nbsp;</span>Выводы по 3 этапу</a></span></li></ul></li><li><span><a href=\"#Тестирование-модели\" data-toc-modified-id=\"Тестирование-модели-4\"><span class=\"toc-item-num\">4&nbsp;&nbsp;</span>Тестирование модели</a></span><ul class=\"toc-item\"><li><span><a href=\"#Выводы-по-4-этапу\" data-toc-modified-id=\"Выводы-по-4-этапу-4.1\"><span class=\"toc-item-num\">4.1&nbsp;&nbsp;</span>Выводы по 4 этапу</a></span></li></ul></li><li><span><a href=\"#Итоговый-вывод\" data-toc-modified-id=\"Итоговый-вывод-5\"><span class=\"toc-item-num\">5&nbsp;&nbsp;</span>Итоговый вывод</a></span></li><li><span><a href=\"#Чек-лист-готовности-проекта\" data-toc-modified-id=\"Чек-лист-готовности-проекта-6\"><span class=\"toc-item-num\">6&nbsp;&nbsp;</span>Чек-лист готовности проекта</a></span></li></ul></div>"
   ]
  },
  {
   "cell_type": "markdown",
   "metadata": {},
   "source": [
    "# Отток клиентов\n",
    "\n",
    "# Customer churn"
   ]
  },
  {
   "cell_type": "markdown",
   "metadata": {},
   "source": [
    "Из «Бета-Банка» стали уходить клиенты. Каждый месяц. Немного, но заметно. Банковские маркетологи посчитали: сохранять текущих клиентов дешевле, чем привлекать новых.\n",
    "\n",
    "Нужно спрогнозировать, уйдёт клиент из банка в ближайшее время или нет. Вам предоставлены исторические данные о поведении клиентов и расторжении договоров с банком. \n",
    "\n",
    "Постройте модель с предельно большим значением *F1*-меры. Чтобы сдать проект успешно, нужно довести метрику до 0.59. Проверьте *F1*-меру на тестовой выборке самостоятельно.\n",
    "\n",
    "Дополнительно измеряйте *AUC-ROC*, сравнивайте её значение с *F1*-мерой.\n",
    "\n",
    "Источник данных: [https://www.kaggle.com/barelydedicated/bank-customer-churn-modeling](https://www.kaggle.com/barelydedicated/bank-customer-churn-modeling)\n",
    "\n",
    "________________________________________________________________________________________________________________________________\n",
    "\n",
    "Customers began to leave Beta-Bank. Every month. A little, but noticeable. Banking marketers figured it was cheaper to keep current customers than to attract new ones.\n",
    "\n",
    "It is necessary to predict whether the client will leave the bank in the near future or not. You are provided with historical data on customer behavior and termination of agreements with the bank.\n",
    "\n",
    "Build a model with an extremely large *F1*-measure. To pass the project successfully, you need to bring the metric to 0.59. Check the *F1*-measure on the test set yourself.\n",
    "\n",
    "Additionally measure *AUC-ROC*, compare its value with *F1*-measure.\n",
    "\n",
    "Data Source: [https://www.kaggle.com/barelydedicated/bank-customer-churn-modeling](https://www.kaggle.com/barelydedicated/bank-customer-churn-modeling)"
   ]
  },
  {
   "cell_type": "markdown",
   "metadata": {},
   "source": [
    "## Подготовка данных\n",
    "\n",
    "## Data preparation"
   ]
  },
  {
   "cell_type": "code",
   "execution_count": 1,
   "metadata": {},
   "outputs": [],
   "source": [
    "import matplotlib.pyplot as plt\n",
    "import itertools\n",
    "from tqdm import tqdm\n",
    "import numpy as np\n",
    "import pandas as pd\n",
    "from sklearn.model_selection import train_test_split\n",
    "from sklearn.linear_model import LogisticRegression\n",
    "from sklearn.tree import DecisionTreeClassifier\n",
    "from sklearn.ensemble import RandomForestClassifier\n",
    "from sklearn.naive_bayes import GaussianNB\n",
    "from sklearn.metrics import f1_score, precision_score, recall_score, accuracy_score, roc_auc_score, roc_curve\n",
    "from sklearn.utils import shuffle"
   ]
  },
  {
   "cell_type": "code",
   "execution_count": 3,
   "metadata": {},
   "outputs": [
    {
     "name": "stdout",
     "output_type": "stream",
     "text": [
      "<class 'pandas.core.frame.DataFrame'>\n",
      "RangeIndex: 10000 entries, 0 to 9999\n",
      "Data columns (total 14 columns):\n",
      " #   Column           Non-Null Count  Dtype  \n",
      "---  ------           --------------  -----  \n",
      " 0   RowNumber        10000 non-null  int64  \n",
      " 1   CustomerId       10000 non-null  int64  \n",
      " 2   Surname          10000 non-null  object \n",
      " 3   CreditScore      10000 non-null  int64  \n",
      " 4   Geography        10000 non-null  object \n",
      " 5   Gender           10000 non-null  object \n",
      " 6   Age              10000 non-null  int64  \n",
      " 7   Tenure           9091 non-null   float64\n",
      " 8   Balance          10000 non-null  float64\n",
      " 9   NumOfProducts    10000 non-null  int64  \n",
      " 10  HasCrCard        10000 non-null  int64  \n",
      " 11  IsActiveMember   10000 non-null  int64  \n",
      " 12  EstimatedSalary  10000 non-null  float64\n",
      " 13  Exited           10000 non-null  int64  \n",
      "dtypes: float64(3), int64(8), object(3)\n",
      "memory usage: 1.1+ MB\n"
     ]
    }
   ],
   "source": [
    "churn_data = pd.read_csv('/datasets/Churn.csv')\n",
    "churn_data.info()"
   ]
  },
  {
   "cell_type": "code",
   "execution_count": 4,
   "metadata": {},
   "outputs": [
    {
     "name": "stdout",
     "output_type": "stream",
     "text": [
      "Уникальные значения столбца RowNumber\n",
      "[    1     2     3 ...  9998  9999 10000]\n",
      "Уникальные значения столбца CustomerId\n",
      "[15634602 15647311 15619304 ... 15584532 15682355 15628319]\n",
      "Уникальные значения столбца Surname\n",
      "['Hargrave' 'Hill' 'Onio' ... 'Kashiwagi' 'Aldridge' 'Burbidge']\n",
      "Уникальные значения столбца CreditScore\n",
      "[619 608 502 699 850 645 822 376 501 684 528 497 476 549 635 616 653 587\n",
      " 726 732 636 510 669 846 577 756 571 574 411 591 533 553 520 722 475 490\n",
      " 804 582 472 465 556 834 660 776 829 637 550 698 585 788 655 601 656 725\n",
      " 511 614 742 687 555 603 751 581 735 661 675 738 813 657 604 519 664 678\n",
      " 757 416 665 777 543 506 493 652 750 729 646 647 808 524 769 730 515 773\n",
      " 814 710 413 623 670 622 785 605 479 685 538 562 721 628 668 828 674 625\n",
      " 432 770 758 795 686 789 589 461 584 579 663 682 793 691 485 650 754 535\n",
      " 716 539 706 586 631 717 800 683 704 615 667 484 480 578 512 606 597 778\n",
      " 514 525 715 580 807 521 759 516 711 618 643 671 689 620 676 572 695 592\n",
      " 567 694 547 594 673 610 767 763 712 703 662 659 523 772 545 634 739 771\n",
      " 681 544 696 766 727 693 557 531 498 651 791 733 811 707 714 782 775 799\n",
      " 602 744 588 747 583 627 731 629 438 642 806 474 559 429 680 749 734 644\n",
      " 626 649 805 718 840 630 654 762 568 613 522 737 648 443 640 540 460 593\n",
      " 801 611 802 745 483 690 492 709 705 560 752 701 537 487 596 702 486 724\n",
      " 548 464 790 534 748 494 590 468 509 818 816 536 753 774 621 569 658 798\n",
      " 641 542 692 639 765 570 638 599 632 779 527 564 833 504 842 508 417 598\n",
      " 741 607 761 848 546 439 755 760 526 713 700 666 566 495 688 612 477 427\n",
      " 839 819 720 459 503 624 529 563 482 796 445 746 786 554 672 787 499 844\n",
      " 450 815 838 803 736 633 600 679 517 792 743 488 421 841 708 507 505 456\n",
      " 435 561 518 565 728 784 552 609 764 697 723 551 444 719 496 541 830 812\n",
      " 677 420 595 617 809 500 826 434 513 478 797 363 399 463 780 452 575 837\n",
      " 794 824 428 823 781 849 489 431 457 768 831 359 820 573 576 558 817 449\n",
      " 440 415 821 530 350 446 425 740 481 783 358 845 451 458 469 423 404 836\n",
      " 473 835 466 491 351 827 843 365 532 414 453 471 401 810 832 470 447 422\n",
      " 825 430 436 426 408 847 418 437 410 454 407 455 462 386 405 383 395 467\n",
      " 433 442 424 448 441 367 412 382 373 419]\n",
      "Уникальные значения столбца Geography\n",
      "['France' 'Spain' 'Germany']\n",
      "Уникальные значения столбца Gender\n",
      "['Female' 'Male']\n",
      "Уникальные значения столбца Age\n",
      "[42 41 39 43 44 50 29 27 31 24 34 25 35 45 58 32 38 46 36 33 40 51 61 49\n",
      " 37 19 66 56 26 21 55 75 22 30 28 65 48 52 57 73 47 54 72 20 67 79 62 53\n",
      " 80 59 68 23 60 70 63 64 18 82 69 74 71 76 77 88 85 84 78 81 92 83]\n",
      "Уникальные значения столбца Tenure\n",
      "[ 2.  1.  8.  7.  4.  6.  3. 10.  5.  9.  0. nan]\n",
      "Уникальные значения столбца Balance\n",
      "[     0.    83807.86 159660.8  ...  57369.61  75075.31 130142.79]\n",
      "Уникальные значения столбца NumOfProducts\n",
      "[1 3 2 4]\n",
      "Уникальные значения столбца HasCrCard\n",
      "[1 0]\n",
      "Уникальные значения столбца IsActiveMember\n",
      "[1 0]\n",
      "Уникальные значения столбца EstimatedSalary\n",
      "[101348.88 112542.58 113931.57 ...  42085.58  92888.52  38190.78]\n",
      "Уникальные значения столбца Exited\n",
      "[1 0]\n"
     ]
    }
   ],
   "source": [
    "def check_columns(data_frame):\n",
    "    for column in data_frame.columns:\n",
    "        print('Уникальные значения столбца', column)\n",
    "        print(data_frame[column].unique())\n",
    "        \n",
    "check_columns(churn_data)"
   ]
  },
  {
   "cell_type": "code",
   "execution_count": 4,
   "metadata": {},
   "outputs": [
    {
     "data": {
      "text/plain": [
       "RowNumber          0.0\n",
       "CustomerId         0.0\n",
       "Surname            0.0\n",
       "CreditScore        0.0\n",
       "Geography          0.0\n",
       "Gender             0.0\n",
       "Age                0.0\n",
       "Tenure             0.0\n",
       "Balance            0.0\n",
       "NumOfProducts      0.0\n",
       "HasCrCard          0.0\n",
       "IsActiveMember     0.0\n",
       "EstimatedSalary    0.0\n",
       "Exited             0.0\n",
       "dtype: float64"
      ]
     },
     "execution_count": 4,
     "metadata": {},
     "output_type": "execute_result"
    }
   ],
   "source": [
    "churn_data['Tenure'] = churn_data['Tenure'].fillna(0) \n",
    "churn_data.isna().mean()#Заменим все NaN из столбца Tenure на 0. Если жилье не указано, скорей всего его нет."
   ]
  },
  {
   "cell_type": "code",
   "execution_count": 4,
   "metadata": {},
   "outputs": [
    {
     "data": {
      "text/plain": [
       "0.0     1291\n",
       "1.0      952\n",
       "2.0      950\n",
       "8.0      933\n",
       "3.0      928\n",
       "5.0      927\n",
       "7.0      925\n",
       "4.0      885\n",
       "9.0      882\n",
       "6.0      881\n",
       "10.0     446\n",
       "Name: Tenure, dtype: int64"
      ]
     },
     "execution_count": 4,
     "metadata": {},
     "output_type": "execute_result"
    }
   ],
   "source": [
    "churn_data['Tenure'].value_counts()"
   ]
  },
  {
   "cell_type": "markdown",
   "metadata": {},
   "source": [
    "Удалим столбецы RowNumber, CustomerId и Surname. Они не нужны при исследовании модели.\n",
    "\n",
    "RowNumber повторяет индекс датафрейма, CustomerId - случайный или последовательный номер, который никак не зависит от действий пользователя. Surname - фамилия пользователя. Ни один из этих показаетелй не влияет на то, останется клиент или уйдет.\n",
    "\n",
    "________________________________________________________________________________________________________________________________\n",
    "\n",
    "Let's remove the RowNumber, CustomerId and Surname columns. They are not needed when exploring the model.\n",
    "\n",
    "RowNumber repeats the index of the dataframe, CustomerId is a random or sequential number that does not depend on user actions in any way. Surname - the user's last name. None of these metrics affect whether a customer stays or leaves."
   ]
  },
  {
   "cell_type": "code",
   "execution_count": 5,
   "metadata": {},
   "outputs": [
    {
     "data": {
      "text/plain": [
       "(10000, 11)"
      ]
     },
     "execution_count": 5,
     "metadata": {},
     "output_type": "execute_result"
    }
   ],
   "source": [
    "churn_data = churn_data.drop(['RowNumber','CustomerId','Surname'], axis=1)\n",
    "churn_data.shape"
   ]
  },
  {
   "cell_type": "markdown",
   "metadata": {},
   "source": [
    "Создадим датафрейм, созданный по методу прямого кодирования с защитой от дамми-ловушки.\n",
    "\n",
    "Let's create a dataframe created using the direct encoding method with protection against dummy traps."
   ]
  },
  {
   "cell_type": "code",
   "execution_count": 7,
   "metadata": {},
   "outputs": [
    {
     "name": "stdout",
     "output_type": "stream",
     "text": [
      "<class 'pandas.core.frame.DataFrame'>\n",
      "RangeIndex: 10000 entries, 0 to 9999\n",
      "Data columns (total 12 columns):\n",
      " #   Column             Non-Null Count  Dtype  \n",
      "---  ------             --------------  -----  \n",
      " 0   CreditScore        10000 non-null  int64  \n",
      " 1   Age                10000 non-null  int64  \n",
      " 2   Tenure             10000 non-null  float64\n",
      " 3   Balance            10000 non-null  float64\n",
      " 4   NumOfProducts      10000 non-null  int64  \n",
      " 5   HasCrCard          10000 non-null  int64  \n",
      " 6   IsActiveMember     10000 non-null  int64  \n",
      " 7   EstimatedSalary    10000 non-null  float64\n",
      " 8   Exited             10000 non-null  int64  \n",
      " 9   Geography_Germany  10000 non-null  uint8  \n",
      " 10  Geography_Spain    10000 non-null  uint8  \n",
      " 11  Gender_Male        10000 non-null  uint8  \n",
      "dtypes: float64(3), int64(6), uint8(3)\n",
      "memory usage: 732.5 KB\n"
     ]
    }
   ],
   "source": [
    "ohe_churn_data = pd.get_dummies(churn_data, drop_first=True)\n",
    "ohe_churn_data.info()"
   ]
  },
  {
   "cell_type": "markdown",
   "metadata": {},
   "source": [
    "### Выводы по 1 этапу\n",
    "\n",
    "### Conclusions on stage 1"
   ]
  },
  {
   "cell_type": "markdown",
   "metadata": {},
   "source": [
    "Данные подготовлены к исследованию.\n",
    "\n",
    "Были удалены не влияющие на конечный фактор данные, заполнены пропуски в данных.\n",
    "\n",
    "Data prepared for research.\n",
    "\n",
    "Data that did not affect the final factor were removed, gaps in the data were filled."
   ]
  },
  {
   "cell_type": "markdown",
   "metadata": {},
   "source": [
    "## Исследование задачи\n",
    "\n",
    "## Problem research"
   ]
  },
  {
   "cell_type": "markdown",
   "metadata": {},
   "source": [
    "На данном этапе мы будем использовать и сравнивать две модели, наиболее применяемые для решения данного типа задач - Случайный лес и Логистическую регрессию.\n",
    "\n",
    "At this stage, we will use and compare the two models most used to solve this type of problem - Random Forest and Logistic Regression."
   ]
  },
  {
   "cell_type": "code",
   "execution_count": 8,
   "metadata": {},
   "outputs": [
    {
     "name": "stdout",
     "output_type": "stream",
     "text": [
      "(7500, 11) (1875, 11) (625, 11)\n",
      "(7500,) (1875,) (625,)\n"
     ]
    }
   ],
   "source": [
    "target = ohe_churn_data['Exited']\n",
    "features = ohe_churn_data.drop('Exited', axis=1)\n",
    "\n",
    "features_train, features_valid, target_train, target_valid = train_test_split(features, target, test_size=0.25, \n",
    "                                                                              random_state=4125)\n",
    "features_valid, features_test, target_valid, target_test = train_test_split(features_valid, target_valid, test_size=0.25, \n",
    "                                                                              random_state=4125)\n",
    "print(features_train.shape, features_valid.shape, features_test.shape)\n",
    "print(target_train.shape, target_valid.shape, target_test.shape) #Разобъем данные на выборки."
   ]
  },
  {
   "cell_type": "markdown",
   "metadata": {},
   "source": [
    "Проанализируем дисбаланс классов\n",
    "\n",
    "Let's analyze class imbalance"
   ]
  },
  {
   "cell_type": "code",
   "execution_count": 12,
   "metadata": {},
   "outputs": [
    {
     "data": {
      "text/plain": [
       "0    7963\n",
       "1    2037\n",
       "Name: Exited, dtype: int64"
      ]
     },
     "execution_count": 12,
     "metadata": {},
     "output_type": "execute_result"
    }
   ],
   "source": [
    "target.value_counts()"
   ]
  },
  {
   "cell_type": "markdown",
   "metadata": {},
   "source": [
    "Явно присутствует дисбаланс классов.\n",
    "\n",
    "Изучим модели без исправление баланса. Начнем со Случайного леса и рассмотрим значение меры F1 при раличном количестве деревьев.\n",
    "\n",
    "Clearly there is a class imbalance.\n",
    "\n",
    "Let's study models without balance correction. Let's start with a Random Forest and consider the value of the measure F1 for a different number of trees."
   ]
  },
  {
   "cell_type": "code",
   "execution_count": 7,
   "metadata": {},
   "outputs": [
    {
     "name": "stdout",
     "output_type": "stream",
     "text": [
      "Количество деревьев 50 F1 0.6033333333333334\n",
      "Количество деревьев 60 F1 0.609271523178808\n",
      "Количество деревьев 70 F1 0.609271523178808\n",
      "Количество деревьев 80 F1 0.6135986733001658\n",
      "Количество деревьев 90 F1 0.6135986733001658\n",
      "Количество деревьев 100 F1 0.6179401993355481\n",
      "Количество деревьев 110 F1 0.616144975288303\n",
      "Количество деревьев 120 F1 0.6125827814569536\n",
      "Количество деревьев 130 F1 0.609271523178808\n",
      "Количество деревьев 140 F1 0.6125827814569536\n",
      "Количество деревьев 150 F1 0.609271523178808\n",
      "Количество деревьев 160 F1 0.6029654036243822\n",
      "Количество деревьев 170 F1 0.6153846153846154\n",
      "Количество деревьев 180 F1 0.611842105263158\n",
      "Количество деревьев 190 F1 0.6059602649006622\n",
      "Количество деревьев 200 F1 0.6085526315789473\n",
      "Количество деревьев 210 F1 0.6075533661740558\n",
      "Количество деревьев 220 F1 0.6108374384236454\n",
      "Количество деревьев 230 F1 0.6042692939244664\n",
      "Количество деревьев 240 F1 0.6032786885245901\n",
      "Количество деревьев 250 F1 0.6\n",
      "Количество деревьев 260 F1 0.6062602965403624\n",
      "Количество деревьев 270 F1 0.605263157894737\n",
      "Количество деревьев 280 F1 0.605263157894737\n",
      "Количество деревьев 290 F1 0.6042692939244664\n",
      "CPU times: user 36.7 s, sys: 248 ms, total: 36.9 s\n",
      "Wall time: 36.9 s\n"
     ]
    }
   ],
   "source": [
    "%%time\n",
    "\n",
    "for estimator in range(50, 300, 10):\n",
    "    model =  RandomForestClassifier(random_state=20052020, n_estimators=estimator)\n",
    "    model.fit(features_train, target_train)\n",
    "    predicted_valid = model.predict(features_valid)\n",
    "    print('Количество деревьев', estimator,'F1', f1_score(target_valid, predicted_valid))"
   ]
  },
  {
   "cell_type": "markdown",
   "metadata": {},
   "source": [
    "Лучший результат был получен в районе 100-110 деревьев. Проведем исследование с шагом 1.\n",
    "\n",
    "The best result was obtained in the region of 100-110 trees. Let's explore step 1."
   ]
  },
  {
   "cell_type": "code",
   "execution_count": 22,
   "metadata": {},
   "outputs": [
    {
     "name": "stdout",
     "output_type": "stream",
     "text": [
      "Количество деревьев 90 F1 0.6135986733001658\n",
      "Количество деревьев 91 F1 0.6141215106732348\n",
      "Количество деревьев 92 F1 0.6146179401993355\n",
      "Количество деревьев 93 F1 0.611842105263158\n",
      "Количество деревьев 94 F1 0.609271523178808\n",
      "Количество деревьев 95 F1 0.612850082372323\n",
      "Количество деревьев 96 F1 0.6123128119800333\n",
      "Количество деревьев 97 F1 0.6171617161716172\n",
      "Количество деревьев 98 F1 0.6158940397350994\n",
      "Количество деревьев 99 F1 0.6171617161716172\n",
      "Количество деревьев 100 F1 0.6179401993355481\n",
      "Количество деревьев 101 F1 0.6181818181818183\n",
      "Количество деревьев 102 F1 0.6112956810631229\n",
      "Количество деревьев 103 F1 0.6115702479338844\n",
      "Количество деревьев 104 F1 0.6112956810631229\n",
      "Количество деревьев 105 F1 0.609271523178808\n",
      "Количество деревьев 106 F1 0.6112956810631229\n",
      "Количество деревьев 107 F1 0.6108374384236454\n",
      "Количество деревьев 108 F1 0.6138613861386139\n",
      "Количество деревьев 109 F1 0.6141215106732348\n",
      "Количество деревьев 110 F1 0.616144975288303\n",
      "Количество деревьев 111 F1 0.6141215106732348\n",
      "Количество деревьев 112 F1 0.616144975288303\n",
      "Количество деревьев 113 F1 0.6141215106732348\n",
      "Количество деревьев 114 F1 0.6115702479338844\n",
      "CPU times: user 23.1 s, sys: 51.8 ms, total: 23.1 s\n",
      "Wall time: 23.2 s\n"
     ]
    }
   ],
   "source": [
    "%%time\n",
    "\n",
    "for estimator in range(90, 115, 1):\n",
    "    model =  RandomForestClassifier(random_state=20052020, n_estimators=estimator)\n",
    "    model.fit(features_train, target_train)\n",
    "    predicted_valid = model.predict(features_valid)\n",
    "    print('Количество деревьев', estimator,'F1', f1_score(target_valid, predicted_valid))"
   ]
  },
  {
   "cell_type": "markdown",
   "metadata": {},
   "source": [
    "Лучший результат по гиперпараметру n_estimators достигнут на 97.\n",
    "\n",
    "Исследуем, как работает Логистическая регрессия на этих данных.\n",
    "\n",
    "The best result for the n_estimators hyperparameter was achieved at 97.\n",
    "\n",
    "Let's explore how Logistic Regression works on this data."
   ]
  },
  {
   "cell_type": "code",
   "execution_count": 23,
   "metadata": {},
   "outputs": [
    {
     "name": "stdout",
     "output_type": "stream",
     "text": [
      "F1 0.10096153846153846\n",
      "CPU times: user 46.6 ms, sys: 16 ms, total: 62.6 ms\n",
      "Wall time: 35.7 ms\n"
     ]
    }
   ],
   "source": [
    "%%time\n",
    "\n",
    "model =  LogisticRegression(random_state=20222022, solver='liblinear')\n",
    "model.fit(features_train, target_train)\n",
    "predicted_valid = model.predict(features_valid)\n",
    "print('F1', f1_score(target_valid, predicted_valid))"
   ]
  },
  {
   "cell_type": "markdown",
   "metadata": {},
   "source": [
    "Проведем оценку accuracy (попадание по классам), precision (точность) и recall (полнота), также покажем F-метрику.\n",
    "\n",
    "We will evaluate accuracy (hit by class), precision (accuracy) and recall (completeness), we will also show the F-metric."
   ]
  },
  {
   "cell_type": "code",
   "execution_count": 24,
   "metadata": {},
   "outputs": [
    {
     "name": "stdout",
     "output_type": "stream",
     "text": [
      "Случайный лес\n",
      "Точность попадания по классам 0.8736\n",
      "Точность 0.7695473251028807\n",
      "Полнота 0.5081521739130435\n",
      "F1 0.6121112929623567\n",
      "\n",
      "Логистическая регрессия\n",
      "Точность попадания по классам 0.8005333333333333\n",
      "Точность 0.4375\n",
      "Полнота 0.057065217391304345\n",
      "F1 0.10096153846153846\n",
      "\n",
      "CPU times: user 528 ms, sys: 39.9 ms, total: 568 ms\n",
      "Wall time: 563 ms\n"
     ]
    }
   ],
   "source": [
    "%%time\n",
    "\n",
    "model = RandomForestClassifier(random_state=20222020, n_estimators=53)\n",
    "model.fit(features_train, target_train)\n",
    "predicted_valid = model.predict(features_valid)\n",
    "print('Случайный лес')\n",
    "print('Точность попадания по классам', accuracy_score(target_valid, predicted_valid))\n",
    "print('Точность', precision_score(target_valid, predicted_valid))\n",
    "print('Полнота', recall_score(target_valid, predicted_valid))\n",
    "print('F1', f1_score(target_valid, predicted_valid))\n",
    "print()\n",
    "\n",
    "model = LogisticRegression(random_state=20222020, solver='liblinear')\n",
    "model.fit(features_train, target_train)\n",
    "predicted_valid = model.predict(features_valid)\n",
    "print('Логистическая регрессия')\n",
    "print('Точность попадания по классам', accuracy_score(target_valid, predicted_valid))\n",
    "print('Точность', precision_score(target_valid, predicted_valid))\n",
    "print('Полнота', recall_score(target_valid, predicted_valid))\n",
    "print('F1', f1_score(target_valid, predicted_valid))\n",
    "print()"
   ]
  },
  {
   "cell_type": "markdown",
   "metadata": {},
   "source": [
    "Проведем построение ROC-кривой для каждой модели. И выведем показатель AUC-ROC.\n",
    "\n",
    "Let's build a ROC-curve for each model. And we will display the AUC-ROC indicator."
   ]
  },
  {
   "cell_type": "code",
   "execution_count": 8,
   "metadata": {},
   "outputs": [
    {
     "name": "stdout",
     "output_type": "stream",
     "text": [
      "AUC-ROC Модель случайного леса 0.8541642624275122\n",
      "AUC-ROC Логистическая регрессия 0.6884791263956609\n"
     ]
    },
    {
     "data": {
      "image/png": "[encoded data removed]",
      "text/plain": [
       "<Figure size 864x648 with 1 Axes>"
      ]
     },
     "metadata": {
      "needs_background": "light"
     },
     "output_type": "display_data"
    }
   ],
   "source": [
    "plt.figure(figsize=[12,9])\n",
    "\n",
    "plt.plot([0, 1], [0, 1], linestyle='--', label='Случайная модель')\n",
    "\n",
    "model = RandomForestClassifier(random_state=20052020, n_estimators=53)\n",
    "model.fit(features_train, target_train)\n",
    "probabilities_valid = model.predict_proba(features_valid)\n",
    "probabilities_one_valid = probabilities_valid[:, 1]\n",
    "fpr, tpr, thresholds = roc_curve(target_valid, probabilities_one_valid)\n",
    "auc_roc = roc_auc_score(target_valid, probabilities_one_valid)\n",
    "print('AUC-ROC Модель случайного леса',auc_roc)\n",
    "plt.plot(fpr, tpr, label='Модель случайного леса')\n",
    "\n",
    "model = LogisticRegression(random_state=20052020, solver='liblinear')\n",
    "model.fit(features_train, target_train)\n",
    "probabilities_valid = model.predict_proba(features_valid)\n",
    "probabilities_one_valid = probabilities_valid[:, 1]\n",
    "fpr, tpr, thresholds = roc_curve(target_valid, probabilities_one_valid)\n",
    "auc_roc = roc_auc_score(target_valid, probabilities_one_valid)\n",
    "print('AUC-ROC Логистическая регрессия',auc_roc)\n",
    "plt.plot(fpr, tpr, label='Логистическая регрессия')\n",
    "\n",
    "plt.xlim([0,1])\n",
    "plt.ylim([0,1])\n",
    "\n",
    "plt.xlabel(\"False Positive Rate\")\n",
    "plt.ylabel(\"True Positive Rate\")\n",
    "\n",
    "plt.legend(loc='lower right', fontsize='x-large')\n",
    "\n",
    "plt.title(\"ROC-кривая\")\n",
    "plt.grid(True)\n",
    "plt.show()"
   ]
  },
  {
   "cell_type": "markdown",
   "metadata": {},
   "source": [
    "### Выводы по 2 этапу\n",
    "\n",
    "### Conclusions on stage 2"
   ]
  },
  {
   "cell_type": "markdown",
   "metadata": {},
   "source": [
    "В данных сущестует дисбаланс классов, возможно он влияет на качество изучаемых моделей.\n",
    "\n",
    "Все модели имеют recall (полноту) ниже, чем percision (точность), из-за несбалансированности данных, что влияет на показатель F-меры.\n",
    "\n",
    "There is an imbalance of classes in the data, perhaps it affects the quality of the studied models.\n",
    "\n",
    "All models have lower recall than percision due to data imbalance, which affects the F-measure."
   ]
  },
  {
   "cell_type": "markdown",
   "metadata": {},
   "source": [
    "## Борьба с дисбалансом\n",
    "\n",
    "## Struggling with imbalance"
   ]
  },
  {
   "cell_type": "markdown",
   "metadata": {},
   "source": [
    "Для борьбы с дисбалансом выполним сравнение моделей:\n",
    "\n",
    " - С взвешенными классами\n",
    " - С уменьшенной выборкой\n",
    " - С увеличенной выборкой\n",
    "\n",
    "Изучим возможности моделей по взвешиванию классов.\n",
    "\n",
    "________________________________________________________________________________________________________________________________\n",
    "\n",
    "To combat the imbalance, let's compare the models:\n",
    "\n",
    "  - With weighted classes\n",
    "  - With reduced selection\n",
    "  - With increased selection\n",
    "\n",
    "Let's study the possibilities of models for class weighting."
   ]
  },
  {
   "cell_type": "code",
   "execution_count": 9,
   "metadata": {},
   "outputs": [
    {
     "name": "stdout",
     "output_type": "stream",
     "text": [
      "Случайный лес\n",
      "Точность попадания по классам 0.8677333333333334\n",
      "Точность 0.7727272727272727\n",
      "Полнота 0.46195652173913043\n",
      "F1 0.5782312925170068\n",
      "\n",
      "Логистическая регрессия\n",
      "Точность попадания по классам 0.7056\n",
      "Точность 0.37186629526462395\n",
      "Полнота 0.7255434782608695\n",
      "F1 0.4917127071823204\n",
      "\n",
      "CPU times: user 580 ms, sys: 78.6 ms, total: 659 ms\n",
      "Wall time: 593 ms\n"
     ]
    }
   ],
   "source": [
    "%%time\n",
    "\n",
    "model = RandomForestClassifier(random_state=20222022, n_estimators=53, class_weight='balanced')\n",
    "model.fit(features_train, target_train)\n",
    "predicted_valid = model.predict(features_valid)\n",
    "print('Случайный лес')\n",
    "print('Точность попадания по классам', accuracy_score(target_valid, predicted_valid))\n",
    "print('Точность', precision_score(target_valid, predicted_valid))\n",
    "print('Полнота', recall_score(target_valid, predicted_valid))\n",
    "print('F1', f1_score(target_valid, predicted_valid))\n",
    "print()\n",
    "\n",
    "model = LogisticRegression(random_state=20222022, solver='liblinear', class_weight='balanced')\n",
    "model.fit(features_train, target_train)\n",
    "predicted_valid = model.predict(features_valid)\n",
    "print('Логистическая регрессия')\n",
    "print('Точность попадания по классам', accuracy_score(target_valid, predicted_valid))\n",
    "print('Точность', precision_score(target_valid, predicted_valid))\n",
    "print('Полнота', recall_score(target_valid, predicted_valid))\n",
    "print('F1', f1_score(target_valid, predicted_valid))\n",
    "print()"
   ]
  },
  {
   "cell_type": "markdown",
   "metadata": {},
   "source": [
    "F-мера несколько снизилась у модели случайного леса, но значительно выросла у логистической регресии.\n",
    "\n",
    "Исследуем способ уменьшения значений класса 0.\n",
    "\n",
    "The F-score decreased slightly for the random forest model, but increased significantly for the logistic regression.\n",
    "\n",
    "Let's explore a way to reduce class 0 values."
   ]
  },
  {
   "cell_type": "code",
   "execution_count": 10,
   "metadata": {},
   "outputs": [
    {
     "name": "stdout",
     "output_type": "stream",
     "text": [
      "1    1549\n",
      "0    1488\n",
      "Name: Exited, dtype: int64\n"
     ]
    }
   ],
   "source": [
    "def downsample(features, target, fraction):\n",
    "    features_zeros = features[target == 0]\n",
    "    features_ones = features[target == 1]\n",
    "    target_zeros = target[target == 0]\n",
    "    target_ones = target[target == 1]\n",
    "\n",
    "    features_downsampled = pd.concat(\n",
    "        [features_zeros.sample(frac=fraction, random_state=20222022)] + [features_ones])\n",
    "    target_downsampled = pd.concat(\n",
    "        [target_zeros.sample(frac=fraction, random_state=20222022)] + [target_ones])\n",
    "    \n",
    "    features_downsampled, target_downsampled = shuffle(\n",
    "        features_downsampled, target_downsampled, random_state=20222022)\n",
    "    \n",
    "    return features_downsampled, target_downsampled\n",
    "\n",
    "features_downsampled, target_downsampled = downsample(features_train, target_train, 0.25)\n",
    "\n",
    "print(target_downsampled.value_counts())"
   ]
  },
  {
   "cell_type": "code",
   "execution_count": 11,
   "metadata": {},
   "outputs": [
    {
     "name": "stdout",
     "output_type": "stream",
     "text": [
      "Случайный лес\n",
      "Точность попадания по классам 0.7696\n",
      "Точность 0.44952681388012616\n",
      "Полнота 0.7744565217391305\n",
      "F1 0.5688622754491017\n",
      "\n",
      "Логистическая регрессия\n",
      "Точность попадания по классам 0.6581333333333333\n",
      "Точность 0.3300124533001245\n",
      "Полнота 0.720108695652174\n",
      "F1 0.45260461144321096\n",
      "\n",
      "CPU times: user 336 ms, sys: 65 ms, total: 401 ms\n",
      "Wall time: 385 ms\n"
     ]
    }
   ],
   "source": [
    "%%time\n",
    "\n",
    "model = RandomForestClassifier(random_state=20222022, n_estimators=53)\n",
    "model.fit(features_downsampled, target_downsampled)\n",
    "predicted_valid = model.predict(features_valid)\n",
    "print('Случайный лес')\n",
    "print('Точность попадания по классам', accuracy_score(target_valid, predicted_valid))\n",
    "print('Точность', precision_score(target_valid, predicted_valid))\n",
    "print('Полнота', recall_score(target_valid, predicted_valid))\n",
    "print('F1', f1_score(target_valid, predicted_valid))\n",
    "print()\n",
    "\n",
    "model = LogisticRegression(random_state=20222022, solver='liblinear')\n",
    "model.fit(features_downsampled, target_downsampled)\n",
    "predicted_valid = model.predict(features_valid)\n",
    "print('Логистическая регрессия')\n",
    "print('Точность попадания по классам', accuracy_score(target_valid, predicted_valid))\n",
    "print('Точность', precision_score(target_valid, predicted_valid))\n",
    "print('Полнота', recall_score(target_valid, predicted_valid))\n",
    "print('F1', f1_score(target_valid, predicted_valid))\n",
    "print()"
   ]
  },
  {
   "cell_type": "markdown",
   "metadata": {},
   "source": [
    "Показатели F-меры обеих моделей снизились.\n",
    "\n",
    "Исследуем методы увеличения класса 1.\n",
    "\n",
    "The F-measures of both models decreased.\n",
    "\n",
    "Let's explore methods for increasing class 1."
   ]
  },
  {
   "cell_type": "code",
   "execution_count": 12,
   "metadata": {},
   "outputs": [
    {
     "name": "stdout",
     "output_type": "stream",
     "text": [
      "1    6196\n",
      "0    5951\n",
      "Name: Exited, dtype: int64\n"
     ]
    }
   ],
   "source": [
    "def upsample(features, target, repeat):\n",
    "    features_zeros = features[target == 0]\n",
    "    features_ones = features[target == 1]\n",
    "    target_zeros = target[target == 0]\n",
    "    target_ones = target[target == 1]\n",
    "\n",
    "    features_upsampled = pd.concat([features_zeros] + [features_ones] * repeat)\n",
    "    target_upsampled = pd.concat([target_zeros] + [target_ones] * repeat)\n",
    "    \n",
    "    features_upsampled, target_upsampled = shuffle(\n",
    "        features_upsampled, target_upsampled, random_state=20222022)\n",
    "    \n",
    "    return features_upsampled, target_upsampled\n",
    "\n",
    "features_upsampled, target_upsampled = upsample(features_train, target_train, 4)\n",
    "\n",
    "print(target_upsampled.value_counts())"
   ]
  },
  {
   "cell_type": "code",
   "execution_count": 28,
   "metadata": {},
   "outputs": [
    {
     "name": "stdout",
     "output_type": "stream",
     "text": [
      "Случайный лес\n",
      "Точность попадания по классам 0.8581333333333333\n",
      "Точность 0.659375\n",
      "Полнота 0.5733695652173914\n",
      "F1 0.6133720930232558\n",
      "\n",
      "Логистическая регрессия\n",
      "Точность попадания по классам 0.6602666666666667\n",
      "Точность 0.33250311332503113\n",
      "Полнота 0.7255434782608695\n",
      "F1 0.45602049530315963\n",
      "\n",
      "CPU times: user 680 ms, sys: 47.9 ms, total: 728 ms\n",
      "Wall time: 727 ms\n"
     ]
    }
   ],
   "source": [
    "%%time\n",
    "\n",
    "model = RandomForestClassifier(random_state=20222022, n_estimators=53)\n",
    "model.fit(features_upsampled, target_upsampled)\n",
    "predicted_valid = model.predict(features_valid)\n",
    "print('Случайный лес')\n",
    "print('Точность попадания по классам', accuracy_score(target_valid, predicted_valid))\n",
    "print('Точность', precision_score(target_valid, predicted_valid))\n",
    "print('Полнота', recall_score(target_valid, predicted_valid))\n",
    "print('F1', f1_score(target_valid, predicted_valid))\n",
    "print()\n",
    "\n",
    "model = LogisticRegression(random_state=20222022, solver='liblinear')\n",
    "model.fit(features_upsampled, target_upsampled)\n",
    "predicted_valid = model.predict(features_valid)\n",
    "print('Логистическая регрессия')\n",
    "print('Точность попадания по классам', accuracy_score(target_valid, predicted_valid))\n",
    "print('Точность', precision_score(target_valid, predicted_valid))\n",
    "print('Полнота', recall_score(target_valid, predicted_valid))\n",
    "print('F1', f1_score(target_valid, predicted_valid))\n",
    "print()"
   ]
  },
  {
   "cell_type": "markdown",
   "metadata": {},
   "source": [
    "F-мера стала лучше у модели случайного леса по сравнению с дисбалансными данными. \n",
    "\n",
    "Лучшей моделью по F-мера стала модель случайного леса с тренировочными данными, где увеличен класс 1.\n",
    "\n",
    "Выведем ROC-кривую и AUC-ROC для посленнего измененного баланса.\n",
    "\n",
    "________________________________________________________________________________________________________________________________\n",
    "\n",
    "The F-measure is better for the random forest model than for the imbalanced data.\n",
    "\n",
    "The best model in terms of F-measure was the random forest model with training data, where class 1 was increased.\n",
    "\n",
    "Derive the ROC-curve and AUC-ROC for the last modified balance."
   ]
  },
  {
   "cell_type": "code",
   "execution_count": 13,
   "metadata": {},
   "outputs": [
    {
     "name": "stdout",
     "output_type": "stream",
     "text": [
      "AUC-ROC Модель случайного леса 0.8432523224950232\n",
      "AUC-ROC Логистическая регрессия 0.738845532442803\n"
     ]
    },
    {
     "data": {
      "image/png": "[encoded data removed]",
      "text/plain": [
       "<Figure size 864x648 with 1 Axes>"
      ]
     },
     "metadata": {
      "needs_background": "light"
     },
     "output_type": "display_data"
    }
   ],
   "source": [
    "plt.figure(figsize=[12,9])\n",
    "\n",
    "plt.plot([0, 1], [0, 1], linestyle='--', label='Случайная модель')\n",
    "\n",
    "model = RandomForestClassifier(random_state=20222022, n_estimators=53)\n",
    "model.fit(features_upsampled, target_upsampled)\n",
    "probabilities_valid = model.predict_proba(features_valid)\n",
    "probabilities_one_valid = probabilities_valid[:, 1]\n",
    "fpr, tpr, thresholds = roc_curve(target_valid, probabilities_one_valid)\n",
    "auc_roc = roc_auc_score(target_valid, probabilities_one_valid)\n",
    "print('AUC-ROC Модель случайного леса',auc_roc)\n",
    "plt.plot(fpr, tpr, label='Модель случайного леса')\n",
    "\n",
    "model = LogisticRegression(random_state=20222022, solver='liblinear')\n",
    "model.fit(features_upsampled, target_upsampled)\n",
    "probabilities_valid = model.predict_proba(features_valid)\n",
    "probabilities_one_valid = probabilities_valid[:, 1]\n",
    "fpr, tpr, thresholds = roc_curve(target_valid, probabilities_one_valid)\n",
    "auc_roc = roc_auc_score(target_valid, probabilities_one_valid)\n",
    "print('AUC-ROC Логистическая регрессия',auc_roc)\n",
    "plt.plot(fpr, tpr, label='Логистическая регрессия')\n",
    "\n",
    "plt.xlim([0,1])\n",
    "plt.ylim([0,1])\n",
    "\n",
    "plt.xlabel(\"False Positive Rate\")\n",
    "plt.ylabel(\"True Positive Rate\")\n",
    "\n",
    "plt.legend(loc='lower right', fontsize='x-large')\n",
    "\n",
    "plt.title(\"ROC-кривая\")\n",
    "plt.grid(True)\n",
    "plt.show()"
   ]
  },
  {
   "cell_type": "markdown",
   "metadata": {},
   "source": [
    "### Выводы по 3 этапу\n",
    "\n",
    "### Conclusions on the 3rd stage"
   ]
  },
  {
   "cell_type": "markdown",
   "metadata": {},
   "source": [
    "Дисбаланс повлиял на модели в худшую сторону. Лучшим решением стало увеличение классов 1 в тренировочной выборке.\n",
    "\n",
    "The imbalance affected the models for the worse. The best solution was to increase classes 1 in the training sample.\n"
   ]
  },
  {
   "cell_type": "markdown",
   "metadata": {},
   "source": [
    "## Тестирование модели\n",
    "\n",
    "## Model testing"
   ]
  },
  {
   "cell_type": "markdown",
   "metadata": {},
   "source": [
    "К тестовой выборке примем модель случайного леса. Исследуем гиперпараметры на следующих четырех моделях: на дисбалансных данных и сбалансированных: со взвешенными классами, усечением 0 класса и расширением класса 1 и определим F-меру моделей.\n",
    "\n",
    "Let's take a random forest model for the test sample. We investigate hyperparameters on the following four models: on unbalanced data and balanced: with weighted classes, class truncation 0 and class 1 extension, and determine the F-measure of the models."
   ]
  },
  {
   "cell_type": "code",
   "execution_count": null,
   "metadata": {},
   "outputs": [],
   "source": [
    "%%time\n",
    "\n",
    "best_params = None\n",
    "best_result = 0\n",
    "\n",
    "for params in tqdm(itertools.product(range(1, 200), range(1, 500), range(1, 12), range(1, 11))):\n",
    "    depth, est, min_s_1, samples_split = params\n",
    "    model = RandomForestClassifier(random_state=20052020, n_estimators=est, max_depth = depth, \n",
    "                                    min_samples_leaf = min_s_1, min_samples_split=samples_split/10)\n",
    "    model.fit(features_train, target_train)\n",
    "    predicted_valid = model.predict(features_valid)\n",
    "    result = f1_score(target_valid, predicted_valid)\n",
    "    if result > best_result:\n",
    "        best_params = params\n",
    "        best_result = result\n",
    "        \n",
    "print(f'F1-score of the best model {np.round(best_result, 5)}')\n",
    "print(f'\\nParams:\\nmax_depth = {best_params[0]}\\nn_estimators = {best_params[1]}\\nmin_samples_leaf = {best_params[2]}\\nmin_samples_split = {best_params[3]}')"
   ]
  },
  {
   "cell_type": "code",
   "execution_count": null,
   "metadata": {},
   "outputs": [],
   "source": [
    "%%time\n",
    "\n",
    "best_params = None\n",
    "best_result = 0\n",
    "\n",
    "for params in tqdm(itertools.product(range(1, 200), range(1, 500), range(1, 12), range(1, 11))):\n",
    "    depth, est, min_s_1 = params\n",
    "    model = RandomForestClassifier(random_state=20052020, n_estimators=est, max_depth = depth, \n",
    "                                    min_samples_leaf = min_s_1, min_samples_split=samples_split/10, class_weight='balanced')\n",
    "    model.fit(features_train, target_train)\n",
    "    predicted_valid = model.predict(features_valid)\n",
    "    result = f1_score(target_valid, predicted_valid)\n",
    "    if result > best_result:\n",
    "        best_params = params\n",
    "        best_result = result\n",
    "        \n",
    "print(f'F1-score of the best model {np.round(best_result, 5)}')\n",
    "print(f'\\nParams:\\nmax_depth = {best_params[0]}\\nn_estimators = {best_params[1]}\\nmin_samples_leaf = {best_params[2]}\\nmin_samples_split = {best_params[3]}')"
   ]
  },
  {
   "cell_type": "code",
   "execution_count": null,
   "metadata": {},
   "outputs": [],
   "source": [
    "%%time\n",
    "\n",
    "best_params = None\n",
    "best_result = 0\n",
    "\n",
    "for params in tqdm(itertools.product(range(1, 200), range(1, 500), range(1, 12), range(1, 11))):\n",
    "    depth, est, min_s_1 = params\n",
    "    model = RandomForestClassifier(random_state=20052020, n_estimators=est, max_depth = depth, \n",
    "                                    min_samples_leaf = min_s_1, min_samples_split=samples_split/10)\n",
    "    model.fit(features_downsampled, target_downsampled)\n",
    "    predicted_valid = model.predict(features_valid)\n",
    "    result = f1_score(target_valid, predicted_valid)\n",
    "    if result > best_result:\n",
    "        best_params = params\n",
    "        best_result = result\n",
    "        \n",
    "print(f'F1-score of the best model {np.round(best_result, 5)}')\n",
    "print(f'\\nParams:\\nmax_depth = {best_params[0]}\\nn_estimators = {best_params[1]}\\nmin_samples_leaf = {best_params[2]}\\nmin_samples_split = {best_params[3]}')"
   ]
  },
  {
   "cell_type": "code",
   "execution_count": null,
   "metadata": {},
   "outputs": [],
   "source": [
    "%%time\n",
    "\n",
    "best_params = None\n",
    "best_result = 0\n",
    "\n",
    "for params in tqdm(itertools.product(range(1, 200), range(1, 500), range(1, 12), range(1, 11))):\n",
    "    depth, est, min_s_1 = params\n",
    "    model = RandomForestClassifier(random_state=20052020, n_estimators=est, max_depth = depth, \n",
    "                                    min_samples_leaf = min_s_1, min_samples_split=samples_split/10)\n",
    "    model.fit(features_upsampled, target_upsampled)\n",
    "    predicted_valid = model.predict(features_valid)\n",
    "    result = f1_score(target_valid, predicted_valid)\n",
    "    if result > best_result:\n",
    "        best_params = params\n",
    "        best_result = result\n",
    "        \n",
    "print(f'F1-score of the best model {np.round(best_result, 5)}')\n",
    "print(f'\\nParams:\\nmax_depth = {best_params[0]}\\nn_estimators = {best_params[1]}\\nmin_samples_leaf = {best_params[2]}\\nmin_samples_split = {best_params[3]}')"
   ]
  },
  {
   "cell_type": "markdown",
   "metadata": {},
   "source": [
    "Лучший (Best) показатель F1 для модели на дисбалансных данных для получен при n_estimators=378, max_depth=16, min_samples_leaf=7,  min_samples_split=5.\n",
    "\n",
    "Лучший показатель F1 для модели со взвешенными классам для получен при n_estimators=236, max_depth=14, min_samples_leaf=5, min_samples_split=4.\n",
    "\n",
    "Лучший показатель F1 для модели с уменьшенным количеством классов 0 для получен при n_estimators=174, max_depth=11, min_samples_leaf=2,  min_samples_split=8.\n",
    "\n",
    "Лучший показатель F1 для модели с увеличенным количеством классов 1 для получен при n_estimators=68, max_depth=14, min_samples_leaf=3, min_samples_split=4."
   ]
  },
  {
   "cell_type": "markdown",
   "metadata": {},
   "source": [
    "Проверим на тестовой выборке данные четыре модели: на дисбалансных данных и сбалансированных: со взвешенными классами, усечением 0 класса и расширением класса 1.\n",
    "\n",
    "Let's check these four models on a test sample: on unbalanced data and balanced ones: with weighted classes, truncation of class 0 and extension of class 1."
   ]
  },
  {
   "cell_type": "code",
   "execution_count": 22,
   "metadata": {},
   "outputs": [
    {
     "name": "stdout",
     "output_type": "stream",
     "text": [
      "Случайный лес - дисбаланс классов\n",
      "Точность попадания по классам 0.8672\n",
      "Точноть 0.8245614035087719\n",
      "Полнота 0.39166666666666666\n",
      "F1 0.5310734463276836\n",
      "\n",
      "Случайный лес - взвешенные классы\n",
      "Точность попадания по классам 0.8496\n",
      "Точноть 0.6065573770491803\n",
      "Полнота 0.6166666666666667\n",
      "F1 0.6115702479338844\n",
      "\n",
      "Случайный лес - уменьшенное количество классов 0\n",
      "Точность попадания по классам 0.8032\n",
      "Точноть 0.4918918918918919\n",
      "Полнота 0.7583333333333333\n",
      "F1 0.5967213114754099\n",
      "\n",
      "Случайный лес - увеличенное количество классов 1\n",
      "Точность попадания по классам 0.8304\n",
      "Точноть 0.5514705882352942\n",
      "Полнота 0.625\n",
      "F1 0.5859375000000001\n",
      "\n"
     ]
    }
   ],
   "source": [
    "model = RandomForestClassifier(random_state=20052020, n_estimators=378, max_depth=16,\n",
    "                                   min_samples_leaf=7,  min_samples_split=5)\n",
    "model.fit(features_train, target_train)\n",
    "predicted_test = model.predict(features_test)\n",
    "print('Случайный лес - дисбаланс классов')\n",
    "print('Точность попадания по классам', accuracy_score(target_test, predicted_test))\n",
    "print('Точноть', precision_score(target_test, predicted_test))\n",
    "print('Полнота', recall_score(target_test, predicted_test))\n",
    "print('F1', f1_score(target_test, predicted_test))\n",
    "print()\n",
    "\n",
    "model = RandomForestClassifier(random_state=20052020, n_estimators=236, max_depth=14,\n",
    "                                   min_samples_leaf=5, min_samples_split=4, class_weight='balanced')\n",
    "model.fit(features_train, target_train)\n",
    "predicted_test = model.predict(features_test)\n",
    "print('Случайный лес - взвешенные классы')\n",
    "print('Точность попадания по классам', accuracy_score(target_test, predicted_test))\n",
    "print('Точноть', precision_score(target_test, predicted_test))\n",
    "print('Полнота', recall_score(target_test, predicted_test))\n",
    "print('F1', f1_score(target_test, predicted_test))\n",
    "print()\n",
    "\n",
    "model = RandomForestClassifier(random_state=20052020, n_estimators=174, max_depth=11,\n",
    "                                   min_samples_leaf=2,  min_samples_split=8)\n",
    "model.fit(features_downsampled, target_downsampled)\n",
    "predicted_test = model.predict(features_test)\n",
    "print('Случайный лес - уменьшенное количество классов 0')\n",
    "print('Точность попадания по классам', accuracy_score(target_test, predicted_test))\n",
    "print('Точноть', precision_score(target_test, predicted_test))\n",
    "print('Полнота', recall_score(target_test, predicted_test))\n",
    "print('F1', f1_score(target_test, predicted_test))\n",
    "print()\n",
    "\n",
    "model = RandomForestClassifier(random_state=20052020, n_estimators=68, max_depth=14,\n",
    "                                   min_samples_leaf=3, min_samples_split=4)\n",
    "model.fit(features_upsampled, target_upsampled)\n",
    "predicted_test = model.predict(features_test)\n",
    "print('Случайный лес - увеличенное количество классов 1')\n",
    "print('Точность попадания по классам', accuracy_score(target_test, predicted_test))\n",
    "print('Точноть', precision_score(target_test, predicted_test))\n",
    "print('Полнота', recall_score(target_test, predicted_test))\n",
    "print('F1', f1_score(target_test, predicted_test))\n",
    "print()"
   ]
  },
  {
   "cell_type": "code",
   "execution_count": 23,
   "metadata": {},
   "outputs": [
    {
     "name": "stdout",
     "output_type": "stream",
     "text": [
      "AUC-ROC Модель случайного леса - дисбаланс классов 0.8532673267326732\n",
      "AUC-ROC Модель случайного леса - взвешенные классы 0.8515016501650164\n",
      "AUC-ROC Модель случайного леса - уменьшенное количество классов 0 0.8539933993399339\n",
      "AUC-ROC Модель случайного леса - увеличенное количество классов 1 0.8495709570957096\n"
     ]
    },
    {
     "data": {
      "image/png": "[encoded data removed]",
      "text/plain": [
       "<Figure size 864x648 with 1 Axes>"
      ]
     },
     "metadata": {
      "needs_background": "light"
     },
     "output_type": "display_data"
    }
   ],
   "source": [
    "plt.figure(figsize=[12,9])\n",
    "\n",
    "plt.plot([0, 1], [0, 1], linestyle='--', label='RandomModel')\n",
    "\n",
    "\n",
    "model = RandomForestClassifier(random_state=20052020, n_estimators=378, max_depth=16,\n",
    "                                   min_samples_leaf=7,  min_samples_split=5)\n",
    "model.fit(features_train, target_train)\n",
    "predicted_test = model.predict(features_test)\n",
    "probabilities_test = model.predict_proba(features_test)\n",
    "probabilities_one_test = probabilities_test[:, 1]\n",
    "fpr, tpr, thresholds = roc_curve(target_test, probabilities_one_test)\n",
    "auc_roc = roc_auc_score(target_test, probabilities_one_test)\n",
    "print('AUC-ROC Модель случайного леса - дисбаланс классов',auc_roc)\n",
    "plt.plot(fpr, tpr, label='Модель случайного леса - дисбаланс классов')\n",
    "\n",
    "model = RandomForestClassifier(random_state=20052020, n_estimators=236, max_depth=14,\n",
    "                                   min_samples_leaf=5, min_samples_split=4, class_weight='balanced')\n",
    "model.fit(features_train, target_train)\n",
    "predicted_test = model.predict(features_test)\n",
    "probabilities_test = model.predict_proba(features_test)\n",
    "probabilities_one_test = probabilities_test[:, 1]\n",
    "fpr, tpr, thresholds = roc_curve(target_test, probabilities_one_test)\n",
    "auc_roc = roc_auc_score(target_test, probabilities_one_test)\n",
    "print('AUC-ROC Модель случайного леса - взвешенные классы',auc_roc)\n",
    "plt.plot(fpr, tpr, label='Модель случайного леса - взвешенные классы')\n",
    "\n",
    "model = RandomForestClassifier(random_state=20052020, n_estimators=174, max_depth=11,\n",
    "                                   min_samples_leaf=2,  min_samples_split=8)\n",
    "model.fit(features_downsampled, target_downsampled)\n",
    "predicted_test = model.predict(features_test)\n",
    "probabilities_test = model.predict_proba(features_test)\n",
    "probabilities_one_test = probabilities_test[:, 1]\n",
    "fpr, tpr, thresholds = roc_curve(target_test, probabilities_one_test)\n",
    "auc_roc = roc_auc_score(target_test, probabilities_one_test)\n",
    "print('AUC-ROC Модель случайного леса - уменьшенное количество классов 0',auc_roc)\n",
    "plt.plot(fpr, tpr, label='Модель случайного леса - уменьшенное количество классов 0')\n",
    "\n",
    "model = RandomForestClassifier(random_state=20052020, n_estimators=68, max_depth=14,\n",
    "                                   min_samples_leaf=3, min_samples_split=4)\n",
    "model.fit(features_upsampled, target_upsampled)\n",
    "predicted_test = model.predict(features_test)\n",
    "probabilities_test = model.predict_proba(features_test)\n",
    "probabilities_one_test = probabilities_test[:, 1]\n",
    "fpr, tpr, thresholds = roc_curve(target_test, probabilities_one_test)\n",
    "auc_roc = roc_auc_score(target_test, probabilities_one_test)\n",
    "print('AUC-ROC Модель случайного леса - увеличенное количество классов 1',auc_roc)\n",
    "plt.plot(fpr, tpr, label='Модель случайного леса - увеличенное количество классов 1')\n",
    "\n",
    "plt.xlim([0,1])\n",
    "plt.ylim([0,1])\n",
    "\n",
    "plt.xlabel(\"False Positive Rate\")\n",
    "plt.ylabel(\"True Positive Rate\")\n",
    "\n",
    "plt.legend(loc='lower right', fontsize='x-large')\n",
    "\n",
    "plt.title(\"ROC-кривая\")\n",
    "plt.grid(True)\n",
    "plt.show()"
   ]
  },
  {
   "cell_type": "markdown",
   "metadata": {},
   "source": [
    "### Выводы по 4 этапу\n",
    "\n",
    "### Conclusions on stage 4"
   ]
  },
  {
   "cell_type": "markdown",
   "metadata": {},
   "source": [
    "2 из 4 моделей достигли максимального значения F-меры на тестовых данных: модель случайного леса со взвешенными классами и модель с уменьшенным количеством классов 0.\n",
    "\n",
    "Видно, что подход взвешенных классов дает результат лучше для данного набора данных. Percision падает, recall растет, и в целом F-мера имеет небольшой прирост. Баланс классов повышает охват необходимых данных.\n",
    "\n",
    "Оценивая адеватность модели можно заметить, что AUC-ROC модели с уменьшенным количеством классов 0 и взвешенными классами наилучшим образом предсказывают вероятность ухода клиента.\n",
    "\n",
    "В результате исследования была получена модель с лучшими показателями как по F1-мере, так и по AUC-ROC - Случайный лес со взвешенными классами.\n",
    "\n",
    "________________________________________________________________________________________________________________________________\n",
    "\n",
    "2 out of 4 models reached the maximum F-measure on the test data: a class-weighted random forest model and a class-reduced model of 0.\n",
    "\n",
    "It can be seen that the weighted classes approach gives a better result for this data set. Percision is falling, recall is growing, and in general, the F-measure has a small increase. The balance of classes increases the coverage of the required data.\n",
    "\n",
    "Assessing the adequacy of the model, it can be seen that AUC-ROC models with a reduced number of classes of 0 and weighted classes are the best at predicting the probability of a client leaving.\n",
    "\n",
    "As a result of the study, a model was obtained with the best performance both in F1-measure and in AUC-ROC - Random Forest with Weighted Classes."
   ]
  },
  {
   "cell_type": "markdown",
   "metadata": {},
   "source": [
    "## Итоговый вывод\n",
    "\n",
    "## Final output"
   ]
  },
  {
   "cell_type": "markdown",
   "metadata": {},
   "source": [
    "При работе с проектом было выполнено:\n",
    "\n",
    " - Изучены данные. Разбиты данные на тренировочную, валидационную и тестовую выборку.\n",
    " - Исследована задача. Проверены модели на данных без изменений.\n",
    " - Скоректирован балланс класса. Изменен вес класса.\n",
    " - Получена улучшенная модель. Проведен поиск гиперпараметров.\n",
    " - Проведен финальный тест.\n",
    " \n",
    "Обученная модель случайного леса со взвешенными классами имеет достаточную адекватность, подтвержденная ее значением AUC-ROC = 0.852. Это значительно лучше, чем случайная модель предсказывания (AUC-ROC = 0.5). Точность попадания по классам 0.834, точность 0.606, полнота 0.641 и значение F1 0.623. Модель старается собрать больше данных, чем показать верную точность (recall > precision). Процент попадания в классы достаточно высокий.\n",
    "\n",
    "________________________________________________________________________________________________________________________________\n",
    "\n",
    "When working with the project, the following was done:\n",
    "\n",
    "  - Studied the data. The data is divided into training, validation and test sets.\n",
    "  - Researched task. Checked the models on the data without changes.\n",
    "  - Adjusted class balance. Changed class weight.\n",
    "  - Improved model received. A search for hyperparameters was carried out.\n",
    "  - Passed the final test.\n",
    " \n",
    "The trained class-weighted random forest model has sufficient adequacy, confirmed by its AUC-ROC value of 0.852. This is significantly better than the random predictive model (AUC-ROC = 0.5). Class hit accuracy 0.834, accuracy 0.606, recall 0.641 and F1 value 0.623. The model tries to collect more data than it shows the correct accuracy (recall > precision). The percentage of getting into the classes is quite high."
   ]
  },
  {
   "cell_type": "code",
   "execution_count": null,
   "metadata": {},
   "outputs": [],
   "source": []
  }
 ],
 "metadata": {
  "ExecuteTimeLog": [
   {
    "duration": 1462,
    "start_time": "2022-10-04T11:25:08.147Z"
   },
   {
    "duration": 3,
    "start_time": "2022-10-04T11:25:10.542Z"
   },
   {
    "duration": 89,
    "start_time": "2022-10-04T11:25:19.735Z"
   },
   {
    "duration": 18,
    "start_time": "2022-10-04T11:26:35.916Z"
   },
   {
    "duration": 11,
    "start_time": "2022-10-04T11:27:17.499Z"
   },
   {
    "duration": 6,
    "start_time": "2022-10-04T11:27:55.079Z"
   },
   {
    "duration": 5,
    "start_time": "2022-10-04T11:28:52.879Z"
   },
   {
    "duration": 17,
    "start_time": "2022-10-04T11:29:11.415Z"
   },
   {
    "duration": 11,
    "start_time": "2022-10-04T11:36:08.102Z"
   },
   {
    "duration": 10,
    "start_time": "2022-10-04T11:36:33.590Z"
   },
   {
    "duration": 10,
    "start_time": "2022-10-04T11:37:35.783Z"
   },
   {
    "duration": 5,
    "start_time": "2022-10-04T11:38:21.661Z"
   },
   {
    "duration": 38790,
    "start_time": "2022-10-04T11:39:56.101Z"
   },
   {
    "duration": 39144,
    "start_time": "2022-10-04T11:40:54.501Z"
   },
   {
    "duration": 23478,
    "start_time": "2022-10-04T11:43:39.142Z"
   },
   {
    "duration": 38925,
    "start_time": "2022-10-04T11:45:01.701Z"
   },
   {
    "duration": 38929,
    "start_time": "2022-10-04T11:45:45.980Z"
   },
   {
    "duration": 38532,
    "start_time": "2022-10-04T11:46:29.949Z"
   },
   {
    "duration": 38977,
    "start_time": "2022-10-04T11:47:18.981Z"
   },
   {
    "duration": 38506,
    "start_time": "2022-10-04T11:48:00.341Z"
   },
   {
    "duration": 38756,
    "start_time": "2022-10-04T11:48:45.787Z"
   },
   {
    "duration": 23210,
    "start_time": "2022-10-04T11:49:27.061Z"
   },
   {
    "duration": 38,
    "start_time": "2022-10-04T11:50:29.101Z"
   },
   {
    "duration": 568,
    "start_time": "2022-10-04T11:52:24.742Z"
   },
   {
    "duration": 885,
    "start_time": "2022-10-04T11:53:05.262Z"
   },
   {
    "duration": 878,
    "start_time": "2022-10-04T11:54:23.349Z"
   },
   {
    "duration": 535,
    "start_time": "2022-10-04T11:58:08.903Z"
   },
   {
    "duration": 608,
    "start_time": "2022-10-04T11:58:57.902Z"
   },
   {
    "duration": 15,
    "start_time": "2022-10-04T12:01:00.381Z"
   },
   {
    "duration": 297,
    "start_time": "2022-10-04T12:01:24.815Z"
   },
   {
    "duration": 359,
    "start_time": "2022-10-04T12:01:52.554Z"
   },
   {
    "duration": 365,
    "start_time": "2022-10-04T12:03:27.950Z"
   },
   {
    "duration": 12,
    "start_time": "2022-10-04T12:03:37.782Z"
   },
   {
    "duration": 773,
    "start_time": "2022-10-04T12:04:26.042Z"
   },
   {
    "duration": 1059,
    "start_time": "2022-10-04T12:08:04.432Z"
   },
   {
    "duration": 157954,
    "start_time": "2022-10-04T12:10:44.185Z"
   },
   {
    "duration": 202273,
    "start_time": "2022-10-04T12:14:45.371Z"
   },
   {
    "duration": 3954,
    "start_time": "2022-10-04T12:18:12.839Z"
   },
   {
    "duration": 3422,
    "start_time": "2022-10-04T12:18:35.878Z"
   },
   {
    "duration": 334,
    "start_time": "2022-10-04T12:19:38.173Z"
   },
   {
    "duration": 10592,
    "start_time": "2022-10-04T12:19:55.302Z"
   },
   {
    "duration": 206,
    "start_time": "2022-10-04T12:21:52.632Z"
   },
   {
    "duration": 161,
    "start_time": "2022-10-04T12:22:08.117Z"
   },
   {
    "duration": 185,
    "start_time": "2022-10-04T12:22:34.503Z"
   },
   {
    "duration": 161,
    "start_time": "2022-10-04T12:23:01.097Z"
   },
   {
    "duration": 173,
    "start_time": "2022-10-04T12:23:29.195Z"
   },
   {
    "duration": 163,
    "start_time": "2022-10-04T12:23:32.394Z"
   },
   {
    "duration": 155,
    "start_time": "2022-10-04T12:23:35.702Z"
   },
   {
    "duration": 148,
    "start_time": "2022-10-04T12:23:51.590Z"
   },
   {
    "duration": 4855,
    "start_time": "2022-10-04T12:24:39.520Z"
   },
   {
    "duration": 4601,
    "start_time": "2022-10-04T12:24:59.429Z"
   },
   {
    "duration": 4654,
    "start_time": "2022-10-04T12:25:19.720Z"
   },
   {
    "duration": 8846,
    "start_time": "2022-10-04T12:25:46.971Z"
   },
   {
    "duration": 115,
    "start_time": "2022-10-04T12:28:18.025Z"
   },
   {
    "duration": 43042,
    "start_time": "2022-10-04T12:28:48.796Z"
   },
   {
    "duration": 114,
    "start_time": "2022-10-04T12:30:17.679Z"
   },
   {
    "duration": 9582,
    "start_time": "2022-10-04T12:30:42.337Z"
   },
   {
    "duration": 9976,
    "start_time": "2022-10-04T12:33:47.753Z"
   },
   {
    "duration": 1401,
    "start_time": "2022-10-11T07:07:49.236Z"
   },
   {
    "duration": 86,
    "start_time": "2022-10-11T07:07:50.639Z"
   },
   {
    "duration": 11,
    "start_time": "2022-10-11T07:07:57.235Z"
   },
   {
    "duration": 5,
    "start_time": "2022-10-11T07:07:59.555Z"
   },
   {
    "duration": 5,
    "start_time": "2022-10-11T07:08:02.082Z"
   },
   {
    "duration": 17,
    "start_time": "2022-10-11T07:08:05.043Z"
   },
   {
    "duration": 9,
    "start_time": "2022-10-11T07:08:07.891Z"
   },
   {
    "duration": 32006,
    "start_time": "2022-10-11T07:08:25.230Z"
   },
   {
    "duration": 779,
    "start_time": "2022-10-11T07:08:57.237Z"
   },
   {
    "duration": 235,
    "start_time": "2022-10-11T07:09:18.577Z"
   },
   {
    "duration": 13,
    "start_time": "2022-10-11T07:09:25.954Z"
   },
   {
    "duration": 927,
    "start_time": "2022-10-11T07:09:29.218Z"
   },
   {
    "duration": 1497,
    "start_time": "2022-10-11T09:17:10.894Z"
   },
   {
    "duration": 113,
    "start_time": "2022-10-11T09:17:12.393Z"
   },
   {
    "duration": 11,
    "start_time": "2022-10-11T09:17:19.652Z"
   },
   {
    "duration": 5,
    "start_time": "2022-10-11T09:17:23.996Z"
   },
   {
    "duration": 22,
    "start_time": "2022-10-11T09:17:26.369Z"
   },
   {
    "duration": 13,
    "start_time": "2022-10-11T09:17:31.729Z"
   },
   {
    "duration": 36950,
    "start_time": "2022-10-11T09:18:30.509Z"
   },
   {
    "duration": 848,
    "start_time": "2022-10-11T09:19:38.241Z"
   },
   {
    "duration": 533,
    "start_time": "2022-10-11T09:19:43.406Z"
   },
   {
    "duration": 248,
    "start_time": "2022-10-11T09:20:20.470Z"
   },
   {
    "duration": 67,
    "start_time": "2022-10-11T09:20:24.664Z"
   },
   {
    "duration": 16,
    "start_time": "2022-10-11T09:20:27.545Z"
   },
   {
    "duration": 725,
    "start_time": "2022-10-11T09:20:29.426Z"
   },
   {
    "duration": 1047,
    "start_time": "2022-10-11T09:20:32.441Z"
   },
   {
    "duration": 4,
    "start_time": "2022-10-11T09:31:59.588Z"
   },
   {
    "duration": 11,
    "start_time": "2022-10-11T09:41:14.537Z"
   },
   {
    "duration": 19,
    "start_time": "2022-10-11T09:43:14.389Z"
   },
   {
    "duration": 101057,
    "start_time": "2022-10-11T09:43:22.748Z"
   },
   {
    "duration": 21,
    "start_time": "2022-10-11T10:05:19.095Z"
   },
   {
    "duration": 17119,
    "start_time": "2022-10-11T10:10:21.089Z"
   },
   {
    "duration": 101515,
    "start_time": "2022-10-11T10:10:56.267Z"
   },
   {
    "duration": 3932,
    "start_time": "2022-10-11T10:18:40.550Z"
   },
   {
    "duration": 112,
    "start_time": "2022-10-11T10:19:04.828Z"
   },
   {
    "duration": 605,
    "start_time": "2022-10-11T10:19:10.129Z"
   },
   {
    "duration": 12,
    "start_time": "2022-10-11T10:19:12.835Z"
   },
   {
    "duration": 327,
    "start_time": "2022-10-11T10:19:15.107Z"
   },
   {
    "duration": 12,
    "start_time": "2022-10-11T10:19:17.648Z"
   },
   {
    "duration": 732,
    "start_time": "2022-10-11T10:19:21.303Z"
   },
   {
    "duration": 993,
    "start_time": "2022-10-11T10:19:25.789Z"
   },
   {
    "duration": 7746,
    "start_time": "2022-10-11T10:19:36.830Z"
   },
   {
    "duration": 539,
    "start_time": "2022-10-11T10:22:07.237Z"
   },
   {
    "duration": 822,
    "start_time": "2022-10-11T10:23:08.371Z"
   },
   {
    "duration": 532,
    "start_time": "2022-10-11T10:25:00.206Z"
   },
   {
    "duration": 839,
    "start_time": "2022-10-11T10:25:15.934Z"
   },
   {
    "duration": 1541,
    "start_time": "2022-10-13T07:45:58.119Z"
   },
   {
    "duration": 109,
    "start_time": "2022-10-13T07:46:15.471Z"
   },
   {
    "duration": 189,
    "start_time": "2022-10-13T07:46:25.268Z"
   },
   {
    "duration": 11,
    "start_time": "2022-10-13T07:46:29.742Z"
   },
   {
    "duration": 6,
    "start_time": "2022-10-13T07:46:33.797Z"
   },
   {
    "duration": 15,
    "start_time": "2022-10-13T07:46:38.418Z"
   },
   {
    "duration": 26,
    "start_time": "2022-10-13T07:46:43.967Z"
   },
   {
    "duration": 12,
    "start_time": "2022-10-13T07:46:46.384Z"
   },
   {
    "duration": 688,
    "start_time": "2022-10-13T07:47:28.609Z"
   },
   {
    "duration": 14,
    "start_time": "2022-10-13T07:47:34.827Z"
   },
   {
    "duration": 394,
    "start_time": "2022-10-13T07:47:37.910Z"
   },
   {
    "duration": 14,
    "start_time": "2022-10-13T07:47:44.828Z"
   },
   {
    "duration": 1116,
    "start_time": "2022-10-13T07:47:49.056Z"
   },
   {
    "duration": 81,
    "start_time": "2022-10-13T08:15:12.547Z"
   },
   {
    "duration": 37,
    "start_time": "2022-10-13T08:15:21.957Z"
   },
   {
    "duration": 27,
    "start_time": "2022-10-13T08:15:37.061Z"
   },
   {
    "duration": 9502,
    "start_time": "2022-10-13T08:15:52.574Z"
   },
   {
    "duration": 4543901,
    "start_time": "2022-10-13T08:16:22.295Z"
   },
   {
    "duration": 4443293,
    "start_time": "2022-10-13T09:32:18.901Z"
   },
   {
    "duration": 521786,
    "start_time": "2022-10-13T10:47:03.343Z"
   },
   {
    "duration": 103,
    "start_time": "2022-10-13T11:00:20.866Z"
   },
   {
    "duration": 5905,
    "start_time": "2022-10-13T11:00:29.068Z"
   },
   {
    "duration": 6540,
    "start_time": "2022-10-13T11:04:43.912Z"
   }
  ],
  "kernelspec": {
   "display_name": "Python 3 (ipykernel)",
   "language": "python",
   "name": "python3"
  },
  "language_info": {
   "codemirror_mode": {
    "name": "ipython",
    "version": 3
   },
   "file_extension": ".py",
   "mimetype": "text/x-python",
   "name": "python",
   "nbconvert_exporter": "python",
   "pygments_lexer": "ipython3",
   "version": "3.9.13"
  },
  "toc": {
   "base_numbering": 1,
   "nav_menu": {},
   "number_sections": true,
   "sideBar": true,
   "skip_h1_title": true,
   "title_cell": "Содержание",
   "title_sidebar": "Contents",
   "toc_cell": true,
   "toc_position": {},
   "toc_section_display": true,
   "toc_window_display": false
  }
 },
 "nbformat": 4,
 "nbformat_minor": 2
}
