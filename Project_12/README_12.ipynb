{
 "cells": [
  {
   "cell_type": "markdown",
   "id": "3d0ead13",
   "metadata": {},
   "source": [
    "## Project_12\n",
    "\n",
    "### Компьютерное зрение\n",
    "Сетевой супермаркет «Хлеб-Соль» внедряет систему компьютерного зрения для обработки фотографий покупателей. Фотофиксация в прикассовой зоне поможет определять возраст клиентов, чтобы:\n",
    "\n",
    "* Анализировать покупки и предлагать товары, которые могут заинтересовать покупателей этой возрастной группы;\n",
    "* Контролировать добросовестность кассиров при продаже алкоголя.\n",
    "\n",
    "### Computer vision\n",
    "Network supermarket \"Bread and salt\" introduces a computer vision system for processing photos of customers. Photofixing in the checkout area will help determine the age of customers to:\n",
    "\n",
    "* Analyze purchases and offer products that may interest customers of this age group;\n",
    "* Monitor the integrity of cashiers when selling alcohol.\n"
   ]
  },
  {
   "cell_type": "code",
   "execution_count": null,
   "id": "01a139a5",
   "metadata": {},
   "outputs": [],
   "source": []
  }
 ],
 "metadata": {
  "kernelspec": {
   "display_name": "Python 3 (ipykernel)",
   "language": "python",
   "name": "python3"
  },
  "language_info": {
   "codemirror_mode": {
    "name": "ipython",
    "version": 3
   },
   "file_extension": ".py",
   "mimetype": "text/x-python",
   "name": "python",
   "nbconvert_exporter": "python",
   "pygments_lexer": "ipython3",
   "version": "3.9.13"
  }
 },
 "nbformat": 4,
 "nbformat_minor": 5
}
