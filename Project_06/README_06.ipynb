{
 "cells": [
  {
   "cell_type": "markdown",
   "id": "4bb94891",
   "metadata": {},
   "source": [
    "## Project_06\n",
    "\n",
    "### Обучение с учителем\n",
    "Из «Бета-Банка» стали уходить клиенты. Каждый месяц. Немного, но заметно. Банковские маркетологи посчитали: сохранять текущих клиентов дешевле, чем привлекать новых. Нужно спрогнозировать, уйдёт клиент из банка в ближайшее время или нет. Вам предоставлены исторические данные о поведении клиентов и расторжении договоров с банком.\n",
    "\n",
    "Постройте модель с предельно большим значением F1-меры. Чтобы сдать проект успешно, нужно довести метрику до 0.59. Проверьте F1-меру на тестовой выборке самостоятельно.\n",
    "\n",
    "Дополнительно измеряйте AUC-ROC, сравнивайте её значение с F1-мерой.\n",
    "\n",
    "### Supervised learning\n",
    "\"Beta-Bank\" started leaving clients. Every month. A little, but noticeable. Banking marketers thought: it is cheaper to save current customers than to attract new ones. It is necessary to predict whether the client will leave the bank in the near future or not. You are provided with historical data on the behavior of clients and the termination of contracts with the bank.\n",
    "\n",
    "Build a model with an extremely large F1-measure. To pass the project successfully, you need to bring the metric to 0.59. Check the F1-measure on the test set yourself.\n",
    "\n",
    "Additionally, measure the AUC-ROC, compare its value with the F1-measure.\n",
    "\n",
    "### Описание данных\n",
    "\n",
    "**Признаки**\n",
    "- RowNumber — индекс строки в данных\n",
    "- CustomerId — уникальный идентификатор клиента\n",
    "- Surname — фамилия\n",
    "- CreditScore — кредитный рейтинг\n",
    "- Geography — страна проживания\n",
    "- Gender — пол\n",
    "- Age — возраст\n",
    "- Tenure — сколько лет человек является клиентом банка\n",
    "- Balance — баланс на счёте\n",
    "- NumOfProducts — количество продуктов банка, используемых клиентом\n",
    "- HasCrCard — наличие кредитной карты\n",
    "- IsActiveMember — активность клиента\n",
    "- EstimatedSalary — предполагаемая зарплата\n",
    "**Целевой признак**\n",
    "- Exited — факт ухода клиента\n",
    "\n",
    "### Description of data\n",
    "\n",
    "**Signs**\n",
    "- RowNumber - row index in the data\n",
    "- CustomerId — unique customer identifier\n",
    "- Surname - surname\n",
    "- CreditScore - credit rating\n",
    "- Geography - country of residence\n",
    "- Gender - gender\n",
    "- Age - age\n",
    "- Tenure - how many years a person has been a client of the bank\n",
    "- Balance - account balance\n",
    "- NumOfProducts - the number of bank products used by the client\n",
    "- HasCrCard - the presence of a credit card\n",
    "- IsActiveMember - client activity\n",
    "- EstimatedSalary - estimated salary\n",
    "**Target feature**\n",
    "- Exited - the fact that the client left"
   ]
  },
  {
   "cell_type": "code",
   "execution_count": null,
   "id": "d72c0154",
   "metadata": {},
   "outputs": [],
   "source": []
  }
 ],
 "metadata": {
  "kernelspec": {
   "display_name": "Python 3 (ipykernel)",
   "language": "python",
   "name": "python3"
  },
  "language_info": {
   "codemirror_mode": {
    "name": "ipython",
    "version": 3
   },
   "file_extension": ".py",
   "mimetype": "text/x-python",
   "name": "python",
   "nbconvert_exporter": "python",
   "pygments_lexer": "ipython3",
   "version": "3.9.13"
  }
 },
 "nbformat": 4,
 "nbformat_minor": 5
}
