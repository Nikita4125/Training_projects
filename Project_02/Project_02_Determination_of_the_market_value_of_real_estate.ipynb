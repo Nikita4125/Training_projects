{
 "cells": [
  {
   "cell_type": "markdown",
   "metadata": {},
   "source": [
    "# Исследование объявлений о продаже квартир\n",
    "\n",
    "В нашем распоряжении данные архива объявлений о продаже квартир в Санкт-Петербурге и соседних населённых пунктов за несколько лет. Нужно научиться определять рыночную стоимость объектов недвижимости. Задача — установить параметры. Это позволит построить автоматизированную систему: она отследит аномалии и мошенническую деятельность. \n",
    "\n",
    "По каждой квартире на продажу доступны два вида данных. Первые вписаны пользователем, вторые — получены автоматически на основе картографических данных. Например, расстояние до центра, аэропорта, ближайшего парка и водоёма. \n",
    "\n",
    "\n",
    "# Study of ads for the sale of apartments\n",
    "\n",
    "We have at our disposal the data of the archive of advertisements for the sale of apartments in St. Petersburg and neighboring settlements for several years. You need to learn how to determine the market value of real estate. The task is to set the parameters. This will allow to build an automated system: it will track anomalies and fraudulent activity.\n",
    "\n",
    "Two types of data are available for each apartment for sale. The first ones are entered by the user, the second ones are obtained automatically on the basis of cartographic data. For example, the distance to the center, airport, nearest park and reservoir."
   ]
  },
  {
   "cell_type": "markdown",
   "metadata": {},
   "source": [
    "### Откройте файл с данными и изучите общую информацию. "
   ]
  },
  {
   "cell_type": "code",
   "execution_count": 1,
   "metadata": {},
   "outputs": [],
   "source": [
    "import pandas as pd"
   ]
  },
  {
   "cell_type": "code",
   "execution_count": 2,
   "metadata": {},
   "outputs": [
    {
     "data": {
      "text/html": [
       "<div>\n",
       "<style scoped>\n",
       "    .dataframe tbody tr th:only-of-type {\n",
       "        vertical-align: middle;\n",
       "    }\n",
       "\n",
       "    .dataframe tbody tr th {\n",
       "        vertical-align: top;\n",
       "    }\n",
       "\n",
       "    .dataframe thead th {\n",
       "        text-align: right;\n",
       "    }\n",
       "</style>\n",
       "<table border=\"1\" class=\"dataframe\">\n",
       "  <thead>\n",
       "    <tr style=\"text-align: right;\">\n",
       "      <th></th>\n",
       "      <th>total_images</th>\n",
       "      <th>last_price</th>\n",
       "      <th>total_area</th>\n",
       "      <th>first_day_exposition</th>\n",
       "      <th>rooms</th>\n",
       "      <th>ceiling_height</th>\n",
       "      <th>floors_total</th>\n",
       "      <th>living_area</th>\n",
       "      <th>floor</th>\n",
       "      <th>is_apartment</th>\n",
       "      <th>...</th>\n",
       "      <th>kitchen_area</th>\n",
       "      <th>balcony</th>\n",
       "      <th>locality_name</th>\n",
       "      <th>airports_nearest</th>\n",
       "      <th>cityCenters_nearest</th>\n",
       "      <th>parks_around3000</th>\n",
       "      <th>parks_nearest</th>\n",
       "      <th>ponds_around3000</th>\n",
       "      <th>ponds_nearest</th>\n",
       "      <th>days_exposition</th>\n",
       "    </tr>\n",
       "  </thead>\n",
       "  <tbody>\n",
       "    <tr>\n",
       "      <th>0</th>\n",
       "      <td>20</td>\n",
       "      <td>13000000.0</td>\n",
       "      <td>108.00</td>\n",
       "      <td>2019-03-07T00:00:00</td>\n",
       "      <td>3</td>\n",
       "      <td>2.70</td>\n",
       "      <td>16.0</td>\n",
       "      <td>51.00</td>\n",
       "      <td>8</td>\n",
       "      <td>NaN</td>\n",
       "      <td>...</td>\n",
       "      <td>25.00</td>\n",
       "      <td>NaN</td>\n",
       "      <td>Санкт-Петербург</td>\n",
       "      <td>18863.0</td>\n",
       "      <td>16028.0</td>\n",
       "      <td>1.0</td>\n",
       "      <td>482.0</td>\n",
       "      <td>2.0</td>\n",
       "      <td>755.0</td>\n",
       "      <td>NaN</td>\n",
       "    </tr>\n",
       "    <tr>\n",
       "      <th>1</th>\n",
       "      <td>7</td>\n",
       "      <td>3350000.0</td>\n",
       "      <td>40.40</td>\n",
       "      <td>2018-12-04T00:00:00</td>\n",
       "      <td>1</td>\n",
       "      <td>NaN</td>\n",
       "      <td>11.0</td>\n",
       "      <td>18.60</td>\n",
       "      <td>1</td>\n",
       "      <td>NaN</td>\n",
       "      <td>...</td>\n",
       "      <td>11.00</td>\n",
       "      <td>2.0</td>\n",
       "      <td>посёлок Шушары</td>\n",
       "      <td>12817.0</td>\n",
       "      <td>18603.0</td>\n",
       "      <td>0.0</td>\n",
       "      <td>NaN</td>\n",
       "      <td>0.0</td>\n",
       "      <td>NaN</td>\n",
       "      <td>81.0</td>\n",
       "    </tr>\n",
       "    <tr>\n",
       "      <th>2</th>\n",
       "      <td>10</td>\n",
       "      <td>5196000.0</td>\n",
       "      <td>56.00</td>\n",
       "      <td>2015-08-20T00:00:00</td>\n",
       "      <td>2</td>\n",
       "      <td>NaN</td>\n",
       "      <td>5.0</td>\n",
       "      <td>34.30</td>\n",
       "      <td>4</td>\n",
       "      <td>NaN</td>\n",
       "      <td>...</td>\n",
       "      <td>8.30</td>\n",
       "      <td>0.0</td>\n",
       "      <td>Санкт-Петербург</td>\n",
       "      <td>21741.0</td>\n",
       "      <td>13933.0</td>\n",
       "      <td>1.0</td>\n",
       "      <td>90.0</td>\n",
       "      <td>2.0</td>\n",
       "      <td>574.0</td>\n",
       "      <td>558.0</td>\n",
       "    </tr>\n",
       "    <tr>\n",
       "      <th>3</th>\n",
       "      <td>0</td>\n",
       "      <td>64900000.0</td>\n",
       "      <td>159.00</td>\n",
       "      <td>2015-07-24T00:00:00</td>\n",
       "      <td>3</td>\n",
       "      <td>NaN</td>\n",
       "      <td>14.0</td>\n",
       "      <td>NaN</td>\n",
       "      <td>9</td>\n",
       "      <td>NaN</td>\n",
       "      <td>...</td>\n",
       "      <td>NaN</td>\n",
       "      <td>0.0</td>\n",
       "      <td>Санкт-Петербург</td>\n",
       "      <td>28098.0</td>\n",
       "      <td>6800.0</td>\n",
       "      <td>2.0</td>\n",
       "      <td>84.0</td>\n",
       "      <td>3.0</td>\n",
       "      <td>234.0</td>\n",
       "      <td>424.0</td>\n",
       "    </tr>\n",
       "    <tr>\n",
       "      <th>4</th>\n",
       "      <td>2</td>\n",
       "      <td>10000000.0</td>\n",
       "      <td>100.00</td>\n",
       "      <td>2018-06-19T00:00:00</td>\n",
       "      <td>2</td>\n",
       "      <td>3.03</td>\n",
       "      <td>14.0</td>\n",
       "      <td>32.00</td>\n",
       "      <td>13</td>\n",
       "      <td>NaN</td>\n",
       "      <td>...</td>\n",
       "      <td>41.00</td>\n",
       "      <td>NaN</td>\n",
       "      <td>Санкт-Петербург</td>\n",
       "      <td>31856.0</td>\n",
       "      <td>8098.0</td>\n",
       "      <td>2.0</td>\n",
       "      <td>112.0</td>\n",
       "      <td>1.0</td>\n",
       "      <td>48.0</td>\n",
       "      <td>121.0</td>\n",
       "    </tr>\n",
       "    <tr>\n",
       "      <th>5</th>\n",
       "      <td>10</td>\n",
       "      <td>2890000.0</td>\n",
       "      <td>30.40</td>\n",
       "      <td>2018-09-10T00:00:00</td>\n",
       "      <td>1</td>\n",
       "      <td>NaN</td>\n",
       "      <td>12.0</td>\n",
       "      <td>14.40</td>\n",
       "      <td>5</td>\n",
       "      <td>NaN</td>\n",
       "      <td>...</td>\n",
       "      <td>9.10</td>\n",
       "      <td>NaN</td>\n",
       "      <td>городской посёлок Янино-1</td>\n",
       "      <td>NaN</td>\n",
       "      <td>NaN</td>\n",
       "      <td>NaN</td>\n",
       "      <td>NaN</td>\n",
       "      <td>NaN</td>\n",
       "      <td>NaN</td>\n",
       "      <td>55.0</td>\n",
       "    </tr>\n",
       "    <tr>\n",
       "      <th>6</th>\n",
       "      <td>6</td>\n",
       "      <td>3700000.0</td>\n",
       "      <td>37.30</td>\n",
       "      <td>2017-11-02T00:00:00</td>\n",
       "      <td>1</td>\n",
       "      <td>NaN</td>\n",
       "      <td>26.0</td>\n",
       "      <td>10.60</td>\n",
       "      <td>6</td>\n",
       "      <td>NaN</td>\n",
       "      <td>...</td>\n",
       "      <td>14.40</td>\n",
       "      <td>1.0</td>\n",
       "      <td>посёлок Парголово</td>\n",
       "      <td>52996.0</td>\n",
       "      <td>19143.0</td>\n",
       "      <td>0.0</td>\n",
       "      <td>NaN</td>\n",
       "      <td>0.0</td>\n",
       "      <td>NaN</td>\n",
       "      <td>155.0</td>\n",
       "    </tr>\n",
       "    <tr>\n",
       "      <th>7</th>\n",
       "      <td>5</td>\n",
       "      <td>7915000.0</td>\n",
       "      <td>71.60</td>\n",
       "      <td>2019-04-18T00:00:00</td>\n",
       "      <td>2</td>\n",
       "      <td>NaN</td>\n",
       "      <td>24.0</td>\n",
       "      <td>NaN</td>\n",
       "      <td>22</td>\n",
       "      <td>NaN</td>\n",
       "      <td>...</td>\n",
       "      <td>18.90</td>\n",
       "      <td>2.0</td>\n",
       "      <td>Санкт-Петербург</td>\n",
       "      <td>23982.0</td>\n",
       "      <td>11634.0</td>\n",
       "      <td>0.0</td>\n",
       "      <td>NaN</td>\n",
       "      <td>0.0</td>\n",
       "      <td>NaN</td>\n",
       "      <td>NaN</td>\n",
       "    </tr>\n",
       "    <tr>\n",
       "      <th>8</th>\n",
       "      <td>20</td>\n",
       "      <td>2900000.0</td>\n",
       "      <td>33.16</td>\n",
       "      <td>2018-05-23T00:00:00</td>\n",
       "      <td>1</td>\n",
       "      <td>NaN</td>\n",
       "      <td>27.0</td>\n",
       "      <td>15.43</td>\n",
       "      <td>26</td>\n",
       "      <td>NaN</td>\n",
       "      <td>...</td>\n",
       "      <td>8.81</td>\n",
       "      <td>NaN</td>\n",
       "      <td>посёлок Мурино</td>\n",
       "      <td>NaN</td>\n",
       "      <td>NaN</td>\n",
       "      <td>NaN</td>\n",
       "      <td>NaN</td>\n",
       "      <td>NaN</td>\n",
       "      <td>NaN</td>\n",
       "      <td>189.0</td>\n",
       "    </tr>\n",
       "    <tr>\n",
       "      <th>9</th>\n",
       "      <td>18</td>\n",
       "      <td>5400000.0</td>\n",
       "      <td>61.00</td>\n",
       "      <td>2017-02-26T00:00:00</td>\n",
       "      <td>3</td>\n",
       "      <td>2.50</td>\n",
       "      <td>9.0</td>\n",
       "      <td>43.60</td>\n",
       "      <td>7</td>\n",
       "      <td>NaN</td>\n",
       "      <td>...</td>\n",
       "      <td>6.50</td>\n",
       "      <td>2.0</td>\n",
       "      <td>Санкт-Петербург</td>\n",
       "      <td>50898.0</td>\n",
       "      <td>15008.0</td>\n",
       "      <td>0.0</td>\n",
       "      <td>NaN</td>\n",
       "      <td>0.0</td>\n",
       "      <td>NaN</td>\n",
       "      <td>289.0</td>\n",
       "    </tr>\n",
       "  </tbody>\n",
       "</table>\n",
       "<p>10 rows × 22 columns</p>\n",
       "</div>"
      ],
      "text/plain": [
       "   total_images  last_price  total_area first_day_exposition  rooms  \\\n",
       "0            20  13000000.0      108.00  2019-03-07T00:00:00      3   \n",
       "1             7   3350000.0       40.40  2018-12-04T00:00:00      1   \n",
       "2            10   5196000.0       56.00  2015-08-20T00:00:00      2   \n",
       "3             0  64900000.0      159.00  2015-07-24T00:00:00      3   \n",
       "4             2  10000000.0      100.00  2018-06-19T00:00:00      2   \n",
       "5            10   2890000.0       30.40  2018-09-10T00:00:00      1   \n",
       "6             6   3700000.0       37.30  2017-11-02T00:00:00      1   \n",
       "7             5   7915000.0       71.60  2019-04-18T00:00:00      2   \n",
       "8            20   2900000.0       33.16  2018-05-23T00:00:00      1   \n",
       "9            18   5400000.0       61.00  2017-02-26T00:00:00      3   \n",
       "\n",
       "   ceiling_height  floors_total  living_area  floor is_apartment  ...  \\\n",
       "0            2.70          16.0        51.00      8          NaN  ...   \n",
       "1             NaN          11.0        18.60      1          NaN  ...   \n",
       "2             NaN           5.0        34.30      4          NaN  ...   \n",
       "3             NaN          14.0          NaN      9          NaN  ...   \n",
       "4            3.03          14.0        32.00     13          NaN  ...   \n",
       "5             NaN          12.0        14.40      5          NaN  ...   \n",
       "6             NaN          26.0        10.60      6          NaN  ...   \n",
       "7             NaN          24.0          NaN     22          NaN  ...   \n",
       "8             NaN          27.0        15.43     26          NaN  ...   \n",
       "9            2.50           9.0        43.60      7          NaN  ...   \n",
       "\n",
       "   kitchen_area  balcony              locality_name  airports_nearest  \\\n",
       "0         25.00      NaN            Санкт-Петербург           18863.0   \n",
       "1         11.00      2.0             посёлок Шушары           12817.0   \n",
       "2          8.30      0.0            Санкт-Петербург           21741.0   \n",
       "3           NaN      0.0            Санкт-Петербург           28098.0   \n",
       "4         41.00      NaN            Санкт-Петербург           31856.0   \n",
       "5          9.10      NaN  городской посёлок Янино-1               NaN   \n",
       "6         14.40      1.0          посёлок Парголово           52996.0   \n",
       "7         18.90      2.0            Санкт-Петербург           23982.0   \n",
       "8          8.81      NaN             посёлок Мурино               NaN   \n",
       "9          6.50      2.0            Санкт-Петербург           50898.0   \n",
       "\n",
       "  cityCenters_nearest  parks_around3000  parks_nearest  ponds_around3000  \\\n",
       "0             16028.0               1.0          482.0               2.0   \n",
       "1             18603.0               0.0            NaN               0.0   \n",
       "2             13933.0               1.0           90.0               2.0   \n",
       "3              6800.0               2.0           84.0               3.0   \n",
       "4              8098.0               2.0          112.0               1.0   \n",
       "5                 NaN               NaN            NaN               NaN   \n",
       "6             19143.0               0.0            NaN               0.0   \n",
       "7             11634.0               0.0            NaN               0.0   \n",
       "8                 NaN               NaN            NaN               NaN   \n",
       "9             15008.0               0.0            NaN               0.0   \n",
       "\n",
       "   ponds_nearest  days_exposition  \n",
       "0          755.0              NaN  \n",
       "1            NaN             81.0  \n",
       "2          574.0            558.0  \n",
       "3          234.0            424.0  \n",
       "4           48.0            121.0  \n",
       "5            NaN             55.0  \n",
       "6            NaN            155.0  \n",
       "7            NaN              NaN  \n",
       "8            NaN            189.0  \n",
       "9            NaN            289.0  \n",
       "\n",
       "[10 rows x 22 columns]"
      ]
     },
     "execution_count": 2,
     "metadata": {},
     "output_type": "execute_result"
    },
    {
     "data": {
      "image/png": "[encoded data removed]",
      "text/plain": [
       "<Figure size 1080x1440 with 20 Axes>"
      ]
     },
     "metadata": {
      "needs_background": "light"
     },
     "output_type": "display_data"
    }
   ],
   "source": [
    "data = pd.read_csv('/datasets/real_estate_data.csv', sep='\\t')\n",
    "\n",
    "data.hist(figsize=(15, 20))\n",
    "\n",
    "data.head(10)"
   ]
  },
  {
   "cell_type": "markdown",
   "metadata": {},
   "source": [
    "### Предобработка данных\n",
    "\n",
    "### Data preprocessing"
   ]
  },
  {
   "cell_type": "code",
   "execution_count": 3,
   "metadata": {},
   "outputs": [
    {
     "data": {
      "text/plain": [
       "total_images                0\n",
       "last_price                  0\n",
       "total_area                  0\n",
       "first_day_exposition        0\n",
       "rooms                       0\n",
       "ceiling_height           9195\n",
       "floors_total               86\n",
       "living_area              1903\n",
       "floor                       0\n",
       "is_apartment            20924\n",
       "studio                      0\n",
       "open_plan                   0\n",
       "kitchen_area             2278\n",
       "balcony                 11519\n",
       "locality_name              49\n",
       "airports_nearest         5542\n",
       "cityCenters_nearest      5519\n",
       "parks_around3000         5518\n",
       "parks_nearest           15620\n",
       "ponds_around3000         5518\n",
       "ponds_nearest           14589\n",
       "days_exposition          3181\n",
       "dtype: int64"
      ]
     },
     "execution_count": 3,
     "metadata": {},
     "output_type": "execute_result"
    }
   ],
   "source": [
    "data.isna().sum()"
   ]
  },
  {
   "cell_type": "code",
   "execution_count": 4,
   "metadata": {},
   "outputs": [],
   "source": [
    "# check\n",
    "# пропущенные значения бары\n",
    "\n",
    "def pass_value_barh(df):\n",
    "    try:\n",
    "        (\n",
    "            (df.isna().mean()*100)\n",
    "            .to_frame()\n",
    "            .rename(columns = {0:'space'})\n",
    "            .query('space > 0')\n",
    "            .sort_values(by = 'space', ascending = True)\n",
    "            .plot(kind= 'barh', figsize=(19,6), rot = -5, legend = False, fontsize = 16)\n",
    "            .set_title('Пример' + \"\\n\", fontsize = 22, color = 'SteelBlue')    \n",
    "        );    \n",
    "    except:\n",
    "        print('пропусков не осталось :) ')"
   ]
  },
  {
   "cell_type": "code",
   "execution_count": 5,
   "metadata": {},
   "outputs": [
    {
     "data": {
      "image/png": "[encoded data removed]",
      "text/plain": [
       "<Figure size 1368x432 with 1 Axes>"
      ]
     },
     "metadata": {
      "needs_background": "light"
     },
     "output_type": "display_data"
    }
   ],
   "source": [
    "pass_value_barh(data)"
   ]
  },
  {
   "cell_type": "markdown",
   "metadata": {},
   "source": [
    "Проверяется влияние замены на среднюю площадь. Среднее осталось прежним, значит можно применить метод к аналогичным переменным\n",
    "\n",
    "The effect of replacement on the average area is checked. The mean remains the same, so you can apply the method to similar variables"
   ]
  },
  {
   "cell_type": "code",
   "execution_count": 6,
   "metadata": {},
   "outputs": [],
   "source": [
    "data['ceiling_height'] = data['ceiling_height'].fillna(data['ceiling_height'].median())"
   ]
  },
  {
   "cell_type": "code",
   "execution_count": 7,
   "metadata": {},
   "outputs": [
    {
     "data": {
      "text/plain": [
       "False    23699\n",
       "dtype: int64"
      ]
     },
     "execution_count": 7,
     "metadata": {},
     "output_type": "execute_result"
    }
   ],
   "source": [
    "(data['floors_total'] < data['floor']).value_counts()"
   ]
  },
  {
   "cell_type": "markdown",
   "metadata": {},
   "source": [
    "По итогам проверки на корректность значений выявлены аномалии в данных\n",
    "\n",
    "Based on the results of checking for the correctness of the values, anomalies in the data were revealed"
   ]
  },
  {
   "cell_type": "code",
   "execution_count": 8,
   "metadata": {},
   "outputs": [],
   "source": [
    "data['balcony'] = data['balcony'].fillna(0)\n",
    "data['is_apartment'] = data['is_apartment'].fillna(0)\n",
    "data['parks_around3000'] = data['parks_around3000'].fillna(0)\n",
    "data['ponds_around3000'] = data['ponds_around3000'].fillna(0)\n"
   ]
  },
  {
   "cell_type": "markdown",
   "metadata": {},
   "source": [
    "Вероятно, под отсутствием значений имеется в виду отсутствие балкона, статуса апартаментов и т.д., поэтрму заполняем пропуски нулевым значением\n",
    "\n",
    "Probably, the absence of values means the absence of a balcony, the status of an apartment, etc., so we fill in the gaps with a zero value"
   ]
  },
  {
   "cell_type": "code",
   "execution_count": 9,
   "metadata": {},
   "outputs": [
    {
     "name": "stdout",
     "output_type": "stream",
     "text": [
      "<class 'pandas.core.frame.DataFrame'>\n",
      "RangeIndex: 23699 entries, 0 to 23698\n",
      "Data columns (total 22 columns):\n",
      " #   Column                Non-Null Count  Dtype  \n",
      "---  ------                --------------  -----  \n",
      " 0   total_images          23699 non-null  int64  \n",
      " 1   last_price            23699 non-null  float64\n",
      " 2   total_area            23699 non-null  float64\n",
      " 3   first_day_exposition  23699 non-null  object \n",
      " 4   rooms                 23699 non-null  int64  \n",
      " 5   ceiling_height        23699 non-null  float64\n",
      " 6   floors_total          23613 non-null  float64\n",
      " 7   living_area           21796 non-null  float64\n",
      " 8   floor                 23699 non-null  int64  \n",
      " 9   is_apartment          23699 non-null  object \n",
      " 10  studio                23699 non-null  bool   \n",
      " 11  open_plan             23699 non-null  bool   \n",
      " 12  kitchen_area          21421 non-null  float64\n",
      " 13  balcony               23699 non-null  float64\n",
      " 14  locality_name         23650 non-null  object \n",
      " 15  airports_nearest      18157 non-null  float64\n",
      " 16  cityCenters_nearest   18180 non-null  float64\n",
      " 17  parks_around3000      23699 non-null  float64\n",
      " 18  parks_nearest         8079 non-null   float64\n",
      " 19  ponds_around3000      23699 non-null  float64\n",
      " 20  ponds_nearest         9110 non-null   float64\n",
      " 21  days_exposition       20518 non-null  float64\n",
      "dtypes: bool(2), float64(14), int64(3), object(3)\n",
      "memory usage: 3.7+ MB\n"
     ]
    }
   ],
   "source": [
    "data.info()"
   ]
  },
  {
   "cell_type": "code",
   "execution_count": 10,
   "metadata": {
    "scrolled": true
   },
   "outputs": [],
   "source": [
    "data['last_price'] = pd.to_numeric(data['last_price'], errors='coerce') \n",
    "data['total_area'] = pd.to_numeric(data['total_area'], errors='coerce')\n",
    "data['ceiling_height'] = pd.to_numeric(data['ceiling_height'], errors='coerce')\n",
    "data['floors_total'] = pd.to_numeric(data['floors_total'], errors='coerce')\n",
    "data['living_area'] = pd.to_numeric(data['living_area'], errors='coerce')\n",
    "data['balcony'] = pd.to_numeric(data['balcony'], errors='coerce')\n",
    "data['kitchen_area'] = pd.to_numeric(data['kitchen_area'], errors='coerce')\n",
    "data['cityCenters_nearest'] = pd.to_numeric(data['cityCenters_nearest'], errors='coerce')\n",
    "data['airports_nearest'] = pd.to_numeric(data['airports_nearest'], errors='coerce')\n",
    "data['parks_around3000'] = pd.to_numeric(data['parks_around3000'], errors='coerce')\n",
    "data['parks_nearest'] = pd.to_numeric(data['parks_nearest'], errors='coerce')\n",
    "data['ponds_around3000'] = pd.to_numeric(data['ponds_around3000'], errors='coerce')\n",
    "data['ponds_nearest'] = pd.to_numeric(data['ponds_nearest'], errors='coerce')\n",
    "data['days_exposition'] = pd.to_numeric(data['days_exposition'], errors='coerce')\n",
    "data['floors_total'] = pd.to_numeric(data['floors_total'], errors='coerce')"
   ]
  },
  {
   "cell_type": "code",
   "execution_count": 11,
   "metadata": {},
   "outputs": [
    {
     "name": "stdout",
     "output_type": "stream",
     "text": [
      "<class 'pandas.core.frame.DataFrame'>\n",
      "RangeIndex: 23699 entries, 0 to 23698\n",
      "Data columns (total 22 columns):\n",
      " #   Column                Non-Null Count  Dtype  \n",
      "---  ------                --------------  -----  \n",
      " 0   total_images          23699 non-null  int64  \n",
      " 1   last_price            23699 non-null  float64\n",
      " 2   total_area            23699 non-null  float64\n",
      " 3   first_day_exposition  23699 non-null  object \n",
      " 4   rooms                 23699 non-null  int64  \n",
      " 5   ceiling_height        23699 non-null  float64\n",
      " 6   floors_total          23613 non-null  float64\n",
      " 7   living_area           21796 non-null  float64\n",
      " 8   floor                 23699 non-null  int64  \n",
      " 9   is_apartment          23699 non-null  object \n",
      " 10  studio                23699 non-null  bool   \n",
      " 11  open_plan             23699 non-null  bool   \n",
      " 12  kitchen_area          21421 non-null  float64\n",
      " 13  balcony               23699 non-null  float64\n",
      " 14  locality_name         23650 non-null  object \n",
      " 15  airports_nearest      18157 non-null  float64\n",
      " 16  cityCenters_nearest   18180 non-null  float64\n",
      " 17  parks_around3000      23699 non-null  float64\n",
      " 18  parks_nearest         8079 non-null   float64\n",
      " 19  ponds_around3000      23699 non-null  float64\n",
      " 20  ponds_nearest         9110 non-null   float64\n",
      " 21  days_exposition       20518 non-null  float64\n",
      "dtypes: bool(2), float64(14), int64(3), object(3)\n",
      "memory usage: 3.7+ MB\n"
     ]
    }
   ],
   "source": [
    "# check\n",
    "data.info()"
   ]
  },
  {
   "cell_type": "code",
   "execution_count": 12,
   "metadata": {
    "scrolled": true
   },
   "outputs": [],
   "source": [
    "data['total_images'] = data['total_images'].astype('int')\n",
    "data['rooms'] = data['rooms'].astype('int')\n",
    "data['floor'] = data['floor'].astype('int')"
   ]
  },
  {
   "cell_type": "code",
   "execution_count": 13,
   "metadata": {},
   "outputs": [
    {
     "data": {
      "text/plain": [
       "array(['Санкт-Петербург', 'посёлок Шушары', 'городской посёлок Янино-1',\n",
       "       'посёлок Парголово', 'посёлок Мурино', 'Ломоносов', 'Сертолово',\n",
       "       'Петергоф', 'Пушкин', 'деревня Кудрово', 'Коммунар', 'Колпино',\n",
       "       'поселок городского типа Красный Бор', 'Гатчина', 'поселок Мурино',\n",
       "       'деревня Фёдоровское', 'Выборг', 'Кронштадт', 'Кировск',\n",
       "       'деревня Новое Девяткино', 'посёлок Металлострой',\n",
       "       'посёлок городского типа Лебяжье',\n",
       "       'посёлок городского типа Сиверский', 'поселок Молодцово',\n",
       "       'поселок городского типа Кузьмоловский',\n",
       "       'садовое товарищество Новая Ропша', 'Павловск',\n",
       "       'деревня Пикколово', 'Всеволожск', 'Волхов', 'Кингисепп',\n",
       "       'Приозерск', 'Сестрорецк', 'деревня Куттузи', 'посёлок Аннино',\n",
       "       'поселок городского типа Ефимовский', 'посёлок Плодовое',\n",
       "       'деревня Заклинье', 'поселок Торковичи', 'поселок Первомайское',\n",
       "       'Красное Село', 'посёлок Понтонный', 'Сясьстрой', 'деревня Старая',\n",
       "       'деревня Лесколово', 'посёлок Новый Свет', 'Сланцы',\n",
       "       'село Путилово', 'Ивангород', 'Мурино', 'Шлиссельбург',\n",
       "       'Никольское', 'Зеленогорск', 'Сосновый Бор', 'поселок Новый Свет',\n",
       "       'деревня Оржицы', 'деревня Кальтино', 'Кудрово',\n",
       "       'поселок Романовка', 'посёлок Бугры', 'поселок Бугры',\n",
       "       'поселок городского типа Рощино', 'Кириши', 'Луга', 'Волосово',\n",
       "       'Отрадное', 'село Павлово', 'поселок Оредеж', 'село Копорье',\n",
       "       'посёлок городского типа Красный Бор', 'посёлок Молодёжное',\n",
       "       'Тихвин', 'посёлок Победа', 'деревня Нурма',\n",
       "       'поселок городского типа Синявино', 'Тосно',\n",
       "       'посёлок городского типа Кузьмоловский', 'посёлок Стрельна',\n",
       "       'Бокситогорск', 'посёлок Александровская', 'деревня Лопухинка',\n",
       "       'Пикалёво', 'поселок Терволово',\n",
       "       'поселок городского типа Советский', 'Подпорожье',\n",
       "       'посёлок Петровское', 'посёлок городского типа Токсово',\n",
       "       'поселок Сельцо', 'посёлок городского типа Вырица',\n",
       "       'деревня Кипень', 'деревня Келози', 'деревня Вартемяги',\n",
       "       'посёлок Тельмана', 'поселок Севастьяново',\n",
       "       'городской поселок Большая Ижора', nan,\n",
       "       'городской посёлок Павлово', 'деревня Агалатово',\n",
       "       'посёлок Новогорелово', 'городской посёлок Лесогорский',\n",
       "       'деревня Лаголово', 'поселок Цвелодубово',\n",
       "       'поселок городского типа Рахья', 'поселок городского типа Вырица',\n",
       "       'деревня Белогорка', 'поселок Заводской',\n",
       "       'городской посёлок Новоселье', 'деревня Большие Колпаны',\n",
       "       'деревня Горбунки', 'деревня Батово', 'деревня Заневка',\n",
       "       'деревня Иссад', 'Приморск', 'городской посёлок Фёдоровское',\n",
       "       'деревня Мистолово', 'Новая Ладога', 'поселок Зимитицы',\n",
       "       'поселок Барышево', 'деревня Разметелево',\n",
       "       'поселок городского типа имени Свердлова', 'деревня Пеники',\n",
       "       'поселок Рябово', 'деревня Пудомяги', 'поселок станции Корнево',\n",
       "       'деревня Низино', 'деревня Бегуницы', 'посёлок Поляны',\n",
       "       'городской посёлок Мга', 'поселок Елизаветино',\n",
       "       'посёлок городского типа Кузнечное', 'деревня Колтуши',\n",
       "       'поселок Запорожское', 'посёлок городского типа Рощино',\n",
       "       'деревня Гостилицы', 'деревня Малое Карлино',\n",
       "       'посёлок Мичуринское', 'посёлок городского типа имени Морозова',\n",
       "       'посёлок Песочный', 'посёлок Сосново', 'деревня Аро',\n",
       "       'поселок Ильичёво', 'посёлок городского типа Тайцы',\n",
       "       'деревня Малое Верево', 'деревня Извара', 'поселок станции Вещево',\n",
       "       'село Паша', 'деревня Калитино',\n",
       "       'посёлок городского типа Ульяновка', 'деревня Чудской Бор',\n",
       "       'поселок городского типа Дубровка', 'деревня Мины',\n",
       "       'поселок Войсковицы', 'посёлок городского типа имени Свердлова',\n",
       "       'деревня Коркино', 'посёлок Ропша',\n",
       "       'поселок городского типа Приладожский', 'посёлок Щеглово',\n",
       "       'посёлок Гаврилово', 'Лодейное Поле', 'деревня Рабитицы',\n",
       "       'поселок городского типа Никольский', 'деревня Кузьмолово',\n",
       "       'деревня Малые Колпаны', 'поселок Тельмана',\n",
       "       'посёлок Петро-Славянка', 'городской посёлок Назия',\n",
       "       'посёлок Репино', 'посёлок Ильичёво', 'поселок Углово',\n",
       "       'поселок Старая Малукса', 'садовое товарищество Рахья',\n",
       "       'поселок Аннино', 'поселок Победа', 'деревня Меньково',\n",
       "       'деревня Старые Бегуницы', 'посёлок Сапёрный', 'поселок Семрино',\n",
       "       'поселок Гаврилово', 'поселок Глажево', 'поселок Кобринское',\n",
       "       'деревня Гарболово', 'деревня Юкки',\n",
       "       'поселок станции Приветнинское', 'деревня Мануйлово',\n",
       "       'деревня Пчева', 'поселок Поляны', 'поселок Цвылёво',\n",
       "       'поселок Мельниково', 'посёлок Пудость', 'посёлок Усть-Луга',\n",
       "       'Светогорск', 'Любань', 'поселок Селезнёво',\n",
       "       'поселок городского типа Рябово', 'Каменногорск', 'деревня Кривко',\n",
       "       'поселок Глебычево', 'деревня Парицы', 'поселок Жилпосёлок',\n",
       "       'посёлок городского типа Мга', 'городской поселок Янино-1',\n",
       "       'посёлок Войскорово', 'село Никольское', 'посёлок Терволово',\n",
       "       'поселок Стеклянный', 'посёлок городского типа Важины',\n",
       "       'посёлок Мыза-Ивановка', 'село Русско-Высоцкое',\n",
       "       'поселок городского типа Лебяжье',\n",
       "       'поселок городского типа Форносово', 'село Старая Ладога',\n",
       "       'поселок Житково', 'городской посёлок Виллози', 'деревня Лампово',\n",
       "       'деревня Шпаньково', 'деревня Лаврики', 'посёлок Сумино',\n",
       "       'посёлок Возрождение', 'деревня Старосиверская',\n",
       "       'посёлок Кикерино', 'поселок Возрождение',\n",
       "       'деревня Старое Хинколово', 'посёлок Пригородный',\n",
       "       'посёлок Торфяное', 'городской посёлок Будогощь',\n",
       "       'поселок Суходолье', 'поселок Красная Долина', 'деревня Хапо-Ое',\n",
       "       'поселок городского типа Дружная Горка', 'поселок Лисий Нос',\n",
       "       'деревня Яльгелево', 'посёлок Стеклянный', 'село Рождествено',\n",
       "       'деревня Старополье', 'посёлок Левашово', 'деревня Сяськелево',\n",
       "       'деревня Камышовка',\n",
       "       'садоводческое некоммерческое товарищество Лесная Поляна',\n",
       "       'деревня Хязельки', 'поселок Жилгородок',\n",
       "       'посёлок городского типа Павлово', 'деревня Ялгино',\n",
       "       'поселок Новый Учхоз', 'городской посёлок Рощино',\n",
       "       'поселок Гончарово', 'поселок Почап', 'посёлок Сапёрное',\n",
       "       'посёлок Платформа 69-й километр', 'поселок Каложицы',\n",
       "       'деревня Фалилеево', 'деревня Пельгора',\n",
       "       'поселок городского типа Лесогорский', 'деревня Торошковичи',\n",
       "       'посёлок Белоостров', 'посёлок Алексеевка', 'поселок Серебрянский',\n",
       "       'поселок Лукаши', 'поселок Петровское', 'деревня Щеглово',\n",
       "       'поселок Мичуринское', 'деревня Тарасово', 'поселок Кингисеппский',\n",
       "       'посёлок при железнодорожной станции Вещево', 'поселок Ушаки',\n",
       "       'деревня Котлы', 'деревня Сижно', 'деревня Торосово',\n",
       "       'посёлок Форт Красная Горка', 'поселок городского типа Токсово',\n",
       "       'деревня Новолисино', 'посёлок станции Громово', 'деревня Глинка',\n",
       "       'посёлок Мельниково', 'поселок городского типа Назия',\n",
       "       'деревня Старая Пустошь', 'поселок Коммунары', 'поселок Починок',\n",
       "       'посёлок городского типа Вознесенье', 'деревня Разбегаево',\n",
       "       'посёлок городского типа Рябово', 'поселок Гладкое',\n",
       "       'посёлок при железнодорожной станции Приветнинское',\n",
       "       'поселок Тёсово-4', 'посёлок Жилгородок', 'деревня Бор',\n",
       "       'посёлок Коробицыно', 'деревня Большая Вруда', 'деревня Курковицы',\n",
       "       'посёлок Лисий Нос', 'городской посёлок Советский',\n",
       "       'посёлок Кобралово', 'деревня Суоранда', 'поселок Кобралово',\n",
       "       'поселок городского типа Кондратьево',\n",
       "       'коттеджный поселок Счастье', 'поселок Любань', 'деревня Реброво',\n",
       "       'деревня Зимитицы', 'деревня Тойворово', 'поселок Семиозерье',\n",
       "       'поселок Лесное', 'поселок Совхозный', 'поселок Усть-Луга',\n",
       "       'посёлок Ленинское', 'посёлок Суйда',\n",
       "       'посёлок городского типа Форносово', 'деревня Нижние Осельки',\n",
       "       'посёлок станции Свирь', 'поселок Перово', 'Высоцк',\n",
       "       'поселок Гарболово', 'село Шум', 'поселок Котельский',\n",
       "       'поселок станции Лужайка', 'деревня Большая Пустомержа',\n",
       "       'поселок Красносельское', 'деревня Вахнова Кара', 'деревня Пижма',\n",
       "       'коттеджный поселок Кивеннапа Север', 'поселок Коробицыно',\n",
       "       'поселок Ромашки', 'посёлок Перово', 'деревня Каськово',\n",
       "       'деревня Куровицы', 'посёлок Плоское', 'поселок Сумино',\n",
       "       'поселок городского типа Большая Ижора', 'поселок Кирпичное',\n",
       "       'деревня Ям-Тесово', 'деревня Раздолье', 'деревня Терпилицы',\n",
       "       'посёлок Шугозеро', 'деревня Ваганово', 'поселок Пушное',\n",
       "       'садовое товарищество Садко', 'посёлок Усть-Ижора',\n",
       "       'деревня Выскатка', 'городской посёлок Свирьстрой',\n",
       "       'поселок Громово', 'деревня Кисельня', 'посёлок Старая Малукса',\n",
       "       'деревня Трубников Бор', 'поселок Калитино',\n",
       "       'посёлок Высокоключевой', 'садовое товарищество Приладожский',\n",
       "       'посёлок Пансионат Зелёный Бор', 'деревня Ненимяки',\n",
       "       'поселок Пансионат Зелёный Бор', 'деревня Снегирёвка',\n",
       "       'деревня Рапполово', 'деревня Пустынка', 'поселок Рабитицы',\n",
       "       'деревня Большой Сабск', 'деревня Русско', 'деревня Лупполово',\n",
       "       'деревня Большое Рейзино', 'деревня Малая Романовка',\n",
       "       'поселок Дружноселье', 'поселок Пчевжа', 'поселок Володарское',\n",
       "       'деревня Нижняя', 'коттеджный посёлок Лесное', 'деревня Тихковицы',\n",
       "       'деревня Борисова Грива', 'посёлок Дзержинского'], dtype=object)"
      ]
     },
     "execution_count": 13,
     "metadata": {},
     "output_type": "execute_result"
    }
   ],
   "source": [
    "data['locality_name'].unique()"
   ]
  },
  {
   "cell_type": "code",
   "execution_count": 14,
   "metadata": {},
   "outputs": [],
   "source": [
    "data['locality_name'] = data['locality_name'].str.lower()"
   ]
  },
  {
   "cell_type": "markdown",
   "metadata": {},
   "source": [
    "Переводим значения в нижний регистр на первом этапе избавления от неявных дупликатов\n",
    "\n",
    "Converting values to lowercase at the first stage of getting rid of implicit duplicates"
   ]
  },
  {
   "cell_type": "code",
   "execution_count": 15,
   "metadata": {
    "scrolled": true
   },
   "outputs": [],
   "source": [
    "duplicates = ['поселок мурино', 'мурино'] # список неправильных имён\n",
    "\n",
    "data['locality_name'] = data['locality_name'].replace(duplicates, 'посёлок мурино')\n",
    "data['locality_name'] = data['locality_name'].replace('городской поселок янино-1', 'городской посёлок янино-1')\n",
    "data['locality_name'] = data['locality_name'].replace('поселок аннино', 'посёлок аннино')\n",
    "data['locality_name'] = data['locality_name'].replace('кудрово', 'деревня кудрово')\n",
    "data['locality_name'] = data['locality_name'].replace('поселок городского типа красный бор', 'посёлок городского типа красный бор')\n",
    "data['locality_name'] = data['locality_name'].replace('поселок городского типа лебяжье', 'посёлок городского типа лебяжье')\n",
    "data['locality_name'] = data['locality_name'].replace('поселок городского типа кузьмоловский', 'посёлок городского типа кузьмоловский')\n",
    "data['locality_name'] = data['locality_name'].replace('поселок бугры', 'посёлок бугры')\n",
    "data['locality_name'] = data['locality_name'].replace('поселок городского типа рощино', 'посёлок городского типа рощино')\n",
    "data['locality_name'] = data['locality_name'].replace('поселок городского типа вырица', 'посёлок городского типа вырица')\n",
    "\n"
   ]
  },
  {
   "cell_type": "code",
   "execution_count": 16,
   "metadata": {},
   "outputs": [
    {
     "data": {
      "text/plain": [
       "353"
      ]
     },
     "execution_count": 16,
     "metadata": {},
     "output_type": "execute_result"
    }
   ],
   "source": [
    "# check\n",
    "data['locality_name'].nunique()"
   ]
  },
  {
   "cell_type": "code",
   "execution_count": 17,
   "metadata": {},
   "outputs": [
    {
     "data": {
      "text/plain": [
       "0"
      ]
     },
     "execution_count": 17,
     "metadata": {},
     "output_type": "execute_result"
    }
   ],
   "source": [
    "data.duplicated().sum()#проверяем данные на предмет наличия явных дупликатов"
   ]
  },
  {
   "cell_type": "code",
   "execution_count": 18,
   "metadata": {},
   "outputs": [
    {
     "data": {
      "text/plain": [
       "array([  2.7 ,   2.65,   3.03,   2.5 ,   2.67,   2.56,   3.05,   2.75,\n",
       "         2.6 ,   2.9 ,   2.8 ,   2.55,   3.  ,   3.2 ,   2.61,   3.25,\n",
       "         3.45,   2.77,   2.85,   2.64,   2.57,   4.15,   3.5 ,   3.3 ,\n",
       "         2.71,   4.  ,   2.47,   2.73,   2.84,   3.1 ,   2.34,   3.4 ,\n",
       "         3.06,   2.72,   2.54,   2.51,   2.78,   2.76,  25.  ,   2.58,\n",
       "         3.7 ,   2.52,   5.2 ,   2.87,   2.66,   2.59,   2.  ,   2.45,\n",
       "         3.6 ,   2.92,   3.11,   3.13,   3.8 ,   3.15,   3.55,   3.16,\n",
       "         3.62,   3.12,   2.53,   2.74,   2.96,   2.46,   5.3 ,   5.  ,\n",
       "         2.79,   2.95,   4.06,   2.94,   3.82,   3.54,   3.53,   2.83,\n",
       "         4.7 ,   2.4 ,   3.38,   3.01,   5.6 ,   3.65,   3.9 ,   3.18,\n",
       "         3.35,   2.3 ,   3.57,   2.48,   2.62,   2.82,   3.98,   2.63,\n",
       "         3.83,   3.52,   3.95,   3.75,   2.88,   3.67,   3.87,   3.66,\n",
       "         3.85,   3.86,   4.19,   3.24,   4.8 ,   4.5 ,   4.2 ,   3.36,\n",
       "        32.  ,   3.08,   3.68,   3.07,   3.37,   3.09,   8.  ,   3.26,\n",
       "         3.34,   2.81,   3.44,   2.97,   3.14,   4.37,   2.68,   3.22,\n",
       "         3.27,  27.  ,   4.1 ,   2.93,   3.46,  24.  ,   3.47,   3.33,\n",
       "         3.63,   3.32,  26.  ,   1.2 ,   8.3 ,   2.98,   2.86,   3.17,\n",
       "         4.4 ,   3.28,   3.04,   4.45,   5.5 ,   3.84,   3.23,   3.02,\n",
       "         3.21,   3.43,   3.78,   4.3 ,   3.39,   2.69,   3.31,   4.65,\n",
       "         3.56,   2.2 ,   3.51,   3.93,   3.42,   2.99,   3.49,  14.  ,\n",
       "         4.14,   2.91,   3.88,   1.75,   4.25,   3.29,  20.  ,   2.25,\n",
       "         3.76,   3.69,   6.  ,  22.6 ,   2.89,   3.58,   5.8 ,  27.5 ,\n",
       "         2.49,   4.9 ,   3.48,  10.3 ,   1.  , 100.  ,   3.59])"
      ]
     },
     "execution_count": 18,
     "metadata": {},
     "output_type": "execute_result"
    }
   ],
   "source": [
    "data['ceiling_height'].unique()#выявляем аномалии в данных"
   ]
  },
  {
   "cell_type": "code",
   "execution_count": 19,
   "metadata": {},
   "outputs": [
    {
     "data": {
      "text/plain": [
       "2.65"
      ]
     },
     "execution_count": 19,
     "metadata": {},
     "output_type": "execute_result"
    }
   ],
   "source": [
    "data['ceiling_height'].median()#выясняем медиану для замещения аномалий, медиана позволяет нивелировать влияние выбросов в данных"
   ]
  },
  {
   "cell_type": "code",
   "execution_count": 20,
   "metadata": {},
   "outputs": [],
   "source": [
    "\n",
    "duplicates = [23, 27, 26., 22.6, 10.3, 24., 100., 25., 20., 27.5, 32, 14, 5.2, 5.6, 5.3, 8, 5, 6, 8.3, 4.65, 4.7, 4.9, 5.5, 5.8, 4.8, 4.5]\n",
    "data['ceiling_height'] = data['ceiling_height'].replace(duplicates, 2.65)#замещаем аномальные значения"
   ]
  },
  {
   "cell_type": "code",
   "execution_count": 21,
   "metadata": {},
   "outputs": [
    {
     "name": "stdout",
     "output_type": "stream",
     "text": [
      "<class 'pandas.core.frame.DataFrame'>\n",
      "RangeIndex: 23699 entries, 0 to 23698\n",
      "Data columns (total 22 columns):\n",
      " #   Column                Non-Null Count  Dtype  \n",
      "---  ------                --------------  -----  \n",
      " 0   total_images          23699 non-null  int64  \n",
      " 1   last_price            23699 non-null  float64\n",
      " 2   total_area            23699 non-null  float64\n",
      " 3   first_day_exposition  23699 non-null  object \n",
      " 4   rooms                 23699 non-null  int64  \n",
      " 5   ceiling_height        23699 non-null  float64\n",
      " 6   floors_total          23613 non-null  float64\n",
      " 7   living_area           21796 non-null  float64\n",
      " 8   floor                 23699 non-null  int64  \n",
      " 9   is_apartment          23699 non-null  object \n",
      " 10  studio                23699 non-null  bool   \n",
      " 11  open_plan             23699 non-null  bool   \n",
      " 12  kitchen_area          21421 non-null  float64\n",
      " 13  balcony               23699 non-null  float64\n",
      " 14  locality_name         23650 non-null  object \n",
      " 15  airports_nearest      18157 non-null  float64\n",
      " 16  cityCenters_nearest   18180 non-null  float64\n",
      " 17  parks_around3000      23699 non-null  float64\n",
      " 18  parks_nearest         8079 non-null   float64\n",
      " 19  ponds_around3000      23699 non-null  float64\n",
      " 20  ponds_nearest         9110 non-null   float64\n",
      " 21  days_exposition       20518 non-null  float64\n",
      "dtypes: bool(2), float64(14), int64(3), object(3)\n",
      "memory usage: 3.7+ MB\n"
     ]
    }
   ],
   "source": [
    "# check \n",
    "data.info()"
   ]
  },
  {
   "cell_type": "code",
   "execution_count": 22,
   "metadata": {},
   "outputs": [],
   "source": [
    "data = data.drop(data[data['ceiling_height'] > 3].index)"
   ]
  },
  {
   "cell_type": "code",
   "execution_count": 23,
   "metadata": {},
   "outputs": [
    {
     "data": {
      "text/plain": [
       "(22219, 22)"
      ]
     },
     "execution_count": 23,
     "metadata": {},
     "output_type": "execute_result"
    }
   ],
   "source": [
    "# check\n",
    "data.shape"
   ]
  },
  {
   "cell_type": "markdown",
   "metadata": {},
   "source": [
    "Судя по результатам интернет-поиска, максимальная высота потолков а Санкт-Петербурге и Ленинградской области - 3 м, оставшиеся аномалии удаляем\n",
    "\n",
    "Judging by the results of an Internet search, the maximum ceiling height in St. Petersburg and the Leningrad Region is 3 m, we remove the remaining anomalies"
   ]
  },
  {
   "cell_type": "code",
   "execution_count": 24,
   "metadata": {},
   "outputs": [
    {
     "data": {
      "text/html": [
       "<style  type=\"text/css\" >\n",
       "</style><table id=\"T_7a277_\" ><thead>    <tr>        <th class=\"blank level0\" ></th>        <th class=\"col_heading level0 col0\" >rooms</th>        <th class=\"col_heading level0 col1\" >total_area</th>        <th class=\"col_heading level0 col2\" >ceiling_height</th>        <th class=\"col_heading level0 col3\" >days_exposition</th>        <th class=\"col_heading level0 col4\" >last_price</th>        <th class=\"col_heading level0 col5\" >living_area</th>        <th class=\"col_heading level0 col6\" >kitchen_area</th>        <th class=\"col_heading level0 col7\" >floor</th>        <th class=\"col_heading level0 col8\" >floors_total</th>    </tr></thead><tbody>\n",
       "                <tr>\n",
       "                        <th id=\"T_7a277_level0_row0\" class=\"row_heading level0 row0\" >count</th>\n",
       "                        <td id=\"T_7a277_row0_col0\" class=\"data row0 col0\" >22,219.00</td>\n",
       "                        <td id=\"T_7a277_row0_col1\" class=\"data row0 col1\" >22,219.00</td>\n",
       "                        <td id=\"T_7a277_row0_col2\" class=\"data row0 col2\" >22,219.00</td>\n",
       "                        <td id=\"T_7a277_row0_col3\" class=\"data row0 col3\" >19,373.00</td>\n",
       "                        <td id=\"T_7a277_row0_col4\" class=\"data row0 col4\" >22,219.00</td>\n",
       "                        <td id=\"T_7a277_row0_col5\" class=\"data row0 col5\" >20,396.00</td>\n",
       "                        <td id=\"T_7a277_row0_col6\" class=\"data row0 col6\" >20,037.00</td>\n",
       "                        <td id=\"T_7a277_row0_col7\" class=\"data row0 col7\" >22,219.00</td>\n",
       "                        <td id=\"T_7a277_row0_col8\" class=\"data row0 col8\" >22,133.00</td>\n",
       "            </tr>\n",
       "            <tr>\n",
       "                        <th id=\"T_7a277_level0_row1\" class=\"row_heading level0 row1\" >min</th>\n",
       "                        <td id=\"T_7a277_row1_col0\" class=\"data row1 col0\" >0.00</td>\n",
       "                        <td id=\"T_7a277_row1_col1\" class=\"data row1 col1\" >12.00</td>\n",
       "                        <td id=\"T_7a277_row1_col2\" class=\"data row1 col2\" >1.00</td>\n",
       "                        <td id=\"T_7a277_row1_col3\" class=\"data row1 col3\" >1.00</td>\n",
       "                        <td id=\"T_7a277_row1_col4\" class=\"data row1 col4\" >12,190.00</td>\n",
       "                        <td id=\"T_7a277_row1_col5\" class=\"data row1 col5\" >2.00</td>\n",
       "                        <td id=\"T_7a277_row1_col6\" class=\"data row1 col6\" >1.30</td>\n",
       "                        <td id=\"T_7a277_row1_col7\" class=\"data row1 col7\" >1.00</td>\n",
       "                        <td id=\"T_7a277_row1_col8\" class=\"data row1 col8\" >1.00</td>\n",
       "            </tr>\n",
       "            <tr>\n",
       "                        <th id=\"T_7a277_level0_row2\" class=\"row_heading level0 row2\" >max</th>\n",
       "                        <td id=\"T_7a277_row2_col0\" class=\"data row2 col0\" >19.00</td>\n",
       "                        <td id=\"T_7a277_row2_col1\" class=\"data row2 col1\" >900.00</td>\n",
       "                        <td id=\"T_7a277_row2_col2\" class=\"data row2 col2\" >3.00</td>\n",
       "                        <td id=\"T_7a277_row2_col3\" class=\"data row2 col3\" >1,580.00</td>\n",
       "                        <td id=\"T_7a277_row2_col4\" class=\"data row2 col4\" >763,000,000.00</td>\n",
       "                        <td id=\"T_7a277_row2_col5\" class=\"data row2 col5\" >409.70</td>\n",
       "                        <td id=\"T_7a277_row2_col6\" class=\"data row2 col6\" >112.00</td>\n",
       "                        <td id=\"T_7a277_row2_col7\" class=\"data row2 col7\" >33.00</td>\n",
       "                        <td id=\"T_7a277_row2_col8\" class=\"data row2 col8\" >60.00</td>\n",
       "            </tr>\n",
       "    </tbody></table>"
      ],
      "text/plain": [
       "<pandas.io.formats.style.Styler at 0x7f27d5c87910>"
      ]
     },
     "execution_count": 24,
     "metadata": {},
     "output_type": "execute_result"
    }
   ],
   "source": [
    "# check\n",
    "\n",
    "# Показатели о кол-ве объявлений в датасете, минимальных и максимальных показателях \n",
    "# в выбранных параметрах о продаже квартир\n",
    "\n",
    "(\n",
    "    data[['rooms', 'total_area', 'ceiling_height', 'days_exposition', 'last_price', 'living_area',  \n",
    "          'kitchen_area', 'floor',       'floors_total']]\n",
    "    .apply (['count', 'min', 'max'])   \n",
    "    .style.format(\"{:,.2f}\")\n",
    ")"
   ]
  },
  {
   "cell_type": "code",
   "execution_count": 25,
   "metadata": {},
   "outputs": [
    {
     "data": {
      "text/html": [
       "<div>\n",
       "<style scoped>\n",
       "    .dataframe tbody tr th:only-of-type {\n",
       "        vertical-align: middle;\n",
       "    }\n",
       "\n",
       "    .dataframe tbody tr th {\n",
       "        vertical-align: top;\n",
       "    }\n",
       "\n",
       "    .dataframe thead th {\n",
       "        text-align: right;\n",
       "    }\n",
       "</style>\n",
       "<table border=\"1\" class=\"dataframe\">\n",
       "  <thead>\n",
       "    <tr style=\"text-align: right;\">\n",
       "      <th></th>\n",
       "      <th>rooms</th>\n",
       "    </tr>\n",
       "  </thead>\n",
       "  <tbody>\n",
       "    <tr>\n",
       "      <th>1</th>\n",
       "      <td>7909</td>\n",
       "    </tr>\n",
       "    <tr>\n",
       "      <th>2</th>\n",
       "      <td>7543</td>\n",
       "    </tr>\n",
       "    <tr>\n",
       "      <th>3</th>\n",
       "      <td>5324</td>\n",
       "    </tr>\n",
       "    <tr>\n",
       "      <th>4</th>\n",
       "      <td>948</td>\n",
       "    </tr>\n",
       "    <tr>\n",
       "      <th>5</th>\n",
       "      <td>204</td>\n",
       "    </tr>\n",
       "    <tr>\n",
       "      <th>0</th>\n",
       "      <td>190</td>\n",
       "    </tr>\n",
       "    <tr>\n",
       "      <th>6</th>\n",
       "      <td>60</td>\n",
       "    </tr>\n",
       "    <tr>\n",
       "      <th>7</th>\n",
       "      <td>25</td>\n",
       "    </tr>\n",
       "    <tr>\n",
       "      <th>8</th>\n",
       "      <td>8</td>\n",
       "    </tr>\n",
       "    <tr>\n",
       "      <th>9</th>\n",
       "      <td>4</td>\n",
       "    </tr>\n",
       "    <tr>\n",
       "      <th>16</th>\n",
       "      <td>1</td>\n",
       "    </tr>\n",
       "    <tr>\n",
       "      <th>19</th>\n",
       "      <td>1</td>\n",
       "    </tr>\n",
       "    <tr>\n",
       "      <th>12</th>\n",
       "      <td>1</td>\n",
       "    </tr>\n",
       "    <tr>\n",
       "      <th>14</th>\n",
       "      <td>1</td>\n",
       "    </tr>\n",
       "  </tbody>\n",
       "</table>\n",
       "</div>"
      ],
      "text/plain": [
       "    rooms\n",
       "1    7909\n",
       "2    7543\n",
       "3    5324\n",
       "4     948\n",
       "5     204\n",
       "0     190\n",
       "6      60\n",
       "7      25\n",
       "8       8\n",
       "9       4\n",
       "16      1\n",
       "19      1\n",
       "12      1\n",
       "14      1"
      ]
     },
     "execution_count": 25,
     "metadata": {},
     "output_type": "execute_result"
    }
   ],
   "source": [
    "# check\n",
    "data.rooms.value_counts().to_frame()"
   ]
  },
  {
   "cell_type": "code",
   "execution_count": 26,
   "metadata": {},
   "outputs": [],
   "source": [
    "data = data.drop(data[data['rooms'] == 19].index)"
   ]
  },
  {
   "cell_type": "markdown",
   "metadata": {},
   "source": [
    "Удаляем объявление о квартире с аномальным числом комнат\n",
    "\n",
    "Delete an ad about an apartment with an abnormal number of rooms"
   ]
  },
  {
   "cell_type": "code",
   "execution_count": 27,
   "metadata": {},
   "outputs": [
    {
     "data": {
      "text/html": [
       "<div>\n",
       "<style scoped>\n",
       "    .dataframe tbody tr th:only-of-type {\n",
       "        vertical-align: middle;\n",
       "    }\n",
       "\n",
       "    .dataframe tbody tr th {\n",
       "        vertical-align: top;\n",
       "    }\n",
       "\n",
       "    .dataframe thead th {\n",
       "        text-align: right;\n",
       "    }\n",
       "</style>\n",
       "<table border=\"1\" class=\"dataframe\">\n",
       "  <thead>\n",
       "    <tr style=\"text-align: right;\">\n",
       "      <th></th>\n",
       "      <th>total_area</th>\n",
       "    </tr>\n",
       "  </thead>\n",
       "  <tbody>\n",
       "    <tr>\n",
       "      <th>45.00</th>\n",
       "      <td>416</td>\n",
       "    </tr>\n",
       "    <tr>\n",
       "      <th>42.00</th>\n",
       "      <td>381</td>\n",
       "    </tr>\n",
       "    <tr>\n",
       "      <th>31.00</th>\n",
       "      <td>346</td>\n",
       "    </tr>\n",
       "    <tr>\n",
       "      <th>44.00</th>\n",
       "      <td>342</td>\n",
       "    </tr>\n",
       "    <tr>\n",
       "      <th>60.00</th>\n",
       "      <td>329</td>\n",
       "    </tr>\n",
       "    <tr>\n",
       "      <th>...</th>\n",
       "      <td>...</td>\n",
       "    </tr>\n",
       "    <tr>\n",
       "      <th>130.21</th>\n",
       "      <td>1</td>\n",
       "    </tr>\n",
       "    <tr>\n",
       "      <th>66.86</th>\n",
       "      <td>1</td>\n",
       "    </tr>\n",
       "    <tr>\n",
       "      <th>58.81</th>\n",
       "      <td>1</td>\n",
       "    </tr>\n",
       "    <tr>\n",
       "      <th>310.00</th>\n",
       "      <td>1</td>\n",
       "    </tr>\n",
       "    <tr>\n",
       "      <th>55.06</th>\n",
       "      <td>1</td>\n",
       "    </tr>\n",
       "  </tbody>\n",
       "</table>\n",
       "<p>1999 rows × 1 columns</p>\n",
       "</div>"
      ],
      "text/plain": [
       "        total_area\n",
       "45.00          416\n",
       "42.00          381\n",
       "31.00          346\n",
       "44.00          342\n",
       "60.00          329\n",
       "...            ...\n",
       "130.21           1\n",
       "66.86            1\n",
       "58.81            1\n",
       "310.00           1\n",
       "55.06            1\n",
       "\n",
       "[1999 rows x 1 columns]"
      ]
     },
     "execution_count": 27,
     "metadata": {},
     "output_type": "execute_result"
    }
   ],
   "source": [
    "data['total_area'].value_counts().to_frame()"
   ]
  },
  {
   "cell_type": "code",
   "execution_count": 28,
   "metadata": {},
   "outputs": [],
   "source": [
    "data = data.drop(data[data['total_area'] >= 200].index)"
   ]
  },
  {
   "cell_type": "markdown",
   "metadata": {},
   "source": [
    "Удаляем объявления о квартирах с аномальной площадью квартир\n",
    "\n",
    "We remove ads about apartments with an abnormal area of apartments"
   ]
  },
  {
   "cell_type": "code",
   "execution_count": 29,
   "metadata": {},
   "outputs": [
    {
     "data": {
      "text/html": [
       "<div>\n",
       "<style scoped>\n",
       "    .dataframe tbody tr th:only-of-type {\n",
       "        vertical-align: middle;\n",
       "    }\n",
       "\n",
       "    .dataframe tbody tr th {\n",
       "        vertical-align: top;\n",
       "    }\n",
       "\n",
       "    .dataframe thead th {\n",
       "        text-align: right;\n",
       "    }\n",
       "</style>\n",
       "<table border=\"1\" class=\"dataframe\">\n",
       "  <thead>\n",
       "    <tr style=\"text-align: right;\">\n",
       "      <th></th>\n",
       "      <th>floors_total</th>\n",
       "    </tr>\n",
       "  </thead>\n",
       "  <tbody>\n",
       "    <tr>\n",
       "      <th>5.0</th>\n",
       "      <td>5285</td>\n",
       "    </tr>\n",
       "    <tr>\n",
       "      <th>9.0</th>\n",
       "      <td>3728</td>\n",
       "    </tr>\n",
       "    <tr>\n",
       "      <th>12.0</th>\n",
       "      <td>1354</td>\n",
       "    </tr>\n",
       "    <tr>\n",
       "      <th>16.0</th>\n",
       "      <td>1304</td>\n",
       "    </tr>\n",
       "    <tr>\n",
       "      <th>10.0</th>\n",
       "      <td>1146</td>\n",
       "    </tr>\n",
       "    <tr>\n",
       "      <th>25.0</th>\n",
       "      <td>1073</td>\n",
       "    </tr>\n",
       "    <tr>\n",
       "      <th>4.0</th>\n",
       "      <td>924</td>\n",
       "    </tr>\n",
       "    <tr>\n",
       "      <th>17.0</th>\n",
       "      <td>819</td>\n",
       "    </tr>\n",
       "    <tr>\n",
       "      <th>6.0</th>\n",
       "      <td>595</td>\n",
       "    </tr>\n",
       "    <tr>\n",
       "      <th>3.0</th>\n",
       "      <td>572</td>\n",
       "    </tr>\n",
       "    <tr>\n",
       "      <th>14.0</th>\n",
       "      <td>549</td>\n",
       "    </tr>\n",
       "    <tr>\n",
       "      <th>18.0</th>\n",
       "      <td>501</td>\n",
       "    </tr>\n",
       "    <tr>\n",
       "      <th>7.0</th>\n",
       "      <td>470</td>\n",
       "    </tr>\n",
       "    <tr>\n",
       "      <th>24.0</th>\n",
       "      <td>468</td>\n",
       "    </tr>\n",
       "    <tr>\n",
       "      <th>15.0</th>\n",
       "      <td>358</td>\n",
       "    </tr>\n",
       "    <tr>\n",
       "      <th>23.0</th>\n",
       "      <td>350</td>\n",
       "    </tr>\n",
       "    <tr>\n",
       "      <th>2.0</th>\n",
       "      <td>350</td>\n",
       "    </tr>\n",
       "    <tr>\n",
       "      <th>8.0</th>\n",
       "      <td>341</td>\n",
       "    </tr>\n",
       "    <tr>\n",
       "      <th>19.0</th>\n",
       "      <td>330</td>\n",
       "    </tr>\n",
       "    <tr>\n",
       "      <th>22.0</th>\n",
       "      <td>286</td>\n",
       "    </tr>\n",
       "    <tr>\n",
       "      <th>20.0</th>\n",
       "      <td>266</td>\n",
       "    </tr>\n",
       "    <tr>\n",
       "      <th>13.0</th>\n",
       "      <td>223</td>\n",
       "    </tr>\n",
       "    <tr>\n",
       "      <th>11.0</th>\n",
       "      <td>191</td>\n",
       "    </tr>\n",
       "    <tr>\n",
       "      <th>27.0</th>\n",
       "      <td>164</td>\n",
       "    </tr>\n",
       "    <tr>\n",
       "      <th>21.0</th>\n",
       "      <td>158</td>\n",
       "    </tr>\n",
       "    <tr>\n",
       "      <th>26.0</th>\n",
       "      <td>124</td>\n",
       "    </tr>\n",
       "    <tr>\n",
       "      <th>1.0</th>\n",
       "      <td>25</td>\n",
       "    </tr>\n",
       "    <tr>\n",
       "      <th>35.0</th>\n",
       "      <td>24</td>\n",
       "    </tr>\n",
       "    <tr>\n",
       "      <th>28.0</th>\n",
       "      <td>21</td>\n",
       "    </tr>\n",
       "    <tr>\n",
       "      <th>36.0</th>\n",
       "      <td>3</td>\n",
       "    </tr>\n",
       "    <tr>\n",
       "      <th>37.0</th>\n",
       "      <td>1</td>\n",
       "    </tr>\n",
       "    <tr>\n",
       "      <th>34.0</th>\n",
       "      <td>1</td>\n",
       "    </tr>\n",
       "    <tr>\n",
       "      <th>33.0</th>\n",
       "      <td>1</td>\n",
       "    </tr>\n",
       "    <tr>\n",
       "      <th>60.0</th>\n",
       "      <td>1</td>\n",
       "    </tr>\n",
       "    <tr>\n",
       "      <th>29.0</th>\n",
       "      <td>1</td>\n",
       "    </tr>\n",
       "    <tr>\n",
       "      <th>52.0</th>\n",
       "      <td>1</td>\n",
       "    </tr>\n",
       "  </tbody>\n",
       "</table>\n",
       "</div>"
      ],
      "text/plain": [
       "      floors_total\n",
       "5.0           5285\n",
       "9.0           3728\n",
       "12.0          1354\n",
       "16.0          1304\n",
       "10.0          1146\n",
       "25.0          1073\n",
       "4.0            924\n",
       "17.0           819\n",
       "6.0            595\n",
       "3.0            572\n",
       "14.0           549\n",
       "18.0           501\n",
       "7.0            470\n",
       "24.0           468\n",
       "15.0           358\n",
       "23.0           350\n",
       "2.0            350\n",
       "8.0            341\n",
       "19.0           330\n",
       "22.0           286\n",
       "20.0           266\n",
       "13.0           223\n",
       "11.0           191\n",
       "27.0           164\n",
       "21.0           158\n",
       "26.0           124\n",
       "1.0             25\n",
       "35.0            24\n",
       "28.0            21\n",
       "36.0             3\n",
       "37.0             1\n",
       "34.0             1\n",
       "33.0             1\n",
       "60.0             1\n",
       "29.0             1\n",
       "52.0             1"
      ]
     },
     "execution_count": 29,
     "metadata": {},
     "output_type": "execute_result"
    }
   ],
   "source": [
    "data['floors_total'].value_counts().to_frame()"
   ]
  },
  {
   "cell_type": "code",
   "execution_count": 30,
   "metadata": {},
   "outputs": [],
   "source": [
    "data = data.drop(data[data['floors_total'] >= 30].index)"
   ]
  },
  {
   "cell_type": "markdown",
   "metadata": {},
   "source": [
    "Удаляем объявления о квартирах с аномальной этажностью зданий\n",
    "\n",
    "We remove ads about apartments with an abnormal number of storeys of buildings"
   ]
  },
  {
   "cell_type": "code",
   "execution_count": 31,
   "metadata": {},
   "outputs": [
    {
     "data": {
      "text/html": [
       "<div>\n",
       "<style scoped>\n",
       "    .dataframe tbody tr th:only-of-type {\n",
       "        vertical-align: middle;\n",
       "    }\n",
       "\n",
       "    .dataframe tbody tr th {\n",
       "        vertical-align: top;\n",
       "    }\n",
       "\n",
       "    .dataframe thead th {\n",
       "        text-align: right;\n",
       "    }\n",
       "</style>\n",
       "<table border=\"1\" class=\"dataframe\">\n",
       "  <thead>\n",
       "    <tr style=\"text-align: right;\">\n",
       "      <th></th>\n",
       "      <th>last_price</th>\n",
       "    </tr>\n",
       "  </thead>\n",
       "  <tbody>\n",
       "    <tr>\n",
       "      <th>4500000.0</th>\n",
       "      <td>338</td>\n",
       "    </tr>\n",
       "    <tr>\n",
       "      <th>3500000.0</th>\n",
       "      <td>291</td>\n",
       "    </tr>\n",
       "    <tr>\n",
       "      <th>3600000.0</th>\n",
       "      <td>257</td>\n",
       "    </tr>\n",
       "    <tr>\n",
       "      <th>4300000.0</th>\n",
       "      <td>255</td>\n",
       "    </tr>\n",
       "    <tr>\n",
       "      <th>4000000.0</th>\n",
       "      <td>254</td>\n",
       "    </tr>\n",
       "    <tr>\n",
       "      <th>...</th>\n",
       "      <td>...</td>\n",
       "    </tr>\n",
       "    <tr>\n",
       "      <th>86738800.0</th>\n",
       "      <td>1</td>\n",
       "    </tr>\n",
       "    <tr>\n",
       "      <th>13450000.0</th>\n",
       "      <td>1</td>\n",
       "    </tr>\n",
       "    <tr>\n",
       "      <th>9917600.0</th>\n",
       "      <td>1</td>\n",
       "    </tr>\n",
       "    <tr>\n",
       "      <th>3180500.0</th>\n",
       "      <td>1</td>\n",
       "    </tr>\n",
       "    <tr>\n",
       "      <th>4386000.0</th>\n",
       "      <td>1</td>\n",
       "    </tr>\n",
       "  </tbody>\n",
       "</table>\n",
       "<p>2707 rows × 1 columns</p>\n",
       "</div>"
      ],
      "text/plain": [
       "            last_price\n",
       "4500000.0          338\n",
       "3500000.0          291\n",
       "3600000.0          257\n",
       "4300000.0          255\n",
       "4000000.0          254\n",
       "...                ...\n",
       "86738800.0           1\n",
       "13450000.0           1\n",
       "9917600.0            1\n",
       "3180500.0            1\n",
       "4386000.0            1\n",
       "\n",
       "[2707 rows x 1 columns]"
      ]
     },
     "execution_count": 31,
     "metadata": {},
     "output_type": "execute_result"
    }
   ],
   "source": [
    "data['last_price'].value_counts().to_frame()"
   ]
  },
  {
   "cell_type": "code",
   "execution_count": 32,
   "metadata": {},
   "outputs": [
    {
     "data": {
      "image/png": "[encoded data removed]",
      "text/plain": [
       "<Figure size 1080x216 with 1 Axes>"
      ]
     },
     "metadata": {
      "needs_background": "light"
     },
     "output_type": "display_data"
    }
   ],
   "source": [
    "data.last_price.hist(bins = 45, figsize = (15,3));"
   ]
  },
  {
   "cell_type": "code",
   "execution_count": 33,
   "metadata": {},
   "outputs": [],
   "source": [
    "data = data.drop(data[data['last_price'] <= 1000000].index)"
   ]
  },
  {
   "cell_type": "markdown",
   "metadata": {},
   "source": [
    "Удаляем объявления о квартирах с аномальной стоимостью\n",
    "\n",
    "We remove ads about apartments with an abnormal cost"
   ]
  },
  {
   "cell_type": "code",
   "execution_count": 34,
   "metadata": {
    "scrolled": true
   },
   "outputs": [
    {
     "data": {
      "image/png": "[encoded data removed]",
      "text/plain": [
       "<Figure size 1080x216 with 1 Axes>"
      ]
     },
     "metadata": {
      "needs_background": "light"
     },
     "output_type": "display_data"
    }
   ],
   "source": [
    "# check\n",
    "data.total_area.hist(bins = 150, figsize = (15,3));"
   ]
  },
  {
   "cell_type": "code",
   "execution_count": 35,
   "metadata": {
    "scrolled": true
   },
   "outputs": [
    {
     "data": {
      "image/png": "[encoded data removed]",
      "text/plain": [
       "<Figure size 1080x216 with 1 Axes>"
      ]
     },
     "metadata": {
      "needs_background": "light"
     },
     "output_type": "display_data"
    }
   ],
   "source": [
    "# check\n",
    "data.total_area.hist(bins = 150, figsize = (15,3), range = (180,500));"
   ]
  },
  {
   "cell_type": "code",
   "execution_count": 36,
   "metadata": {},
   "outputs": [
    {
     "data": {
      "text/html": [
       "<style  type=\"text/css\" >\n",
       "</style><table id=\"T_1fbf7_\" ><thead>    <tr>        <th class=\"blank level0\" ></th>        <th class=\"col_heading level0 col0\" >rooms</th>        <th class=\"col_heading level0 col1\" >total_area</th>        <th class=\"col_heading level0 col2\" >ceiling_height</th>        <th class=\"col_heading level0 col3\" >days_exposition</th>        <th class=\"col_heading level0 col4\" >last_price</th>        <th class=\"col_heading level0 col5\" >living_area</th>        <th class=\"col_heading level0 col6\" >kitchen_area</th>        <th class=\"col_heading level0 col7\" >floor</th>        <th class=\"col_heading level0 col8\" >floors_total</th>    </tr></thead><tbody>\n",
       "                <tr>\n",
       "                        <th id=\"T_1fbf7_level0_row0\" class=\"row_heading level0 row0\" >count</th>\n",
       "                        <td id=\"T_1fbf7_row0_col0\" class=\"data row0 col0\" >21,816.00</td>\n",
       "                        <td id=\"T_1fbf7_row0_col1\" class=\"data row0 col1\" >21,816.00</td>\n",
       "                        <td id=\"T_1fbf7_row0_col2\" class=\"data row0 col2\" >21,816.00</td>\n",
       "                        <td id=\"T_1fbf7_row0_col3\" class=\"data row0 col3\" >19,054.00</td>\n",
       "                        <td id=\"T_1fbf7_row0_col4\" class=\"data row0 col4\" >21,816.00</td>\n",
       "                        <td id=\"T_1fbf7_row0_col5\" class=\"data row0 col5\" >20,058.00</td>\n",
       "                        <td id=\"T_1fbf7_row0_col6\" class=\"data row0 col6\" >19,704.00</td>\n",
       "                        <td id=\"T_1fbf7_row0_col7\" class=\"data row0 col7\" >21,816.00</td>\n",
       "                        <td id=\"T_1fbf7_row0_col8\" class=\"data row0 col8\" >21,731.00</td>\n",
       "            </tr>\n",
       "            <tr>\n",
       "                        <th id=\"T_1fbf7_level0_row1\" class=\"row_heading level0 row1\" >min</th>\n",
       "                        <td id=\"T_1fbf7_row1_col0\" class=\"data row1 col0\" >0.00</td>\n",
       "                        <td id=\"T_1fbf7_row1_col1\" class=\"data row1 col1\" >12.00</td>\n",
       "                        <td id=\"T_1fbf7_row1_col2\" class=\"data row1 col2\" >1.00</td>\n",
       "                        <td id=\"T_1fbf7_row1_col3\" class=\"data row1 col3\" >1.00</td>\n",
       "                        <td id=\"T_1fbf7_row1_col4\" class=\"data row1 col4\" >1,010,000.00</td>\n",
       "                        <td id=\"T_1fbf7_row1_col5\" class=\"data row1 col5\" >2.00</td>\n",
       "                        <td id=\"T_1fbf7_row1_col6\" class=\"data row1 col6\" >1.30</td>\n",
       "                        <td id=\"T_1fbf7_row1_col7\" class=\"data row1 col7\" >1.00</td>\n",
       "                        <td id=\"T_1fbf7_row1_col8\" class=\"data row1 col8\" >1.00</td>\n",
       "            </tr>\n",
       "            <tr>\n",
       "                        <th id=\"T_1fbf7_level0_row2\" class=\"row_heading level0 row2\" >max</th>\n",
       "                        <td id=\"T_1fbf7_row2_col0\" class=\"data row2 col0\" >8.00</td>\n",
       "                        <td id=\"T_1fbf7_row2_col1\" class=\"data row2 col1\" >199.20</td>\n",
       "                        <td id=\"T_1fbf7_row2_col2\" class=\"data row2 col2\" >3.00</td>\n",
       "                        <td id=\"T_1fbf7_row2_col3\" class=\"data row2 col3\" >1,580.00</td>\n",
       "                        <td id=\"T_1fbf7_row2_col4\" class=\"data row2 col4\" >124,000,000.00</td>\n",
       "                        <td id=\"T_1fbf7_row2_col5\" class=\"data row2 col5\" >159.60</td>\n",
       "                        <td id=\"T_1fbf7_row2_col6\" class=\"data row2 col6\" >93.00</td>\n",
       "                        <td id=\"T_1fbf7_row2_col7\" class=\"data row2 col7\" >27.00</td>\n",
       "                        <td id=\"T_1fbf7_row2_col8\" class=\"data row2 col8\" >29.00</td>\n",
       "            </tr>\n",
       "    </tbody></table>"
      ],
      "text/plain": [
       "<pandas.io.formats.style.Styler at 0x7f27d5fbe850>"
      ]
     },
     "execution_count": 36,
     "metadata": {},
     "output_type": "execute_result"
    }
   ],
   "source": [
    "# check\n",
    "\n",
    "# Показатели о кол-ве объявлений в датасете, минимальных и максимальных значениях \n",
    "# в выбранных параметрах о продаже квартир\n",
    "\n",
    "\n",
    "(\n",
    "    data[['rooms', 'total_area', 'ceiling_height', 'days_exposition', 'last_price', 'living_area',  'kitchen_area', 'floor',\n",
    "       'floors_total']]\n",
    "    .apply (['count', 'min', 'max'])   \n",
    "    .style.format(\"{:,.2f}\")\n",
    ")"
   ]
  },
  {
   "cell_type": "code",
   "execution_count": 37,
   "metadata": {},
   "outputs": [
    {
     "data": {
      "text/html": [
       "<style  type=\"text/css\" >\n",
       "</style><table id=\"T_e880b_\" ><thead>    <tr>        <th class=\"blank level0\" ></th>        <th class=\"col_heading level0 col0\" >rooms</th>        <th class=\"col_heading level0 col1\" >total_area</th>        <th class=\"col_heading level0 col2\" >ceiling_height</th>        <th class=\"col_heading level0 col3\" >days_exposition</th>        <th class=\"col_heading level0 col4\" >last_price</th>        <th class=\"col_heading level0 col5\" >living_area</th>        <th class=\"col_heading level0 col6\" >kitchen_area</th>        <th class=\"col_heading level0 col7\" >floor</th>        <th class=\"col_heading level0 col8\" >floors_total</th>    </tr></thead><tbody>\n",
       "                <tr>\n",
       "                        <th id=\"T_e880b_level0_row0\" class=\"row_heading level0 row0\" >0.01</th>\n",
       "                        <td id=\"T_e880b_row0_col0\" class=\"data row0 col0\" >1.00</td>\n",
       "                        <td id=\"T_e880b_row0_col1\" class=\"data row0 col1\" >25.00</td>\n",
       "                        <td id=\"T_e880b_row0_col2\" class=\"data row0 col2\" >2.50</td>\n",
       "                        <td id=\"T_e880b_row0_col3\" class=\"data row0 col3\" >4.00</td>\n",
       "                        <td id=\"T_e880b_row0_col4\" class=\"data row0 col4\" >1,300,000.00</td>\n",
       "                        <td id=\"T_e880b_row0_col5\" class=\"data row0 col5\" >13.00</td>\n",
       "                        <td id=\"T_e880b_row0_col6\" class=\"data row0 col6\" >5.00</td>\n",
       "                        <td id=\"T_e880b_row0_col7\" class=\"data row0 col7\" >1.00</td>\n",
       "                        <td id=\"T_e880b_row0_col8\" class=\"data row0 col8\" >2.00</td>\n",
       "            </tr>\n",
       "            <tr>\n",
       "                        <th id=\"T_e880b_level0_row1\" class=\"row_heading level0 row1\" >0.5</th>\n",
       "                        <td id=\"T_e880b_row1_col0\" class=\"data row1 col0\" >2.00</td>\n",
       "                        <td id=\"T_e880b_row1_col1\" class=\"data row1 col1\" >50.30</td>\n",
       "                        <td id=\"T_e880b_row1_col2\" class=\"data row1 col2\" >2.65</td>\n",
       "                        <td id=\"T_e880b_row1_col3\" class=\"data row1 col3\" >92.00</td>\n",
       "                        <td id=\"T_e880b_row1_col4\" class=\"data row1 col4\" >4,500,000.00</td>\n",
       "                        <td id=\"T_e880b_row1_col5\" class=\"data row1 col5\" >29.80</td>\n",
       "                        <td id=\"T_e880b_row1_col6\" class=\"data row1 col6\" >9.00</td>\n",
       "                        <td id=\"T_e880b_row1_col7\" class=\"data row1 col7\" >5.00</td>\n",
       "                        <td id=\"T_e880b_row1_col8\" class=\"data row1 col8\" >9.00</td>\n",
       "            </tr>\n",
       "            <tr>\n",
       "                        <th id=\"T_e880b_level0_row2\" class=\"row_heading level0 row2\" >0.9</th>\n",
       "                        <td id=\"T_e880b_row2_col0\" class=\"data row2 col0\" >3.00</td>\n",
       "                        <td id=\"T_e880b_row2_col1\" class=\"data row2 col1\" >86.00</td>\n",
       "                        <td id=\"T_e880b_row2_col2\" class=\"data row2 col2\" >2.80</td>\n",
       "                        <td id=\"T_e880b_row2_col3\" class=\"data row2 col3\" >444.00</td>\n",
       "                        <td id=\"T_e880b_row2_col4\" class=\"data row2 col4\" >9,500,000.00</td>\n",
       "                        <td id=\"T_e880b_row2_col5\" class=\"data row2 col5\" >51.00</td>\n",
       "                        <td id=\"T_e880b_row2_col6\" class=\"data row2 col6\" >15.00</td>\n",
       "                        <td id=\"T_e880b_row2_col7\" class=\"data row2 col7\" >13.00</td>\n",
       "                        <td id=\"T_e880b_row2_col8\" class=\"data row2 col8\" >23.00</td>\n",
       "            </tr>\n",
       "            <tr>\n",
       "                        <th id=\"T_e880b_level0_row3\" class=\"row_heading level0 row3\" >0.976</th>\n",
       "                        <td id=\"T_e880b_row3_col0\" class=\"data row3 col0\" >4.00</td>\n",
       "                        <td id=\"T_e880b_row3_col1\" class=\"data row3 col1\" >122.00</td>\n",
       "                        <td id=\"T_e880b_row3_col2\" class=\"data row3 col2\" >3.00</td>\n",
       "                        <td id=\"T_e880b_row3_col3\" class=\"data row3 col3\" >837.00</td>\n",
       "                        <td id=\"T_e880b_row3_col4\" class=\"data row3 col4\" >17,000,000.00</td>\n",
       "                        <td id=\"T_e880b_row3_col5\" class=\"data row3 col5\" >72.00</td>\n",
       "                        <td id=\"T_e880b_row3_col6\" class=\"data row3 col6\" >23.00</td>\n",
       "                        <td id=\"T_e880b_row3_col7\" class=\"data row3 col7\" >20.00</td>\n",
       "                        <td id=\"T_e880b_row3_col8\" class=\"data row3 col8\" >25.00</td>\n",
       "            </tr>\n",
       "    </tbody></table>"
      ],
      "text/plain": [
       "<pandas.io.formats.style.Styler at 0x7f27d5f9e1c0>"
      ]
     },
     "execution_count": 37,
     "metadata": {},
     "output_type": "execute_result"
    }
   ],
   "source": [
    "# check\n",
    "\n",
    "# Значения параметров объектов недвижимости на разных квантилях\n",
    "\n",
    "(\n",
    "    data[['rooms', 'total_area', 'ceiling_height', 'days_exposition', 'last_price', 'living_area',  \n",
    "        'kitchen_area', 'floor',   'floors_total']]\n",
    "    .quantile([0.01, .5, .90, .976])  \n",
    "    .style.format(\"{:,.2f}\")\n",
    ")"
   ]
  },
  {
   "cell_type": "markdown",
   "metadata": {},
   "source": [
    "### Посчитайте и добавьте в таблицу новые столбцы\n",
    "\n",
    "### Count and add new columns to the table"
   ]
  },
  {
   "cell_type": "code",
   "execution_count": 38,
   "metadata": {
    "scrolled": true
   },
   "outputs": [],
   "source": [
    "data['price_per_square_meter'] = data['last_price']/data['total_area'] #цена одного квадратного метра\n",
    "\n",
    "data['first_day_exposition'] = pd.to_datetime(data['first_day_exposition'], format='%Y-%m-%d %H:%M')\n",
    "data['weekday_exposition'] = data['first_day_exposition'].dt.weekday#день недели публикации объявления (0 — понедельник, 1 — вторник и так далее)\n",
    "data['month_exposition'] = data['first_day_exposition'].dt.month#месяц публикации объявления\n",
    "data['year_exposition'] = data['first_day_exposition'].dt.year#год публикации объявления\n",
    "data['cityCenters_nearest_km'] = data['cityCenters_nearest']//1000#расстояние до центра города в километрах\n",
    "data['cityCenters_nearest_km'] = data['cityCenters_nearest_km'].fillna(0)"
   ]
  },
  {
   "cell_type": "code",
   "execution_count": 39,
   "metadata": {},
   "outputs": [],
   "source": [
    "def floor_categorize(row):\n",
    "    if row['floor'] == 1:\n",
    "        return 'первый'\n",
    "    elif row['floor'] == row['floors_total']:\n",
    "        return 'последний'\n",
    "    return 'другой'\n",
    "\n",
    "data['floors_type'] = data.apply(floor_categorize, axis=1) #тип этажа квартиры (значения — «первый», «последний», «другой»)"
   ]
  },
  {
   "cell_type": "markdown",
   "metadata": {},
   "source": [
    "### Проведите исследовательский анализ данных\n",
    "\n",
    "### Conduct exploratory data analysis"
   ]
  },
  {
   "cell_type": "code",
   "execution_count": 40,
   "metadata": {},
   "outputs": [
    {
     "data": {
      "text/plain": [
       "<AxesSubplot:ylabel='Frequency'>"
      ]
     },
     "execution_count": 40,
     "metadata": {},
     "output_type": "execute_result"
    },
    {
     "data": {
      "image/png": "[encoded data removed]",
      "text/plain": [
       "<Figure size 648x288 with 1 Axes>"
      ]
     },
     "metadata": {
      "needs_background": "light"
     },
     "output_type": "display_data"
    }
   ],
   "source": [
    "data.plot(y = 'total_area', kind = 'hist', bins = 100, grid=True, figsize = (9,4), range = (0,200))"
   ]
  },
  {
   "cell_type": "code",
   "execution_count": 41,
   "metadata": {},
   "outputs": [
    {
     "data": {
      "text/plain": [
       "<AxesSubplot:ylabel='Frequency'>"
      ]
     },
     "execution_count": 41,
     "metadata": {},
     "output_type": "execute_result"
    },
    {
     "data": {
      "image/png": "[encoded data removed]",
      "text/plain": [
       "<Figure size 648x288 with 1 Axes>"
      ]
     },
     "metadata": {
      "needs_background": "light"
     },
     "output_type": "display_data"
    }
   ],
   "source": [
    "data.plot(y = 'living_area', kind = 'hist', bins = 100, grid=True, figsize = (9,4), range = (0,200))"
   ]
  },
  {
   "cell_type": "code",
   "execution_count": 42,
   "metadata": {},
   "outputs": [
    {
     "data": {
      "text/plain": [
       "<AxesSubplot:ylabel='Frequency'>"
      ]
     },
     "execution_count": 42,
     "metadata": {},
     "output_type": "execute_result"
    },
    {
     "data": {
      "image/png": "[encoded data removed]",
      "text/plain": [
       "<Figure size 648x288 with 1 Axes>"
      ]
     },
     "metadata": {
      "needs_background": "light"
     },
     "output_type": "display_data"
    }
   ],
   "source": [
    "data.plot(y = 'kitchen_area', kind = 'hist', bins = 30, grid=True, figsize = (9,4), range = (0,200))"
   ]
  },
  {
   "cell_type": "code",
   "execution_count": 43,
   "metadata": {},
   "outputs": [
    {
     "data": {
      "text/plain": [
       "<AxesSubplot:ylabel='Frequency'>"
      ]
     },
     "execution_count": 43,
     "metadata": {},
     "output_type": "execute_result"
    },
    {
     "data": {
      "image/png": "[encoded data removed]",
      "text/plain": [
       "<Figure size 648x288 with 1 Axes>"
      ]
     },
     "metadata": {
      "needs_background": "light"
     },
     "output_type": "display_data"
    }
   ],
   "source": [
    "data.plot(y = 'last_price', kind = 'hist', bins = 100, grid=True, range = (0,14000000), figsize = (9,4))"
   ]
  },
  {
   "cell_type": "code",
   "execution_count": 44,
   "metadata": {},
   "outputs": [
    {
     "data": {
      "text/plain": [
       "<AxesSubplot:ylabel='Frequency'>"
      ]
     },
     "execution_count": 44,
     "metadata": {},
     "output_type": "execute_result"
    },
    {
     "data": {
      "image/png": "[encoded data removed]",
      "text/plain": [
       "<Figure size 648x288 with 1 Axes>"
      ]
     },
     "metadata": {
      "needs_background": "light"
     },
     "output_type": "display_data"
    }
   ],
   "source": [
    "data.plot(y = 'rooms', kind = 'hist', bins = 30, grid=True, figsize = (9,4))"
   ]
  },
  {
   "cell_type": "code",
   "execution_count": 45,
   "metadata": {},
   "outputs": [
    {
     "data": {
      "text/plain": [
       "<AxesSubplot:ylabel='Frequency'>"
      ]
     },
     "execution_count": 45,
     "metadata": {},
     "output_type": "execute_result"
    },
    {
     "data": {
      "image/png": "[encoded data removed]",
      "text/plain": [
       "<Figure size 648x288 with 1 Axes>"
      ]
     },
     "metadata": {
      "needs_background": "light"
     },
     "output_type": "display_data"
    }
   ],
   "source": [
    "data.plot(y = 'ceiling_height', kind = 'hist', bins = 30, range = (2,5), grid=True, figsize = (9,4))"
   ]
  },
  {
   "cell_type": "code",
   "execution_count": 46,
   "metadata": {},
   "outputs": [
    {
     "data": {
      "text/plain": [
       "<AxesSubplot:ylabel='Frequency'>"
      ]
     },
     "execution_count": 46,
     "metadata": {},
     "output_type": "execute_result"
    },
    {
     "data": {
      "image/png": "[encoded data removed]",
      "text/plain": [
       "<Figure size 648x288 with 1 Axes>"
      ]
     },
     "metadata": {
      "needs_background": "light"
     },
     "output_type": "display_data"
    }
   ],
   "source": [
    "data.plot(y = 'floor', kind = 'hist', bins = 30, range = (0,20), grid=True, figsize = (9,4))"
   ]
  },
  {
   "cell_type": "code",
   "execution_count": 47,
   "metadata": {},
   "outputs": [
    {
     "data": {
      "text/plain": [
       "<AxesSubplot:>"
      ]
     },
     "execution_count": 47,
     "metadata": {},
     "output_type": "execute_result"
    },
    {
     "data": {
      "image/png": "[encoded data removed]",
      "text/plain": [
       "<Figure size 432x288 with 1 Axes>"
      ]
     },
     "metadata": {
      "needs_background": "light"
     },
     "output_type": "display_data"
    }
   ],
   "source": [
    "data['floors_type'].hist()"
   ]
  },
  {
   "cell_type": "code",
   "execution_count": 48,
   "metadata": {},
   "outputs": [
    {
     "data": {
      "text/plain": [
       "<AxesSubplot:ylabel='Frequency'>"
      ]
     },
     "execution_count": 48,
     "metadata": {},
     "output_type": "execute_result"
    },
    {
     "data": {
      "image/png": "[encoded data removed]",
      "text/plain": [
       "<Figure size 648x288 with 1 Axes>"
      ]
     },
     "metadata": {
      "needs_background": "light"
     },
     "output_type": "display_data"
    }
   ],
   "source": [
    "data.plot(y = 'floors_total', kind = 'hist', bins = 30, grid=True, figsize = (9,4))"
   ]
  },
  {
   "cell_type": "code",
   "execution_count": 49,
   "metadata": {},
   "outputs": [
    {
     "data": {
      "text/plain": [
       "<AxesSubplot:ylabel='Frequency'>"
      ]
     },
     "execution_count": 49,
     "metadata": {},
     "output_type": "execute_result"
    },
    {
     "data": {
      "image/png": "[encoded data removed]",
      "text/plain": [
       "<Figure size 648x288 with 1 Axes>"
      ]
     },
     "metadata": {
      "needs_background": "light"
     },
     "output_type": "display_data"
    }
   ],
   "source": [
    "data.plot(y = 'cityCenters_nearest', kind = 'hist', bins = 30, grid=True, figsize = (9,4))"
   ]
  },
  {
   "cell_type": "code",
   "execution_count": 50,
   "metadata": {},
   "outputs": [
    {
     "data": {
      "text/plain": [
       "<AxesSubplot:ylabel='Frequency'>"
      ]
     },
     "execution_count": 50,
     "metadata": {},
     "output_type": "execute_result"
    },
    {
     "data": {
      "image/png": "[encoded data removed]",
      "text/plain": [
       "<Figure size 648x288 with 1 Axes>"
      ]
     },
     "metadata": {
      "needs_background": "light"
     },
     "output_type": "display_data"
    }
   ],
   "source": [
    "data.plot(y = 'airports_nearest', kind = 'hist', bins = 30, grid=True, figsize = (9,4))"
   ]
  },
  {
   "cell_type": "code",
   "execution_count": 51,
   "metadata": {},
   "outputs": [
    {
     "data": {
      "text/plain": [
       "<AxesSubplot:ylabel='Frequency'>"
      ]
     },
     "execution_count": 51,
     "metadata": {},
     "output_type": "execute_result"
    },
    {
     "data": {
      "image/png": "[encoded data removed]",
      "text/plain": [
       "<Figure size 648x288 with 1 Axes>"
      ]
     },
     "metadata": {
      "needs_background": "light"
     },
     "output_type": "display_data"
    }
   ],
   "source": [
    "data.plot(y = 'parks_nearest', kind = 'hist', bins = 30, grid=True, figsize = (9,4))"
   ]
  },
  {
   "cell_type": "code",
   "execution_count": 52,
   "metadata": {},
   "outputs": [
    {
     "data": {
      "text/plain": [
       "<AxesSubplot:ylabel='Frequency'>"
      ]
     },
     "execution_count": 52,
     "metadata": {},
     "output_type": "execute_result"
    },
    {
     "data": {
      "image/png": "[encoded data removed]",
      "text/plain": [
       "<Figure size 648x288 with 1 Axes>"
      ]
     },
     "metadata": {
      "needs_background": "light"
     },
     "output_type": "display_data"
    }
   ],
   "source": [
    "data.plot(y = 'weekday_exposition', kind = 'hist', bins = 30, grid=True, figsize = (9,4))"
   ]
  },
  {
   "cell_type": "code",
   "execution_count": 53,
   "metadata": {},
   "outputs": [
    {
     "data": {
      "text/plain": [
       "<AxesSubplot:ylabel='Frequency'>"
      ]
     },
     "execution_count": 53,
     "metadata": {},
     "output_type": "execute_result"
    },
    {
     "data": {
      "image/png": "[encoded data removed]",
      "text/plain": [
       "<Figure size 648x288 with 1 Axes>"
      ]
     },
     "metadata": {
      "needs_background": "light"
     },
     "output_type": "display_data"
    }
   ],
   "source": [
    "data.plot(y = 'month_exposition', kind = 'hist', bins = 30, grid=True, figsize = (9,4))"
   ]
  },
  {
   "cell_type": "markdown",
   "metadata": {},
   "source": [
    "Можно сделать следующие выводы:\n",
    "\n",
    "Общая площадь в нашей выборке колеблется от 12 до 400 м2, выше 100 м2 число объектов недвижимости резко спадает. Параметры жилой недвижимости и цены имеют схожий типа распределения данных.\n",
    "\n",
    "Количество комнат распределено неравномерно и колеблется от 1 до 19. Больше всего однокомнатных и двухкомнатных квартир.\n",
    "\n",
    "Высота потолков чаще всего составляет 2,7 м.\n",
    "\n",
    "Этажность продающейся недвижимости в большинстве своем находится в пределах 5 этажей.\n",
    "\n",
    "Число объявлений о продажах недвижимости на первом и последнем этажах примерно на одном уровне, горазде чаще продаются объекты на других этажах.\n",
    "\n",
    "Этажность строения в целом чаще всего представлена домами в 5 и 10 этажей.\n",
    "\n",
    "Чаще всего продается недвижимость примерно в 12-16 тыс м от центра.\n",
    "\n",
    "В-основном недвижимость находится в пределах 500 м от парка и 19-22 тыс м от аэропорта.\n",
    "\n",
    "Явной зависимости между днем или месяцем и количеством объявлений о продаже не выявлено.\n",
    "\n",
    "_______________________________________________________________________________________________________________________________\n",
    "\n",
    "The following conclusions can be drawn:\n",
    "\n",
    "The total area in our sample ranges from 12 to 400 m2, above 100 m2 the number of properties drops sharply. Residential real estate parameters and prices have a similar type of data distribution.\n",
    "\n",
    "The number of rooms is distributed unevenly and ranges from 1 to 19. Most of all are one-room and two-room apartments.\n",
    "\n",
    "The height of the ceilings is most often 2.7 m.\n",
    "\n",
    "The number of floors of real estate for sale is mostly within 5 floors.\n",
    "\n",
    "The number of real estate sales ads on the first and last floors is approximately the same, properties on other floors are sold much more often.\n",
    "\n",
    "The number of storeys of the building as a whole is most often represented by houses of 5 and 10 floors.\n",
    "\n",
    "Most often, real estate is sold approximately 12-16 thousand meters from the center.\n",
    "\n",
    "Basically, the property is located within 500 meters from the park and 19-22 thousand meters from the airport.\n",
    "\n",
    "No clear relationship was found between the day or month and the number of sales ads."
   ]
  },
  {
   "cell_type": "code",
   "execution_count": null,
   "metadata": {},
   "outputs": [],
   "source": [
    "data[data['rooms'] == 3].query('total_area < 201 and last_price < 25_000_000').plot(kind='scatter',\n",
    "        y='last_price' , x='total_area', alpha=0.5, subplots=True, figsize=(15,8), c = 'b', s = 4)\n",
    "plt.title('Диаграмма рассеяния — Общая площадь — цена трешки')\n",
    "\n",
    "\n",
    "data[data['rooms'] == 3].query('total_area < 201 and last_price < 25_000_000').plot(kind='scatter', \n",
    "        y='last_price' , x='living_area', alpha=0.5, figsize=(15,8), c = 'r', s = 4)\n",
    "plt.title('Диаграмма рассеяния — Жилая площадь — цена трешки');"
   ]
  },
  {
   "cell_type": "code",
   "execution_count": 54,
   "metadata": {},
   "outputs": [
    {
     "data": {
      "text/plain": [
       "<AxesSubplot:ylabel='Frequency'>"
      ]
     },
     "execution_count": 54,
     "metadata": {},
     "output_type": "execute_result"
    },
    {
     "data": {
      "image/png": "[encoded data removed]",
      "text/plain": [
       "<Figure size 648x288 with 1 Axes>"
      ]
     },
     "metadata": {
      "needs_background": "light"
     },
     "output_type": "display_data"
    }
   ],
   "source": [
    "data.plot(y = 'days_exposition', kind = 'hist', bins = 30, grid=True, figsize = (9,4))#изучаем, как быстро продавалась недвижимость "
   ]
  },
  {
   "cell_type": "code",
   "execution_count": 55,
   "metadata": {},
   "outputs": [
    {
     "data": {
      "text/plain": [
       "175.14238480109162"
      ]
     },
     "execution_count": 55,
     "metadata": {},
     "output_type": "execute_result"
    }
   ],
   "source": [
    "data['days_exposition'].mean()"
   ]
  },
  {
   "cell_type": "code",
   "execution_count": 56,
   "metadata": {},
   "outputs": [
    {
     "data": {
      "text/plain": [
       "92.0"
      ]
     },
     "execution_count": 56,
     "metadata": {},
     "output_type": "execute_result"
    }
   ],
   "source": [
    "data['days_exposition'].median()"
   ]
  },
  {
   "cell_type": "markdown",
   "metadata": {},
   "source": [
    "Чаще всего недвижимость продается в пределах 100 дней после размещения объявления о продаже, судя по значению медианы в 95 дней. Однако есть объекты, проданные только после 1300 дней после размещения объявления, хотя и крайне мало. \n",
    "\n",
    "Most properties are sold within 100 days of the listing, based on a median of 95 days. However, there are properties sold only after 1300 days after the ad was placed, although very few."
   ]
  },
  {
   "cell_type": "code",
   "execution_count": 57,
   "metadata": {},
   "outputs": [
    {
     "name": "stdout",
     "output_type": "stream",
     "text": [
      "<class 'pandas.core.frame.DataFrame'>\n",
      "Int64Index: 21816 entries, 0 to 23698\n",
      "Data columns (total 28 columns):\n",
      " #   Column                  Non-Null Count  Dtype         \n",
      "---  ------                  --------------  -----         \n",
      " 0   total_images            21816 non-null  int64         \n",
      " 1   last_price              21816 non-null  float64       \n",
      " 2   total_area              21816 non-null  float64       \n",
      " 3   first_day_exposition    21816 non-null  datetime64[ns]\n",
      " 4   rooms                   21816 non-null  int64         \n",
      " 5   ceiling_height          21816 non-null  float64       \n",
      " 6   floors_total            21731 non-null  float64       \n",
      " 7   living_area             20058 non-null  float64       \n",
      " 8   floor                   21816 non-null  int64         \n",
      " 9   is_apartment            21816 non-null  object        \n",
      " 10  studio                  21816 non-null  bool          \n",
      " 11  open_plan               21816 non-null  bool          \n",
      " 12  kitchen_area            19704 non-null  float64       \n",
      " 13  balcony                 21816 non-null  float64       \n",
      " 14  locality_name           21771 non-null  object        \n",
      " 15  airports_nearest        16581 non-null  float64       \n",
      " 16  cityCenters_nearest     16600 non-null  float64       \n",
      " 17  parks_around3000        21816 non-null  float64       \n",
      " 18  parks_nearest           6954 non-null   float64       \n",
      " 19  ponds_around3000        21816 non-null  float64       \n",
      " 20  ponds_nearest           8034 non-null   float64       \n",
      " 21  days_exposition         19054 non-null  float64       \n",
      " 22  price_per_square_meter  21816 non-null  float64       \n",
      " 23  weekday_exposition      21816 non-null  int64         \n",
      " 24  month_exposition        21816 non-null  int64         \n",
      " 25  year_exposition         21816 non-null  int64         \n",
      " 26  cityCenters_nearest_km  21816 non-null  float64       \n",
      " 27  floors_type             21816 non-null  object        \n",
      "dtypes: bool(2), datetime64[ns](1), float64(16), int64(6), object(3)\n",
      "memory usage: 4.5+ MB\n"
     ]
    }
   ],
   "source": [
    "data.info()"
   ]
  },
  {
   "cell_type": "code",
   "execution_count": 58,
   "metadata": {},
   "outputs": [
    {
     "data": {
      "text/plain": [
       "0.7192018334839914"
      ]
     },
     "execution_count": 58,
     "metadata": {},
     "output_type": "execute_result"
    },
    {
     "data": {
      "image/png": "[encoded data removed]",
      "text/plain": [
       "<Figure size 432x288 with 1 Axes>"
      ]
     },
     "metadata": {
      "needs_background": "light"
     },
     "output_type": "display_data"
    }
   ],
   "source": [
    "pivot_table_total_area = data.pivot_table(index = 'total_area', values = 'last_price', aggfunc = ['mean', 'count', 'median'])\n",
    "pivot_table_total_area.columns = ['mean', 'count', 'median']\n",
    "pivot_table_total_area.plot(y = 'median', style = 'o', alpha=0.3)\n",
    "\n",
    "pivot_table_total_area.sort_values('median', ascending = False)\n",
    "\n",
    "data['total_area'].corr(data['last_price'])"
   ]
  },
  {
   "cell_type": "code",
   "execution_count": 59,
   "metadata": {},
   "outputs": [
    {
     "data": {
      "text/plain": [
       "0.600570399098619"
      ]
     },
     "execution_count": 59,
     "metadata": {},
     "output_type": "execute_result"
    },
    {
     "data": {
      "image/png": "[encoded data removed]",
      "text/plain": [
       "<Figure size 432x288 with 1 Axes>"
      ]
     },
     "metadata": {
      "needs_background": "light"
     },
     "output_type": "display_data"
    }
   ],
   "source": [
    "pivot_table_total_area = data.pivot_table(index = 'living_area', values = 'last_price', aggfunc = ['mean', 'count', 'median'])\n",
    "pivot_table_total_area.columns = ['mean', 'count', 'median']\n",
    "pivot_table_total_area.plot(y = 'median', style = 'o', alpha=0.3)\n",
    "\n",
    "pivot_table_total_area.sort_values('median', ascending = False)\n",
    "\n",
    "data['living_area'].corr(data['last_price'])"
   ]
  },
  {
   "cell_type": "code",
   "execution_count": 60,
   "metadata": {},
   "outputs": [
    {
     "data": {
      "text/plain": [
       "0.5479081839152702"
      ]
     },
     "execution_count": 60,
     "metadata": {},
     "output_type": "execute_result"
    },
    {
     "data": {
      "image/png": "[encoded data removed]",
      "text/plain": [
       "<Figure size 432x288 with 1 Axes>"
      ]
     },
     "metadata": {
      "needs_background": "light"
     },
     "output_type": "display_data"
    }
   ],
   "source": [
    "pivot_table_total_area = data.pivot_table(index = 'kitchen_area', values = 'last_price', aggfunc = ['mean', 'count', 'median'])\n",
    "pivot_table_total_area.columns = ['mean', 'count', 'median']\n",
    "pivot_table_total_area.plot(y = 'median', style = 'o', alpha=0.3)\n",
    "\n",
    "pivot_table_total_area.sort_values('median', ascending = False)\n",
    "\n",
    "data['kitchen_area'].corr(data['last_price'])"
   ]
  },
  {
   "cell_type": "markdown",
   "metadata": {},
   "source": [
    "По итогам анализа видим, что зависимость существует, хотя и довольно слабая. То есть, чем больше площадь тем немного выше стоимость.\n",
    "\n",
    "Based on the results of the analysis, we see that the dependence exists, although it is rather weak. That is, the larger the area, the slightly higher the cost."
   ]
  },
  {
   "cell_type": "code",
   "execution_count": 61,
   "metadata": {},
   "outputs": [
    {
     "data": {
      "text/plain": [
       "array([3, 1, 2, 4, 5, 6, 0, 7, 8])"
      ]
     },
     "execution_count": 61,
     "metadata": {},
     "output_type": "execute_result"
    }
   ],
   "source": [
    "data['rooms'].unique()"
   ]
  },
  {
   "cell_type": "code",
   "execution_count": 62,
   "metadata": {
    "scrolled": true
   },
   "outputs": [
    {
     "data": {
      "text/plain": [
       "0.41940275706217633"
      ]
     },
     "execution_count": 62,
     "metadata": {},
     "output_type": "execute_result"
    },
    {
     "data": {
      "image/png": "[encoded data removed]",
      "text/plain": [
       "<Figure size 432x288 with 1 Axes>"
      ]
     },
     "metadata": {
      "needs_background": "light"
     },
     "output_type": "display_data"
    }
   ],
   "source": [
    "pivot_table_rooms = data.pivot_table(index = 'rooms', values = 'last_price', aggfunc = ['mean', 'count', 'median'])\n",
    "pivot_table_rooms.columns = ['mean', 'count', 'median']\n",
    "pivot_table_rooms.query('count > 50').plot(y = 'median')\n",
    "\n",
    "pivot_table_rooms.query('count > 50').sort_values('median', ascending = False)\n",
    "\n",
    "data['rooms'].corr(data['last_price'])"
   ]
  },
  {
   "cell_type": "markdown",
   "metadata": {},
   "source": [
    "По итогам видим, что существует прямая зависимость между конечной стоимостью недвижимости и количеством комнат\n",
    "\n",
    "As a result, we see that there is a direct relationship between the final cost of real estate and the number of rooms"
   ]
  },
  {
   "cell_type": "code",
   "execution_count": 63,
   "metadata": {},
   "outputs": [
    {
     "data": {
      "text/plain": [
       "<AxesSubplot:xlabel='floors_type'>"
      ]
     },
     "execution_count": 63,
     "metadata": {},
     "output_type": "execute_result"
    },
    {
     "data": {
      "image/png": "[encoded data removed]",
      "text/plain": [
       "<Figure size 432x288 with 1 Axes>"
      ]
     },
     "metadata": {
      "needs_background": "light"
     },
     "output_type": "display_data"
    }
   ],
   "source": [
    "data.pivot_table(index='floors_type', values='last_price').plot.bar()\n"
   ]
  },
  {
   "cell_type": "markdown",
   "metadata": {},
   "source": [
    "Здесь видно, что этаж квартиры квартиры напрямую влияет на стоимость недвижимости (первый этаж непопулярен по сравнению с последними или иными этажами) \n",
    "\n",
    "Here you can see that the floor of the apartment of the apartment directly affects the value of the property (the first floor is unpopular compared to the last or other floors)"
   ]
  },
  {
   "cell_type": "code",
   "execution_count": 64,
   "metadata": {},
   "outputs": [
    {
     "data": {
      "text/html": [
       "<div>\n",
       "<style scoped>\n",
       "    .dataframe tbody tr th:only-of-type {\n",
       "        vertical-align: middle;\n",
       "    }\n",
       "\n",
       "    .dataframe tbody tr th {\n",
       "        vertical-align: top;\n",
       "    }\n",
       "\n",
       "    .dataframe thead th {\n",
       "        text-align: right;\n",
       "    }\n",
       "</style>\n",
       "<table border=\"1\" class=\"dataframe\">\n",
       "  <thead>\n",
       "    <tr style=\"text-align: right;\">\n",
       "      <th></th>\n",
       "      <th>mean</th>\n",
       "      <th>count</th>\n",
       "      <th>median</th>\n",
       "    </tr>\n",
       "    <tr>\n",
       "      <th>weekday_exposition</th>\n",
       "      <th></th>\n",
       "      <th></th>\n",
       "      <th></th>\n",
       "    </tr>\n",
       "  </thead>\n",
       "  <tbody>\n",
       "    <tr>\n",
       "      <th>1</th>\n",
       "      <td>5.668313e+06</td>\n",
       "      <td>3879</td>\n",
       "      <td>4600000.0</td>\n",
       "    </tr>\n",
       "    <tr>\n",
       "      <th>2</th>\n",
       "      <td>5.611966e+06</td>\n",
       "      <td>3632</td>\n",
       "      <td>4539000.0</td>\n",
       "    </tr>\n",
       "    <tr>\n",
       "      <th>0</th>\n",
       "      <td>5.668415e+06</td>\n",
       "      <td>3323</td>\n",
       "      <td>4500000.0</td>\n",
       "    </tr>\n",
       "    <tr>\n",
       "      <th>3</th>\n",
       "      <td>5.745001e+06</td>\n",
       "      <td>3892</td>\n",
       "      <td>4500000.0</td>\n",
       "    </tr>\n",
       "    <tr>\n",
       "      <th>5</th>\n",
       "      <td>5.718136e+06</td>\n",
       "      <td>1797</td>\n",
       "      <td>4500000.0</td>\n",
       "    </tr>\n",
       "    <tr>\n",
       "      <th>6</th>\n",
       "      <td>5.529370e+06</td>\n",
       "      <td>1594</td>\n",
       "      <td>4500000.0</td>\n",
       "    </tr>\n",
       "    <tr>\n",
       "      <th>4</th>\n",
       "      <td>5.581435e+06</td>\n",
       "      <td>3699</td>\n",
       "      <td>4488000.0</td>\n",
       "    </tr>\n",
       "  </tbody>\n",
       "</table>\n",
       "</div>"
      ],
      "text/plain": [
       "                            mean  count     median\n",
       "weekday_exposition                                \n",
       "1                   5.668313e+06   3879  4600000.0\n",
       "2                   5.611966e+06   3632  4539000.0\n",
       "0                   5.668415e+06   3323  4500000.0\n",
       "3                   5.745001e+06   3892  4500000.0\n",
       "5                   5.718136e+06   1797  4500000.0\n",
       "6                   5.529370e+06   1594  4500000.0\n",
       "4                   5.581435e+06   3699  4488000.0"
      ]
     },
     "execution_count": 64,
     "metadata": {},
     "output_type": "execute_result"
    },
    {
     "data": {
      "image/png": "[encoded data removed]",
      "text/plain": [
       "<Figure size 432x288 with 1 Axes>"
      ]
     },
     "metadata": {
      "needs_background": "light"
     },
     "output_type": "display_data"
    }
   ],
   "source": [
    "pivot_table_weekday_exposition = data.pivot_table(index = 'weekday_exposition', values = 'last_price', aggfunc = ['mean', 'count', 'median'])\n",
    "pivot_table_weekday_exposition.columns = ['mean', 'count', 'median']\n",
    "pivot_table_weekday_exposition.plot(y = 'median')\n",
    "\n",
    "pivot_table_weekday_exposition.sort_values('median', ascending = False)"
   ]
  },
  {
   "cell_type": "code",
   "execution_count": 65,
   "metadata": {},
   "outputs": [
    {
     "data": {
      "text/html": [
       "<div>\n",
       "<style scoped>\n",
       "    .dataframe tbody tr th:only-of-type {\n",
       "        vertical-align: middle;\n",
       "    }\n",
       "\n",
       "    .dataframe tbody tr th {\n",
       "        vertical-align: top;\n",
       "    }\n",
       "\n",
       "    .dataframe thead th {\n",
       "        text-align: right;\n",
       "    }\n",
       "</style>\n",
       "<table border=\"1\" class=\"dataframe\">\n",
       "  <thead>\n",
       "    <tr style=\"text-align: right;\">\n",
       "      <th></th>\n",
       "      <th>mean</th>\n",
       "      <th>count</th>\n",
       "      <th>median</th>\n",
       "    </tr>\n",
       "    <tr>\n",
       "      <th>month_exposition</th>\n",
       "      <th></th>\n",
       "      <th></th>\n",
       "      <th></th>\n",
       "    </tr>\n",
       "  </thead>\n",
       "  <tbody>\n",
       "    <tr>\n",
       "      <th>4</th>\n",
       "      <td>5.634476e+06</td>\n",
       "      <td>2197</td>\n",
       "      <td>4680000.0</td>\n",
       "    </tr>\n",
       "    <tr>\n",
       "      <th>11</th>\n",
       "      <td>5.777949e+06</td>\n",
       "      <td>2204</td>\n",
       "      <td>4570000.0</td>\n",
       "    </tr>\n",
       "    <tr>\n",
       "      <th>12</th>\n",
       "      <td>5.890077e+06</td>\n",
       "      <td>1512</td>\n",
       "      <td>4550000.0</td>\n",
       "    </tr>\n",
       "    <tr>\n",
       "      <th>9</th>\n",
       "      <td>5.653437e+06</td>\n",
       "      <td>1809</td>\n",
       "      <td>4530000.0</td>\n",
       "    </tr>\n",
       "    <tr>\n",
       "      <th>1</th>\n",
       "      <td>5.655460e+06</td>\n",
       "      <td>1374</td>\n",
       "      <td>4500000.0</td>\n",
       "    </tr>\n",
       "    <tr>\n",
       "      <th>2</th>\n",
       "      <td>5.659239e+06</td>\n",
       "      <td>2419</td>\n",
       "      <td>4500000.0</td>\n",
       "    </tr>\n",
       "    <tr>\n",
       "      <th>3</th>\n",
       "      <td>5.514216e+06</td>\n",
       "      <td>2380</td>\n",
       "      <td>4500000.0</td>\n",
       "    </tr>\n",
       "    <tr>\n",
       "      <th>8</th>\n",
       "      <td>5.739206e+06</td>\n",
       "      <td>1614</td>\n",
       "      <td>4500000.0</td>\n",
       "    </tr>\n",
       "    <tr>\n",
       "      <th>10</th>\n",
       "      <td>5.587956e+06</td>\n",
       "      <td>1982</td>\n",
       "      <td>4500000.0</td>\n",
       "    </tr>\n",
       "    <tr>\n",
       "      <th>7</th>\n",
       "      <td>5.637058e+06</td>\n",
       "      <td>1547</td>\n",
       "      <td>4450000.0</td>\n",
       "    </tr>\n",
       "    <tr>\n",
       "      <th>5</th>\n",
       "      <td>5.576002e+06</td>\n",
       "      <td>1154</td>\n",
       "      <td>4400000.0</td>\n",
       "    </tr>\n",
       "    <tr>\n",
       "      <th>6</th>\n",
       "      <td>5.527453e+06</td>\n",
       "      <td>1624</td>\n",
       "      <td>4300000.0</td>\n",
       "    </tr>\n",
       "  </tbody>\n",
       "</table>\n",
       "</div>"
      ],
      "text/plain": [
       "                          mean  count     median\n",
       "month_exposition                                \n",
       "4                 5.634476e+06   2197  4680000.0\n",
       "11                5.777949e+06   2204  4570000.0\n",
       "12                5.890077e+06   1512  4550000.0\n",
       "9                 5.653437e+06   1809  4530000.0\n",
       "1                 5.655460e+06   1374  4500000.0\n",
       "2                 5.659239e+06   2419  4500000.0\n",
       "3                 5.514216e+06   2380  4500000.0\n",
       "8                 5.739206e+06   1614  4500000.0\n",
       "10                5.587956e+06   1982  4500000.0\n",
       "7                 5.637058e+06   1547  4450000.0\n",
       "5                 5.576002e+06   1154  4400000.0\n",
       "6                 5.527453e+06   1624  4300000.0"
      ]
     },
     "execution_count": 65,
     "metadata": {},
     "output_type": "execute_result"
    },
    {
     "data": {
      "image/png": "[encoded data removed]",
      "text/plain": [
       "<Figure size 432x288 with 1 Axes>"
      ]
     },
     "metadata": {
      "needs_background": "light"
     },
     "output_type": "display_data"
    }
   ],
   "source": [
    "pivot_table_weekday_exposition = data.pivot_table(index = 'month_exposition', values = 'last_price', aggfunc = ['mean', 'count', 'median'])\n",
    "pivot_table_weekday_exposition.columns = ['mean', 'count', 'median']\n",
    "pivot_table_weekday_exposition.plot(y = 'median')\n",
    "\n",
    "pivot_table_weekday_exposition.sort_values('median', ascending = False)"
   ]
  },
  {
   "cell_type": "code",
   "execution_count": 66,
   "metadata": {
    "scrolled": false
   },
   "outputs": [
    {
     "data": {
      "text/html": [
       "<div>\n",
       "<style scoped>\n",
       "    .dataframe tbody tr th:only-of-type {\n",
       "        vertical-align: middle;\n",
       "    }\n",
       "\n",
       "    .dataframe tbody tr th {\n",
       "        vertical-align: top;\n",
       "    }\n",
       "\n",
       "    .dataframe thead th {\n",
       "        text-align: right;\n",
       "    }\n",
       "</style>\n",
       "<table border=\"1\" class=\"dataframe\">\n",
       "  <thead>\n",
       "    <tr style=\"text-align: right;\">\n",
       "      <th></th>\n",
       "      <th>mean</th>\n",
       "      <th>count</th>\n",
       "      <th>median</th>\n",
       "    </tr>\n",
       "    <tr>\n",
       "      <th>year_exposition</th>\n",
       "      <th></th>\n",
       "      <th></th>\n",
       "      <th></th>\n",
       "    </tr>\n",
       "  </thead>\n",
       "  <tbody>\n",
       "    <tr>\n",
       "      <th>2014</th>\n",
       "      <td>1.054949e+07</td>\n",
       "      <td>121</td>\n",
       "      <td>7500000.0</td>\n",
       "    </tr>\n",
       "    <tr>\n",
       "      <th>2015</th>\n",
       "      <td>6.762224e+06</td>\n",
       "      <td>1060</td>\n",
       "      <td>5017859.5</td>\n",
       "    </tr>\n",
       "    <tr>\n",
       "      <th>2019</th>\n",
       "      <td>6.014785e+06</td>\n",
       "      <td>2635</td>\n",
       "      <td>4950000.0</td>\n",
       "    </tr>\n",
       "    <tr>\n",
       "      <th>2018</th>\n",
       "      <td>5.407724e+06</td>\n",
       "      <td>7890</td>\n",
       "      <td>4500000.0</td>\n",
       "    </tr>\n",
       "    <tr>\n",
       "      <th>2016</th>\n",
       "      <td>5.632181e+06</td>\n",
       "      <td>2527</td>\n",
       "      <td>4350000.0</td>\n",
       "    </tr>\n",
       "    <tr>\n",
       "      <th>2017</th>\n",
       "      <td>5.552934e+06</td>\n",
       "      <td>7583</td>\n",
       "      <td>4350000.0</td>\n",
       "    </tr>\n",
       "  </tbody>\n",
       "</table>\n",
       "</div>"
      ],
      "text/plain": [
       "                         mean  count     median\n",
       "year_exposition                                \n",
       "2014             1.054949e+07    121  7500000.0\n",
       "2015             6.762224e+06   1060  5017859.5\n",
       "2019             6.014785e+06   2635  4950000.0\n",
       "2018             5.407724e+06   7890  4500000.0\n",
       "2016             5.632181e+06   2527  4350000.0\n",
       "2017             5.552934e+06   7583  4350000.0"
      ]
     },
     "execution_count": 66,
     "metadata": {},
     "output_type": "execute_result"
    },
    {
     "data": {
      "image/png": "[encoded data removed]",
      "text/plain": [
       "<Figure size 432x288 with 1 Axes>"
      ]
     },
     "metadata": {
      "needs_background": "light"
     },
     "output_type": "display_data"
    }
   ],
   "source": [
    "pivot_table_weekday_exposition = data.pivot_table(index = 'year_exposition', values = 'last_price', aggfunc = ['mean', 'count', 'median'])\n",
    "pivot_table_weekday_exposition.columns = ['mean', 'count', 'median']\n",
    "pivot_table_weekday_exposition.plot(y = 'median')\n",
    "\n",
    "pivot_table_weekday_exposition.sort_values('median', ascending = False)"
   ]
  },
  {
   "cell_type": "markdown",
   "metadata": {},
   "source": [
    "Согласно анализу, неоднозначно на стоимость недвижимости влияют день, месяц, год размещения. По какой-то причине по наибольшей цене продается недвижимость, обьявление которой было выставлено во вторник, при этом пятница неудачный день с этой стороны. Данный вопрос требует дополнительного изучения.\n",
    "Рынок также имеет явную сезонность, активнее всего он себя проявляет весной, с \"проседаением\" в июне.\n",
    "По годам мы видимо, что в период с 2015-2016 годы происходит постепенный спад спроса на покупку недвижимости, однако в 2017 году наметился рост стоимости недвижимости, а значит и рост спроса.\n",
    "\n",
    "According to the analysis, the day, month, year of placement ambiguously affect the value of real estate. For some reason, the highest bidding property is listed on Tuesday, and Friday is a bad day on that side. This issue requires further study.\n",
    "The market also has a clear seasonality, it manifests itself most actively in the spring, with a \"subsidence\" in June.\n",
    "Over the years, we see that in the period from 2015-2016 there is a gradual decline in demand for the purchase of real estate, but in 2017 there has been an increase in the value of real estate, and hence an increase in demand."
   ]
  },
  {
   "cell_type": "code",
   "execution_count": 67,
   "metadata": {},
   "outputs": [
    {
     "data": {
      "text/html": [
       "<div>\n",
       "<style scoped>\n",
       "    .dataframe tbody tr th:only-of-type {\n",
       "        vertical-align: middle;\n",
       "    }\n",
       "\n",
       "    .dataframe tbody tr th {\n",
       "        vertical-align: top;\n",
       "    }\n",
       "\n",
       "    .dataframe thead th {\n",
       "        text-align: right;\n",
       "    }\n",
       "</style>\n",
       "<table border=\"1\" class=\"dataframe\">\n",
       "  <thead>\n",
       "    <tr style=\"text-align: right;\">\n",
       "      <th></th>\n",
       "      <th>count</th>\n",
       "      <th>mean</th>\n",
       "    </tr>\n",
       "    <tr>\n",
       "      <th>locality_name</th>\n",
       "      <th></th>\n",
       "      <th></th>\n",
       "    </tr>\n",
       "  </thead>\n",
       "  <tbody>\n",
       "    <tr>\n",
       "      <th>санкт-петербург</th>\n",
       "      <td>14210</td>\n",
       "      <td>111138.419078</td>\n",
       "    </tr>\n",
       "    <tr>\n",
       "      <th>посёлок мурино</th>\n",
       "      <td>590</td>\n",
       "      <td>86087.512050</td>\n",
       "    </tr>\n",
       "    <tr>\n",
       "      <th>деревня кудрово</th>\n",
       "      <td>472</td>\n",
       "      <td>95324.930544</td>\n",
       "    </tr>\n",
       "    <tr>\n",
       "      <th>посёлок шушары</th>\n",
       "      <td>439</td>\n",
       "      <td>78655.103087</td>\n",
       "    </tr>\n",
       "    <tr>\n",
       "      <th>всеволожск</th>\n",
       "      <td>393</td>\n",
       "      <td>68665.901153</td>\n",
       "    </tr>\n",
       "    <tr>\n",
       "      <th>пушкин</th>\n",
       "      <td>347</td>\n",
       "      <td>102298.577380</td>\n",
       "    </tr>\n",
       "    <tr>\n",
       "      <th>колпино</th>\n",
       "      <td>327</td>\n",
       "      <td>75375.283038</td>\n",
       "    </tr>\n",
       "    <tr>\n",
       "      <th>посёлок парголово</th>\n",
       "      <td>326</td>\n",
       "      <td>90332.263023</td>\n",
       "    </tr>\n",
       "    <tr>\n",
       "      <th>гатчина</th>\n",
       "      <td>301</td>\n",
       "      <td>68824.243947</td>\n",
       "    </tr>\n",
       "    <tr>\n",
       "      <th>выборг</th>\n",
       "      <td>221</td>\n",
       "      <td>58321.535721</td>\n",
       "    </tr>\n",
       "  </tbody>\n",
       "</table>\n",
       "</div>"
      ],
      "text/plain": [
       "                   count           mean\n",
       "locality_name                          \n",
       "санкт-петербург    14210  111138.419078\n",
       "посёлок мурино       590   86087.512050\n",
       "деревня кудрово      472   95324.930544\n",
       "посёлок шушары       439   78655.103087\n",
       "всеволожск           393   68665.901153\n",
       "пушкин               347  102298.577380\n",
       "колпино              327   75375.283038\n",
       "посёлок парголово    326   90332.263023\n",
       "гатчина              301   68824.243947\n",
       "выборг               221   58321.535721"
      ]
     },
     "execution_count": 67,
     "metadata": {},
     "output_type": "execute_result"
    }
   ],
   "source": [
    "#посчитаем среднюю цену одного квадратного метра в 10 населённых пунктах с наибольшим числом объявлений\n",
    "locality_pivot_table = data.pivot_table(index = 'locality_name', values = 'price_per_square_meter', aggfunc=['count', 'mean'])\n",
    "locality_pivot_table.columns = ['count', 'mean']\n",
    "locality_pivot_table.sort_values('count', ascending = False).head(10)"
   ]
  },
  {
   "cell_type": "code",
   "execution_count": 68,
   "metadata": {},
   "outputs": [
    {
     "data": {
      "text/html": [
       "<div>\n",
       "<style scoped>\n",
       "    .dataframe tbody tr th:only-of-type {\n",
       "        vertical-align: middle;\n",
       "    }\n",
       "\n",
       "    .dataframe tbody tr th {\n",
       "        vertical-align: top;\n",
       "    }\n",
       "\n",
       "    .dataframe thead th {\n",
       "        text-align: right;\n",
       "    }\n",
       "</style>\n",
       "<table border=\"1\" class=\"dataframe\">\n",
       "  <thead>\n",
       "    <tr style=\"text-align: right;\">\n",
       "      <th></th>\n",
       "      <th>count</th>\n",
       "      <th>mean</th>\n",
       "    </tr>\n",
       "    <tr>\n",
       "      <th>locality_name</th>\n",
       "      <th></th>\n",
       "      <th></th>\n",
       "    </tr>\n",
       "  </thead>\n",
       "  <tbody>\n",
       "    <tr>\n",
       "      <th>посёлок лисий нос</th>\n",
       "      <td>2</td>\n",
       "      <td>121616.221359</td>\n",
       "    </tr>\n",
       "  </tbody>\n",
       "</table>\n",
       "</div>"
      ],
      "text/plain": [
       "                   count           mean\n",
       "locality_name                          \n",
       "посёлок лисий нос      2  121616.221359"
      ]
     },
     "execution_count": 68,
     "metadata": {},
     "output_type": "execute_result"
    }
   ],
   "source": [
    "#самая высокая стоимость\n",
    "locality_pivot_table[locality_pivot_table['mean']==locality_pivot_table['mean'].max()]"
   ]
  },
  {
   "cell_type": "code",
   "execution_count": 69,
   "metadata": {},
   "outputs": [
    {
     "data": {
      "text/html": [
       "<div>\n",
       "<style scoped>\n",
       "    .dataframe tbody tr th:only-of-type {\n",
       "        vertical-align: middle;\n",
       "    }\n",
       "\n",
       "    .dataframe tbody tr th {\n",
       "        vertical-align: top;\n",
       "    }\n",
       "\n",
       "    .dataframe thead th {\n",
       "        text-align: right;\n",
       "    }\n",
       "</style>\n",
       "<table border=\"1\" class=\"dataframe\">\n",
       "  <thead>\n",
       "    <tr style=\"text-align: right;\">\n",
       "      <th></th>\n",
       "      <th>count</th>\n",
       "      <th>mean</th>\n",
       "    </tr>\n",
       "    <tr>\n",
       "      <th>locality_name</th>\n",
       "      <th></th>\n",
       "      <th></th>\n",
       "    </tr>\n",
       "  </thead>\n",
       "  <tbody>\n",
       "    <tr>\n",
       "      <th>поселок житково</th>\n",
       "      <td>1</td>\n",
       "      <td>15648.28614</td>\n",
       "    </tr>\n",
       "  </tbody>\n",
       "</table>\n",
       "</div>"
      ],
      "text/plain": [
       "                 count         mean\n",
       "locality_name                      \n",
       "поселок житково      1  15648.28614"
      ]
     },
     "execution_count": 69,
     "metadata": {},
     "output_type": "execute_result"
    }
   ],
   "source": [
    "#самая низкая стоимость\n",
    "locality_pivot_table[locality_pivot_table['mean']==locality_pivot_table['mean'].min()]"
   ]
  },
  {
   "cell_type": "markdown",
   "metadata": {},
   "source": [
    "Итог: самая высокая стоимость жилья из 10 населённых пунктов с самым большим количеством объявлений в Санкт-Петербурге, тогда как самая низкая стоимость в Выборге.\n",
    "\n",
    "Bottom line: the highest cost of housing out of 10 settlements with the largest number of ads is in St. Petersburg, while the lowest cost is in Vyborg."
   ]
  },
  {
   "cell_type": "code",
   "execution_count": 70,
   "metadata": {},
   "outputs": [
    {
     "data": {
      "text/html": [
       "<div>\n",
       "<style scoped>\n",
       "    .dataframe tbody tr th:only-of-type {\n",
       "        vertical-align: middle;\n",
       "    }\n",
       "\n",
       "    .dataframe tbody tr th {\n",
       "        vertical-align: top;\n",
       "    }\n",
       "\n",
       "    .dataframe thead th {\n",
       "        text-align: right;\n",
       "    }\n",
       "</style>\n",
       "<table border=\"1\" class=\"dataframe\">\n",
       "  <thead>\n",
       "    <tr style=\"text-align: right;\">\n",
       "      <th></th>\n",
       "      <th>total_images</th>\n",
       "      <th>last_price</th>\n",
       "      <th>total_area</th>\n",
       "      <th>first_day_exposition</th>\n",
       "      <th>rooms</th>\n",
       "      <th>ceiling_height</th>\n",
       "      <th>floors_total</th>\n",
       "      <th>living_area</th>\n",
       "      <th>floor</th>\n",
       "      <th>is_apartment</th>\n",
       "      <th>...</th>\n",
       "      <th>parks_nearest</th>\n",
       "      <th>ponds_around3000</th>\n",
       "      <th>ponds_nearest</th>\n",
       "      <th>days_exposition</th>\n",
       "      <th>price_per_square_meter</th>\n",
       "      <th>weekday_exposition</th>\n",
       "      <th>month_exposition</th>\n",
       "      <th>year_exposition</th>\n",
       "      <th>cityCenters_nearest_km</th>\n",
       "      <th>floors_type</th>\n",
       "    </tr>\n",
       "  </thead>\n",
       "  <tbody>\n",
       "    <tr>\n",
       "      <th>0</th>\n",
       "      <td>20</td>\n",
       "      <td>13000000.0</td>\n",
       "      <td>108.00</td>\n",
       "      <td>2019-03-07</td>\n",
       "      <td>3</td>\n",
       "      <td>2.70</td>\n",
       "      <td>16.0</td>\n",
       "      <td>51.0</td>\n",
       "      <td>8</td>\n",
       "      <td>0</td>\n",
       "      <td>...</td>\n",
       "      <td>482.0</td>\n",
       "      <td>2.0</td>\n",
       "      <td>755.0</td>\n",
       "      <td>NaN</td>\n",
       "      <td>120370.370370</td>\n",
       "      <td>3</td>\n",
       "      <td>3</td>\n",
       "      <td>2019</td>\n",
       "      <td>16.0</td>\n",
       "      <td>другой</td>\n",
       "    </tr>\n",
       "    <tr>\n",
       "      <th>2</th>\n",
       "      <td>10</td>\n",
       "      <td>5196000.0</td>\n",
       "      <td>56.00</td>\n",
       "      <td>2015-08-20</td>\n",
       "      <td>2</td>\n",
       "      <td>2.65</td>\n",
       "      <td>5.0</td>\n",
       "      <td>34.3</td>\n",
       "      <td>4</td>\n",
       "      <td>0</td>\n",
       "      <td>...</td>\n",
       "      <td>90.0</td>\n",
       "      <td>2.0</td>\n",
       "      <td>574.0</td>\n",
       "      <td>558.0</td>\n",
       "      <td>92785.714286</td>\n",
       "      <td>3</td>\n",
       "      <td>8</td>\n",
       "      <td>2015</td>\n",
       "      <td>13.0</td>\n",
       "      <td>другой</td>\n",
       "    </tr>\n",
       "    <tr>\n",
       "      <th>3</th>\n",
       "      <td>0</td>\n",
       "      <td>64900000.0</td>\n",
       "      <td>159.00</td>\n",
       "      <td>2015-07-24</td>\n",
       "      <td>3</td>\n",
       "      <td>2.65</td>\n",
       "      <td>14.0</td>\n",
       "      <td>NaN</td>\n",
       "      <td>9</td>\n",
       "      <td>0</td>\n",
       "      <td>...</td>\n",
       "      <td>84.0</td>\n",
       "      <td>3.0</td>\n",
       "      <td>234.0</td>\n",
       "      <td>424.0</td>\n",
       "      <td>408176.100629</td>\n",
       "      <td>4</td>\n",
       "      <td>7</td>\n",
       "      <td>2015</td>\n",
       "      <td>6.0</td>\n",
       "      <td>другой</td>\n",
       "    </tr>\n",
       "    <tr>\n",
       "      <th>7</th>\n",
       "      <td>5</td>\n",
       "      <td>7915000.0</td>\n",
       "      <td>71.60</td>\n",
       "      <td>2019-04-18</td>\n",
       "      <td>2</td>\n",
       "      <td>2.65</td>\n",
       "      <td>24.0</td>\n",
       "      <td>NaN</td>\n",
       "      <td>22</td>\n",
       "      <td>0</td>\n",
       "      <td>...</td>\n",
       "      <td>NaN</td>\n",
       "      <td>0.0</td>\n",
       "      <td>NaN</td>\n",
       "      <td>NaN</td>\n",
       "      <td>110544.692737</td>\n",
       "      <td>3</td>\n",
       "      <td>4</td>\n",
       "      <td>2019</td>\n",
       "      <td>11.0</td>\n",
       "      <td>другой</td>\n",
       "    </tr>\n",
       "    <tr>\n",
       "      <th>9</th>\n",
       "      <td>18</td>\n",
       "      <td>5400000.0</td>\n",
       "      <td>61.00</td>\n",
       "      <td>2017-02-26</td>\n",
       "      <td>3</td>\n",
       "      <td>2.50</td>\n",
       "      <td>9.0</td>\n",
       "      <td>43.6</td>\n",
       "      <td>7</td>\n",
       "      <td>0</td>\n",
       "      <td>...</td>\n",
       "      <td>NaN</td>\n",
       "      <td>0.0</td>\n",
       "      <td>NaN</td>\n",
       "      <td>289.0</td>\n",
       "      <td>88524.590164</td>\n",
       "      <td>6</td>\n",
       "      <td>2</td>\n",
       "      <td>2017</td>\n",
       "      <td>15.0</td>\n",
       "      <td>другой</td>\n",
       "    </tr>\n",
       "    <tr>\n",
       "      <th>...</th>\n",
       "      <td>...</td>\n",
       "      <td>...</td>\n",
       "      <td>...</td>\n",
       "      <td>...</td>\n",
       "      <td>...</td>\n",
       "      <td>...</td>\n",
       "      <td>...</td>\n",
       "      <td>...</td>\n",
       "      <td>...</td>\n",
       "      <td>...</td>\n",
       "      <td>...</td>\n",
       "      <td>...</td>\n",
       "      <td>...</td>\n",
       "      <td>...</td>\n",
       "      <td>...</td>\n",
       "      <td>...</td>\n",
       "      <td>...</td>\n",
       "      <td>...</td>\n",
       "      <td>...</td>\n",
       "      <td>...</td>\n",
       "      <td>...</td>\n",
       "    </tr>\n",
       "    <tr>\n",
       "      <th>23687</th>\n",
       "      <td>6</td>\n",
       "      <td>3200000.0</td>\n",
       "      <td>39.00</td>\n",
       "      <td>2017-12-16</td>\n",
       "      <td>1</td>\n",
       "      <td>2.65</td>\n",
       "      <td>9.0</td>\n",
       "      <td>20.0</td>\n",
       "      <td>6</td>\n",
       "      <td>0</td>\n",
       "      <td>...</td>\n",
       "      <td>NaN</td>\n",
       "      <td>0.0</td>\n",
       "      <td>NaN</td>\n",
       "      <td>38.0</td>\n",
       "      <td>82051.282051</td>\n",
       "      <td>5</td>\n",
       "      <td>12</td>\n",
       "      <td>2017</td>\n",
       "      <td>16.0</td>\n",
       "      <td>другой</td>\n",
       "    </tr>\n",
       "    <tr>\n",
       "      <th>23689</th>\n",
       "      <td>13</td>\n",
       "      <td>3550000.0</td>\n",
       "      <td>35.30</td>\n",
       "      <td>2018-02-28</td>\n",
       "      <td>1</td>\n",
       "      <td>2.86</td>\n",
       "      <td>15.0</td>\n",
       "      <td>16.3</td>\n",
       "      <td>4</td>\n",
       "      <td>0</td>\n",
       "      <td>...</td>\n",
       "      <td>353.0</td>\n",
       "      <td>2.0</td>\n",
       "      <td>652.0</td>\n",
       "      <td>29.0</td>\n",
       "      <td>100566.572238</td>\n",
       "      <td>2</td>\n",
       "      <td>2</td>\n",
       "      <td>2018</td>\n",
       "      <td>16.0</td>\n",
       "      <td>другой</td>\n",
       "    </tr>\n",
       "    <tr>\n",
       "      <th>23690</th>\n",
       "      <td>3</td>\n",
       "      <td>5500000.0</td>\n",
       "      <td>52.00</td>\n",
       "      <td>2018-07-19</td>\n",
       "      <td>2</td>\n",
       "      <td>2.65</td>\n",
       "      <td>5.0</td>\n",
       "      <td>31.0</td>\n",
       "      <td>2</td>\n",
       "      <td>0</td>\n",
       "      <td>...</td>\n",
       "      <td>300.0</td>\n",
       "      <td>0.0</td>\n",
       "      <td>NaN</td>\n",
       "      <td>15.0</td>\n",
       "      <td>105769.230769</td>\n",
       "      <td>3</td>\n",
       "      <td>7</td>\n",
       "      <td>2018</td>\n",
       "      <td>6.0</td>\n",
       "      <td>другой</td>\n",
       "    </tr>\n",
       "    <tr>\n",
       "      <th>23691</th>\n",
       "      <td>11</td>\n",
       "      <td>9470000.0</td>\n",
       "      <td>72.90</td>\n",
       "      <td>2016-10-13</td>\n",
       "      <td>2</td>\n",
       "      <td>2.75</td>\n",
       "      <td>25.0</td>\n",
       "      <td>40.3</td>\n",
       "      <td>7</td>\n",
       "      <td>0</td>\n",
       "      <td>...</td>\n",
       "      <td>NaN</td>\n",
       "      <td>1.0</td>\n",
       "      <td>806.0</td>\n",
       "      <td>519.0</td>\n",
       "      <td>129903.978052</td>\n",
       "      <td>3</td>\n",
       "      <td>10</td>\n",
       "      <td>2016</td>\n",
       "      <td>4.0</td>\n",
       "      <td>другой</td>\n",
       "    </tr>\n",
       "    <tr>\n",
       "      <th>23697</th>\n",
       "      <td>13</td>\n",
       "      <td>11475000.0</td>\n",
       "      <td>76.75</td>\n",
       "      <td>2017-03-28</td>\n",
       "      <td>2</td>\n",
       "      <td>3.00</td>\n",
       "      <td>17.0</td>\n",
       "      <td>NaN</td>\n",
       "      <td>12</td>\n",
       "      <td>0</td>\n",
       "      <td>...</td>\n",
       "      <td>173.0</td>\n",
       "      <td>3.0</td>\n",
       "      <td>196.0</td>\n",
       "      <td>602.0</td>\n",
       "      <td>149511.400651</td>\n",
       "      <td>1</td>\n",
       "      <td>3</td>\n",
       "      <td>2017</td>\n",
       "      <td>10.0</td>\n",
       "      <td>другой</td>\n",
       "    </tr>\n",
       "  </tbody>\n",
       "</table>\n",
       "<p>14210 rows × 28 columns</p>\n",
       "</div>"
      ],
      "text/plain": [
       "       total_images  last_price  total_area first_day_exposition  rooms  \\\n",
       "0                20  13000000.0      108.00           2019-03-07      3   \n",
       "2                10   5196000.0       56.00           2015-08-20      2   \n",
       "3                 0  64900000.0      159.00           2015-07-24      3   \n",
       "7                 5   7915000.0       71.60           2019-04-18      2   \n",
       "9                18   5400000.0       61.00           2017-02-26      3   \n",
       "...             ...         ...         ...                  ...    ...   \n",
       "23687             6   3200000.0       39.00           2017-12-16      1   \n",
       "23689            13   3550000.0       35.30           2018-02-28      1   \n",
       "23690             3   5500000.0       52.00           2018-07-19      2   \n",
       "23691            11   9470000.0       72.90           2016-10-13      2   \n",
       "23697            13  11475000.0       76.75           2017-03-28      2   \n",
       "\n",
       "       ceiling_height  floors_total  living_area  floor is_apartment  ...  \\\n",
       "0                2.70          16.0         51.0      8            0  ...   \n",
       "2                2.65           5.0         34.3      4            0  ...   \n",
       "3                2.65          14.0          NaN      9            0  ...   \n",
       "7                2.65          24.0          NaN     22            0  ...   \n",
       "9                2.50           9.0         43.6      7            0  ...   \n",
       "...               ...           ...          ...    ...          ...  ...   \n",
       "23687            2.65           9.0         20.0      6            0  ...   \n",
       "23689            2.86          15.0         16.3      4            0  ...   \n",
       "23690            2.65           5.0         31.0      2            0  ...   \n",
       "23691            2.75          25.0         40.3      7            0  ...   \n",
       "23697            3.00          17.0          NaN     12            0  ...   \n",
       "\n",
       "       parks_nearest  ponds_around3000  ponds_nearest  days_exposition  \\\n",
       "0              482.0               2.0          755.0              NaN   \n",
       "2               90.0               2.0          574.0            558.0   \n",
       "3               84.0               3.0          234.0            424.0   \n",
       "7                NaN               0.0            NaN              NaN   \n",
       "9                NaN               0.0            NaN            289.0   \n",
       "...              ...               ...            ...              ...   \n",
       "23687            NaN               0.0            NaN             38.0   \n",
       "23689          353.0               2.0          652.0             29.0   \n",
       "23690          300.0               0.0            NaN             15.0   \n",
       "23691            NaN               1.0          806.0            519.0   \n",
       "23697          173.0               3.0          196.0            602.0   \n",
       "\n",
       "      price_per_square_meter  weekday_exposition  month_exposition  \\\n",
       "0              120370.370370                   3                 3   \n",
       "2               92785.714286                   3                 8   \n",
       "3              408176.100629                   4                 7   \n",
       "7              110544.692737                   3                 4   \n",
       "9               88524.590164                   6                 2   \n",
       "...                      ...                 ...               ...   \n",
       "23687           82051.282051                   5                12   \n",
       "23689          100566.572238                   2                 2   \n",
       "23690          105769.230769                   3                 7   \n",
       "23691          129903.978052                   3                10   \n",
       "23697          149511.400651                   1                 3   \n",
       "\n",
       "       year_exposition  cityCenters_nearest_km  floors_type  \n",
       "0                 2019                    16.0       другой  \n",
       "2                 2015                    13.0       другой  \n",
       "3                 2015                     6.0       другой  \n",
       "7                 2019                    11.0       другой  \n",
       "9                 2017                    15.0       другой  \n",
       "...                ...                     ...          ...  \n",
       "23687             2017                    16.0       другой  \n",
       "23689             2018                    16.0       другой  \n",
       "23690             2018                     6.0       другой  \n",
       "23691             2016                     4.0       другой  \n",
       "23697             2017                    10.0       другой  \n",
       "\n",
       "[14210 rows x 28 columns]"
      ]
     },
     "execution_count": 70,
     "metadata": {},
     "output_type": "execute_result"
    }
   ],
   "source": [
    "data.query('locality_name == \"санкт-петербург\"')"
   ]
  },
  {
   "cell_type": "code",
   "execution_count": 71,
   "metadata": {
    "scrolled": true
   },
   "outputs": [
    {
     "data": {
      "text/plain": [
       "<AxesSubplot:xlabel='cityCenters_nearest_km'>"
      ]
     },
     "execution_count": 71,
     "metadata": {},
     "output_type": "execute_result"
    },
    {
     "data": {
      "image/png": "[encoded data removed]",
      "text/plain": [
       "<Figure size 432x288 with 1 Axes>"
      ]
     },
     "metadata": {
      "needs_background": "light"
     },
     "output_type": "display_data"
    }
   ],
   "source": [
    "pivot_table_km = data.query('locality_name == \"санкт-петербург\"').pivot_table(index = 'cityCenters_nearest_km', \n",
    "                                                                              values = 'last_price', \n",
    "                                                                              aggfunc = 'mean')\n",
    "\n",
    "pivot_table_km.plot()\n"
   ]
  },
  {
   "cell_type": "markdown",
   "metadata": {},
   "source": [
    "### Общий вывод\n",
    "\n",
    "### General conclusion"
   ]
  },
  {
   "cell_type": "markdown",
   "metadata": {},
   "source": [
    "    Для исследования был дан массив со статистическими данными продажи недвижимости в Санкт-Петербурге и Ленинградской области. Были обработаны пропущенные значения там, где это необходимо, а также заменен тип данных в определенных столбцах для удобной работы.  Были изучены следующие параметры с помощью гистограмм - общая площадь; жилая площадь; площадь кухни; цена объекта; количество комнат; высота потолков; этаж квартиры; тип этажа квартиры («первый», «последний», «другой»); общее количество этажей в доме; расстояние до центра города в метрах; расстояние до ближайшего аэропорта; расстояние до ближайшего парка; день и месяц публикации объявления. \n",
    "    По результатам исследования данных было выявлено, что значения продаж квартир варьируются в большом диапазоне чисел, в среднем продаваясь за 180 дней при медиане в 95 дней. Также выявлено, что на стоимость квадратного метра квартиры больше всего влияют следующие факторы:\n",
    " - количество комнат (чем больше количество комнат, тем выше цена недвижимости)\n",
    " - этаж квартиры (крайне непопулярен первый этаж по сравнению с последними или иными этажами) \n",
    "  - общая и жилая площади. \n",
    "    Неоднозначно на стоимость недвижимости влияют день, месяц, год размещения. По какой-то причине по наибольшей цене продается недвижимость, обьявление которой было выставлено во вторник, при этом пятница неудачный день с этой стороны. Данный вопрос требует дополнительного изучения.\n",
    "    Рынок также имеет явную сезонность, активнее всего он себя проявляет весной, с \"проседаением\" в июне.\n",
    "    По годам мы видимо, что в период с 2015-2016 годы происходит постепенный спад спроса на покупку недвижимости, однако в 2017 году наметился рост стоимости недвижимости, а значит и рост спроса.\n",
    "    Было также выявлено, что из рассмотренных населенных пунктов самая дорогая недвижимость в Санкт-Петербурге, а самая низкая стоимость в Выборге.\n",
    "    Судя по анализу стоимости недвижимости с учетом удаленности от центра, существует обратная зависимость, чем дальше от центра Санкт-Петербурга - тем дешевле недвижимость. Однако имеется резкий скачаок цены на расстоянии примерно 27 км от центра, вероятно, там находится коттеджный поселок.\n",
    "    \n",
    "________________________________________________________________________________________________________________________________\n",
    "\n",
    "For the study, an array was given with statistical data on the sale of real estate in St. Petersburg and the Leningrad Region. Missing values have been handled where necessary, and the data type has been changed in certain columns for a better experience. The following parameters were studied using histograms - total area; living space; kitchen area; object price; number of rooms; ceiling height; floor of the apartment; floor type of the apartment (“first”, “last”, “other”); the total number of floors in the house; distance to the city center in meters; distance to the nearest airport; distance to the nearest park; day and month of publication of the announcement.\n",
    "     Based on the results of the data analysis, it was found that the sales values of apartments vary in a wide range of numbers, with an average of 180 days sold with a median of 95 days. It was also revealed that the following factors most influence the cost per square meter of an apartment:\n",
    "  - number of rooms (the more rooms, the higher the price of the property)\n",
    "  - the floor of the apartment (the first floor is extremely unpopular compared to the last or other floors)\n",
    "   - common and residential area.\n",
    "     The value of real estate is ambiguously affected by the day, month, year of placement. For some reason, the highest bidding property is listed on Tuesday, and Friday is a bad day on that side. This issue requires further study.\n",
    "     The market also has a clear seasonality, it manifests itself most actively in the spring, with a \"subsidence\" in June.\n",
    "     Over the years, we see that in the period from 2015-2016 there is a gradual decline in demand for the purchase of real estate, but in 2017 there has been an increase in the value of real estate, and hence an increase in demand.\n",
    "     It was also revealed that of the settlements considered, the most expensive real estate is in St. Petersburg, and the lowest cost is in Vyborg.\n",
    "     Judging by the analysis of the value of real estate, taking into account the distance from the center, there is an inverse relationship, the farther from the center of St. Petersburg - the cheaper the property. However, there is a sharp jump in prices at a distance of about 27 km from the center, probably there is a cottage settlement.\n",
    "  "
   ]
  },
  {
   "cell_type": "code",
   "execution_count": null,
   "metadata": {},
   "outputs": [],
   "source": []
  }
 ],
 "metadata": {
  "ExecuteTimeLog": [
   {
    "duration": 355,
    "start_time": "2022-08-26T08:01:59.653Z"
   },
   {
    "duration": 62,
    "start_time": "2022-08-26T08:02:36.655Z"
   },
   {
    "duration": 130,
    "start_time": "2022-08-26T08:02:44.773Z"
   },
   {
    "duration": 78,
    "start_time": "2022-08-26T08:05:23.548Z"
   },
   {
    "duration": 101,
    "start_time": "2022-08-26T08:05:45.262Z"
   },
   {
    "duration": 76,
    "start_time": "2022-08-26T08:05:57.255Z"
   },
   {
    "duration": 75,
    "start_time": "2022-08-26T08:06:58.223Z"
   },
   {
    "duration": 112,
    "start_time": "2022-08-26T08:07:46.734Z"
   },
   {
    "duration": 898,
    "start_time": "2022-08-26T08:09:21.343Z"
   },
   {
    "duration": 616,
    "start_time": "2022-08-26T08:10:59.936Z"
   },
   {
    "duration": 527,
    "start_time": "2022-08-26T08:25:06.526Z"
   },
   {
    "duration": 532,
    "start_time": "2022-08-26T08:25:25.135Z"
   },
   {
    "duration": 17,
    "start_time": "2022-08-26T08:25:50.721Z"
   },
   {
    "duration": 7,
    "start_time": "2022-08-26T08:32:20.924Z"
   },
   {
    "duration": 17,
    "start_time": "2022-08-26T08:32:29.442Z"
   },
   {
    "duration": 10434,
    "start_time": "2022-08-26T08:32:32.409Z"
   },
   {
    "duration": 9945,
    "start_time": "2022-08-26T08:32:56.923Z"
   },
   {
    "duration": 9766,
    "start_time": "2022-08-26T08:33:10.321Z"
   },
   {
    "duration": 8847,
    "start_time": "2022-08-26T08:33:33.654Z"
   },
   {
    "duration": 2828,
    "start_time": "2022-08-26T08:33:47.081Z"
   },
   {
    "duration": 8,
    "start_time": "2022-08-26T08:39:25.197Z"
   },
   {
    "duration": 20,
    "start_time": "2022-08-26T08:39:43.021Z"
   },
   {
    "duration": 7,
    "start_time": "2022-08-26T08:41:59.516Z"
   },
   {
    "duration": 6,
    "start_time": "2022-08-26T08:42:30.568Z"
   },
   {
    "duration": 6,
    "start_time": "2022-08-26T08:46:23.921Z"
   },
   {
    "duration": 9,
    "start_time": "2022-08-26T08:46:55.668Z"
   },
   {
    "duration": 10,
    "start_time": "2022-08-26T08:48:27.213Z"
   },
   {
    "duration": 10,
    "start_time": "2022-08-26T08:49:35.332Z"
   },
   {
    "duration": 17,
    "start_time": "2022-08-26T08:49:39.441Z"
   },
   {
    "duration": 12,
    "start_time": "2022-08-26T08:49:52.641Z"
   },
   {
    "duration": 12,
    "start_time": "2022-08-26T08:50:03.416Z"
   },
   {
    "duration": 17,
    "start_time": "2022-08-26T08:50:29.546Z"
   },
   {
    "duration": 81,
    "start_time": "2022-08-26T08:50:37.896Z"
   },
   {
    "duration": 18,
    "start_time": "2022-08-26T08:50:43.401Z"
   },
   {
    "duration": 6,
    "start_time": "2022-08-26T08:50:49.562Z"
   },
   {
    "duration": 524,
    "start_time": "2022-08-26T09:00:41.489Z"
   },
   {
    "duration": 17,
    "start_time": "2022-08-26T09:00:46.441Z"
   },
   {
    "duration": 9,
    "start_time": "2022-08-26T09:01:55.081Z"
   },
   {
    "duration": 18,
    "start_time": "2022-08-26T09:02:01.081Z"
   },
   {
    "duration": 18,
    "start_time": "2022-08-26T09:02:08.640Z"
   },
   {
    "duration": 24,
    "start_time": "2022-08-26T09:02:12.288Z"
   },
   {
    "duration": 566,
    "start_time": "2022-08-26T09:03:40.240Z"
   },
   {
    "duration": 16,
    "start_time": "2022-08-26T09:03:44.696Z"
   },
   {
    "duration": 10,
    "start_time": "2022-08-26T09:03:51.480Z"
   },
   {
    "duration": 662,
    "start_time": "2022-08-26T09:05:58.603Z"
   },
   {
    "duration": 11,
    "start_time": "2022-08-26T09:06:06.683Z"
   },
   {
    "duration": 16,
    "start_time": "2022-08-26T09:06:11.923Z"
   },
   {
    "duration": 8,
    "start_time": "2022-08-26T09:06:48.683Z"
   },
   {
    "duration": 5,
    "start_time": "2022-08-26T09:06:56.324Z"
   },
   {
    "duration": 5,
    "start_time": "2022-08-26T09:07:01.091Z"
   },
   {
    "duration": 523,
    "start_time": "2022-08-26T09:07:20.733Z"
   },
   {
    "duration": 9,
    "start_time": "2022-08-26T09:07:27.489Z"
   },
   {
    "duration": 22,
    "start_time": "2022-08-26T09:07:30.964Z"
   },
   {
    "duration": 1602,
    "start_time": "2022-08-26T12:13:03.359Z"
   },
   {
    "duration": 10,
    "start_time": "2022-08-26T12:13:13.067Z"
   },
   {
    "duration": 14,
    "start_time": "2022-08-26T12:13:15.017Z"
   },
   {
    "duration": 22,
    "start_time": "2022-08-26T12:13:21.497Z"
   },
   {
    "duration": 8,
    "start_time": "2022-08-26T12:14:56.396Z"
   },
   {
    "duration": 25,
    "start_time": "2022-08-26T12:15:36.468Z"
   },
   {
    "duration": 5,
    "start_time": "2022-08-26T12:20:04.057Z"
   },
   {
    "duration": 174,
    "start_time": "2022-08-26T12:20:12.087Z"
   },
   {
    "duration": 11,
    "start_time": "2022-08-26T12:20:17.906Z"
   },
   {
    "duration": 5,
    "start_time": "2022-08-26T12:21:48.375Z"
   },
   {
    "duration": 21,
    "start_time": "2022-08-26T12:21:54.937Z"
   },
   {
    "duration": 4,
    "start_time": "2022-08-26T12:22:33.647Z"
   },
   {
    "duration": 14,
    "start_time": "2022-08-26T12:31:04.927Z"
   },
   {
    "duration": 22,
    "start_time": "2022-08-26T12:31:09.135Z"
   },
   {
    "duration": 28,
    "start_time": "2022-08-26T12:34:46.314Z"
   },
   {
    "duration": 15,
    "start_time": "2022-08-26T12:35:47.698Z"
   },
   {
    "duration": 17,
    "start_time": "2022-08-26T12:41:20.656Z"
   },
   {
    "duration": 18,
    "start_time": "2022-08-26T12:42:27.259Z"
   },
   {
    "duration": 23,
    "start_time": "2022-08-26T12:42:32.238Z"
   },
   {
    "duration": 903,
    "start_time": "2022-08-26T12:56:43.197Z"
   },
   {
    "duration": 3,
    "start_time": "2022-08-26T12:57:04.758Z"
   },
   {
    "duration": 448,
    "start_time": "2022-08-26T12:59:00.466Z"
   },
   {
    "duration": 235,
    "start_time": "2022-08-26T12:59:37.318Z"
   },
   {
    "duration": 236,
    "start_time": "2022-08-26T12:59:47.039Z"
   },
   {
    "duration": 14,
    "start_time": "2022-08-26T13:03:17.677Z"
   },
   {
    "duration": 5,
    "start_time": "2022-08-26T13:06:30.397Z"
   },
   {
    "duration": 252,
    "start_time": "2022-08-26T13:07:04.217Z"
   },
   {
    "duration": 337,
    "start_time": "2022-08-26T13:07:15.038Z"
   },
   {
    "duration": 14,
    "start_time": "2022-08-26T13:10:02.172Z"
   },
   {
    "duration": 5,
    "start_time": "2022-08-26T13:10:12.639Z"
   },
   {
    "duration": 27,
    "start_time": "2022-08-26T13:10:19.676Z"
   },
   {
    "duration": 84,
    "start_time": "2022-08-26T13:14:24.800Z"
   },
   {
    "duration": 19,
    "start_time": "2022-08-26T13:14:29.378Z"
   },
   {
    "duration": 24,
    "start_time": "2022-08-26T13:17:09.352Z"
   },
   {
    "duration": 9,
    "start_time": "2022-08-26T13:19:39.317Z"
   },
   {
    "duration": 6,
    "start_time": "2022-08-26T13:19:47.119Z"
   },
   {
    "duration": 219,
    "start_time": "2022-08-26T13:21:05.098Z"
   },
   {
    "duration": 4,
    "start_time": "2022-08-26T13:21:21.686Z"
   },
   {
    "duration": 25,
    "start_time": "2022-08-26T13:21:49.088Z"
   },
   {
    "duration": 20,
    "start_time": "2022-08-26T13:21:52.410Z"
   },
   {
    "duration": 16,
    "start_time": "2022-08-26T13:25:03.198Z"
   },
   {
    "duration": 8,
    "start_time": "2022-08-26T13:25:05.438Z"
   },
   {
    "duration": 8,
    "start_time": "2022-08-26T13:25:59.030Z"
   },
   {
    "duration": 25,
    "start_time": "2022-08-26T13:26:23.445Z"
   },
   {
    "duration": 15,
    "start_time": "2022-08-26T13:35:36.058Z"
   },
   {
    "duration": 23,
    "start_time": "2022-08-26T14:00:05.701Z"
   },
   {
    "duration": 9,
    "start_time": "2022-08-26T14:00:11.626Z"
   },
   {
    "duration": 9,
    "start_time": "2022-08-26T14:00:57.331Z"
   },
   {
    "duration": 6,
    "start_time": "2022-08-26T14:01:17.686Z"
   },
   {
    "duration": 7,
    "start_time": "2022-08-26T14:01:41.558Z"
   },
   {
    "duration": 5,
    "start_time": "2022-08-26T14:05:26.522Z"
   },
   {
    "duration": 8,
    "start_time": "2022-08-26T14:05:39.067Z"
   },
   {
    "duration": 7,
    "start_time": "2022-08-26T14:05:55.818Z"
   },
   {
    "duration": 6,
    "start_time": "2022-08-26T14:07:05.395Z"
   },
   {
    "duration": 6,
    "start_time": "2022-08-26T14:07:23.919Z"
   },
   {
    "duration": 9,
    "start_time": "2022-08-26T14:07:43.937Z"
   },
   {
    "duration": 8,
    "start_time": "2022-08-26T14:08:06.478Z"
   },
   {
    "duration": 8,
    "start_time": "2022-08-26T14:08:31.859Z"
   },
   {
    "duration": 9,
    "start_time": "2022-08-26T14:08:43.570Z"
   },
   {
    "duration": 7,
    "start_time": "2022-08-26T14:09:51.347Z"
   },
   {
    "duration": 1611,
    "start_time": "2022-08-28T07:57:42.285Z"
   },
   {
    "duration": 8,
    "start_time": "2022-08-28T07:57:59.357Z"
   },
   {
    "duration": 7,
    "start_time": "2022-08-28T07:58:02.417Z"
   },
   {
    "duration": 13,
    "start_time": "2022-08-28T07:58:05.460Z"
   },
   {
    "duration": 4,
    "start_time": "2022-08-28T07:58:10.330Z"
   },
   {
    "duration": 15,
    "start_time": "2022-08-28T07:58:13.662Z"
   },
   {
    "duration": 94,
    "start_time": "2022-08-28T07:58:28.720Z"
   },
   {
    "duration": 5,
    "start_time": "2022-08-28T07:58:31.173Z"
   },
   {
    "duration": 19,
    "start_time": "2022-08-28T07:58:57.228Z"
   },
   {
    "duration": 21,
    "start_time": "2022-08-28T07:58:59.637Z"
   },
   {
    "duration": 12,
    "start_time": "2022-08-28T07:59:19.459Z"
   },
   {
    "duration": 6,
    "start_time": "2022-08-28T08:18:36.054Z"
   },
   {
    "duration": 5,
    "start_time": "2022-08-28T08:19:03.513Z"
   },
   {
    "duration": 6,
    "start_time": "2022-08-28T08:21:46.282Z"
   },
   {
    "duration": 7,
    "start_time": "2022-08-28T08:22:31.361Z"
   },
   {
    "duration": 6,
    "start_time": "2022-08-28T08:22:34.370Z"
   },
   {
    "duration": 5,
    "start_time": "2022-08-28T08:23:02.142Z"
   },
   {
    "duration": 7,
    "start_time": "2022-08-28T08:23:04.748Z"
   },
   {
    "duration": 571,
    "start_time": "2022-08-28T09:06:11.184Z"
   },
   {
    "duration": 10,
    "start_time": "2022-08-28T09:06:23.972Z"
   },
   {
    "duration": 14,
    "start_time": "2022-08-28T09:06:24.936Z"
   },
   {
    "duration": 5,
    "start_time": "2022-08-28T09:06:25.491Z"
   },
   {
    "duration": 18,
    "start_time": "2022-08-28T09:06:26.125Z"
   },
   {
    "duration": 93,
    "start_time": "2022-08-28T09:06:28.948Z"
   },
   {
    "duration": 4,
    "start_time": "2022-08-28T09:06:29.175Z"
   },
   {
    "duration": 11,
    "start_time": "2022-08-28T09:06:33.136Z"
   },
   {
    "duration": 20,
    "start_time": "2022-08-28T09:06:34.401Z"
   },
   {
    "duration": 4,
    "start_time": "2022-08-28T09:06:40.925Z"
   },
   {
    "duration": 5,
    "start_time": "2022-08-28T09:06:43.981Z"
   },
   {
    "duration": 5,
    "start_time": "2022-08-28T09:09:49.572Z"
   },
   {
    "duration": 11,
    "start_time": "2022-08-28T09:10:05.003Z"
   },
   {
    "duration": 5,
    "start_time": "2022-08-28T09:10:28.094Z"
   },
   {
    "duration": 8,
    "start_time": "2022-08-28T09:15:08.829Z"
   },
   {
    "duration": 7,
    "start_time": "2022-08-28T09:15:35.103Z"
   },
   {
    "duration": 8,
    "start_time": "2022-08-28T09:15:44.101Z"
   },
   {
    "duration": 8,
    "start_time": "2022-08-28T09:15:59.416Z"
   },
   {
    "duration": 6,
    "start_time": "2022-08-28T09:16:03.733Z"
   },
   {
    "duration": 71,
    "start_time": "2022-08-28T09:17:00.598Z"
   },
   {
    "duration": 8,
    "start_time": "2022-08-28T09:17:07.029Z"
   },
   {
    "duration": 11,
    "start_time": "2022-08-28T09:17:09.929Z"
   },
   {
    "duration": 4,
    "start_time": "2022-08-28T09:18:24.454Z"
   },
   {
    "duration": 11,
    "start_time": "2022-08-28T09:18:27.157Z"
   },
   {
    "duration": 536,
    "start_time": "2022-08-28T09:18:55.328Z"
   },
   {
    "duration": 10,
    "start_time": "2022-08-28T09:19:05.436Z"
   },
   {
    "duration": 15,
    "start_time": "2022-08-28T09:19:07.829Z"
   },
   {
    "duration": 4,
    "start_time": "2022-08-28T09:19:08.097Z"
   },
   {
    "duration": 15,
    "start_time": "2022-08-28T09:19:08.629Z"
   },
   {
    "duration": 94,
    "start_time": "2022-08-28T09:19:12.363Z"
   },
   {
    "duration": 5,
    "start_time": "2022-08-28T09:19:12.603Z"
   },
   {
    "duration": 12,
    "start_time": "2022-08-28T09:19:15.482Z"
   },
   {
    "duration": 20,
    "start_time": "2022-08-28T09:19:15.807Z"
   },
   {
    "duration": 5,
    "start_time": "2022-08-28T09:19:20.502Z"
   },
   {
    "duration": 6,
    "start_time": "2022-08-28T09:19:23.086Z"
   },
   {
    "duration": 5,
    "start_time": "2022-08-28T09:29:36.350Z"
   },
   {
    "duration": 23,
    "start_time": "2022-08-28T09:30:02.857Z"
   },
   {
    "duration": 1523,
    "start_time": "2022-08-29T06:58:15.355Z"
   },
   {
    "duration": 9,
    "start_time": "2022-08-29T06:58:25.875Z"
   },
   {
    "duration": 14,
    "start_time": "2022-08-29T06:58:28.320Z"
   },
   {
    "duration": 4,
    "start_time": "2022-08-29T06:58:28.921Z"
   },
   {
    "duration": 29,
    "start_time": "2022-08-29T06:58:29.505Z"
   },
   {
    "duration": 88,
    "start_time": "2022-08-29T06:58:32.572Z"
   },
   {
    "duration": 5,
    "start_time": "2022-08-29T06:58:32.942Z"
   },
   {
    "duration": 13,
    "start_time": "2022-08-29T06:58:35.888Z"
   },
   {
    "duration": 5,
    "start_time": "2022-08-29T06:58:43.855Z"
   },
   {
    "duration": 6,
    "start_time": "2022-08-29T06:58:45.523Z"
   },
   {
    "duration": 6,
    "start_time": "2022-08-29T06:58:48.380Z"
   },
   {
    "duration": 27,
    "start_time": "2022-08-29T06:58:54.935Z"
   },
   {
    "duration": 69,
    "start_time": "2022-08-29T07:05:05.386Z"
   },
   {
    "duration": 41,
    "start_time": "2022-08-29T07:06:34.406Z"
   },
   {
    "duration": 91,
    "start_time": "2022-08-29T07:08:49.166Z"
   },
   {
    "duration": 43,
    "start_time": "2022-08-29T07:12:52.848Z"
   },
   {
    "duration": 42,
    "start_time": "2022-08-29T07:14:05.154Z"
   },
   {
    "duration": 38,
    "start_time": "2022-08-29T07:14:16.946Z"
   },
   {
    "duration": 306,
    "start_time": "2022-08-29T07:20:20.573Z"
   },
   {
    "duration": 38,
    "start_time": "2022-08-29T07:20:24.354Z"
   },
   {
    "duration": 41,
    "start_time": "2022-08-29T07:20:49.766Z"
   },
   {
    "duration": 23,
    "start_time": "2022-08-29T07:21:11.033Z"
   },
   {
    "duration": 369,
    "start_time": "2022-08-29T07:21:13.565Z"
   },
   {
    "duration": 15,
    "start_time": "2022-08-29T07:24:28.586Z"
   },
   {
    "duration": 1096,
    "start_time": "2022-08-29T07:25:43.084Z"
   },
   {
    "duration": 105,
    "start_time": "2022-08-29T07:25:55.134Z"
   },
   {
    "duration": 142,
    "start_time": "2022-08-29T07:29:11.644Z"
   },
   {
    "duration": 133,
    "start_time": "2022-08-29T07:29:16.964Z"
   },
   {
    "duration": 127,
    "start_time": "2022-08-29T07:29:22.245Z"
   },
   {
    "duration": 153,
    "start_time": "2022-08-29T07:29:30.645Z"
   },
   {
    "duration": 159,
    "start_time": "2022-08-29T07:29:34.444Z"
   },
   {
    "duration": 246,
    "start_time": "2022-08-29T07:29:37.765Z"
   },
   {
    "duration": 140,
    "start_time": "2022-08-29T07:29:42.705Z"
   },
   {
    "duration": 175,
    "start_time": "2022-08-29T07:29:57.365Z"
   },
   {
    "duration": 124,
    "start_time": "2022-08-29T07:29:59.963Z"
   },
   {
    "duration": 123,
    "start_time": "2022-08-29T07:30:02.645Z"
   },
   {
    "duration": 118,
    "start_time": "2022-08-29T07:30:05.506Z"
   },
   {
    "duration": 125,
    "start_time": "2022-08-29T07:30:08.565Z"
   },
   {
    "duration": 121,
    "start_time": "2022-08-29T07:30:10.953Z"
   },
   {
    "duration": 114,
    "start_time": "2022-08-29T07:30:13.052Z"
   },
   {
    "duration": 125,
    "start_time": "2022-08-29T07:30:15.215Z"
   },
   {
    "duration": 111,
    "start_time": "2022-08-29T07:30:17.552Z"
   },
   {
    "duration": 128,
    "start_time": "2022-08-29T07:30:19.733Z"
   },
   {
    "duration": 135,
    "start_time": "2022-08-29T07:39:48.662Z"
   },
   {
    "duration": 6,
    "start_time": "2022-08-29T07:40:41.706Z"
   },
   {
    "duration": 5,
    "start_time": "2022-08-29T07:40:58.645Z"
   },
   {
    "duration": 4,
    "start_time": "2022-08-29T07:41:00.925Z"
   },
   {
    "duration": 13,
    "start_time": "2022-08-29T07:52:39.049Z"
   },
   {
    "duration": 215,
    "start_time": "2022-08-29T07:53:12.816Z"
   },
   {
    "duration": 137,
    "start_time": "2022-08-29T07:53:27.830Z"
   },
   {
    "duration": 149,
    "start_time": "2022-08-29T07:56:06.649Z"
   },
   {
    "duration": 149,
    "start_time": "2022-08-29T07:56:09.690Z"
   },
   {
    "duration": 147,
    "start_time": "2022-08-29T07:56:12.110Z"
   },
   {
    "duration": 156,
    "start_time": "2022-08-29T07:56:14.668Z"
   },
   {
    "duration": 150,
    "start_time": "2022-08-29T07:56:16.982Z"
   },
   {
    "duration": 169,
    "start_time": "2022-08-29T07:56:19.129Z"
   },
   {
    "duration": 153,
    "start_time": "2022-08-29T07:56:21.349Z"
   },
   {
    "duration": 15,
    "start_time": "2022-08-29T08:01:55.397Z"
   },
   {
    "duration": 139,
    "start_time": "2022-08-29T08:02:58.668Z"
   },
   {
    "duration": 90,
    "start_time": "2022-08-29T08:03:06.968Z"
   },
   {
    "duration": 38,
    "start_time": "2022-08-29T08:03:55.075Z"
   },
   {
    "duration": 16,
    "start_time": "2022-08-29T08:04:47.776Z"
   },
   {
    "duration": 178,
    "start_time": "2022-08-29T08:05:25.108Z"
   },
   {
    "duration": 12,
    "start_time": "2022-08-29T08:05:28.157Z"
   },
   {
    "duration": 14,
    "start_time": "2022-08-29T08:05:34.782Z"
   },
   {
    "duration": 15,
    "start_time": "2022-08-29T08:05:39.032Z"
   },
   {
    "duration": 8,
    "start_time": "2022-08-29T08:09:00.808Z"
   },
   {
    "duration": 5,
    "start_time": "2022-08-29T08:09:06.707Z"
   },
   {
    "duration": 49,
    "start_time": "2022-08-29T08:09:12.248Z"
   },
   {
    "duration": 9,
    "start_time": "2022-08-29T08:09:15.468Z"
   },
   {
    "duration": 16,
    "start_time": "2022-08-29T08:09:51.108Z"
   },
   {
    "duration": 10,
    "start_time": "2022-08-29T08:11:45.048Z"
   },
   {
    "duration": 10,
    "start_time": "2022-08-29T08:12:04.529Z"
   },
   {
    "duration": 9,
    "start_time": "2022-08-29T08:12:15.742Z"
   },
   {
    "duration": 7,
    "start_time": "2022-08-29T08:12:36.008Z"
   },
   {
    "duration": 9,
    "start_time": "2022-08-29T08:12:39.776Z"
   },
   {
    "duration": 6,
    "start_time": "2022-08-29T08:12:48.436Z"
   },
   {
    "duration": 5,
    "start_time": "2022-08-29T08:12:50.916Z"
   },
   {
    "duration": 138,
    "start_time": "2022-08-29T08:12:55.448Z"
   },
   {
    "duration": 10,
    "start_time": "2022-08-29T08:13:04.484Z"
   },
   {
    "duration": 5,
    "start_time": "2022-08-29T08:13:06.508Z"
   },
   {
    "duration": 6,
    "start_time": "2022-08-29T08:13:09.148Z"
   },
   {
    "duration": 16,
    "start_time": "2022-08-29T08:13:09.868Z"
   },
   {
    "duration": 2,
    "start_time": "2022-08-29T08:13:10.046Z"
   },
   {
    "duration": 5,
    "start_time": "2022-08-29T08:13:14.949Z"
   },
   {
    "duration": 7,
    "start_time": "2022-08-29T08:13:19.828Z"
   },
   {
    "duration": 8,
    "start_time": "2022-08-29T08:13:23.608Z"
   },
   {
    "duration": 8,
    "start_time": "2022-08-29T08:13:27.368Z"
   },
   {
    "duration": 8,
    "start_time": "2022-08-29T08:13:32.128Z"
   },
   {
    "duration": 10,
    "start_time": "2022-08-29T08:13:54.575Z"
   },
   {
    "duration": 17,
    "start_time": "2022-08-29T08:14:31.128Z"
   },
   {
    "duration": 16,
    "start_time": "2022-08-29T08:15:21.029Z"
   },
   {
    "duration": 7,
    "start_time": "2022-08-29T08:32:08.366Z"
   },
   {
    "duration": 5,
    "start_time": "2022-08-29T08:33:04.006Z"
   },
   {
    "duration": 6,
    "start_time": "2022-08-29T08:33:15.026Z"
   },
   {
    "duration": 1326,
    "start_time": "2022-08-29T11:47:38.730Z"
   },
   {
    "duration": 430,
    "start_time": "2022-08-29T11:48:26.404Z"
   },
   {
    "duration": 562,
    "start_time": "2022-08-29T11:52:06.853Z"
   },
   {
    "duration": 8,
    "start_time": "2022-08-29T11:52:13.743Z"
   },
   {
    "duration": 15,
    "start_time": "2022-08-29T11:52:16.912Z"
   },
   {
    "duration": 4,
    "start_time": "2022-08-29T11:52:17.334Z"
   },
   {
    "duration": 14,
    "start_time": "2022-08-29T11:52:17.995Z"
   },
   {
    "duration": 79,
    "start_time": "2022-08-29T11:52:21.572Z"
   },
   {
    "duration": 4,
    "start_time": "2022-08-29T11:52:21.763Z"
   },
   {
    "duration": 11,
    "start_time": "2022-08-29T11:52:25.573Z"
   },
   {
    "duration": 20,
    "start_time": "2022-08-29T11:52:25.822Z"
   },
   {
    "duration": 6,
    "start_time": "2022-08-29T11:52:32.283Z"
   },
   {
    "duration": 6,
    "start_time": "2022-08-29T11:52:35.472Z"
   },
   {
    "duration": 19,
    "start_time": "2022-08-29T11:52:39.506Z"
   },
   {
    "duration": 300,
    "start_time": "2022-08-29T11:52:40.063Z"
   },
   {
    "duration": 261,
    "start_time": "2022-08-29T11:53:00.473Z"
   },
   {
    "duration": 294,
    "start_time": "2022-08-29T11:53:08.153Z"
   },
   {
    "duration": 264,
    "start_time": "2022-08-29T11:53:17.143Z"
   },
   {
    "duration": 318,
    "start_time": "2022-08-29T11:53:37.776Z"
   },
   {
    "duration": 245,
    "start_time": "2022-08-29T11:54:08.614Z"
   },
   {
    "duration": 262,
    "start_time": "2022-08-29T11:54:44.924Z"
   },
   {
    "duration": 175,
    "start_time": "2022-08-29T11:55:48.636Z"
   },
   {
    "duration": 182,
    "start_time": "2022-08-29T11:57:06.597Z"
   },
   {
    "duration": 166,
    "start_time": "2022-08-29T11:57:45.630Z"
   },
   {
    "duration": 159,
    "start_time": "2022-08-29T11:57:59.481Z"
   },
   {
    "duration": 209,
    "start_time": "2022-08-29T11:58:03.825Z"
   },
   {
    "duration": 168,
    "start_time": "2022-08-29T11:59:21.559Z"
   },
   {
    "duration": 250,
    "start_time": "2022-08-29T11:59:28.895Z"
   },
   {
    "duration": 20,
    "start_time": "2022-08-29T12:00:37.679Z"
   },
   {
    "duration": 5,
    "start_time": "2022-08-29T12:01:08.950Z"
   },
   {
    "duration": 109,
    "start_time": "2022-08-29T12:01:12.904Z"
   },
   {
    "duration": 133,
    "start_time": "2022-08-29T12:01:22.056Z"
   },
   {
    "duration": 180,
    "start_time": "2022-08-29T12:01:45.325Z"
   },
   {
    "duration": 174,
    "start_time": "2022-08-29T12:01:50.884Z"
   },
   {
    "duration": 170,
    "start_time": "2022-08-29T12:01:56.171Z"
   },
   {
    "duration": 177,
    "start_time": "2022-08-29T12:10:39.235Z"
   },
   {
    "duration": 170,
    "start_time": "2022-08-29T12:10:43.821Z"
   },
   {
    "duration": 163,
    "start_time": "2022-08-29T12:10:53.494Z"
   },
   {
    "duration": 189,
    "start_time": "2022-08-29T12:11:31.552Z"
   },
   {
    "duration": 27,
    "start_time": "2022-08-29T12:14:42.974Z"
   },
   {
    "duration": 22,
    "start_time": "2022-08-29T12:16:29.446Z"
   },
   {
    "duration": 15,
    "start_time": "2022-08-29T12:18:18.544Z"
   },
   {
    "duration": 105,
    "start_time": "2022-08-29T12:18:46.013Z"
   },
   {
    "duration": 14,
    "start_time": "2022-08-29T12:18:56.872Z"
   },
   {
    "duration": 15,
    "start_time": "2022-08-29T12:22:40.092Z"
   },
   {
    "duration": 17,
    "start_time": "2022-08-29T12:22:51.138Z"
   },
   {
    "duration": 16,
    "start_time": "2022-08-29T12:48:19.788Z"
   },
   {
    "duration": 18,
    "start_time": "2022-08-29T12:49:13.549Z"
   },
   {
    "duration": 18,
    "start_time": "2022-08-29T12:49:32.349Z"
   },
   {
    "duration": 84,
    "start_time": "2022-08-29T12:49:49.742Z"
   },
   {
    "duration": 23,
    "start_time": "2022-08-29T12:50:01.340Z"
   },
   {
    "duration": 22,
    "start_time": "2022-08-29T12:50:11.887Z"
   },
   {
    "duration": 15,
    "start_time": "2022-08-29T12:50:21.489Z"
   },
   {
    "duration": 28,
    "start_time": "2022-08-29T12:50:24.017Z"
   },
   {
    "duration": 158,
    "start_time": "2022-08-29T12:52:18.999Z"
   },
   {
    "duration": 85,
    "start_time": "2022-08-29T16:48:01.060Z"
   },
   {
    "duration": 1990,
    "start_time": "2022-08-29T16:48:10.685Z"
   },
   {
    "duration": 20,
    "start_time": "2022-08-29T16:48:19.244Z"
   },
   {
    "duration": 31,
    "start_time": "2022-08-29T16:48:21.096Z"
   },
   {
    "duration": 5,
    "start_time": "2022-08-29T16:48:21.545Z"
   },
   {
    "duration": 26,
    "start_time": "2022-08-29T16:48:21.923Z"
   },
   {
    "duration": 158,
    "start_time": "2022-08-29T16:48:24.085Z"
   },
   {
    "duration": 6,
    "start_time": "2022-08-29T16:48:24.264Z"
   },
   {
    "duration": 24,
    "start_time": "2022-08-29T16:48:27.513Z"
   },
   {
    "duration": 33,
    "start_time": "2022-08-29T16:48:27.614Z"
   },
   {
    "duration": 8,
    "start_time": "2022-08-29T16:48:30.955Z"
   },
   {
    "duration": 40,
    "start_time": "2022-08-29T16:48:33.987Z"
   },
   {
    "duration": 532,
    "start_time": "2022-08-29T16:48:36.569Z"
   },
   {
    "duration": 214,
    "start_time": "2022-08-29T16:49:11.130Z"
   },
   {
    "duration": 210,
    "start_time": "2022-08-29T16:49:37.128Z"
   },
   {
    "duration": 7,
    "start_time": "2022-08-29T16:50:28.455Z"
   },
   {
    "duration": 47,
    "start_time": "2022-08-29T19:04:21.385Z"
   },
   {
    "duration": 1525,
    "start_time": "2022-08-29T19:51:44.274Z"
   },
   {
    "duration": 39,
    "start_time": "2022-08-29T19:51:45.802Z"
   },
   {
    "duration": 40,
    "start_time": "2022-08-29T19:51:45.843Z"
   },
   {
    "duration": 3,
    "start_time": "2022-08-29T19:51:45.885Z"
   },
   {
    "duration": 104,
    "start_time": "2022-08-29T19:51:45.891Z"
   },
   {
    "duration": 0,
    "start_time": "2022-08-29T19:51:45.998Z"
   },
   {
    "duration": 0,
    "start_time": "2022-08-29T19:51:45.999Z"
   },
   {
    "duration": 0,
    "start_time": "2022-08-29T19:51:46.001Z"
   },
   {
    "duration": 0,
    "start_time": "2022-08-29T19:51:46.002Z"
   },
   {
    "duration": 0,
    "start_time": "2022-08-29T19:51:46.003Z"
   },
   {
    "duration": 0,
    "start_time": "2022-08-29T19:51:46.005Z"
   },
   {
    "duration": 0,
    "start_time": "2022-08-29T19:51:46.006Z"
   },
   {
    "duration": 0,
    "start_time": "2022-08-29T19:51:46.007Z"
   },
   {
    "duration": 0,
    "start_time": "2022-08-29T19:51:46.009Z"
   },
   {
    "duration": 0,
    "start_time": "2022-08-29T19:51:46.010Z"
   },
   {
    "duration": 0,
    "start_time": "2022-08-29T19:51:46.011Z"
   },
   {
    "duration": 0,
    "start_time": "2022-08-29T19:51:46.012Z"
   },
   {
    "duration": 0,
    "start_time": "2022-08-29T19:51:46.012Z"
   },
   {
    "duration": 0,
    "start_time": "2022-08-29T19:51:46.032Z"
   },
   {
    "duration": 0,
    "start_time": "2022-08-29T19:51:46.033Z"
   },
   {
    "duration": 0,
    "start_time": "2022-08-29T19:51:46.035Z"
   },
   {
    "duration": 0,
    "start_time": "2022-08-29T19:51:46.036Z"
   },
   {
    "duration": 0,
    "start_time": "2022-08-29T19:51:46.037Z"
   },
   {
    "duration": 0,
    "start_time": "2022-08-29T19:51:46.038Z"
   },
   {
    "duration": 0,
    "start_time": "2022-08-29T19:51:46.038Z"
   },
   {
    "duration": 0,
    "start_time": "2022-08-29T19:51:46.039Z"
   },
   {
    "duration": 0,
    "start_time": "2022-08-29T19:51:46.039Z"
   },
   {
    "duration": 0,
    "start_time": "2022-08-29T19:51:46.040Z"
   },
   {
    "duration": 0,
    "start_time": "2022-08-29T19:51:46.040Z"
   },
   {
    "duration": 0,
    "start_time": "2022-08-29T19:51:46.041Z"
   },
   {
    "duration": 0,
    "start_time": "2022-08-29T19:51:46.041Z"
   },
   {
    "duration": 0,
    "start_time": "2022-08-29T19:51:46.042Z"
   },
   {
    "duration": 0,
    "start_time": "2022-08-29T19:51:46.043Z"
   },
   {
    "duration": 0,
    "start_time": "2022-08-29T19:51:46.043Z"
   },
   {
    "duration": 0,
    "start_time": "2022-08-29T19:51:46.044Z"
   },
   {
    "duration": 0,
    "start_time": "2022-08-29T19:51:46.044Z"
   },
   {
    "duration": 0,
    "start_time": "2022-08-29T19:51:46.045Z"
   },
   {
    "duration": 0,
    "start_time": "2022-08-29T19:51:46.045Z"
   },
   {
    "duration": 0,
    "start_time": "2022-08-29T19:51:46.046Z"
   },
   {
    "duration": 0,
    "start_time": "2022-08-29T19:51:46.046Z"
   },
   {
    "duration": 0,
    "start_time": "2022-08-29T19:51:46.047Z"
   },
   {
    "duration": 0,
    "start_time": "2022-08-29T19:51:46.048Z"
   },
   {
    "duration": 0,
    "start_time": "2022-08-29T19:51:46.048Z"
   },
   {
    "duration": 0,
    "start_time": "2022-08-29T19:51:46.050Z"
   },
   {
    "duration": 0,
    "start_time": "2022-08-29T19:51:46.053Z"
   },
   {
    "duration": 0,
    "start_time": "2022-08-29T19:51:46.054Z"
   },
   {
    "duration": 0,
    "start_time": "2022-08-29T19:51:46.055Z"
   },
   {
    "duration": 0,
    "start_time": "2022-08-29T19:51:46.055Z"
   },
   {
    "duration": 0,
    "start_time": "2022-08-29T19:51:46.057Z"
   },
   {
    "duration": 0,
    "start_time": "2022-08-29T19:51:46.058Z"
   },
   {
    "duration": 0,
    "start_time": "2022-08-29T19:51:46.059Z"
   },
   {
    "duration": 0,
    "start_time": "2022-08-29T19:51:46.061Z"
   },
   {
    "duration": 0,
    "start_time": "2022-08-29T19:51:46.062Z"
   },
   {
    "duration": 0,
    "start_time": "2022-08-29T19:51:46.063Z"
   },
   {
    "duration": 2030,
    "start_time": "2022-08-29T19:59:58.916Z"
   },
   {
    "duration": 15,
    "start_time": "2022-08-29T20:00:00.949Z"
   },
   {
    "duration": 17,
    "start_time": "2022-08-29T20:00:00.965Z"
   },
   {
    "duration": 23,
    "start_time": "2022-08-29T20:00:00.984Z"
   },
   {
    "duration": 177,
    "start_time": "2022-08-29T20:00:02.075Z"
   },
   {
    "duration": 2522,
    "start_time": "2022-08-29T20:09:45.387Z"
   },
   {
    "duration": 24,
    "start_time": "2022-08-29T20:09:47.912Z"
   },
   {
    "duration": 11,
    "start_time": "2022-08-29T20:09:47.945Z"
   },
   {
    "duration": 3,
    "start_time": "2022-08-29T20:09:47.958Z"
   },
   {
    "duration": 185,
    "start_time": "2022-08-29T20:09:47.962Z"
   },
   {
    "duration": 11,
    "start_time": "2022-08-29T20:09:48.149Z"
   },
   {
    "duration": 5,
    "start_time": "2022-08-29T20:09:48.161Z"
   },
   {
    "duration": 6,
    "start_time": "2022-08-29T20:09:48.167Z"
   },
   {
    "duration": 6,
    "start_time": "2022-08-29T20:09:48.174Z"
   },
   {
    "duration": 3,
    "start_time": "2022-08-29T20:09:48.182Z"
   },
   {
    "duration": 13,
    "start_time": "2022-08-29T20:09:48.187Z"
   },
   {
    "duration": 17,
    "start_time": "2022-08-29T20:09:48.230Z"
   },
   {
    "duration": 13,
    "start_time": "2022-08-29T20:09:48.248Z"
   },
   {
    "duration": 5,
    "start_time": "2022-08-29T20:09:48.263Z"
   },
   {
    "duration": 6,
    "start_time": "2022-08-29T20:09:48.270Z"
   },
   {
    "duration": 13,
    "start_time": "2022-08-29T20:09:48.277Z"
   },
   {
    "duration": 67,
    "start_time": "2022-08-29T20:09:48.291Z"
   },
   {
    "duration": 26,
    "start_time": "2022-08-29T20:09:48.359Z"
   },
   {
    "duration": 6,
    "start_time": "2022-08-29T20:09:48.386Z"
   },
   {
    "duration": 42,
    "start_time": "2022-08-29T20:09:48.394Z"
   },
   {
    "duration": 14,
    "start_time": "2022-08-29T20:09:48.438Z"
   },
   {
    "duration": 23,
    "start_time": "2022-08-29T20:09:48.454Z"
   },
   {
    "duration": 391,
    "start_time": "2022-08-29T20:09:48.478Z"
   },
   {
    "duration": 285,
    "start_time": "2022-08-29T20:09:48.871Z"
   },
   {
    "duration": 576,
    "start_time": "2022-08-29T20:09:49.158Z"
   },
   {
    "duration": 408,
    "start_time": "2022-08-29T20:09:49.736Z"
   },
   {
    "duration": 538,
    "start_time": "2022-08-29T20:09:50.146Z"
   },
   {
    "duration": 253,
    "start_time": "2022-08-29T20:09:50.687Z"
   },
   {
    "duration": 331,
    "start_time": "2022-08-29T20:09:50.942Z"
   },
   {
    "duration": 328,
    "start_time": "2022-08-29T20:09:51.275Z"
   },
   {
    "duration": 116,
    "start_time": "2022-08-29T20:09:51.604Z"
   },
   {
    "duration": 185,
    "start_time": "2022-08-29T20:09:51.721Z"
   },
   {
    "duration": 184,
    "start_time": "2022-08-29T20:09:51.907Z"
   },
   {
    "duration": 255,
    "start_time": "2022-08-29T20:09:52.092Z"
   },
   {
    "duration": 190,
    "start_time": "2022-08-29T20:09:52.349Z"
   },
   {
    "duration": 193,
    "start_time": "2022-08-29T20:09:52.540Z"
   },
   {
    "duration": 167,
    "start_time": "2022-08-29T20:09:52.734Z"
   },
   {
    "duration": 197,
    "start_time": "2022-08-29T20:09:52.903Z"
   },
   {
    "duration": 4,
    "start_time": "2022-08-29T20:09:53.102Z"
   },
   {
    "duration": 7,
    "start_time": "2022-08-29T20:09:53.107Z"
   },
   {
    "duration": 35,
    "start_time": "2022-08-29T20:09:53.115Z"
   },
   {
    "duration": 147,
    "start_time": "2022-08-29T20:09:53.151Z"
   },
   {
    "duration": 164,
    "start_time": "2022-08-29T20:09:53.299Z"
   },
   {
    "duration": 148,
    "start_time": "2022-08-29T20:09:53.465Z"
   },
   {
    "duration": 5,
    "start_time": "2022-08-29T20:09:53.614Z"
   },
   {
    "duration": 152,
    "start_time": "2022-08-29T20:09:53.636Z"
   },
   {
    "duration": 157,
    "start_time": "2022-08-29T20:09:53.790Z"
   },
   {
    "duration": 151,
    "start_time": "2022-08-29T20:09:53.948Z"
   },
   {
    "duration": 244,
    "start_time": "2022-08-29T20:09:54.101Z"
   },
   {
    "duration": 149,
    "start_time": "2022-08-29T20:09:54.347Z"
   },
   {
    "duration": 23,
    "start_time": "2022-08-29T20:09:54.497Z"
   },
   {
    "duration": 14,
    "start_time": "2022-08-29T20:09:54.542Z"
   },
   {
    "duration": 3,
    "start_time": "2022-08-29T20:09:54.558Z"
   },
   {
    "duration": 84,
    "start_time": "2022-08-29T20:09:54.562Z"
   },
   {
    "duration": 14,
    "start_time": "2022-08-29T21:29:13.742Z"
   },
   {
    "duration": 9,
    "start_time": "2022-08-29T21:30:53.002Z"
   },
   {
    "duration": 8,
    "start_time": "2022-08-29T21:32:51.677Z"
   },
   {
    "duration": 45,
    "start_time": "2022-08-29T21:32:55.902Z"
   },
   {
    "duration": 20,
    "start_time": "2022-08-29T21:33:06.823Z"
   },
   {
    "duration": 5,
    "start_time": "2022-08-29T21:34:58.795Z"
   },
   {
    "duration": 19,
    "start_time": "2022-08-29T21:40:03.846Z"
   },
   {
    "duration": 13,
    "start_time": "2022-08-29T21:40:52.135Z"
   },
   {
    "duration": 36,
    "start_time": "2022-08-29T21:40:56.320Z"
   },
   {
    "duration": 7,
    "start_time": "2022-08-29T21:41:02.959Z"
   },
   {
    "duration": 652,
    "start_time": "2022-08-29T21:41:05.927Z"
   },
   {
    "duration": 5,
    "start_time": "2022-08-29T21:41:27.425Z"
   },
   {
    "duration": 152,
    "start_time": "2022-08-29T21:42:01.242Z"
   },
   {
    "duration": 8,
    "start_time": "2022-08-29T21:42:12.987Z"
   },
   {
    "duration": 7,
    "start_time": "2022-08-29T21:51:57.177Z"
   },
   {
    "duration": 4,
    "start_time": "2022-08-29T21:51:58.992Z"
   },
   {
    "duration": 151,
    "start_time": "2022-08-29T21:51:59.559Z"
   },
   {
    "duration": 2358,
    "start_time": "2022-08-29T21:53:15.875Z"
   },
   {
    "duration": 8,
    "start_time": "2022-08-29T21:53:18.235Z"
   },
   {
    "duration": 4,
    "start_time": "2022-08-29T21:53:18.244Z"
   },
   {
    "duration": 207,
    "start_time": "2022-08-29T21:53:18.250Z"
   },
   {
    "duration": 2,
    "start_time": "2022-08-29T21:53:18.459Z"
   },
   {
    "duration": 161,
    "start_time": "2022-08-29T21:53:18.462Z"
   },
   {
    "duration": 11,
    "start_time": "2022-08-29T21:53:18.625Z"
   },
   {
    "duration": 5,
    "start_time": "2022-08-29T21:53:18.638Z"
   },
   {
    "duration": 5,
    "start_time": "2022-08-29T21:53:18.645Z"
   },
   {
    "duration": 15,
    "start_time": "2022-08-29T21:53:18.653Z"
   },
   {
    "duration": 7,
    "start_time": "2022-08-29T21:53:18.669Z"
   },
   {
    "duration": 99,
    "start_time": "2022-08-29T21:53:18.678Z"
   },
   {
    "duration": 0,
    "start_time": "2022-08-29T21:53:18.780Z"
   },
   {
    "duration": 0,
    "start_time": "2022-08-29T21:53:18.781Z"
   },
   {
    "duration": 0,
    "start_time": "2022-08-29T21:53:18.783Z"
   },
   {
    "duration": 0,
    "start_time": "2022-08-29T21:53:18.784Z"
   },
   {
    "duration": 0,
    "start_time": "2022-08-29T21:53:18.785Z"
   },
   {
    "duration": 0,
    "start_time": "2022-08-29T21:53:18.787Z"
   },
   {
    "duration": 0,
    "start_time": "2022-08-29T21:53:18.788Z"
   },
   {
    "duration": 0,
    "start_time": "2022-08-29T21:53:18.789Z"
   },
   {
    "duration": 0,
    "start_time": "2022-08-29T21:53:18.791Z"
   },
   {
    "duration": 0,
    "start_time": "2022-08-29T21:53:18.792Z"
   },
   {
    "duration": 0,
    "start_time": "2022-08-29T21:53:18.793Z"
   },
   {
    "duration": 0,
    "start_time": "2022-08-29T21:53:18.795Z"
   },
   {
    "duration": 0,
    "start_time": "2022-08-29T21:53:18.796Z"
   },
   {
    "duration": 0,
    "start_time": "2022-08-29T21:53:18.797Z"
   },
   {
    "duration": 0,
    "start_time": "2022-08-29T21:53:18.799Z"
   },
   {
    "duration": 0,
    "start_time": "2022-08-29T21:53:18.800Z"
   },
   {
    "duration": 0,
    "start_time": "2022-08-29T21:53:18.801Z"
   },
   {
    "duration": 0,
    "start_time": "2022-08-29T21:53:18.802Z"
   },
   {
    "duration": 0,
    "start_time": "2022-08-29T21:53:18.804Z"
   },
   {
    "duration": 0,
    "start_time": "2022-08-29T21:53:18.805Z"
   },
   {
    "duration": 0,
    "start_time": "2022-08-29T21:53:18.807Z"
   },
   {
    "duration": 0,
    "start_time": "2022-08-29T21:53:18.808Z"
   },
   {
    "duration": 0,
    "start_time": "2022-08-29T21:53:18.810Z"
   },
   {
    "duration": 0,
    "start_time": "2022-08-29T21:53:18.811Z"
   },
   {
    "duration": 0,
    "start_time": "2022-08-29T21:53:18.813Z"
   },
   {
    "duration": 0,
    "start_time": "2022-08-29T21:53:18.814Z"
   },
   {
    "duration": 0,
    "start_time": "2022-08-29T21:53:18.816Z"
   },
   {
    "duration": 0,
    "start_time": "2022-08-29T21:53:18.830Z"
   },
   {
    "duration": 1,
    "start_time": "2022-08-29T21:53:18.831Z"
   },
   {
    "duration": 0,
    "start_time": "2022-08-29T21:53:18.833Z"
   },
   {
    "duration": 0,
    "start_time": "2022-08-29T21:53:18.834Z"
   },
   {
    "duration": 0,
    "start_time": "2022-08-29T21:53:18.834Z"
   },
   {
    "duration": 1,
    "start_time": "2022-08-29T21:53:18.835Z"
   },
   {
    "duration": 0,
    "start_time": "2022-08-29T21:53:18.836Z"
   },
   {
    "duration": 0,
    "start_time": "2022-08-29T21:53:18.837Z"
   },
   {
    "duration": 0,
    "start_time": "2022-08-29T21:53:18.838Z"
   },
   {
    "duration": 0,
    "start_time": "2022-08-29T21:53:18.839Z"
   },
   {
    "duration": 0,
    "start_time": "2022-08-29T21:53:18.840Z"
   },
   {
    "duration": 0,
    "start_time": "2022-08-29T21:53:18.841Z"
   },
   {
    "duration": 0,
    "start_time": "2022-08-29T21:53:18.842Z"
   },
   {
    "duration": 0,
    "start_time": "2022-08-29T21:53:18.843Z"
   },
   {
    "duration": 0,
    "start_time": "2022-08-29T21:53:18.843Z"
   },
   {
    "duration": 0,
    "start_time": "2022-08-29T21:53:18.844Z"
   },
   {
    "duration": 0,
    "start_time": "2022-08-29T21:53:18.845Z"
   },
   {
    "duration": 0,
    "start_time": "2022-08-29T21:53:18.846Z"
   },
   {
    "duration": 0,
    "start_time": "2022-08-29T21:53:18.847Z"
   },
   {
    "duration": 0,
    "start_time": "2022-08-29T21:53:18.848Z"
   },
   {
    "duration": 0,
    "start_time": "2022-08-29T21:53:18.849Z"
   },
   {
    "duration": 0,
    "start_time": "2022-08-29T21:53:18.850Z"
   },
   {
    "duration": 6,
    "start_time": "2022-08-29T21:53:52.658Z"
   },
   {
    "duration": 4,
    "start_time": "2022-08-29T21:53:58.895Z"
   },
   {
    "duration": 2369,
    "start_time": "2022-08-29T21:55:47.397Z"
   },
   {
    "duration": 9,
    "start_time": "2022-08-29T21:55:49.767Z"
   },
   {
    "duration": 4,
    "start_time": "2022-08-29T21:55:49.779Z"
   },
   {
    "duration": 200,
    "start_time": "2022-08-29T21:55:49.785Z"
   },
   {
    "duration": 2,
    "start_time": "2022-08-29T21:55:49.986Z"
   },
   {
    "duration": 164,
    "start_time": "2022-08-29T21:55:49.990Z"
   },
   {
    "duration": 9,
    "start_time": "2022-08-29T21:55:50.156Z"
   },
   {
    "duration": 4,
    "start_time": "2022-08-29T21:55:50.166Z"
   },
   {
    "duration": 5,
    "start_time": "2022-08-29T21:55:50.172Z"
   },
   {
    "duration": 6,
    "start_time": "2022-08-29T21:55:50.179Z"
   },
   {
    "duration": 3,
    "start_time": "2022-08-29T21:55:50.186Z"
   },
   {
    "duration": 43,
    "start_time": "2022-08-29T21:55:50.191Z"
   },
   {
    "duration": 12,
    "start_time": "2022-08-29T21:55:50.236Z"
   },
   {
    "duration": 11,
    "start_time": "2022-08-29T21:55:50.250Z"
   },
   {
    "duration": 11,
    "start_time": "2022-08-29T21:55:50.262Z"
   },
   {
    "duration": 4,
    "start_time": "2022-08-29T21:55:50.274Z"
   },
   {
    "duration": 8,
    "start_time": "2022-08-29T21:55:50.279Z"
   },
   {
    "duration": 15,
    "start_time": "2022-08-29T21:55:50.288Z"
   },
   {
    "duration": 21,
    "start_time": "2022-08-29T21:55:50.331Z"
   },
   {
    "duration": 8,
    "start_time": "2022-08-29T21:55:50.353Z"
   },
   {
    "duration": 23,
    "start_time": "2022-08-29T21:55:50.362Z"
   },
   {
    "duration": 5,
    "start_time": "2022-08-29T21:55:50.386Z"
   },
   {
    "duration": 5,
    "start_time": "2022-08-29T21:55:50.393Z"
   },
   {
    "duration": 33,
    "start_time": "2022-08-29T21:55:50.400Z"
   },
   {
    "duration": 46,
    "start_time": "2022-08-29T21:55:50.435Z"
   },
   {
    "duration": 8,
    "start_time": "2022-08-29T21:55:50.482Z"
   },
   {
    "duration": 46,
    "start_time": "2022-08-29T21:55:50.491Z"
   },
   {
    "duration": 265,
    "start_time": "2022-08-29T21:55:50.538Z"
   },
   {
    "duration": 322,
    "start_time": "2022-08-29T21:55:50.805Z"
   },
   {
    "duration": 277,
    "start_time": "2022-08-29T21:55:51.131Z"
   },
   {
    "duration": 174,
    "start_time": "2022-08-29T21:55:51.409Z"
   },
   {
    "duration": 261,
    "start_time": "2022-08-29T21:55:51.585Z"
   },
   {
    "duration": 172,
    "start_time": "2022-08-29T21:55:51.847Z"
   },
   {
    "duration": 170,
    "start_time": "2022-08-29T21:55:52.020Z"
   },
   {
    "duration": 178,
    "start_time": "2022-08-29T21:55:52.192Z"
   },
   {
    "duration": 121,
    "start_time": "2022-08-29T21:55:52.372Z"
   },
   {
    "duration": 171,
    "start_time": "2022-08-29T21:55:52.494Z"
   },
   {
    "duration": 227,
    "start_time": "2022-08-29T21:55:52.667Z"
   },
   {
    "duration": 168,
    "start_time": "2022-08-29T21:55:52.896Z"
   },
   {
    "duration": 175,
    "start_time": "2022-08-29T21:55:53.067Z"
   },
   {
    "duration": 179,
    "start_time": "2022-08-29T21:55:53.243Z"
   },
   {
    "duration": 156,
    "start_time": "2022-08-29T21:55:53.424Z"
   },
   {
    "duration": 178,
    "start_time": "2022-08-29T21:55:53.581Z"
   },
   {
    "duration": 4,
    "start_time": "2022-08-29T21:55:53.761Z"
   },
   {
    "duration": 20,
    "start_time": "2022-08-29T21:55:53.766Z"
   },
   {
    "duration": 27,
    "start_time": "2022-08-29T21:55:53.787Z"
   },
   {
    "duration": 132,
    "start_time": "2022-08-29T21:55:53.815Z"
   },
   {
    "duration": 151,
    "start_time": "2022-08-29T21:55:53.948Z"
   },
   {
    "duration": 136,
    "start_time": "2022-08-29T21:55:54.101Z"
   },
   {
    "duration": 4,
    "start_time": "2022-08-29T21:55:54.239Z"
   },
   {
    "duration": 146,
    "start_time": "2022-08-29T21:55:54.245Z"
   },
   {
    "duration": 138,
    "start_time": "2022-08-29T21:55:54.393Z"
   },
   {
    "duration": 230,
    "start_time": "2022-08-29T21:55:54.532Z"
   },
   {
    "duration": 142,
    "start_time": "2022-08-29T21:55:54.763Z"
   },
   {
    "duration": 149,
    "start_time": "2022-08-29T21:55:54.907Z"
   },
   {
    "duration": 22,
    "start_time": "2022-08-29T21:55:55.057Z"
   },
   {
    "duration": 12,
    "start_time": "2022-08-29T21:55:55.080Z"
   },
   {
    "duration": 2,
    "start_time": "2022-08-29T21:55:55.093Z"
   },
   {
    "duration": 90,
    "start_time": "2022-08-29T21:55:55.097Z"
   },
   {
    "duration": 0,
    "start_time": "2022-08-29T21:55:55.188Z"
   },
   {
    "duration": 340,
    "start_time": "2022-08-30T08:10:35.569Z"
   },
   {
    "duration": 2292,
    "start_time": "2022-08-30T08:10:37.642Z"
   },
   {
    "duration": 5,
    "start_time": "2022-08-30T08:11:10.873Z"
   },
   {
    "duration": 5,
    "start_time": "2022-08-30T08:12:33.016Z"
   },
   {
    "duration": 6,
    "start_time": "2022-08-30T08:13:36.024Z"
   },
   {
    "duration": 63,
    "start_time": "2022-08-30T08:15:05.316Z"
   },
   {
    "duration": 1496,
    "start_time": "2022-08-30T08:15:59.435Z"
   },
   {
    "duration": 8,
    "start_time": "2022-08-30T08:16:20.435Z"
   },
   {
    "duration": 6,
    "start_time": "2022-08-30T08:17:49.589Z"
   },
   {
    "duration": 7,
    "start_time": "2022-08-30T08:17:56.475Z"
   },
   {
    "duration": 3,
    "start_time": "2022-08-30T08:18:24.855Z"
   },
   {
    "duration": 6,
    "start_time": "2022-08-30T08:18:49.158Z"
   },
   {
    "duration": 5,
    "start_time": "2022-08-30T08:19:02.948Z"
   },
   {
    "duration": 12,
    "start_time": "2022-08-30T08:21:27.274Z"
   },
   {
    "duration": 10,
    "start_time": "2022-08-30T08:22:33.883Z"
   },
   {
    "duration": 6,
    "start_time": "2022-08-30T08:23:24.054Z"
   },
   {
    "duration": 12,
    "start_time": "2022-08-30T08:23:37.361Z"
   },
   {
    "duration": 20,
    "start_time": "2022-08-30T08:25:32.187Z"
   },
   {
    "duration": 5,
    "start_time": "2022-08-30T08:25:54.234Z"
   },
   {
    "duration": 7,
    "start_time": "2022-08-30T08:25:57.763Z"
   },
   {
    "duration": 6,
    "start_time": "2022-08-30T08:27:37.093Z"
   },
   {
    "duration": 5,
    "start_time": "2022-08-30T08:27:39.856Z"
   },
   {
    "duration": 5,
    "start_time": "2022-08-30T08:27:49.863Z"
   },
   {
    "duration": 5,
    "start_time": "2022-08-30T08:27:52.920Z"
   },
   {
    "duration": 6,
    "start_time": "2022-08-30T08:28:02.860Z"
   },
   {
    "duration": 6,
    "start_time": "2022-08-30T08:28:05.594Z"
   },
   {
    "duration": 6,
    "start_time": "2022-08-30T08:28:16.142Z"
   },
   {
    "duration": 47,
    "start_time": "2022-08-30T08:28:23.853Z"
   },
   {
    "duration": 104,
    "start_time": "2022-08-30T08:32:14.185Z"
   },
   {
    "duration": 9,
    "start_time": "2022-08-30T08:32:23.043Z"
   },
   {
    "duration": 3,
    "start_time": "2022-08-30T08:33:55.932Z"
   },
   {
    "duration": 8,
    "start_time": "2022-08-30T08:34:16.692Z"
   },
   {
    "duration": 7,
    "start_time": "2022-08-30T08:34:20.346Z"
   },
   {
    "duration": 10,
    "start_time": "2022-08-30T08:35:06.195Z"
   },
   {
    "duration": 0,
    "start_time": "2022-08-30T08:35:26.942Z"
   },
   {
    "duration": 5462,
    "start_time": "2022-08-30T08:35:31.299Z"
   },
   {
    "duration": 8,
    "start_time": "2022-08-30T08:35:36.974Z"
   },
   {
    "duration": 8,
    "start_time": "2022-08-30T08:35:56.932Z"
   },
   {
    "duration": 7,
    "start_time": "2022-08-30T08:41:14.671Z"
   },
   {
    "duration": 14,
    "start_time": "2022-08-30T08:42:24.331Z"
   },
   {
    "duration": 7,
    "start_time": "2022-08-30T08:43:00.351Z"
   },
   {
    "duration": 14,
    "start_time": "2022-08-30T08:43:06.291Z"
   },
   {
    "duration": 18,
    "start_time": "2022-08-30T08:43:41.399Z"
   },
   {
    "duration": 6,
    "start_time": "2022-08-30T08:43:52.966Z"
   },
   {
    "duration": 16,
    "start_time": "2022-08-30T08:43:55.853Z"
   },
   {
    "duration": 6,
    "start_time": "2022-08-30T08:44:08.176Z"
   },
   {
    "duration": 15,
    "start_time": "2022-08-30T08:44:10.691Z"
   },
   {
    "duration": 12,
    "start_time": "2022-08-30T08:45:12.250Z"
   },
   {
    "duration": 7,
    "start_time": "2022-08-30T08:45:49.751Z"
   },
   {
    "duration": 16,
    "start_time": "2022-08-30T08:45:53.113Z"
   },
   {
    "duration": 8,
    "start_time": "2022-08-30T08:46:40.855Z"
   },
   {
    "duration": 7,
    "start_time": "2022-08-30T08:47:08.030Z"
   },
   {
    "duration": 16,
    "start_time": "2022-08-30T08:47:12.011Z"
   },
   {
    "duration": 9,
    "start_time": "2022-08-30T08:49:08.571Z"
   },
   {
    "duration": 9,
    "start_time": "2022-08-30T08:50:19.314Z"
   },
   {
    "duration": 118,
    "start_time": "2022-08-30T08:50:36.637Z"
   },
   {
    "duration": 138,
    "start_time": "2022-08-30T08:50:50.049Z"
   },
   {
    "duration": 108,
    "start_time": "2022-08-30T08:50:55.389Z"
   },
   {
    "duration": 127,
    "start_time": "2022-08-30T08:51:18.749Z"
   },
   {
    "duration": 6,
    "start_time": "2022-08-30T08:51:23.289Z"
   },
   {
    "duration": 9,
    "start_time": "2022-08-30T08:51:41.741Z"
   },
   {
    "duration": 97,
    "start_time": "2022-08-30T08:53:46.557Z"
   },
   {
    "duration": 68,
    "start_time": "2022-08-30T08:54:25.350Z"
   },
   {
    "duration": 22,
    "start_time": "2022-08-30T08:54:29.404Z"
   },
   {
    "duration": 285,
    "start_time": "2022-08-30T08:54:48.208Z"
   },
   {
    "duration": 176,
    "start_time": "2022-08-30T08:55:05.623Z"
   },
   {
    "duration": 266,
    "start_time": "2022-08-30T08:55:14.815Z"
   },
   {
    "duration": 281,
    "start_time": "2022-08-30T08:55:20.028Z"
   },
   {
    "duration": 1225,
    "start_time": "2022-08-30T09:04:03.268Z"
   },
   {
    "duration": 1398,
    "start_time": "2022-08-30T09:04:23.106Z"
   },
   {
    "duration": 16,
    "start_time": "2022-08-30T09:04:32.986Z"
   },
   {
    "duration": 226,
    "start_time": "2022-08-30T09:04:49.995Z"
   },
   {
    "duration": 133,
    "start_time": "2022-08-30T09:05:17.886Z"
   },
   {
    "duration": 130,
    "start_time": "2022-08-30T09:05:51.990Z"
   },
   {
    "duration": 139,
    "start_time": "2022-08-30T09:06:39.806Z"
   },
   {
    "duration": 13,
    "start_time": "2022-08-30T09:08:13.945Z"
   },
   {
    "duration": 268,
    "start_time": "2022-08-30T09:09:05.948Z"
   },
   {
    "duration": 12,
    "start_time": "2022-08-30T09:09:15.945Z"
   },
   {
    "duration": 504,
    "start_time": "2022-08-30T09:09:24.668Z"
   },
   {
    "duration": 170,
    "start_time": "2022-08-30T09:09:49.125Z"
   },
   {
    "duration": 125,
    "start_time": "2022-08-30T09:10:23.684Z"
   },
   {
    "duration": 154,
    "start_time": "2022-08-30T09:10:37.184Z"
   },
   {
    "duration": 19,
    "start_time": "2022-08-30T09:11:25.485Z"
   },
   {
    "duration": 218,
    "start_time": "2022-08-30T09:12:24.378Z"
   },
   {
    "duration": 143,
    "start_time": "2022-08-30T09:12:49.026Z"
   },
   {
    "duration": 159,
    "start_time": "2022-08-30T09:13:10.455Z"
   },
   {
    "duration": 130,
    "start_time": "2022-08-30T09:15:01.788Z"
   },
   {
    "duration": 171,
    "start_time": "2022-08-30T09:15:20.324Z"
   },
   {
    "duration": 113,
    "start_time": "2022-08-30T09:15:58.707Z"
   },
   {
    "duration": 102,
    "start_time": "2022-08-30T09:16:10.877Z"
   },
   {
    "duration": 113,
    "start_time": "2022-08-30T09:16:16.065Z"
   },
   {
    "duration": 48,
    "start_time": "2022-08-30T11:55:03.891Z"
   },
   {
    "duration": 431,
    "start_time": "2022-08-30T11:55:11.075Z"
   },
   {
    "duration": 2637,
    "start_time": "2022-08-30T11:55:11.509Z"
   },
   {
    "duration": 8,
    "start_time": "2022-08-30T11:55:23.915Z"
   },
   {
    "duration": 6,
    "start_time": "2022-08-30T11:55:28.966Z"
   },
   {
    "duration": 9,
    "start_time": "2022-08-30T11:55:30.595Z"
   },
   {
    "duration": 4,
    "start_time": "2022-08-30T11:55:34.078Z"
   },
   {
    "duration": 13,
    "start_time": "2022-08-30T11:55:36.463Z"
   },
   {
    "duration": 11,
    "start_time": "2022-08-30T11:55:39.035Z"
   },
   {
    "duration": 7,
    "start_time": "2022-08-30T11:55:43.506Z"
   },
   {
    "duration": 13,
    "start_time": "2022-08-30T11:55:47.803Z"
   },
   {
    "duration": 24,
    "start_time": "2022-08-30T11:55:50.064Z"
   },
   {
    "duration": 8,
    "start_time": "2022-08-30T11:55:56.643Z"
   },
   {
    "duration": 10,
    "start_time": "2022-08-30T11:55:57.383Z"
   },
   {
    "duration": 49,
    "start_time": "2022-08-30T11:56:02.084Z"
   },
   {
    "duration": 9,
    "start_time": "2022-08-30T11:56:08.015Z"
   },
   {
    "duration": 23,
    "start_time": "2022-08-30T11:56:17.382Z"
   },
   {
    "duration": 289,
    "start_time": "2022-08-30T11:56:21.218Z"
   },
   {
    "duration": 178,
    "start_time": "2022-08-30T11:56:49.188Z"
   },
   {
    "duration": 22,
    "start_time": "2022-08-30T12:09:56.154Z"
   },
   {
    "duration": 20,
    "start_time": "2022-08-30T12:10:03.211Z"
   },
   {
    "duration": 11,
    "start_time": "2022-08-30T12:10:07.936Z"
   },
   {
    "duration": 8,
    "start_time": "2022-08-30T12:10:54.817Z"
   },
   {
    "duration": 8,
    "start_time": "2022-08-30T12:10:57.324Z"
   },
   {
    "duration": 17,
    "start_time": "2022-08-30T12:10:59.737Z"
   },
   {
    "duration": 25,
    "start_time": "2022-08-30T12:11:09.297Z"
   },
   {
    "duration": 141,
    "start_time": "2022-08-30T12:18:03.732Z"
   },
   {
    "duration": 24,
    "start_time": "2022-08-30T12:20:24.342Z"
   },
   {
    "duration": 25,
    "start_time": "2022-08-30T12:20:32.353Z"
   },
   {
    "duration": 15,
    "start_time": "2022-08-30T12:21:58.402Z"
   },
   {
    "duration": 25,
    "start_time": "2022-08-30T12:22:45.625Z"
   },
   {
    "duration": 24,
    "start_time": "2022-08-30T12:23:51.671Z"
   },
   {
    "duration": 28,
    "start_time": "2022-08-30T12:24:00.351Z"
   },
   {
    "duration": 21,
    "start_time": "2022-08-30T12:26:12.064Z"
   },
   {
    "duration": 13,
    "start_time": "2022-08-30T12:26:28.283Z"
   },
   {
    "duration": 6,
    "start_time": "2022-08-30T12:28:06.269Z"
   },
   {
    "duration": 23,
    "start_time": "2022-08-30T12:28:14.304Z"
   },
   {
    "duration": 6,
    "start_time": "2022-08-30T12:28:15.652Z"
   },
   {
    "duration": 20,
    "start_time": "2022-08-30T12:28:27.734Z"
   },
   {
    "duration": 12,
    "start_time": "2022-08-30T12:32:23.352Z"
   },
   {
    "duration": 136,
    "start_time": "2022-08-30T12:32:46.178Z"
   },
   {
    "duration": 34,
    "start_time": "2022-08-30T12:34:21.592Z"
   },
   {
    "duration": 22,
    "start_time": "2022-08-30T12:34:29.786Z"
   },
   {
    "duration": 31,
    "start_time": "2022-08-30T12:35:01.666Z"
   },
   {
    "duration": 128,
    "start_time": "2022-08-30T12:35:39.165Z"
   },
   {
    "duration": 275,
    "start_time": "2022-08-30T12:36:05.456Z"
   },
   {
    "duration": 25,
    "start_time": "2022-08-30T12:37:20.735Z"
   },
   {
    "duration": 262,
    "start_time": "2022-08-30T12:37:22.865Z"
   },
   {
    "duration": 216,
    "start_time": "2022-08-30T12:37:27.905Z"
   },
   {
    "duration": 27,
    "start_time": "2022-08-30T12:37:50.004Z"
   },
   {
    "duration": 145,
    "start_time": "2022-08-30T12:37:52.483Z"
   },
   {
    "duration": 189,
    "start_time": "2022-08-30T12:38:13.501Z"
   },
   {
    "duration": 23,
    "start_time": "2022-08-30T12:38:25.548Z"
   },
   {
    "duration": 14,
    "start_time": "2022-08-30T12:38:36.713Z"
   },
   {
    "duration": 19,
    "start_time": "2022-08-30T12:38:45.167Z"
   },
   {
    "duration": 16,
    "start_time": "2022-08-30T12:39:14.265Z"
   },
   {
    "duration": 15,
    "start_time": "2022-08-30T12:39:28.897Z"
   },
   {
    "duration": 24,
    "start_time": "2022-08-30T12:42:10.707Z"
   },
   {
    "duration": 24,
    "start_time": "2022-08-30T12:42:18.988Z"
   },
   {
    "duration": 20,
    "start_time": "2022-08-30T12:42:27.188Z"
   },
   {
    "duration": 24,
    "start_time": "2022-08-30T12:44:16.627Z"
   },
   {
    "duration": 14,
    "start_time": "2022-08-30T12:45:09.619Z"
   },
   {
    "duration": 23,
    "start_time": "2022-08-30T12:45:20.308Z"
   },
   {
    "duration": 20,
    "start_time": "2022-08-30T12:45:30.717Z"
   },
   {
    "duration": 5,
    "start_time": "2022-08-30T12:46:23.768Z"
   },
   {
    "duration": 10,
    "start_time": "2022-08-30T12:46:47.217Z"
   },
   {
    "duration": 25,
    "start_time": "2022-08-30T12:47:01.429Z"
   },
   {
    "duration": 21,
    "start_time": "2022-08-30T12:47:13.228Z"
   },
   {
    "duration": 357,
    "start_time": "2022-08-31T01:05:16.743Z"
   },
   {
    "duration": 2034,
    "start_time": "2022-08-31T01:05:17.102Z"
   },
   {
    "duration": 8,
    "start_time": "2022-08-31T01:05:19.138Z"
   },
   {
    "duration": 3,
    "start_time": "2022-08-31T01:05:19.148Z"
   },
   {
    "duration": 305,
    "start_time": "2022-08-31T01:05:19.153Z"
   },
   {
    "duration": 2,
    "start_time": "2022-08-31T01:05:19.460Z"
   },
   {
    "duration": 161,
    "start_time": "2022-08-31T01:05:19.463Z"
   },
   {
    "duration": 5,
    "start_time": "2022-08-31T01:05:19.625Z"
   },
   {
    "duration": 5,
    "start_time": "2022-08-31T01:05:19.631Z"
   },
   {
    "duration": 5,
    "start_time": "2022-08-31T01:05:19.637Z"
   },
   {
    "duration": 5,
    "start_time": "2022-08-31T01:05:19.643Z"
   },
   {
    "duration": 6,
    "start_time": "2022-08-31T01:05:19.649Z"
   },
   {
    "duration": 2,
    "start_time": "2022-08-31T01:05:19.656Z"
   },
   {
    "duration": 5,
    "start_time": "2022-08-31T01:05:19.661Z"
   },
   {
    "duration": 11,
    "start_time": "2022-08-31T01:05:19.667Z"
   },
   {
    "duration": 18,
    "start_time": "2022-08-31T01:05:19.680Z"
   },
   {
    "duration": 10,
    "start_time": "2022-08-31T01:05:19.699Z"
   },
   {
    "duration": 13,
    "start_time": "2022-08-31T01:05:19.710Z"
   },
   {
    "duration": 5,
    "start_time": "2022-08-31T01:05:19.724Z"
   },
   {
    "duration": 6,
    "start_time": "2022-08-31T01:05:19.730Z"
   },
   {
    "duration": 13,
    "start_time": "2022-08-31T01:05:19.737Z"
   },
   {
    "duration": 23,
    "start_time": "2022-08-31T01:05:19.751Z"
   },
   {
    "duration": 8,
    "start_time": "2022-08-31T01:05:19.775Z"
   },
   {
    "duration": 33,
    "start_time": "2022-08-31T01:05:19.784Z"
   },
   {
    "duration": 5,
    "start_time": "2022-08-31T01:05:19.818Z"
   },
   {
    "duration": 6,
    "start_time": "2022-08-31T01:05:19.824Z"
   },
   {
    "duration": 12,
    "start_time": "2022-08-31T01:05:19.832Z"
   },
   {
    "duration": 10,
    "start_time": "2022-08-31T01:05:19.845Z"
   },
   {
    "duration": 49,
    "start_time": "2022-08-31T01:05:19.857Z"
   },
   {
    "duration": 7,
    "start_time": "2022-08-31T01:05:19.907Z"
   },
   {
    "duration": 6,
    "start_time": "2022-08-31T01:05:19.916Z"
   },
   {
    "duration": 8,
    "start_time": "2022-08-31T01:05:19.924Z"
   },
   {
    "duration": 8,
    "start_time": "2022-08-31T01:05:19.933Z"
   },
   {
    "duration": 10,
    "start_time": "2022-08-31T01:05:19.943Z"
   },
   {
    "duration": 20,
    "start_time": "2022-08-31T01:05:19.954Z"
   },
   {
    "duration": 309,
    "start_time": "2022-08-31T01:05:19.976Z"
   },
   {
    "duration": 323,
    "start_time": "2022-08-31T01:05:20.286Z"
   },
   {
    "duration": 290,
    "start_time": "2022-08-31T01:05:20.610Z"
   },
   {
    "duration": 332,
    "start_time": "2022-08-31T01:05:20.902Z"
   },
   {
    "duration": 424,
    "start_time": "2022-08-31T01:05:21.235Z"
   },
   {
    "duration": 193,
    "start_time": "2022-08-31T01:05:21.662Z"
   },
   {
    "duration": 266,
    "start_time": "2022-08-31T01:05:21.856Z"
   },
   {
    "duration": 177,
    "start_time": "2022-08-31T01:05:22.124Z"
   },
   {
    "duration": 115,
    "start_time": "2022-08-31T01:05:22.303Z"
   },
   {
    "duration": 217,
    "start_time": "2022-08-31T01:05:22.420Z"
   },
   {
    "duration": 167,
    "start_time": "2022-08-31T01:05:22.639Z"
   },
   {
    "duration": 175,
    "start_time": "2022-08-31T01:05:22.808Z"
   },
   {
    "duration": 165,
    "start_time": "2022-08-31T01:05:22.984Z"
   },
   {
    "duration": 174,
    "start_time": "2022-08-31T01:05:23.150Z"
   },
   {
    "duration": 158,
    "start_time": "2022-08-31T01:05:23.326Z"
   },
   {
    "duration": 174,
    "start_time": "2022-08-31T01:05:23.485Z"
   },
   {
    "duration": 4,
    "start_time": "2022-08-31T01:05:23.660Z"
   },
   {
    "duration": 6,
    "start_time": "2022-08-31T01:05:23.665Z"
   },
   {
    "duration": 33,
    "start_time": "2022-08-31T01:05:23.672Z"
   },
   {
    "duration": 137,
    "start_time": "2022-08-31T01:05:23.706Z"
   },
   {
    "duration": 140,
    "start_time": "2022-08-31T01:05:23.844Z"
   },
   {
    "duration": 137,
    "start_time": "2022-08-31T01:05:23.986Z"
   },
   {
    "duration": 4,
    "start_time": "2022-08-31T01:05:24.124Z"
   },
   {
    "duration": 153,
    "start_time": "2022-08-31T01:05:24.130Z"
   },
   {
    "duration": 218,
    "start_time": "2022-08-31T01:05:24.284Z"
   },
   {
    "duration": 139,
    "start_time": "2022-08-31T01:05:24.503Z"
   },
   {
    "duration": 140,
    "start_time": "2022-08-31T01:05:24.643Z"
   },
   {
    "duration": 148,
    "start_time": "2022-08-31T01:05:24.785Z"
   },
   {
    "duration": 23,
    "start_time": "2022-08-31T01:05:24.935Z"
   },
   {
    "duration": 6,
    "start_time": "2022-08-31T01:05:24.960Z"
   },
   {
    "duration": 8,
    "start_time": "2022-08-31T01:05:24.967Z"
   },
   {
    "duration": 86,
    "start_time": "2022-08-31T01:05:24.999Z"
   },
   {
    "duration": 0,
    "start_time": "2022-08-31T01:05:25.086Z"
   },
   {
    "duration": 5,
    "start_time": "2022-08-31T01:09:00.930Z"
   },
   {
    "duration": 18,
    "start_time": "2022-08-31T01:09:15.067Z"
   },
   {
    "duration": 5,
    "start_time": "2022-08-31T01:10:01.333Z"
   },
   {
    "duration": 10,
    "start_time": "2022-08-31T01:10:14.101Z"
   },
   {
    "duration": 10,
    "start_time": "2022-08-31T01:10:21.917Z"
   },
   {
    "duration": 12,
    "start_time": "2022-08-31T01:10:49.583Z"
   },
   {
    "duration": 10,
    "start_time": "2022-08-31T01:11:08.127Z"
   },
   {
    "duration": 121,
    "start_time": "2022-08-31T01:11:23.183Z"
   },
   {
    "duration": 2,
    "start_time": "2022-08-31T01:11:33.897Z"
   },
   {
    "duration": 355,
    "start_time": "2022-08-31T01:20:46.351Z"
   },
   {
    "duration": 2078,
    "start_time": "2022-08-31T01:20:46.708Z"
   },
   {
    "duration": 14,
    "start_time": "2022-08-31T01:20:48.787Z"
   },
   {
    "duration": 4,
    "start_time": "2022-08-31T01:20:48.803Z"
   },
   {
    "duration": 223,
    "start_time": "2022-08-31T01:20:48.808Z"
   },
   {
    "duration": 2,
    "start_time": "2022-08-31T01:20:49.033Z"
   },
   {
    "duration": 163,
    "start_time": "2022-08-31T01:20:49.036Z"
   },
   {
    "duration": 5,
    "start_time": "2022-08-31T01:20:49.200Z"
   },
   {
    "duration": 6,
    "start_time": "2022-08-31T01:20:49.207Z"
   },
   {
    "duration": 6,
    "start_time": "2022-08-31T01:20:49.214Z"
   },
   {
    "duration": 6,
    "start_time": "2022-08-31T01:20:49.221Z"
   },
   {
    "duration": 6,
    "start_time": "2022-08-31T01:20:49.228Z"
   },
   {
    "duration": 4,
    "start_time": "2022-08-31T01:20:49.235Z"
   },
   {
    "duration": 8,
    "start_time": "2022-08-31T01:20:49.241Z"
   },
   {
    "duration": 48,
    "start_time": "2022-08-31T01:20:49.250Z"
   },
   {
    "duration": 15,
    "start_time": "2022-08-31T01:20:49.299Z"
   },
   {
    "duration": 10,
    "start_time": "2022-08-31T01:20:49.315Z"
   },
   {
    "duration": 12,
    "start_time": "2022-08-31T01:20:49.326Z"
   },
   {
    "duration": 5,
    "start_time": "2022-08-31T01:20:49.339Z"
   },
   {
    "duration": 6,
    "start_time": "2022-08-31T01:20:49.345Z"
   },
   {
    "duration": 12,
    "start_time": "2022-08-31T01:20:49.353Z"
   },
   {
    "duration": 20,
    "start_time": "2022-08-31T01:20:49.399Z"
   },
   {
    "duration": 8,
    "start_time": "2022-08-31T01:20:49.421Z"
   },
   {
    "duration": 25,
    "start_time": "2022-08-31T01:20:49.431Z"
   },
   {
    "duration": 6,
    "start_time": "2022-08-31T01:20:49.458Z"
   },
   {
    "duration": 34,
    "start_time": "2022-08-31T01:20:49.466Z"
   },
   {
    "duration": 7,
    "start_time": "2022-08-31T01:20:49.502Z"
   },
   {
    "duration": 7,
    "start_time": "2022-08-31T01:20:49.511Z"
   },
   {
    "duration": 48,
    "start_time": "2022-08-31T01:20:49.519Z"
   },
   {
    "duration": 34,
    "start_time": "2022-08-31T01:20:49.568Z"
   },
   {
    "duration": 8,
    "start_time": "2022-08-31T01:20:49.604Z"
   },
   {
    "duration": 9,
    "start_time": "2022-08-31T01:20:49.614Z"
   },
   {
    "duration": 8,
    "start_time": "2022-08-31T01:20:49.625Z"
   },
   {
    "duration": 8,
    "start_time": "2022-08-31T01:20:49.635Z"
   },
   {
    "duration": 17,
    "start_time": "2022-08-31T01:20:49.644Z"
   },
   {
    "duration": 2,
    "start_time": "2022-08-31T01:20:49.698Z"
   },
   {
    "duration": 307,
    "start_time": "2022-08-31T01:20:49.702Z"
   },
   {
    "duration": 340,
    "start_time": "2022-08-31T01:20:50.011Z"
   },
   {
    "duration": 263,
    "start_time": "2022-08-31T01:20:50.353Z"
   },
   {
    "duration": 182,
    "start_time": "2022-08-31T01:20:50.618Z"
   },
   {
    "duration": 271,
    "start_time": "2022-08-31T01:20:50.805Z"
   },
   {
    "duration": 178,
    "start_time": "2022-08-31T01:20:51.077Z"
   },
   {
    "duration": 179,
    "start_time": "2022-08-31T01:20:51.257Z"
   },
   {
    "duration": 176,
    "start_time": "2022-08-31T01:20:51.438Z"
   },
   {
    "duration": 108,
    "start_time": "2022-08-31T01:20:51.615Z"
   },
   {
    "duration": 223,
    "start_time": "2022-08-31T01:20:51.724Z"
   },
   {
    "duration": 177,
    "start_time": "2022-08-31T01:20:51.948Z"
   },
   {
    "duration": 175,
    "start_time": "2022-08-31T01:20:52.127Z"
   },
   {
    "duration": 170,
    "start_time": "2022-08-31T01:20:52.303Z"
   },
   {
    "duration": 178,
    "start_time": "2022-08-31T01:20:52.474Z"
   },
   {
    "duration": 156,
    "start_time": "2022-08-31T01:20:52.654Z"
   },
   {
    "duration": 176,
    "start_time": "2022-08-31T01:20:52.811Z"
   },
   {
    "duration": 10,
    "start_time": "2022-08-31T01:20:52.988Z"
   },
   {
    "duration": 4,
    "start_time": "2022-08-31T01:20:53.000Z"
   },
   {
    "duration": 15,
    "start_time": "2022-08-31T01:20:53.005Z"
   },
   {
    "duration": 149,
    "start_time": "2022-08-31T01:20:53.022Z"
   },
   {
    "duration": 151,
    "start_time": "2022-08-31T01:20:53.173Z"
   },
   {
    "duration": 132,
    "start_time": "2022-08-31T01:20:53.326Z"
   },
   {
    "duration": 4,
    "start_time": "2022-08-31T01:20:53.460Z"
   },
   {
    "duration": 160,
    "start_time": "2022-08-31T01:20:53.465Z"
   },
   {
    "duration": 185,
    "start_time": "2022-08-31T01:20:53.627Z"
   },
   {
    "duration": 140,
    "start_time": "2022-08-31T01:20:53.814Z"
   },
   {
    "duration": 145,
    "start_time": "2022-08-31T01:20:53.955Z"
   },
   {
    "duration": 143,
    "start_time": "2022-08-31T01:20:54.101Z"
   },
   {
    "duration": 21,
    "start_time": "2022-08-31T01:20:54.245Z"
   },
   {
    "duration": 6,
    "start_time": "2022-08-31T01:20:54.267Z"
   },
   {
    "duration": 25,
    "start_time": "2022-08-31T01:20:54.274Z"
   },
   {
    "duration": 90,
    "start_time": "2022-08-31T01:20:54.300Z"
   },
   {
    "duration": 0,
    "start_time": "2022-08-31T01:20:54.398Z"
   },
   {
    "duration": 4,
    "start_time": "2022-08-31T01:21:06.048Z"
   },
   {
    "duration": 121,
    "start_time": "2022-08-31T01:21:40.787Z"
   },
   {
    "duration": 19,
    "start_time": "2022-08-31T01:21:48.977Z"
   },
   {
    "duration": 409,
    "start_time": "2022-08-31T01:24:12.574Z"
   },
   {
    "duration": 1976,
    "start_time": "2022-08-31T01:24:12.985Z"
   },
   {
    "duration": 8,
    "start_time": "2022-08-31T01:24:14.963Z"
   },
   {
    "duration": 5,
    "start_time": "2022-08-31T01:24:14.972Z"
   },
   {
    "duration": 237,
    "start_time": "2022-08-31T01:24:14.978Z"
   },
   {
    "duration": 2,
    "start_time": "2022-08-31T01:24:15.217Z"
   },
   {
    "duration": 164,
    "start_time": "2022-08-31T01:24:15.221Z"
   },
   {
    "duration": 15,
    "start_time": "2022-08-31T01:24:15.387Z"
   },
   {
    "duration": 5,
    "start_time": "2022-08-31T01:24:15.403Z"
   },
   {
    "duration": 5,
    "start_time": "2022-08-31T01:24:15.409Z"
   },
   {
    "duration": 5,
    "start_time": "2022-08-31T01:24:15.416Z"
   },
   {
    "duration": 6,
    "start_time": "2022-08-31T01:24:15.423Z"
   },
   {
    "duration": 3,
    "start_time": "2022-08-31T01:24:15.431Z"
   },
   {
    "duration": 6,
    "start_time": "2022-08-31T01:24:15.438Z"
   },
   {
    "duration": 58,
    "start_time": "2022-08-31T01:24:15.446Z"
   },
   {
    "duration": 14,
    "start_time": "2022-08-31T01:24:15.505Z"
   },
   {
    "duration": 10,
    "start_time": "2022-08-31T01:24:15.521Z"
   },
   {
    "duration": 14,
    "start_time": "2022-08-31T01:24:15.533Z"
   },
   {
    "duration": 6,
    "start_time": "2022-08-31T01:24:15.549Z"
   },
   {
    "duration": 6,
    "start_time": "2022-08-31T01:24:15.556Z"
   },
   {
    "duration": 39,
    "start_time": "2022-08-31T01:24:15.564Z"
   },
   {
    "duration": 22,
    "start_time": "2022-08-31T01:24:15.605Z"
   },
   {
    "duration": 8,
    "start_time": "2022-08-31T01:24:15.628Z"
   },
   {
    "duration": 23,
    "start_time": "2022-08-31T01:24:15.638Z"
   },
   {
    "duration": 37,
    "start_time": "2022-08-31T01:24:15.662Z"
   },
   {
    "duration": 5,
    "start_time": "2022-08-31T01:24:15.701Z"
   },
   {
    "duration": 11,
    "start_time": "2022-08-31T01:24:15.707Z"
   },
   {
    "duration": 6,
    "start_time": "2022-08-31T01:24:15.720Z"
   },
   {
    "duration": 47,
    "start_time": "2022-08-31T01:24:15.728Z"
   },
   {
    "duration": 26,
    "start_time": "2022-08-31T01:24:15.777Z"
   },
   {
    "duration": 9,
    "start_time": "2022-08-31T01:24:15.804Z"
   },
   {
    "duration": 8,
    "start_time": "2022-08-31T01:24:15.814Z"
   },
   {
    "duration": 6,
    "start_time": "2022-08-31T01:24:15.823Z"
   },
   {
    "duration": 8,
    "start_time": "2022-08-31T01:24:15.831Z"
   },
   {
    "duration": 16,
    "start_time": "2022-08-31T01:24:15.841Z"
   },
   {
    "duration": 323,
    "start_time": "2022-08-31T01:24:15.859Z"
   },
   {
    "duration": 339,
    "start_time": "2022-08-31T01:24:16.184Z"
   },
   {
    "duration": 262,
    "start_time": "2022-08-31T01:24:16.525Z"
   },
   {
    "duration": 178,
    "start_time": "2022-08-31T01:24:16.789Z"
   },
   {
    "duration": 254,
    "start_time": "2022-08-31T01:24:16.969Z"
   },
   {
    "duration": 177,
    "start_time": "2022-08-31T01:24:17.227Z"
   },
   {
    "duration": 167,
    "start_time": "2022-08-31T01:24:17.406Z"
   },
   {
    "duration": 170,
    "start_time": "2022-08-31T01:24:17.574Z"
   },
   {
    "duration": 118,
    "start_time": "2022-08-31T01:24:17.746Z"
   },
   {
    "duration": 220,
    "start_time": "2022-08-31T01:24:17.865Z"
   },
   {
    "duration": 172,
    "start_time": "2022-08-31T01:24:18.087Z"
   },
   {
    "duration": 171,
    "start_time": "2022-08-31T01:24:18.261Z"
   },
   {
    "duration": 168,
    "start_time": "2022-08-31T01:24:18.434Z"
   },
   {
    "duration": 177,
    "start_time": "2022-08-31T01:24:18.604Z"
   },
   {
    "duration": 183,
    "start_time": "2022-08-31T01:24:18.783Z"
   },
   {
    "duration": 173,
    "start_time": "2022-08-31T01:24:18.968Z"
   },
   {
    "duration": 4,
    "start_time": "2022-08-31T01:24:19.142Z"
   },
   {
    "duration": 6,
    "start_time": "2022-08-31T01:24:19.147Z"
   },
   {
    "duration": 13,
    "start_time": "2022-08-31T01:24:19.154Z"
   },
   {
    "duration": 189,
    "start_time": "2022-08-31T01:24:19.168Z"
   },
   {
    "duration": 194,
    "start_time": "2022-08-31T01:24:19.359Z"
   },
   {
    "duration": 133,
    "start_time": "2022-08-31T01:24:19.555Z"
   },
   {
    "duration": 11,
    "start_time": "2022-08-31T01:24:19.689Z"
   },
   {
    "duration": 151,
    "start_time": "2022-08-31T01:24:19.701Z"
   },
   {
    "duration": 189,
    "start_time": "2022-08-31T01:24:19.854Z"
   },
   {
    "duration": 140,
    "start_time": "2022-08-31T01:24:20.046Z"
   },
   {
    "duration": 150,
    "start_time": "2022-08-31T01:24:20.188Z"
   },
   {
    "duration": 146,
    "start_time": "2022-08-31T01:24:20.340Z"
   },
   {
    "duration": 28,
    "start_time": "2022-08-31T01:24:20.488Z"
   },
   {
    "duration": 7,
    "start_time": "2022-08-31T01:24:20.517Z"
   },
   {
    "duration": 9,
    "start_time": "2022-08-31T01:24:20.525Z"
   },
   {
    "duration": 99,
    "start_time": "2022-08-31T01:24:20.535Z"
   },
   {
    "duration": 0,
    "start_time": "2022-08-31T01:24:20.635Z"
   },
   {
    "duration": 5,
    "start_time": "2022-08-31T01:24:27.159Z"
   },
   {
    "duration": 250,
    "start_time": "2022-08-31T01:31:31.295Z"
   },
   {
    "duration": 237,
    "start_time": "2022-08-31T01:31:36.408Z"
   },
   {
    "duration": 15,
    "start_time": "2022-08-31T01:32:19.701Z"
   },
   {
    "duration": 14,
    "start_time": "2022-08-31T01:32:28.170Z"
   },
   {
    "duration": 411,
    "start_time": "2022-08-31T01:41:10.391Z"
   },
   {
    "duration": 1937,
    "start_time": "2022-08-31T01:41:10.804Z"
   },
   {
    "duration": 10,
    "start_time": "2022-08-31T01:41:12.743Z"
   },
   {
    "duration": 5,
    "start_time": "2022-08-31T01:41:12.755Z"
   },
   {
    "duration": 229,
    "start_time": "2022-08-31T01:41:12.761Z"
   },
   {
    "duration": 6,
    "start_time": "2022-08-31T01:41:12.992Z"
   },
   {
    "duration": 161,
    "start_time": "2022-08-31T01:41:13.000Z"
   },
   {
    "duration": 5,
    "start_time": "2022-08-31T01:41:13.163Z"
   },
   {
    "duration": 5,
    "start_time": "2022-08-31T01:41:13.170Z"
   },
   {
    "duration": 23,
    "start_time": "2022-08-31T01:41:13.178Z"
   },
   {
    "duration": 6,
    "start_time": "2022-08-31T01:41:13.203Z"
   },
   {
    "duration": 7,
    "start_time": "2022-08-31T01:41:13.210Z"
   },
   {
    "duration": 4,
    "start_time": "2022-08-31T01:41:13.218Z"
   },
   {
    "duration": 6,
    "start_time": "2022-08-31T01:41:13.223Z"
   },
   {
    "duration": 12,
    "start_time": "2022-08-31T01:41:13.231Z"
   },
   {
    "duration": 57,
    "start_time": "2022-08-31T01:41:13.245Z"
   },
   {
    "duration": 10,
    "start_time": "2022-08-31T01:41:13.303Z"
   },
   {
    "duration": 19,
    "start_time": "2022-08-31T01:41:13.314Z"
   },
   {
    "duration": 5,
    "start_time": "2022-08-31T01:41:13.335Z"
   },
   {
    "duration": 8,
    "start_time": "2022-08-31T01:41:13.341Z"
   },
   {
    "duration": 15,
    "start_time": "2022-08-31T01:41:13.350Z"
   },
   {
    "duration": 44,
    "start_time": "2022-08-31T01:41:13.366Z"
   },
   {
    "duration": 8,
    "start_time": "2022-08-31T01:41:13.411Z"
   },
   {
    "duration": 23,
    "start_time": "2022-08-31T01:41:13.420Z"
   },
   {
    "duration": 5,
    "start_time": "2022-08-31T01:41:13.444Z"
   },
   {
    "duration": 6,
    "start_time": "2022-08-31T01:41:13.450Z"
   },
   {
    "duration": 9,
    "start_time": "2022-08-31T01:41:13.457Z"
   },
   {
    "duration": 7,
    "start_time": "2022-08-31T01:41:13.469Z"
   },
   {
    "duration": 48,
    "start_time": "2022-08-31T01:41:13.498Z"
   },
   {
    "duration": 7,
    "start_time": "2022-08-31T01:41:13.547Z"
   },
   {
    "duration": 8,
    "start_time": "2022-08-31T01:41:13.555Z"
   },
   {
    "duration": 8,
    "start_time": "2022-08-31T01:41:13.564Z"
   },
   {
    "duration": 26,
    "start_time": "2022-08-31T01:41:13.573Z"
   },
   {
    "duration": 13,
    "start_time": "2022-08-31T01:41:13.601Z"
   },
   {
    "duration": 242,
    "start_time": "2022-08-31T01:41:13.615Z"
   },
   {
    "duration": 314,
    "start_time": "2022-08-31T01:41:13.859Z"
   },
   {
    "duration": 15,
    "start_time": "2022-08-31T01:41:14.175Z"
   },
   {
    "duration": 13,
    "start_time": "2022-08-31T01:41:14.198Z"
   },
   {
    "duration": 17,
    "start_time": "2022-08-31T01:41:14.212Z"
   },
   {
    "duration": 322,
    "start_time": "2022-08-31T01:41:14.230Z"
   },
   {
    "duration": 252,
    "start_time": "2022-08-31T01:41:14.553Z"
   },
   {
    "duration": 268,
    "start_time": "2022-08-31T01:41:14.806Z"
   },
   {
    "duration": 189,
    "start_time": "2022-08-31T01:41:15.075Z"
   },
   {
    "duration": 307,
    "start_time": "2022-08-31T01:41:15.265Z"
   },
   {
    "duration": 179,
    "start_time": "2022-08-31T01:41:15.573Z"
   },
   {
    "duration": 164,
    "start_time": "2022-08-31T01:41:15.753Z"
   },
   {
    "duration": 173,
    "start_time": "2022-08-31T01:41:15.919Z"
   },
   {
    "duration": 114,
    "start_time": "2022-08-31T01:41:16.097Z"
   },
   {
    "duration": 170,
    "start_time": "2022-08-31T01:41:16.212Z"
   },
   {
    "duration": 173,
    "start_time": "2022-08-31T01:41:16.383Z"
   },
   {
    "duration": 171,
    "start_time": "2022-08-31T01:41:16.558Z"
   },
   {
    "duration": 173,
    "start_time": "2022-08-31T01:41:16.730Z"
   },
   {
    "duration": 180,
    "start_time": "2022-08-31T01:41:16.905Z"
   },
   {
    "duration": 163,
    "start_time": "2022-08-31T01:41:17.087Z"
   },
   {
    "duration": 242,
    "start_time": "2022-08-31T01:41:17.252Z"
   },
   {
    "duration": 5,
    "start_time": "2022-08-31T01:41:17.498Z"
   },
   {
    "duration": 6,
    "start_time": "2022-08-31T01:41:17.504Z"
   },
   {
    "duration": 14,
    "start_time": "2022-08-31T01:41:17.512Z"
   },
   {
    "duration": 153,
    "start_time": "2022-08-31T01:41:17.528Z"
   },
   {
    "duration": 156,
    "start_time": "2022-08-31T01:41:17.682Z"
   },
   {
    "duration": 138,
    "start_time": "2022-08-31T01:41:17.840Z"
   },
   {
    "duration": 5,
    "start_time": "2022-08-31T01:41:17.980Z"
   },
   {
    "duration": 156,
    "start_time": "2022-08-31T01:41:17.999Z"
   },
   {
    "duration": 123,
    "start_time": "2022-08-31T01:41:18.156Z"
   },
   {
    "duration": 146,
    "start_time": "2022-08-31T01:41:18.280Z"
   },
   {
    "duration": 153,
    "start_time": "2022-08-31T01:41:18.428Z"
   },
   {
    "duration": 155,
    "start_time": "2022-08-31T01:41:18.583Z"
   },
   {
    "duration": 22,
    "start_time": "2022-08-31T01:41:18.740Z"
   },
   {
    "duration": 7,
    "start_time": "2022-08-31T01:41:18.764Z"
   },
   {
    "duration": 26,
    "start_time": "2022-08-31T01:41:18.772Z"
   },
   {
    "duration": 86,
    "start_time": "2022-08-31T01:41:18.799Z"
   },
   {
    "duration": 0,
    "start_time": "2022-08-31T01:41:18.887Z"
   },
   {
    "duration": 5,
    "start_time": "2022-08-31T01:41:50.952Z"
   },
   {
    "duration": 426,
    "start_time": "2022-08-31T19:37:24.044Z"
   },
   {
    "duration": 4443,
    "start_time": "2022-08-31T19:37:24.472Z"
   },
   {
    "duration": 7,
    "start_time": "2022-08-31T19:37:47.322Z"
   },
   {
    "duration": 9,
    "start_time": "2022-08-31T19:37:51.872Z"
   },
   {
    "duration": 5,
    "start_time": "2022-08-31T19:38:03.700Z"
   },
   {
    "duration": 26,
    "start_time": "2022-08-31T19:38:07.390Z"
   },
   {
    "duration": 17,
    "start_time": "2022-08-31T19:38:10.665Z"
   },
   {
    "duration": 8,
    "start_time": "2022-08-31T19:38:16.582Z"
   },
   {
    "duration": 26,
    "start_time": "2022-08-31T19:38:23.311Z"
   },
   {
    "duration": 25,
    "start_time": "2022-08-31T19:38:25.312Z"
   },
   {
    "duration": 10,
    "start_time": "2022-08-31T19:38:31.122Z"
   },
   {
    "duration": 12,
    "start_time": "2022-08-31T19:38:33.120Z"
   },
   {
    "duration": 5,
    "start_time": "2022-08-31T19:38:36.092Z"
   },
   {
    "duration": 56,
    "start_time": "2022-08-31T19:38:45.042Z"
   },
   {
    "duration": 10,
    "start_time": "2022-08-31T19:38:54.876Z"
   },
   {
    "duration": 22,
    "start_time": "2022-08-31T19:39:41.532Z"
   },
   {
    "duration": 339,
    "start_time": "2022-08-31T19:39:46.796Z"
   },
   {
    "duration": 2,
    "start_time": "2022-08-31T19:51:55.674Z"
   },
   {
    "duration": 2278,
    "start_time": "2022-08-31T19:51:55.763Z"
   },
   {
    "duration": 6,
    "start_time": "2022-08-31T19:52:08.316Z"
   },
   {
    "duration": 7,
    "start_time": "2022-08-31T19:52:09.028Z"
   },
   {
    "duration": 3,
    "start_time": "2022-08-31T19:52:27.380Z"
   },
   {
    "duration": 2174,
    "start_time": "2022-08-31T19:52:27.561Z"
   },
   {
    "duration": 6,
    "start_time": "2022-08-31T19:52:43.850Z"
   },
   {
    "duration": 8,
    "start_time": "2022-08-31T19:52:44.389Z"
   },
   {
    "duration": 102,
    "start_time": "2022-08-31T19:54:25.284Z"
   },
   {
    "duration": 17,
    "start_time": "2022-08-31T19:54:52.882Z"
   },
   {
    "duration": 13,
    "start_time": "2022-08-31T19:55:04.431Z"
   },
   {
    "duration": 4,
    "start_time": "2022-08-31T19:57:29.660Z"
   },
   {
    "duration": 8,
    "start_time": "2022-08-31T19:57:31.827Z"
   },
   {
    "duration": 4,
    "start_time": "2022-08-31T19:57:37.276Z"
   },
   {
    "duration": 6,
    "start_time": "2022-08-31T19:57:38.075Z"
   },
   {
    "duration": 3,
    "start_time": "2022-08-31T19:58:02.683Z"
   },
   {
    "duration": 2338,
    "start_time": "2022-08-31T19:58:02.947Z"
   },
   {
    "duration": 5,
    "start_time": "2022-08-31T19:58:08.579Z"
   },
   {
    "duration": 9,
    "start_time": "2022-08-31T19:58:12.627Z"
   },
   {
    "duration": 14,
    "start_time": "2022-08-31T19:58:21.605Z"
   },
   {
    "duration": 21,
    "start_time": "2022-08-31T19:58:26.829Z"
   },
   {
    "duration": 15,
    "start_time": "2022-08-31T19:58:32.840Z"
   },
   {
    "duration": 11,
    "start_time": "2022-08-31T19:58:37.789Z"
   },
   {
    "duration": 15,
    "start_time": "2022-08-31T19:58:40.361Z"
   },
   {
    "duration": 13,
    "start_time": "2022-08-31T19:59:12.329Z"
   },
   {
    "duration": 24,
    "start_time": "2022-08-31T19:59:15.164Z"
   },
   {
    "duration": 18,
    "start_time": "2022-08-31T20:00:13.821Z"
   },
   {
    "duration": 7,
    "start_time": "2022-08-31T20:00:21.284Z"
   },
   {
    "duration": 9,
    "start_time": "2022-08-31T20:00:28.501Z"
   },
   {
    "duration": 11,
    "start_time": "2022-08-31T20:00:30.821Z"
   },
   {
    "duration": 12,
    "start_time": "2022-08-31T20:00:31.714Z"
   },
   {
    "duration": 7,
    "start_time": "2022-08-31T20:00:34.011Z"
   },
   {
    "duration": 30,
    "start_time": "2022-08-31T20:00:37.662Z"
   },
   {
    "duration": 8,
    "start_time": "2022-08-31T20:15:20.972Z"
   },
   {
    "duration": 336,
    "start_time": "2022-08-31T20:15:29.203Z"
   },
   {
    "duration": 9,
    "start_time": "2022-08-31T20:19:00.768Z"
   },
   {
    "duration": 10,
    "start_time": "2022-08-31T20:21:13.662Z"
   },
   {
    "duration": 315,
    "start_time": "2022-08-31T20:21:36.447Z"
   },
   {
    "duration": 350,
    "start_time": "2022-08-31T20:22:05.061Z"
   },
   {
    "duration": 362,
    "start_time": "2022-08-31T20:22:24.792Z"
   },
   {
    "duration": 302,
    "start_time": "2022-08-31T20:22:30.312Z"
   },
   {
    "duration": 164,
    "start_time": "2022-08-31T20:23:07.361Z"
   },
   {
    "duration": 131,
    "start_time": "2022-08-31T20:23:13.046Z"
   },
   {
    "duration": 159,
    "start_time": "2022-08-31T20:23:20.928Z"
   },
   {
    "duration": 189,
    "start_time": "2022-08-31T20:23:29.042Z"
   },
   {
    "duration": 8,
    "start_time": "2022-08-31T20:24:41.070Z"
   },
   {
    "duration": 175,
    "start_time": "2022-08-31T20:24:43.841Z"
   },
   {
    "duration": 7,
    "start_time": "2022-08-31T20:25:26.960Z"
   },
   {
    "duration": 180,
    "start_time": "2022-08-31T20:25:30.791Z"
   },
   {
    "duration": 8,
    "start_time": "2022-08-31T20:25:42.293Z"
   },
   {
    "duration": 175,
    "start_time": "2022-08-31T20:25:44.311Z"
   },
   {
    "duration": 21,
    "start_time": "2022-08-31T20:26:17.911Z"
   },
   {
    "duration": 411,
    "start_time": "2022-08-31T20:26:31.880Z"
   },
   {
    "duration": 33,
    "start_time": "2022-08-31T20:27:24.859Z"
   },
   {
    "duration": 20,
    "start_time": "2022-08-31T20:28:47.980Z"
   },
   {
    "duration": 16,
    "start_time": "2022-08-31T20:30:04.287Z"
   },
   {
    "duration": 41,
    "start_time": "2022-08-31T20:30:13.360Z"
   },
   {
    "duration": 165,
    "start_time": "2022-08-31T20:30:49.691Z"
   },
   {
    "duration": 414,
    "start_time": "2022-08-31T21:40:18.119Z"
   },
   {
    "duration": 2110,
    "start_time": "2022-08-31T21:40:18.535Z"
   },
   {
    "duration": 8,
    "start_time": "2022-08-31T21:40:20.647Z"
   },
   {
    "duration": 19,
    "start_time": "2022-08-31T21:40:20.657Z"
   },
   {
    "duration": 229,
    "start_time": "2022-08-31T21:40:20.677Z"
   },
   {
    "duration": 5,
    "start_time": "2022-08-31T21:40:20.908Z"
   },
   {
    "duration": 30,
    "start_time": "2022-08-31T21:40:20.914Z"
   },
   {
    "duration": 25,
    "start_time": "2022-08-31T21:40:20.946Z"
   },
   {
    "duration": 14,
    "start_time": "2022-08-31T21:40:20.973Z"
   },
   {
    "duration": 18,
    "start_time": "2022-08-31T21:40:20.990Z"
   },
   {
    "duration": 27,
    "start_time": "2022-08-31T21:40:21.010Z"
   },
   {
    "duration": 4,
    "start_time": "2022-08-31T21:40:21.039Z"
   },
   {
    "duration": 23,
    "start_time": "2022-08-31T21:40:21.044Z"
   },
   {
    "duration": 25,
    "start_time": "2022-08-31T21:40:21.069Z"
   },
   {
    "duration": 42,
    "start_time": "2022-08-31T21:40:21.095Z"
   },
   {
    "duration": 25,
    "start_time": "2022-08-31T21:40:21.139Z"
   },
   {
    "duration": 26,
    "start_time": "2022-08-31T21:40:21.165Z"
   },
   {
    "duration": 6,
    "start_time": "2022-08-31T21:40:21.193Z"
   },
   {
    "duration": 23,
    "start_time": "2022-08-31T21:40:21.201Z"
   },
   {
    "duration": 34,
    "start_time": "2022-08-31T21:40:21.226Z"
   },
   {
    "duration": 17,
    "start_time": "2022-08-31T21:40:21.261Z"
   },
   {
    "duration": 65,
    "start_time": "2022-08-31T21:40:21.280Z"
   },
   {
    "duration": 7,
    "start_time": "2022-08-31T21:40:21.347Z"
   },
   {
    "duration": 9,
    "start_time": "2022-08-31T21:40:21.356Z"
   },
   {
    "duration": 12,
    "start_time": "2022-08-31T21:40:21.366Z"
   },
   {
    "duration": 23,
    "start_time": "2022-08-31T21:40:21.380Z"
   },
   {
    "duration": 39,
    "start_time": "2022-08-31T21:40:21.405Z"
   },
   {
    "duration": 15,
    "start_time": "2022-08-31T21:40:21.449Z"
   },
   {
    "duration": 19,
    "start_time": "2022-08-31T21:40:21.466Z"
   },
   {
    "duration": 208,
    "start_time": "2022-08-31T21:40:21.487Z"
   },
   {
    "duration": 11,
    "start_time": "2022-08-31T21:40:21.696Z"
   },
   {
    "duration": 305,
    "start_time": "2022-08-31T21:40:21.709Z"
   },
   {
    "duration": 407,
    "start_time": "2022-08-31T21:40:22.016Z"
   },
   {
    "duration": 17,
    "start_time": "2022-08-31T21:40:22.425Z"
   },
   {
    "duration": 14,
    "start_time": "2022-08-31T21:40:22.444Z"
   },
   {
    "duration": 44,
    "start_time": "2022-08-31T21:40:22.459Z"
   },
   {
    "duration": 404,
    "start_time": "2022-08-31T21:40:22.505Z"
   },
   {
    "duration": 607,
    "start_time": "2022-08-31T21:40:22.911Z"
   },
   {
    "duration": 596,
    "start_time": "2022-08-31T21:40:23.520Z"
   },
   {
    "duration": 350,
    "start_time": "2022-08-31T21:40:24.118Z"
   },
   {
    "duration": 395,
    "start_time": "2022-08-31T21:40:24.469Z"
   },
   {
    "duration": 206,
    "start_time": "2022-08-31T21:40:24.865Z"
   },
   {
    "duration": 196,
    "start_time": "2022-08-31T21:40:25.073Z"
   },
   {
    "duration": 217,
    "start_time": "2022-08-31T21:40:25.271Z"
   },
   {
    "duration": 136,
    "start_time": "2022-08-31T21:40:25.490Z"
   },
   {
    "duration": 188,
    "start_time": "2022-08-31T21:40:25.628Z"
   },
   {
    "duration": 192,
    "start_time": "2022-08-31T21:40:25.818Z"
   },
   {
    "duration": 197,
    "start_time": "2022-08-31T21:40:26.013Z"
   },
   {
    "duration": 223,
    "start_time": "2022-08-31T21:40:26.212Z"
   },
   {
    "duration": 195,
    "start_time": "2022-08-31T21:40:26.437Z"
   },
   {
    "duration": 184,
    "start_time": "2022-08-31T21:40:26.633Z"
   },
   {
    "duration": 297,
    "start_time": "2022-08-31T21:40:26.819Z"
   },
   {
    "duration": 5,
    "start_time": "2022-08-31T21:40:27.118Z"
   },
   {
    "duration": 8,
    "start_time": "2022-08-31T21:40:27.125Z"
   },
   {
    "duration": 16,
    "start_time": "2022-08-31T21:40:27.134Z"
   },
   {
    "duration": 178,
    "start_time": "2022-08-31T21:40:27.152Z"
   },
   {
    "duration": 161,
    "start_time": "2022-08-31T21:40:27.332Z"
   },
   {
    "duration": 141,
    "start_time": "2022-08-31T21:40:27.495Z"
   },
   {
    "duration": 4,
    "start_time": "2022-08-31T21:40:27.638Z"
   },
   {
    "duration": 143,
    "start_time": "2022-08-31T21:40:27.644Z"
   },
   {
    "duration": 135,
    "start_time": "2022-08-31T21:40:27.788Z"
   },
   {
    "duration": 160,
    "start_time": "2022-08-31T21:40:27.924Z"
   },
   {
    "duration": 175,
    "start_time": "2022-08-31T21:40:28.086Z"
   },
   {
    "duration": 164,
    "start_time": "2022-08-31T21:40:28.263Z"
   },
   {
    "duration": 31,
    "start_time": "2022-08-31T21:40:28.429Z"
   },
   {
    "duration": 7,
    "start_time": "2022-08-31T21:40:28.462Z"
   },
   {
    "duration": 32,
    "start_time": "2022-08-31T21:40:28.471Z"
   },
   {
    "duration": 52,
    "start_time": "2022-08-31T21:40:28.505Z"
   },
   {
    "duration": 149,
    "start_time": "2022-08-31T21:40:28.559Z"
   },
   {
    "duration": 18,
    "start_time": "2022-08-31T21:42:34.800Z"
   },
   {
    "duration": 544,
    "start_time": "2022-08-31T21:44:35.502Z"
   },
   {
    "duration": 105,
    "start_time": "2022-08-31T21:44:37.422Z"
   },
   {
    "duration": 4126,
    "start_time": "2022-08-31T21:44:44.162Z"
   },
   {
    "duration": 2,
    "start_time": "2022-08-31T21:45:04.401Z"
   },
   {
    "duration": 4439,
    "start_time": "2022-08-31T21:45:04.961Z"
   },
   {
    "duration": 403,
    "start_time": "2022-08-31T21:45:09.402Z"
   },
   {
    "duration": 135,
    "start_time": "2022-08-31T21:45:11.408Z"
   },
   {
    "duration": 117,
    "start_time": "2022-08-31T21:45:13.464Z"
   },
   {
    "duration": 380,
    "start_time": "2022-08-31T21:45:48.961Z"
   },
   {
    "duration": 2125,
    "start_time": "2022-08-31T21:45:49.343Z"
   },
   {
    "duration": 13,
    "start_time": "2022-08-31T21:45:51.469Z"
   },
   {
    "duration": 19,
    "start_time": "2022-08-31T21:45:51.484Z"
   },
   {
    "duration": 257,
    "start_time": "2022-08-31T21:45:51.505Z"
   },
   {
    "duration": 6,
    "start_time": "2022-08-31T21:45:51.765Z"
   },
   {
    "duration": 9,
    "start_time": "2022-08-31T21:45:51.772Z"
   },
   {
    "duration": 25,
    "start_time": "2022-08-31T21:45:51.783Z"
   },
   {
    "duration": 16,
    "start_time": "2022-08-31T21:45:51.810Z"
   },
   {
    "duration": 10,
    "start_time": "2022-08-31T21:45:51.829Z"
   },
   {
    "duration": 15,
    "start_time": "2022-08-31T21:45:51.841Z"
   },
   {
    "duration": 4,
    "start_time": "2022-08-31T21:45:51.857Z"
   },
   {
    "duration": 9,
    "start_time": "2022-08-31T21:45:51.863Z"
   },
   {
    "duration": 12,
    "start_time": "2022-08-31T21:45:51.900Z"
   },
   {
    "duration": 22,
    "start_time": "2022-08-31T21:45:51.913Z"
   },
   {
    "duration": 8,
    "start_time": "2022-08-31T21:45:51.936Z"
   },
   {
    "duration": 26,
    "start_time": "2022-08-31T21:45:51.945Z"
   },
   {
    "duration": 29,
    "start_time": "2022-08-31T21:45:51.972Z"
   },
   {
    "duration": 5,
    "start_time": "2022-08-31T21:45:52.002Z"
   },
   {
    "duration": 9,
    "start_time": "2022-08-31T21:45:52.008Z"
   },
   {
    "duration": 8,
    "start_time": "2022-08-31T21:45:52.018Z"
   },
   {
    "duration": 51,
    "start_time": "2022-08-31T21:45:52.027Z"
   },
   {
    "duration": 27,
    "start_time": "2022-08-31T21:45:52.079Z"
   },
   {
    "duration": 9,
    "start_time": "2022-08-31T21:45:52.107Z"
   },
   {
    "duration": 9,
    "start_time": "2022-08-31T21:45:52.118Z"
   },
   {
    "duration": 7,
    "start_time": "2022-08-31T21:45:52.128Z"
   },
   {
    "duration": 9,
    "start_time": "2022-08-31T21:45:52.136Z"
   },
   {
    "duration": 6,
    "start_time": "2022-08-31T21:45:52.150Z"
   },
   {
    "duration": 44,
    "start_time": "2022-08-31T21:45:52.158Z"
   },
   {
    "duration": 179,
    "start_time": "2022-08-31T21:45:52.204Z"
   },
   {
    "duration": 15,
    "start_time": "2022-08-31T21:45:52.385Z"
   },
   {
    "duration": 274,
    "start_time": "2022-08-31T21:45:52.401Z"
   },
   {
    "duration": 382,
    "start_time": "2022-08-31T21:45:52.677Z"
   },
   {
    "duration": 16,
    "start_time": "2022-08-31T21:45:53.061Z"
   },
   {
    "duration": 28,
    "start_time": "2022-08-31T21:45:53.079Z"
   },
   {
    "duration": 19,
    "start_time": "2022-08-31T21:45:53.109Z"
   },
   {
    "duration": 278,
    "start_time": "2022-08-31T21:45:53.130Z"
   },
   {
    "duration": 279,
    "start_time": "2022-08-31T21:45:53.410Z"
   },
   {
    "duration": 293,
    "start_time": "2022-08-31T21:45:53.690Z"
   },
   {
    "duration": 187,
    "start_time": "2022-08-31T21:45:53.985Z"
   },
   {
    "duration": 370,
    "start_time": "2022-08-31T21:45:54.173Z"
   },
   {
    "duration": 190,
    "start_time": "2022-08-31T21:45:54.545Z"
   },
   {
    "duration": 202,
    "start_time": "2022-08-31T21:45:54.737Z"
   },
   {
    "duration": 194,
    "start_time": "2022-08-31T21:45:54.941Z"
   },
   {
    "duration": 129,
    "start_time": "2022-08-31T21:45:55.136Z"
   },
   {
    "duration": 193,
    "start_time": "2022-08-31T21:45:55.267Z"
   },
   {
    "duration": 194,
    "start_time": "2022-08-31T21:45:55.462Z"
   },
   {
    "duration": 180,
    "start_time": "2022-08-31T21:45:55.658Z"
   },
   {
    "duration": 180,
    "start_time": "2022-08-31T21:45:55.839Z"
   },
   {
    "duration": 191,
    "start_time": "2022-08-31T21:45:56.021Z"
   },
   {
    "duration": 182,
    "start_time": "2022-08-31T21:45:56.214Z"
   },
   {
    "duration": 288,
    "start_time": "2022-08-31T21:45:56.399Z"
   },
   {
    "duration": 13,
    "start_time": "2022-08-31T21:45:56.688Z"
   },
   {
    "duration": 7,
    "start_time": "2022-08-31T21:45:56.703Z"
   },
   {
    "duration": 16,
    "start_time": "2022-08-31T21:45:56.711Z"
   },
   {
    "duration": 181,
    "start_time": "2022-08-31T21:45:56.728Z"
   },
   {
    "duration": 162,
    "start_time": "2022-08-31T21:45:56.911Z"
   },
   {
    "duration": 146,
    "start_time": "2022-08-31T21:45:57.075Z"
   },
   {
    "duration": 4,
    "start_time": "2022-08-31T21:45:57.223Z"
   },
   {
    "duration": 151,
    "start_time": "2022-08-31T21:45:57.229Z"
   },
   {
    "duration": 126,
    "start_time": "2022-08-31T21:45:57.381Z"
   },
   {
    "duration": 148,
    "start_time": "2022-08-31T21:45:57.508Z"
   },
   {
    "duration": 158,
    "start_time": "2022-08-31T21:45:57.658Z"
   },
   {
    "duration": 152,
    "start_time": "2022-08-31T21:45:57.817Z"
   },
   {
    "duration": 34,
    "start_time": "2022-08-31T21:45:57.971Z"
   },
   {
    "duration": 6,
    "start_time": "2022-08-31T21:45:58.007Z"
   },
   {
    "duration": 21,
    "start_time": "2022-08-31T21:45:58.014Z"
   },
   {
    "duration": 45,
    "start_time": "2022-08-31T21:45:58.036Z"
   },
   {
    "duration": 151,
    "start_time": "2022-08-31T21:45:58.083Z"
   },
   {
    "duration": 500,
    "start_time": "2022-08-31T21:45:58.236Z"
   },
   {
    "duration": 3942,
    "start_time": "2022-08-31T21:45:58.737Z"
   },
   {
    "duration": 389,
    "start_time": "2022-08-31T21:46:02.681Z"
   },
   {
    "duration": 287,
    "start_time": "2022-08-31T21:46:03.071Z"
   },
   {
    "duration": 90,
    "start_time": "2022-08-31T21:46:03.360Z"
   },
   {
    "duration": 398,
    "start_time": "2022-08-31T21:49:20.238Z"
   },
   {
    "duration": 3090,
    "start_time": "2022-08-31T21:49:20.638Z"
   },
   {
    "duration": 9,
    "start_time": "2022-08-31T21:49:23.730Z"
   },
   {
    "duration": 4,
    "start_time": "2022-08-31T21:49:23.740Z"
   },
   {
    "duration": 323,
    "start_time": "2022-08-31T21:49:23.746Z"
   },
   {
    "duration": 5,
    "start_time": "2022-08-31T21:49:24.071Z"
   },
   {
    "duration": 10,
    "start_time": "2022-08-31T21:49:24.077Z"
   },
   {
    "duration": 23,
    "start_time": "2022-08-31T21:49:24.088Z"
   },
   {
    "duration": 14,
    "start_time": "2022-08-31T21:49:24.113Z"
   },
   {
    "duration": 10,
    "start_time": "2022-08-31T21:49:24.130Z"
   },
   {
    "duration": 12,
    "start_time": "2022-08-31T21:49:24.142Z"
   },
   {
    "duration": 4,
    "start_time": "2022-08-31T21:49:24.156Z"
   },
   {
    "duration": 8,
    "start_time": "2022-08-31T21:49:24.161Z"
   },
   {
    "duration": 14,
    "start_time": "2022-08-31T21:49:24.200Z"
   },
   {
    "duration": 22,
    "start_time": "2022-08-31T21:49:24.215Z"
   },
   {
    "duration": 8,
    "start_time": "2022-08-31T21:49:24.238Z"
   },
   {
    "duration": 24,
    "start_time": "2022-08-31T21:49:24.247Z"
   },
   {
    "duration": 28,
    "start_time": "2022-08-31T21:49:24.273Z"
   },
   {
    "duration": 5,
    "start_time": "2022-08-31T21:49:24.303Z"
   },
   {
    "duration": 8,
    "start_time": "2022-08-31T21:49:24.310Z"
   },
   {
    "duration": 14,
    "start_time": "2022-08-31T21:49:24.320Z"
   },
   {
    "duration": 7,
    "start_time": "2022-08-31T21:49:24.336Z"
   },
   {
    "duration": 12,
    "start_time": "2022-08-31T21:49:24.344Z"
   },
   {
    "duration": 77,
    "start_time": "2022-08-31T21:49:24.358Z"
   },
   {
    "duration": 8,
    "start_time": "2022-08-31T21:49:24.436Z"
   },
   {
    "duration": 10,
    "start_time": "2022-08-31T21:49:24.446Z"
   },
   {
    "duration": 16,
    "start_time": "2022-08-31T21:49:24.457Z"
   },
   {
    "duration": 28,
    "start_time": "2022-08-31T21:49:24.477Z"
   },
   {
    "duration": 10,
    "start_time": "2022-08-31T21:49:24.507Z"
   },
   {
    "duration": 9,
    "start_time": "2022-08-31T21:49:24.518Z"
   },
   {
    "duration": 13,
    "start_time": "2022-08-31T21:49:24.529Z"
   },
   {
    "duration": 228,
    "start_time": "2022-08-31T21:49:24.544Z"
   },
   {
    "duration": 9,
    "start_time": "2022-08-31T21:49:24.773Z"
   },
   {
    "duration": 327,
    "start_time": "2022-08-31T21:49:24.784Z"
   },
   {
    "duration": 398,
    "start_time": "2022-08-31T21:49:25.113Z"
   },
   {
    "duration": 19,
    "start_time": "2022-08-31T21:49:25.512Z"
   },
   {
    "duration": 16,
    "start_time": "2022-08-31T21:49:25.532Z"
   },
   {
    "duration": 20,
    "start_time": "2022-08-31T21:49:25.550Z"
   },
   {
    "duration": 312,
    "start_time": "2022-08-31T21:49:25.572Z"
   },
   {
    "duration": 297,
    "start_time": "2022-08-31T21:49:25.887Z"
   },
   {
    "duration": 298,
    "start_time": "2022-08-31T21:49:26.186Z"
   },
   {
    "duration": 232,
    "start_time": "2022-08-31T21:49:26.486Z"
   },
   {
    "duration": 383,
    "start_time": "2022-08-31T21:49:26.720Z"
   },
   {
    "duration": 201,
    "start_time": "2022-08-31T21:49:27.104Z"
   },
   {
    "duration": 185,
    "start_time": "2022-08-31T21:49:27.306Z"
   },
   {
    "duration": 201,
    "start_time": "2022-08-31T21:49:27.492Z"
   },
   {
    "duration": 118,
    "start_time": "2022-08-31T21:49:27.695Z"
   },
   {
    "duration": 186,
    "start_time": "2022-08-31T21:49:27.816Z"
   },
   {
    "duration": 191,
    "start_time": "2022-08-31T21:49:28.004Z"
   },
   {
    "duration": 189,
    "start_time": "2022-08-31T21:49:28.197Z"
   },
   {
    "duration": 182,
    "start_time": "2022-08-31T21:49:28.388Z"
   },
   {
    "duration": 186,
    "start_time": "2022-08-31T21:49:28.571Z"
   },
   {
    "duration": 180,
    "start_time": "2022-08-31T21:49:28.758Z"
   },
   {
    "duration": 285,
    "start_time": "2022-08-31T21:49:28.940Z"
   },
   {
    "duration": 5,
    "start_time": "2022-08-31T21:49:29.227Z"
   },
   {
    "duration": 7,
    "start_time": "2022-08-31T21:49:29.234Z"
   },
   {
    "duration": 14,
    "start_time": "2022-08-31T21:49:29.243Z"
   },
   {
    "duration": 187,
    "start_time": "2022-08-31T21:49:29.259Z"
   },
   {
    "duration": 159,
    "start_time": "2022-08-31T21:49:29.447Z"
   },
   {
    "duration": 136,
    "start_time": "2022-08-31T21:49:29.608Z"
   },
   {
    "duration": 4,
    "start_time": "2022-08-31T21:49:29.746Z"
   },
   {
    "duration": 150,
    "start_time": "2022-08-31T21:49:29.751Z"
   },
   {
    "duration": 140,
    "start_time": "2022-08-31T21:49:29.903Z"
   },
   {
    "duration": 167,
    "start_time": "2022-08-31T21:49:30.045Z"
   },
   {
    "duration": 161,
    "start_time": "2022-08-31T21:49:30.214Z"
   },
   {
    "duration": 164,
    "start_time": "2022-08-31T21:49:30.376Z"
   },
   {
    "duration": 23,
    "start_time": "2022-08-31T21:49:30.541Z"
   },
   {
    "duration": 9,
    "start_time": "2022-08-31T21:49:30.566Z"
   },
   {
    "duration": 33,
    "start_time": "2022-08-31T21:49:30.577Z"
   },
   {
    "duration": 68,
    "start_time": "2022-08-31T21:49:30.612Z"
   },
   {
    "duration": 170,
    "start_time": "2022-08-31T21:49:30.682Z"
   },
   {
    "duration": 626,
    "start_time": "2022-08-31T21:49:30.854Z"
   },
   {
    "duration": 3995,
    "start_time": "2022-08-31T21:49:31.483Z"
   },
   {
    "duration": 396,
    "start_time": "2022-08-31T21:49:35.480Z"
   },
   {
    "duration": 323,
    "start_time": "2022-08-31T21:49:35.878Z"
   },
   {
    "duration": 88,
    "start_time": "2022-08-31T21:49:36.202Z"
   },
   {
    "duration": 404,
    "start_time": "2022-08-31T21:52:34.699Z"
   },
   {
    "duration": 2229,
    "start_time": "2022-08-31T21:52:35.105Z"
   },
   {
    "duration": 9,
    "start_time": "2022-08-31T21:52:37.335Z"
   },
   {
    "duration": 3,
    "start_time": "2022-08-31T21:52:37.346Z"
   },
   {
    "duration": 231,
    "start_time": "2022-08-31T21:52:37.351Z"
   },
   {
    "duration": 6,
    "start_time": "2022-08-31T21:52:37.584Z"
   },
   {
    "duration": 7,
    "start_time": "2022-08-31T21:52:37.599Z"
   },
   {
    "duration": 12,
    "start_time": "2022-08-31T21:52:37.607Z"
   },
   {
    "duration": 13,
    "start_time": "2022-08-31T21:52:37.620Z"
   },
   {
    "duration": 9,
    "start_time": "2022-08-31T21:52:37.634Z"
   },
   {
    "duration": 11,
    "start_time": "2022-08-31T21:52:37.645Z"
   },
   {
    "duration": 4,
    "start_time": "2022-08-31T21:52:37.658Z"
   },
   {
    "duration": 38,
    "start_time": "2022-08-31T21:52:37.663Z"
   },
   {
    "duration": 12,
    "start_time": "2022-08-31T21:52:37.704Z"
   },
   {
    "duration": 21,
    "start_time": "2022-08-31T21:52:37.717Z"
   },
   {
    "duration": 7,
    "start_time": "2022-08-31T21:52:37.740Z"
   },
   {
    "duration": 22,
    "start_time": "2022-08-31T21:52:37.749Z"
   },
   {
    "duration": 5,
    "start_time": "2022-08-31T21:52:37.800Z"
   },
   {
    "duration": 7,
    "start_time": "2022-08-31T21:52:37.807Z"
   },
   {
    "duration": 25,
    "start_time": "2022-08-31T21:52:37.816Z"
   },
   {
    "duration": 13,
    "start_time": "2022-08-31T21:52:37.842Z"
   },
   {
    "duration": 8,
    "start_time": "2022-08-31T21:52:37.856Z"
   },
   {
    "duration": 3,
    "start_time": "2022-08-31T21:52:37.865Z"
   },
   {
    "duration": 63,
    "start_time": "2022-08-31T21:52:37.870Z"
   },
   {
    "duration": 7,
    "start_time": "2022-08-31T21:52:37.934Z"
   },
   {
    "duration": 10,
    "start_time": "2022-08-31T21:52:37.943Z"
   },
   {
    "duration": 9,
    "start_time": "2022-08-31T21:52:37.955Z"
   },
   {
    "duration": 6,
    "start_time": "2022-08-31T21:52:37.965Z"
   },
   {
    "duration": 32,
    "start_time": "2022-08-31T21:52:37.972Z"
   },
   {
    "duration": 6,
    "start_time": "2022-08-31T21:52:38.006Z"
   },
   {
    "duration": 10,
    "start_time": "2022-08-31T21:52:38.014Z"
   },
   {
    "duration": 193,
    "start_time": "2022-08-31T21:52:38.025Z"
   },
   {
    "duration": 8,
    "start_time": "2022-08-31T21:52:38.220Z"
   },
   {
    "duration": 285,
    "start_time": "2022-08-31T21:52:38.230Z"
   },
   {
    "duration": 386,
    "start_time": "2022-08-31T21:52:38.516Z"
   },
   {
    "duration": 18,
    "start_time": "2022-08-31T21:52:38.904Z"
   },
   {
    "duration": 13,
    "start_time": "2022-08-31T21:52:38.923Z"
   },
   {
    "duration": 19,
    "start_time": "2022-08-31T21:52:38.938Z"
   },
   {
    "duration": 301,
    "start_time": "2022-08-31T21:52:38.958Z"
   },
   {
    "duration": 330,
    "start_time": "2022-08-31T21:52:39.261Z"
   },
   {
    "duration": 309,
    "start_time": "2022-08-31T21:52:39.596Z"
   },
   {
    "duration": 235,
    "start_time": "2022-08-31T21:52:39.906Z"
   },
   {
    "duration": 440,
    "start_time": "2022-08-31T21:52:40.142Z"
   },
   {
    "duration": 238,
    "start_time": "2022-08-31T21:52:40.584Z"
   },
   {
    "duration": 206,
    "start_time": "2022-08-31T21:52:40.823Z"
   },
   {
    "duration": 216,
    "start_time": "2022-08-31T21:52:41.031Z"
   },
   {
    "duration": 136,
    "start_time": "2022-08-31T21:52:41.249Z"
   },
   {
    "duration": 247,
    "start_time": "2022-08-31T21:52:41.387Z"
   },
   {
    "duration": 191,
    "start_time": "2022-08-31T21:52:41.637Z"
   },
   {
    "duration": 187,
    "start_time": "2022-08-31T21:52:41.830Z"
   },
   {
    "duration": 196,
    "start_time": "2022-08-31T21:52:42.019Z"
   },
   {
    "duration": 203,
    "start_time": "2022-08-31T21:52:42.217Z"
   },
   {
    "duration": 180,
    "start_time": "2022-08-31T21:52:42.422Z"
   },
   {
    "duration": 299,
    "start_time": "2022-08-31T21:52:42.604Z"
   },
   {
    "duration": 5,
    "start_time": "2022-08-31T21:52:42.904Z"
   },
   {
    "duration": 9,
    "start_time": "2022-08-31T21:52:42.910Z"
   },
   {
    "duration": 14,
    "start_time": "2022-08-31T21:52:42.920Z"
   },
   {
    "duration": 179,
    "start_time": "2022-08-31T21:52:42.935Z"
   },
   {
    "duration": 165,
    "start_time": "2022-08-31T21:52:43.115Z"
   },
   {
    "duration": 141,
    "start_time": "2022-08-31T21:52:43.282Z"
   },
   {
    "duration": 5,
    "start_time": "2022-08-31T21:52:43.425Z"
   },
   {
    "duration": 157,
    "start_time": "2022-08-31T21:52:43.431Z"
   },
   {
    "duration": 149,
    "start_time": "2022-08-31T21:52:43.590Z"
   },
   {
    "duration": 161,
    "start_time": "2022-08-31T21:52:43.740Z"
   },
   {
    "duration": 170,
    "start_time": "2022-08-31T21:52:43.903Z"
   },
   {
    "duration": 169,
    "start_time": "2022-08-31T21:52:44.075Z"
   },
   {
    "duration": 23,
    "start_time": "2022-08-31T21:52:44.246Z"
   },
   {
    "duration": 7,
    "start_time": "2022-08-31T21:52:44.270Z"
   },
   {
    "duration": 22,
    "start_time": "2022-08-31T21:52:44.279Z"
   },
   {
    "duration": 47,
    "start_time": "2022-08-31T21:52:44.302Z"
   },
   {
    "duration": 183,
    "start_time": "2022-08-31T21:52:44.350Z"
   },
   {
    "duration": 552,
    "start_time": "2022-08-31T21:52:44.535Z"
   },
   {
    "duration": 4147,
    "start_time": "2022-08-31T21:52:45.088Z"
   },
   {
    "duration": 384,
    "start_time": "2022-08-31T21:52:49.236Z"
   },
   {
    "duration": 304,
    "start_time": "2022-08-31T21:52:49.622Z"
   },
   {
    "duration": 95,
    "start_time": "2022-08-31T21:52:49.927Z"
   }
  ],
  "kernelspec": {
   "display_name": "Python 3 (ipykernel)",
   "language": "python",
   "name": "python3"
  },
  "language_info": {
   "codemirror_mode": {
    "name": "ipython",
    "version": 3
   },
   "file_extension": ".py",
   "mimetype": "text/x-python",
   "name": "python",
   "nbconvert_exporter": "python",
   "pygments_lexer": "ipython3",
   "version": "3.9.13"
  },
  "toc": {
   "base_numbering": 1,
   "nav_menu": {},
   "number_sections": true,
   "sideBar": true,
   "skip_h1_title": true,
   "title_cell": "Table of Contents",
   "title_sidebar": "Contents",
   "toc_cell": false,
   "toc_position": {
    "height": "441px",
    "left": "257px",
    "top": "111.136px",
    "width": "306px"
   },
   "toc_section_display": true,
   "toc_window_display": false
  }
 },
 "nbformat": 4,
 "nbformat_minor": 2
}
